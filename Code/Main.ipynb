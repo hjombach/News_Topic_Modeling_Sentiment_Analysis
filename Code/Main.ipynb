{
 "cells": [
  {
   "cell_type": "code",
   "execution_count": null,
   "metadata": {},
   "outputs": [],
   "source": [
    "# https://www.machinelearningplus.com/nlp/topic-modeling-gensim-python/#16buildingldamalletmodel\n",
    "# https://namyalg.medium.com/how-many-topics-4b1095510d0e\n",
    "# https://papers.neurips.cc/paper/2010/file/71f6278d140af599e06ad9bf1ba03cb0-Paper.pdf\n",
    "# https://towardsdatascience.com/latent-dirichlet-allocation-lda-9d1cd064ffa2\n",
    "# https://learn-scikit.oneoffcoder.com/gensim.html"
   ]
  },
  {
   "cell_type": "markdown",
   "metadata": {
    "id": "yH20W0ybw5l5"
   },
   "source": [
    "### Import Libraries"
   ]
  },
  {
   "cell_type": "code",
   "execution_count": 2,
   "metadata": {
    "colab": {
     "base_uri": "https://localhost:8080/"
    },
    "executionInfo": {
     "elapsed": 32610,
     "status": "ok",
     "timestamp": 1638508328344,
     "user": {
      "displayName": "Hendrik Ombach",
      "photoUrl": "https://lh3.googleusercontent.com/a-/AOh14GgVgNIwyldE6uVGyxA3FSEHyuNs0VnPy_1rziltWQ=s64",
      "userId": "08859063816310187813"
     },
     "user_tz": 300
    },
    "id": "MzfNH7QUJWYb",
    "outputId": "d8b9550e-8485-41cb-f7e3-bd4cd565a79f"
   },
   "outputs": [],
   "source": [
    "# !pip install vaderSentiment;\n",
    "# !pip install plotly\n",
    "# !pip install gensim;\n",
    "\n",
    "import gensim\n",
    "from gensim.utils import simple_preprocess\n",
    "import nltk\n",
    "from nltk.corpus import stopwords\n",
    "import os\n",
    "from os import path\n",
    "import numpy as np\n",
    "import pandas as pd\n",
    "pd.options.display.max_colwidth = 100\n",
    "import matplotlib.pyplot as plt\n",
    "import seaborn as sns\n",
    "import sklearn\n",
    "import csv\n",
    "\n",
    "display_images = False\n",
    "analyze_headlines = True\n",
    "analyze_articles = False\n",
    "lemmatize = True\n",
    "stem = False\n",
    "analyze_subsample = True\n",
    "repull_data = True\n",
    "sources = ['CBS News', 'CNN', 'Fox News', 'The New York Times', 'USA Today','Washington Post']"
   ]
  },
  {
   "cell_type": "code",
   "execution_count": 1,
   "metadata": {},
   "outputs": [],
   "source": [
    "# testing = True\n",
    "\n",
    "# if testing:\n",
    "    \n",
    "#     df = pd.read_excel(\"all_years_subsample.xlsx\")\n",
    "#     df = df[[\"Document_No\", \"date\", 'source', 'name', 'content']]\n",
    "#     df = df.rename(columns={'headline': 'name', 'article': 'content'})"
   ]
  },
  {
   "cell_type": "markdown",
   "metadata": {},
   "source": [
    "### Initialize DataFrame"
   ]
  },
  {
   "cell_type": "code",
   "execution_count": null,
   "metadata": {},
   "outputs": [],
   "source": [
    "# repull_data = False\n",
    "\n",
    "# if not repull_data and analyze_subsample:\n",
    "#     df = pd.read_excel(\"all_years_subsample.xlsx\")\n",
    "# elif not repull_data and not analyze_subsample:\n",
    "#     df = pd.read_excel(\"all_years.xlsx\")\n",
    "# else:\n",
    "#     print(\"set up new data\")"
   ]
  },
  {
   "cell_type": "code",
   "execution_count": 85,
   "metadata": {},
   "outputs": [],
   "source": [
    "# create a new sample dataframe\n",
    "\n",
    "df = pd.read_excel(\"all_years.xlsx\")\n",
    "\n",
    "if repull_data and analyze_subsample:\n",
    "\n",
    "    size = 3000        # sample size\n",
    "    replace = False  # without replacement\n",
    "    fn = lambda obj: obj.loc[np.random.choice(obj.index, size, replace),:]\n",
    "    df = df.groupby('source', as_index=False).apply(fn)  # each source gets same number of samples\n",
    "    df = df.reset_index()\n",
    "    df = df.drop(['level_0', 'level_1', 'edited_name', 'edited_content'],axis=1)"
   ]
  },
  {
   "cell_type": "markdown",
   "metadata": {},
   "source": [
    "### Tokenize, Format, and Remove Stop Words"
   ]
  },
  {
   "cell_type": "code",
   "execution_count": 86,
   "metadata": {
    "collapsed": true
   },
   "outputs": [
    {
     "name": "stderr",
     "output_type": "stream",
     "text": [
      "<ipython-input-86-191f56f6fa3d>:18: FutureWarning: The default value of regex will change from True to False in a future version.\n",
      "  df[\"tokenized_headline\"] = df[\"headline\"].apply(str).str.lower().str.replace('[^\\w\\s]','')\n",
      "<ipython-input-86-191f56f6fa3d>:19: FutureWarning: The default value of regex will change from True to False in a future version.\n",
      "  df[\"tokenized_article\"] = df[\"article\"].apply(str).str.lower().str.replace('[^\\w\\s]','')\n"
     ]
    },
    {
     "data": {
      "text/html": [
       "<div>\n",
       "<style scoped>\n",
       "    .dataframe tbody tr th:only-of-type {\n",
       "        vertical-align: middle;\n",
       "    }\n",
       "\n",
       "    .dataframe tbody tr th {\n",
       "        vertical-align: top;\n",
       "    }\n",
       "\n",
       "    .dataframe thead th {\n",
       "        text-align: right;\n",
       "    }\n",
       "</style>\n",
       "<table border=\"1\" class=\"dataframe\">\n",
       "  <thead>\n",
       "    <tr style=\"text-align: right;\">\n",
       "      <th></th>\n",
       "      <th>Unnamed: 0</th>\n",
       "      <th>date</th>\n",
       "      <th>source</th>\n",
       "      <th>orig_headline</th>\n",
       "      <th>orig_article</th>\n",
       "      <th>headline</th>\n",
       "      <th>article</th>\n",
       "      <th>tokenized_headline</th>\n",
       "      <th>tokenized_article</th>\n",
       "    </tr>\n",
       "  </thead>\n",
       "  <tbody>\n",
       "    <tr>\n",
       "      <th>0</th>\n",
       "      <td>115568</td>\n",
       "      <td>2018-11-20</td>\n",
       "      <td>CBS News</td>\n",
       "      <td>Ivanka Trump used personal email for government business</td>\n",
       "      <td>[CBSN](https://www.cbsnews.com/live/?ftag=CNM-00-10aac7b) [_x000D_\\n](https://www.cbsnews.com/li...</td>\n",
       "      <td>[Ivanka, Trump, used, personal, email, for, government, business]</td>\n",
       "      <td>[[CBSN](https://www.cbsnews.com/live/?ftag=CNM-00-10aac7b), [_x000D_, ](https://www.cbsnews.com/...</td>\n",
       "      <td>[ivanka, trump, used, personal, email, government, business]</td>\n",
       "      <td>[cbsnhttpswwwcbsnewscomliveftagcnm0010aac7b, _x000d_, httpswwwcbsnewscomliveftagcnm0010aac7b, wa...</td>\n",
       "    </tr>\n",
       "    <tr>\n",
       "      <th>1</th>\n",
       "      <td>27350</td>\n",
       "      <td>2020-08-05</td>\n",
       "      <td>CBS News</td>\n",
       "      <td>Trump campaign calls for early September debate ahead of early voting</td>\n",
       "      <td>Washington — President Trump 's campaign is requesting a fourth presidential debate to be schedu...</td>\n",
       "      <td>[Trump, campaign, calls, for, early, September, debate, ahead, of, early, voting]</td>\n",
       "      <td>[Washington, —, President, Trump, 's, campaign, is, requesting, a, fourth, presidential, debate,...</td>\n",
       "      <td>[trump, campaign, calls, early, september, debate, ahead, early, voting]</td>\n",
       "      <td>[washington, president, trump, campaign, requesting, fourth, presidential, debate, scheduled, fi...</td>\n",
       "    </tr>\n",
       "    <tr>\n",
       "      <th>2</th>\n",
       "      <td>23628</td>\n",
       "      <td>2020-05-28</td>\n",
       "      <td>CBS News</td>\n",
       "      <td>Perfectly preserved ancient Roman mosaic floor unearthed beneath Italian vineyard</td>\n",
       "      <td>Archaeologists in northern Italy have uncovered a rare gem — an amazingly well-preserved mosaic ...</td>\n",
       "      <td>[Perfectly, preserved, ancient, Roman, mosaic, floor, unearthed, beneath, Italian, vineyard]</td>\n",
       "      <td>[Archaeologists, in, northern, Italy, have, uncovered, a, rare, gem, —, an, amazingly, well-pres...</td>\n",
       "      <td>[perfectly, preserved, ancient, roman, mosaic, floor, unearthed, beneath, italian, vineyard]</td>\n",
       "      <td>[archaeologists, northern, italy, uncovered, rare, gem, amazingly, wellpreserved, mosaic, floor,...</td>\n",
       "    </tr>\n",
       "    <tr>\n",
       "      <th>3</th>\n",
       "      <td>36567</td>\n",
       "      <td>2020-12-10</td>\n",
       "      <td>CBS News</td>\n",
       "      <td>Detained Chinese citizen-journalist restrained to stop her from continuing hunger strike, lawyer...</td>\n",
       "      <td>Detained Chinese citizen-journalist restrained to stop her from continuing hunger strike , lawye...</td>\n",
       "      <td>[Detained, Chinese, citizen-journalist, restrained, to, stop, her, from, continuing, hunger, str...</td>\n",
       "      <td>[Detained, Chinese, citizen-journalist, restrained, to, stop, her, from, continuing, hunger, str...</td>\n",
       "      <td>[detained, chinese, citizenjournalist, restrained, stop, continuing, hunger, strike, lawyer]</td>\n",
       "      <td>[detained, chinese, citizenjournalist, restrained, stop, continuing, hunger, strike, lawyer, chi...</td>\n",
       "    </tr>\n",
       "    <tr>\n",
       "      <th>4</th>\n",
       "      <td>142137</td>\n",
       "      <td>2019-01-15</td>\n",
       "      <td>CBS News</td>\n",
       "      <td>Fiscal board asks court to invalidate $6 billion of Puerto Rico's debt</td>\n",
       "      <td>The oversight board established by Congress to manage Puerto Rico 's fiscal crisis asked a feder...</td>\n",
       "      <td>[Fiscal, board, asks, court, to, invalidate, $6, billion, of, Puerto, Rico's, debt]</td>\n",
       "      <td>[The, oversight, board, established, by, Congress, to, manage, Puerto, Rico, 's, fiscal, crisis,...</td>\n",
       "      <td>[fiscal, board, asks, court, invalidate, 6, billion, puerto, ricos, debt]</td>\n",
       "      <td>[oversight, board, established, congress, manage, puerto, rico, fiscal, crisis, asked, federal, ...</td>\n",
       "    </tr>\n",
       "  </tbody>\n",
       "</table>\n",
       "</div>"
      ],
      "text/plain": [
       "   Unnamed: 0       date    source  \\\n",
       "0      115568 2018-11-20  CBS News   \n",
       "1       27350 2020-08-05  CBS News   \n",
       "2       23628 2020-05-28  CBS News   \n",
       "3       36567 2020-12-10  CBS News   \n",
       "4      142137 2019-01-15  CBS News   \n",
       "\n",
       "                                                                                         orig_headline  \\\n",
       "0                                             Ivanka Trump used personal email for government business   \n",
       "1                                Trump campaign calls for early September debate ahead of early voting   \n",
       "2                    Perfectly preserved ancient Roman mosaic floor unearthed beneath Italian vineyard   \n",
       "3  Detained Chinese citizen-journalist restrained to stop her from continuing hunger strike, lawyer...   \n",
       "4                               Fiscal board asks court to invalidate $6 billion of Puerto Rico's debt   \n",
       "\n",
       "                                                                                          orig_article  \\\n",
       "0  [CBSN](https://www.cbsnews.com/live/?ftag=CNM-00-10aac7b) [_x000D_\\n](https://www.cbsnews.com/li...   \n",
       "1  Washington — President Trump 's campaign is requesting a fourth presidential debate to be schedu...   \n",
       "2  Archaeologists in northern Italy have uncovered a rare gem — an amazingly well-preserved mosaic ...   \n",
       "3  Detained Chinese citizen-journalist restrained to stop her from continuing hunger strike , lawye...   \n",
       "4  The oversight board established by Congress to manage Puerto Rico 's fiscal crisis asked a feder...   \n",
       "\n",
       "                                                                                              headline  \\\n",
       "0                                    [Ivanka, Trump, used, personal, email, for, government, business]   \n",
       "1                    [Trump, campaign, calls, for, early, September, debate, ahead, of, early, voting]   \n",
       "2         [Perfectly, preserved, ancient, Roman, mosaic, floor, unearthed, beneath, Italian, vineyard]   \n",
       "3  [Detained, Chinese, citizen-journalist, restrained, to, stop, her, from, continuing, hunger, str...   \n",
       "4                  [Fiscal, board, asks, court, to, invalidate, $6, billion, of, Puerto, Rico's, debt]   \n",
       "\n",
       "                                                                                               article  \\\n",
       "0  [[CBSN](https://www.cbsnews.com/live/?ftag=CNM-00-10aac7b), [_x000D_, ](https://www.cbsnews.com/...   \n",
       "1  [Washington, —, President, Trump, 's, campaign, is, requesting, a, fourth, presidential, debate,...   \n",
       "2  [Archaeologists, in, northern, Italy, have, uncovered, a, rare, gem, —, an, amazingly, well-pres...   \n",
       "3  [Detained, Chinese, citizen-journalist, restrained, to, stop, her, from, continuing, hunger, str...   \n",
       "4  [The, oversight, board, established, by, Congress, to, manage, Puerto, Rico, 's, fiscal, crisis,...   \n",
       "\n",
       "                                                                             tokenized_headline  \\\n",
       "0                                  [ivanka, trump, used, personal, email, government, business]   \n",
       "1                      [trump, campaign, calls, early, september, debate, ahead, early, voting]   \n",
       "2  [perfectly, preserved, ancient, roman, mosaic, floor, unearthed, beneath, italian, vineyard]   \n",
       "3  [detained, chinese, citizenjournalist, restrained, stop, continuing, hunger, strike, lawyer]   \n",
       "4                     [fiscal, board, asks, court, invalidate, 6, billion, puerto, ricos, debt]   \n",
       "\n",
       "                                                                                     tokenized_article  \n",
       "0  [cbsnhttpswwwcbsnewscomliveftagcnm0010aac7b, _x000d_, httpswwwcbsnewscomliveftagcnm0010aac7b, wa...  \n",
       "1  [washington, president, trump, campaign, requesting, fourth, presidential, debate, scheduled, fi...  \n",
       "2  [archaeologists, northern, italy, uncovered, rare, gem, amazingly, wellpreserved, mosaic, floor,...  \n",
       "3  [detained, chinese, citizenjournalist, restrained, stop, continuing, hunger, strike, lawyer, chi...  \n",
       "4  [oversight, board, established, congress, manage, puerto, rico, fiscal, crisis, asked, federal, ...  "
      ]
     },
     "execution_count": 86,
     "metadata": {},
     "output_type": "execute_result"
    }
   ],
   "source": [
    "import contractions\n",
    "import datetime as dt\n",
    "from datetime import datetime\n",
    "# nltk.download('stopwords')\n",
    "\n",
    "stop_words = stopwords.words('english')\n",
    "stop_words.extend(['from', 're', 'edu', 'use', 'https', 'said', 'us', 'cbs' \n",
    "                   'would', 'like','says', 'could', 'told', 'going', 'one', 'fox', 'cnn', 'nbc'])\n",
    "\n",
    "if repull_data:\n",
    "    \n",
    "    df['orig_headline'] = df['name']\n",
    "    df['orig_article'] = df['content']\n",
    "    df = df.drop(['name', 'content'], axis=1)\n",
    "    df['date']= pd.to_datetime(df['date'])\n",
    "    df['headline'] = df['orig_headline'].apply(str).apply(lambda x: [contractions.fix(word) for word in x.split()])\n",
    "    df['article'] = df['orig_article'].apply(str).apply(lambda x: [contractions.fix(word) for word in x.split()])\n",
    "    df[\"tokenized_headline\"] = df[\"headline\"].apply(str).str.lower().str.replace('[^\\w\\s]','')\n",
    "    df[\"tokenized_article\"] = df[\"article\"].apply(str).str.lower().str.replace('[^\\w\\s]','')\n",
    "    df['tokenized_headline'] = df['tokenized_headline'].apply(lambda x: ' '.join([word for word in x.split() if word not in (stop_words)])).str.split()\n",
    "    df['tokenized_article'] = df['tokenized_article'].apply(lambda x: ' '.join([word for word in x.split() if word not in (stop_words)])).str.split()\n",
    "    df = df.drop_duplicates([\"orig_article\"])\n",
    "    df = df[df['tokenized_article'].notnull()]\n",
    "\n",
    "df.head()"
   ]
  },
  {
   "cell_type": "code",
   "execution_count": 87,
   "metadata": {},
   "outputs": [],
   "source": [
    "# Remove unnamed columns\n",
    "\n",
    "for column_name in df.columns:\n",
    "    if \"Unnamed:\" in column_name:\n",
    "        df = df.drop(column_name, axis=1)"
   ]
  },
  {
   "cell_type": "markdown",
   "metadata": {},
   "source": [
    "### Perform Text Stemming"
   ]
  },
  {
   "cell_type": "code",
   "execution_count": 88,
   "metadata": {},
   "outputs": [],
   "source": [
    "from nltk.stem.porter import PorterStemmer\n",
    "\n",
    "if repull_data and stem:\n",
    "\n",
    "    porter_stemmer = PorterStemmer()\n",
    "\n",
    "    #defining a function for stemming\n",
    "    def stemming(text):\n",
    "        stem_text = [porter_stemmer.stem(word) for word in text]\n",
    "        return stem_text\n",
    "\n",
    "    df['stemmed_headline'] = df['tokenized_headline'].apply(lambda x: stemming(x))\n",
    "    df['stemmed_article'] = df['tokenized_article'].apply(lambda x: stemming(x))\n",
    "\n",
    "    df.head()"
   ]
  },
  {
   "cell_type": "markdown",
   "metadata": {},
   "source": [
    "### Perform Text Lemmatization"
   ]
  },
  {
   "cell_type": "code",
   "execution_count": 89,
   "metadata": {},
   "outputs": [],
   "source": [
    "from nltk.stem import WordNetLemmatizer\n",
    "\n",
    "if repull_data and lemmatize:\n",
    "\n",
    "    #defining a function for lemmatizing\n",
    "    def lemmatizing(text):\n",
    "        \n",
    "        wordnet_lemmatizer = WordNetLemmatizer()\n",
    "        \n",
    "        lem_text = [wordnet_lemmatizer.lemmatize(word) for word in text]\n",
    "        return lem_text\n",
    "\n",
    "    df['lemmatized_headline'] = df['tokenized_headline'].apply(lambda x: lemmatizing(x))\n",
    "    df['lemmatized_article'] = df['tokenized_article'].apply(lambda x: lemmatizing(x))"
   ]
  },
  {
   "cell_type": "markdown",
   "metadata": {},
   "source": [
    "### Verify Column Data Types"
   ]
  },
  {
   "cell_type": "code",
   "execution_count": 91,
   "metadata": {},
   "outputs": [],
   "source": [
    "# run each time you pull the data\n",
    "\n",
    "# columns that have list elements\n",
    "columns = ['tokenized_headline', 'tokenized_article', 'lemmatized_headline', 'lemmatized_article']\n",
    "\n",
    "if not repull_data:\n",
    "    for feature in columns:\n",
    "\n",
    "        if type(df[feature][0]) == str:\n",
    "            df[feature] = df[feature].apply(lambda x: x.strip('][').split(', '))\n",
    "            df[feature] = df[feature].apply(lambda x: [i.replace('\"', '').replace(\"'\", \"\") for i in x])\n",
    "\n",
    "        # # should alternate list and string\n",
    "        print(type(df[feature][0]))  \n",
    "        print(type(df[feature][0][0]))  \n",
    "\n",
    "    # df.head()"
   ]
  },
  {
   "cell_type": "markdown",
   "metadata": {},
   "source": [
    "## Assign Text Data for Analysis"
   ]
  },
  {
   "cell_type": "code",
   "execution_count": 92,
   "metadata": {},
   "outputs": [],
   "source": [
    "if analyze_headlines:\n",
    "    original_text = df['orig_headline']\n",
    "    text = df['headline']\n",
    "    text_data = df['lemmatized_headline']\n",
    "else:\n",
    "    original_text = df['orig_article']\n",
    "    text = df['article']\n",
    "    text_data = df['lemmatized_article']"
   ]
  },
  {
   "cell_type": "markdown",
   "metadata": {},
   "source": [
    "## General Functions"
   ]
  },
  {
   "cell_type": "code",
   "execution_count": 94,
   "metadata": {},
   "outputs": [],
   "source": [
    "# displays topic examples and predicted topics for an example headline\n",
    "\n",
    "def print_topic_examples(model, model_type):\n",
    "    print(\"The first 3 topics of the {} model:\".format(model_type))\n",
    "    print(\"-----------------------------------------------\\n\")\n",
    "    \n",
    "    for idx, topic in model.print_topics(num_topics=3):\n",
    "        print('Topic: {} \\nWords: {}'.format(idx, topic))\n",
    "\n",
    "    print(\"\\n\\nOur {} model's top 3 predicted topic for the following headline:\\n{}\".format(model_type, df['orig_headline'].iloc[4310]))\n",
    "    print(\"------------------------------------------------------------------------------------------\")\n",
    "    i = 0\n",
    "    for index, score in sorted(model[bow_corpus[4310]], key=lambda tup: -1*tup[1]):\n",
    "        print(\"\\nScore: {:.3}\\t \\nTopic: {}\".format(score, model.print_topic(index, 8))) # top 8 words for topic\n",
    "        i += 1\n",
    "        if i > 2:\n",
    "            break"
   ]
  },
  {
   "cell_type": "code",
   "execution_count": 95,
   "metadata": {
    "scrolled": true
   },
   "outputs": [],
   "source": [
    "# https://www.machinelearningplus.com/nlp/topic-modeling-gensim-python/#13viewthetopicsinldamodel\n",
    "\n",
    "from gensim.models.coherencemodel import CoherenceModel\n",
    "\n",
    "def compute_coherence_values(dictionary, corpus, texts, start, limit, step, analysis):\n",
    "    \"\"\"\n",
    "    Compute c_v coherence for various number of topics\n",
    "    \"\"\"\n",
    "    coherence_values = []\n",
    "    model_list = []\n",
    "    for num_topics in range(start, limit, step):\n",
    "        if analysis == 'LDA':\n",
    "            model = gensim.models.LdaModel(corpus=corpus, num_topics=num_topics, id2word=dictionary, random_state = 0)\n",
    "        if analysis == 'LSI':\n",
    "            model = gensim.models.LsiModel(corpus=corpus, num_topics=num_topics, id2word=dictionary)\n",
    "        if analysis == 'HDP':\n",
    "             model = gensim.models.hdpmodel.HdpModel(corpus=tfidf_corpus, T=num_topics, id2word=dictionary)\n",
    "        model_list.append(model)\n",
    "        coherencemodel = CoherenceModel(model=model, texts=texts, dictionary=dictionary, coherence='c_v')\n",
    "        coherence_values.append(coherencemodel.get_coherence())\n",
    "\n",
    "    return model_list, coherence_values\n",
    "\n",
    "min_topics = 10\n",
    "max_topics = 65\n",
    "step = 5"
   ]
  },
  {
   "cell_type": "code",
   "execution_count": 96,
   "metadata": {},
   "outputs": [],
   "source": [
    "# Plot coherence scores for determining number of topics\n",
    "\n",
    "def plot_coherence_scores(min_topics, max_topics, step, model_list, coherence_values, model_type):\n",
    "    x = range(min_topics, max_topics, step)\n",
    "    plt.plot(x, coherence_values)\n",
    "    plt.xlabel(\"Number of Topics\")\n",
    "    plt.ylabel(\"Coherence score\")\n",
    "    plt.title(\"{} - Coherence Score by Number of Topics\".format(model_type))\n",
    "    plt.show()\n",
    "\n",
    "    max_index = coherence_values.index(max(coherence_values))\n",
    "    \n",
    "    if model_type != \"HDP\":\n",
    "        best_number = model_list[max_index].num_topics\n",
    "    else:\n",
    "        best_number = len(model_list[max_index].get_topics())\n",
    "\n",
    "    print(\"The best number of topics is {}\".format(best_number))\n",
    "    return best_number"
   ]
  },
  {
   "cell_type": "code",
   "execution_count": 97,
   "metadata": {},
   "outputs": [],
   "source": [
    "# provide a dominant topic label for each text input\n",
    "\n",
    "def determine_dominant_topics(model, corpus, texts):\n",
    "    # Init output\n",
    "    sentence_topics_df = pd.DataFrame()\n",
    "\n",
    "    # Get main topic in each document\n",
    "    for i, row in enumerate(model[corpus]):\n",
    "        \n",
    "        row = sorted(row, key=lambda x: (x[1]), reverse=True)\n",
    "        \n",
    "        # Get the Dominant topic, Perc Contribution and Keywords for each document\n",
    "        for j, (topic_num, prop_topic) in enumerate(row):\n",
    "            if j == 0:  # => dominant topic\n",
    "                \n",
    "                wp = model.show_topic(topic_num)\n",
    "                topic_keywords = \", \".join([word for word, prop in wp])\n",
    "                sentence_topics_df = sentence_topics_df.append(pd.Series([int(topic_num), round(prop_topic,4), \n",
    "                                                                  topic_keywords]), ignore_index=True)\n",
    "            else:\n",
    "                break\n",
    "    sentence_topics_df.columns = ['Dominant_Topic', 'Perc_Contribution', 'Topic_Keywords']\n",
    "    \n",
    "    # Add original text to the end of the output\n",
    "#     contents = pd.Series(texts)\n",
    "    sentence_topics_df['Text'] = texts\n",
    "    return(sentence_topics_df)"
   ]
  },
  {
   "cell_type": "code",
   "execution_count": 98,
   "metadata": {},
   "outputs": [],
   "source": [
    "# Show individual headlines most strongly associated with each topic\n",
    "\n",
    "def show_representative_headlines(df_dominant_topic, column_name):\n",
    "\n",
    "    representative_sentences = pd.DataFrame()\n",
    "\n",
    "    sentence_topics_grouped = df_dominant_topic.groupby(column_name) # group by function\n",
    "\n",
    "    for i, grp in sentence_topics_grouped:\n",
    "        representative_sentences = pd.concat([representative_sentences, \n",
    "                                                 grp.sort_values(['Topic_%'], ascending=[0]).head(1)], \n",
    "                                                axis=0)\n",
    "\n",
    "    # # Reset Index and format\n",
    "    representative_sentences.reset_index(drop=True, inplace=True)\n",
    "    representative_sentences.columns = ['Doc_No', column_name, \"Topic_%\", \"Keywords\", \"Text\"]\n",
    "    return representative_sentences"
   ]
  },
  {
   "cell_type": "code",
   "execution_count": 99,
   "metadata": {},
   "outputs": [],
   "source": [
    "# returns a sentiment classification matrix for each source - regardless of topic\n",
    "\n",
    "def overall_sentiment_counts(df, colname):\n",
    "    \n",
    "    sentiment_matrix = [[0 for _ in range(3)] for _ in range(6)]\n",
    "    \n",
    "    for j in range(len(sources)):\n",
    "\n",
    "        sub_df = df[df['source'] == sources[j]]\n",
    "\n",
    "        sentiment_matrix[j][0] = list(sub_df.loc[sub_df[colname] == 'positive'].count())[0]\n",
    "        sentiment_matrix[j][1] = list(sub_df.loc[sub_df[colname] == 'neutral'].count())[0]\n",
    "        sentiment_matrix[j][2] = list(sub_df.loc[sub_df[colname] == 'negative'].count())[0]\n",
    "    \n",
    "    return sentiment_matrix"
   ]
  },
  {
   "cell_type": "code",
   "execution_count": 100,
   "metadata": {},
   "outputs": [],
   "source": [
    "# returns a sentiment count matrix for each topic and source\n",
    "\n",
    "def topic_sentiment_counts(df, colname):\n",
    "    \n",
    "    if analyze_headlines:\n",
    "        col = 'Headline_Topic_LDA'\n",
    "    else:\n",
    "        col = 'Article_Topic_LDA'\n",
    "        \n",
    "    x = [[[0 for _ in range(3)] for _ in range(6)] for _ in range(5)] \n",
    "    \n",
    "    for i in range(len(top_5_topics)):\n",
    "    \n",
    "        for j in range(len(sources)):\n",
    "            \n",
    "            \n",
    "             \n",
    "            sub_df = df[df[col] == top_5_topics[i]]\n",
    "            sub_df = sub_df[sub_df['source'] == sources[j]]\n",
    "            \n",
    "            num_articles = len(sub_df)\n",
    "            article_counts[i][j] = num_articles\n",
    "            \n",
    "            x[i][j][0] = list(sub_df.loc[sub_df[colname] == 'positive'].count())[0]/num_articles\n",
    "            x[i][j][1] = list(sub_df.loc[sub_df[colname] == 'neutral'].count())[0]/num_articles\n",
    "            x[i][j][2] = list(sub_df.loc[sub_df[colname] == 'negative'].count())[0]/num_articles\n",
    "    \n",
    "    return x"
   ]
  },
  {
   "cell_type": "code",
   "execution_count": 101,
   "metadata": {},
   "outputs": [],
   "source": [
    "def plot_tsne(colors):\n",
    "    \n",
    "    fig, axs = plt.subplots(2, 3, figsize=(12,6), tight_layout=True)\n",
    "    j = 0\n",
    "    \n",
    "    for perp in perplex:\n",
    "\n",
    "        axs[0][j].scatter(x=tsne_dict[\"perplexity {}\".format(perp)][:,0], \n",
    "                          y=tsne_dict[\"perplexity {}\".format(perp)][:,1], c = colors,\n",
    "                       alpha = 0.5)\n",
    "        axs[0][j].set_title(\"TSNE - Perplexity {}\".format(perp), fontsize=14)\n",
    "        axs[0][j].set_xlabel(\"t-SNE 2D One\")\n",
    "        axs[0][j].set_ylabel(\"t-SNE 2D One\")\n",
    "        \n",
    "        axs[1][j].scatter(x=tsne_dict[\"perplexity {}\".format(perp)][:,0], \n",
    "                  y=tsne_dict[\"perplexity {}\".format(perp)][:,1], c = colors, alpha = 0.5)\n",
    "        axs[1][j].set_title(\"TSNE - Perplexity {}\".format(perp), fontsize=14)\n",
    "        axs[1][j].set_xlabel(\"t-SNE 2D One\")\n",
    "        axs[1][j].set_ylabel(\"t-SNE 2D One\")\n",
    "        axs[1][j].set_ylim([-10, 10])\n",
    "        axs[1][j].set_xlim([-10, 10])\n",
    "        \n",
    "        j = j + 1\n",
    "\n",
    "    return plt.show()"
   ]
  },
  {
   "cell_type": "code",
   "execution_count": 102,
   "metadata": {},
   "outputs": [],
   "source": [
    "# https://www.tutorialspoint.com/plotly/plotly_3d_scatter_and_surface_plot.htm\n",
    "# https://plotly.com/python/3d-scatter-plots/\n",
    "\n",
    "import plotly.graph_objs as go\n",
    "\n",
    "def plot_pca(color, reduced_features):\n",
    "    \n",
    "    color = color\n",
    "\n",
    "    x = reduced_features[:,0]\n",
    "    y = reduced_features[:,1]\n",
    "    z = reduced_features[:,2]\n",
    "\n",
    "    trace = go.Scatter3d(\n",
    "       x = x, y = y, z = z,mode = 'markers', marker = dict(\n",
    "          size = 2,\n",
    "          color = color, # set color to an array/list of desired values\n",
    "          colorscale = 'Rainbow'\n",
    "          )\n",
    "       )\n",
    "    layout = go.Layout(title = '3D Scatter plot')\n",
    "    fig = go.Figure(data = [trace], layout = layout)\n",
    "\n",
    "    return fig.show()"
   ]
  },
  {
   "cell_type": "markdown",
   "metadata": {},
   "source": [
    "## LDA Bag of Words Topic Model\n",
    "\n",
    "#### https://radimrehurek.com/gensim/auto_examples/tutorials/run_lda.html"
   ]
  },
  {
   "cell_type": "code",
   "execution_count": 103,
   "metadata": {},
   "outputs": [],
   "source": [
    "# text data defined above 'general functions'. Is either the headline or article content dataframe column\n",
    "dictionary = gensim.corpora.Dictionary(text_data)\n",
    "\n",
    "dictionary.filter_extremes(no_below=15, no_above=0.5, keep_n=1000)\n",
    "# dictionary.filter_n_most_frequent(2)\n",
    "# dictionary.most_common()"
   ]
  },
  {
   "cell_type": "code",
   "execution_count": 104,
   "metadata": {},
   "outputs": [],
   "source": [
    "# turn dictionary into bag of words.\n",
    "bow_corpus = [dictionary.doc2bow(doc) for doc in text_data]  # iterate over column in dataframe\n",
    "\n",
    "bow_doc_4310 = bow_corpus[4310]  # example headline"
   ]
  },
  {
   "cell_type": "markdown",
   "metadata": {},
   "source": [
    "#### https://towardsdatascience.com/topic-modeling-and-latent-dirichlet-allocation-in-python-9bf156893c24"
   ]
  },
  {
   "cell_type": "markdown",
   "metadata": {},
   "source": [
    "### Determine best number of topics - BoW\n",
    "\n",
    "https://towardsdatascience.com/evaluate-topic-model-in-python-latent-dirichlet-allocation-lda-7d57484bb5d0"
   ]
  },
  {
   "cell_type": "code",
   "execution_count": 29,
   "metadata": {},
   "outputs": [
    {
     "data": {
      "image/png": "[encoded data removed]",
      "text/plain": [
       "<Figure size 432x288 with 1 Axes>"
      ]
     },
     "metadata": {
      "needs_background": "light"
     },
     "output_type": "display_data"
    },
    {
     "name": "stdout",
     "output_type": "stream",
     "text": [
      "The best number of topics is 45\n"
     ]
    }
   ],
   "source": [
    "# test different number of topics and store in lists\n",
    "model_list_bow, coherence_values_bow = compute_coherence_values(dictionary=dictionary, corpus=bow_corpus,\n",
    "                                                        texts=text_data, start=min_topics, \n",
    "                                                        limit=max_topics, step=step, analysis = 'LDA')\n",
    "\n",
    "# plot coherence values and find best number of topics\n",
    "best_number_bow = plot_coherence_scores(min_topics, max_topics, step, model_list_bow, coherence_values_bow, 'LDA BoW')"
   ]
  },
  {
   "cell_type": "markdown",
   "metadata": {},
   "source": [
    "### Create Model with Appropriate Topic Number - BoW"
   ]
  },
  {
   "cell_type": "code",
   "execution_count": 126,
   "metadata": {
    "collapsed": true
   },
   "outputs": [
    {
     "name": "stdout",
     "output_type": "stream",
     "text": [
      "The first 3 topics of the LDA - Bag of Words model:\n",
      "-----------------------------------------------\n",
      "\n",
      "Topic: 33 \n",
      "Words: 0.269*\"covid19\" + 0.254*\"president\" + 0.220*\"trump\" + 0.129*\"world\" + 0.117*\"leader\" + 0.000*\"racism\" + 0.000*\"final\" + 0.000*\"dangerous\" + 0.000*\"bernie\" + 0.000*\"already\"\n",
      "Topic: 4 \n",
      "Words: 0.001*\"caucus\" + 0.001*\"memo\" + 0.001*\"bernie\" + 0.001*\"already\" + 0.001*\"racism\" + 0.001*\"final\" + 0.001*\"1\" + 0.001*\"offer\" + 0.001*\"key\" + 0.001*\"congressional\"\n",
      "Topic: 10 \n",
      "Words: 0.264*\"claim\" + 0.177*\"school\" + 0.143*\"surge\" + 0.111*\"warren\" + 0.091*\"fauci\" + 0.077*\"medical\" + 0.038*\"officer\" + 0.036*\"effect\" + 0.025*\"senior\" + 0.015*\"card\"\n",
      "\n",
      "\n",
      "Our LDA - Bag of Words model's top 3 predicted topic for the following headline:\n",
      "In contrast with Trump legal team, Justice Department lawyer says House can impeach over defied subpoenas\n",
      "------------------------------------------------------------------------------------------\n",
      "\n",
      "Score: 0.337\t \n",
      "Topic: 0.254*\"trump\" + 0.221*\"impeachment\" + 0.202*\"gop\" + 0.087*\"bill\" + 0.064*\"family\" + 0.043*\"speech\" + 0.043*\"never\" + 0.028*\"saying\"\n",
      "\n",
      "Score: 0.17\t \n",
      "Topic: 0.417*\"house\" + 0.294*\"white\" + 0.191*\"virus\" + 0.055*\"travel\" + 0.025*\"mexico\" + 0.006*\"source\" + 0.000*\"1\" + 0.000*\"bernie\"\n",
      "\n",
      "Score: 0.17\t \n",
      "Topic: 0.273*\"stop\" + 0.180*\"challenge\" + 0.146*\"chinese\" + 0.142*\"legal\" + 0.090*\"electoral\" + 0.069*\"continues\" + 0.053*\"strike\" + 0.000*\"already\"\n"
     ]
    }
   ],
   "source": [
    "# topic model with best number of topics\n",
    "lda_model_bow = gensim.models.LdaModel(bow_corpus, chunksize = 100, iterations = 100, num_topics=best_number_bow, \n",
    "                                   id2word=dictionary, passes=10, random_state = 0)\n",
    "\n",
    "print_topic_examples(lda_model_bow, \"LDA - Bag of Words\")"
   ]
  },
  {
   "cell_type": "code",
   "execution_count": 105,
   "metadata": {},
   "outputs": [
    {
     "name": "stdout",
     "output_type": "stream",
     "text": [
      "Average topic coherence: -17.4432.\n"
     ]
    }
   ],
   "source": [
    "# list of topics, keywords, and coherence scores\n",
    "top_topics = lda_model_bow.top_topics(bow_corpus) \n",
    "\n",
    "# Average topic coherence is the sum of topic coherences of all topics, divided by the number of topics.\n",
    "avg_topic_coherence = sum([t[1] for t in top_topics]) / best_number_bow\n",
    "print('Average topic coherence: %.4f.' % avg_topic_coherence)"
   ]
  },
  {
   "cell_type": "markdown",
   "metadata": {},
   "source": [
    "### Assign Dominant Topic per Headline - BoW\n",
    "\n",
    "6000 length dataframe with the highest probability topic labeled as the dominant topic for the headline"
   ]
  },
  {
   "cell_type": "code",
   "execution_count": 108,
   "metadata": {
    "collapsed": true
   },
   "outputs": [
    {
     "data": {
      "text/html": [
       "<div>\n",
       "<style scoped>\n",
       "    .dataframe tbody tr th:only-of-type {\n",
       "        vertical-align: middle;\n",
       "    }\n",
       "\n",
       "    .dataframe tbody tr th {\n",
       "        vertical-align: top;\n",
       "    }\n",
       "\n",
       "    .dataframe thead th {\n",
       "        text-align: right;\n",
       "    }\n",
       "</style>\n",
       "<table border=\"1\" class=\"dataframe\">\n",
       "  <thead>\n",
       "    <tr style=\"text-align: right;\">\n",
       "      <th></th>\n",
       "      <th>date</th>\n",
       "      <th>source</th>\n",
       "      <th>orig_headline</th>\n",
       "      <th>orig_article</th>\n",
       "      <th>headline</th>\n",
       "      <th>article</th>\n",
       "      <th>tokenized_headline</th>\n",
       "      <th>tokenized_article</th>\n",
       "      <th>lemmatized_headline</th>\n",
       "      <th>lemmatized_article</th>\n",
       "      <th>Headline_Topic_LDA_BoW</th>\n",
       "    </tr>\n",
       "  </thead>\n",
       "  <tbody>\n",
       "    <tr>\n",
       "      <th>0</th>\n",
       "      <td>2018-11-20</td>\n",
       "      <td>CBS News</td>\n",
       "      <td>Ivanka Trump used personal email for government business</td>\n",
       "      <td>[CBSN](https://www.cbsnews.com/live/?ftag=CNM-00-10aac7b) [_x000D_\\n](https://www.cbsnews.com/li...</td>\n",
       "      <td>[Ivanka, Trump, used, personal, email, for, government, business]</td>\n",
       "      <td>[[CBSN](https://www.cbsnews.com/live/?ftag=CNM-00-10aac7b), [_x000D_, ](https://www.cbsnews.com/...</td>\n",
       "      <td>[ivanka, trump, used, personal, email, government, business]</td>\n",
       "      <td>[cbsnhttpswwwcbsnewscomliveftagcnm0010aac7b, _x000d_, httpswwwcbsnewscomliveftagcnm0010aac7b, wa...</td>\n",
       "      <td>[ivanka, trump, used, personal, email, government, business]</td>\n",
       "      <td>[cbsnhttpswwwcbsnewscomliveftagcnm0010aac7b, _x000d_, httpswwwcbsnewscomliveftagcnm0010aac7b, wa...</td>\n",
       "      <td>22</td>\n",
       "    </tr>\n",
       "    <tr>\n",
       "      <th>1</th>\n",
       "      <td>2020-08-05</td>\n",
       "      <td>CBS News</td>\n",
       "      <td>Trump campaign calls for early September debate ahead of early voting</td>\n",
       "      <td>Washington — President Trump 's campaign is requesting a fourth presidential debate to be schedu...</td>\n",
       "      <td>[Trump, campaign, calls, for, early, September, debate, ahead, of, early, voting]</td>\n",
       "      <td>[Washington, —, President, Trump, 's, campaign, is, requesting, a, fourth, presidential, debate,...</td>\n",
       "      <td>[trump, campaign, calls, early, september, debate, ahead, early, voting]</td>\n",
       "      <td>[washington, president, trump, campaign, requesting, fourth, presidential, debate, scheduled, fi...</td>\n",
       "      <td>[trump, campaign, call, early, september, debate, ahead, early, voting]</td>\n",
       "      <td>[washington, president, trump, campaign, requesting, fourth, presidential, debate, scheduled, fi...</td>\n",
       "      <td>27</td>\n",
       "    </tr>\n",
       "    <tr>\n",
       "      <th>2</th>\n",
       "      <td>2020-05-28</td>\n",
       "      <td>CBS News</td>\n",
       "      <td>Perfectly preserved ancient Roman mosaic floor unearthed beneath Italian vineyard</td>\n",
       "      <td>Archaeologists in northern Italy have uncovered a rare gem — an amazingly well-preserved mosaic ...</td>\n",
       "      <td>[Perfectly, preserved, ancient, Roman, mosaic, floor, unearthed, beneath, Italian, vineyard]</td>\n",
       "      <td>[Archaeologists, in, northern, Italy, have, uncovered, a, rare, gem, —, an, amazingly, well-pres...</td>\n",
       "      <td>[perfectly, preserved, ancient, roman, mosaic, floor, unearthed, beneath, italian, vineyard]</td>\n",
       "      <td>[archaeologists, northern, italy, uncovered, rare, gem, amazingly, wellpreserved, mosaic, floor,...</td>\n",
       "      <td>[perfectly, preserved, ancient, roman, mosaic, floor, unearthed, beneath, italian, vineyard]</td>\n",
       "      <td>[archaeologist, northern, italy, uncovered, rare, gem, amazingly, wellpreserved, mosaic, floor, ...</td>\n",
       "      <td>0</td>\n",
       "    </tr>\n",
       "    <tr>\n",
       "      <th>3</th>\n",
       "      <td>2020-12-10</td>\n",
       "      <td>CBS News</td>\n",
       "      <td>Detained Chinese citizen-journalist restrained to stop her from continuing hunger strike, lawyer...</td>\n",
       "      <td>Detained Chinese citizen-journalist restrained to stop her from continuing hunger strike , lawye...</td>\n",
       "      <td>[Detained, Chinese, citizen-journalist, restrained, to, stop, her, from, continuing, hunger, str...</td>\n",
       "      <td>[Detained, Chinese, citizen-journalist, restrained, to, stop, her, from, continuing, hunger, str...</td>\n",
       "      <td>[detained, chinese, citizenjournalist, restrained, stop, continuing, hunger, strike, lawyer]</td>\n",
       "      <td>[detained, chinese, citizenjournalist, restrained, stop, continuing, hunger, strike, lawyer, chi...</td>\n",
       "      <td>[detained, chinese, citizenjournalist, restrained, stop, continuing, hunger, strike, lawyer]</td>\n",
       "      <td>[detained, chinese, citizenjournalist, restrained, stop, continuing, hunger, strike, lawyer, chi...</td>\n",
       "      <td>27</td>\n",
       "    </tr>\n",
       "    <tr>\n",
       "      <th>4</th>\n",
       "      <td>2019-01-15</td>\n",
       "      <td>CBS News</td>\n",
       "      <td>Fiscal board asks court to invalidate $6 billion of Puerto Rico's debt</td>\n",
       "      <td>The oversight board established by Congress to manage Puerto Rico 's fiscal crisis asked a feder...</td>\n",
       "      <td>[Fiscal, board, asks, court, to, invalidate, $6, billion, of, Puerto, Rico's, debt]</td>\n",
       "      <td>[The, oversight, board, established, by, Congress, to, manage, Puerto, Rico, 's, fiscal, crisis,...</td>\n",
       "      <td>[fiscal, board, asks, court, invalidate, 6, billion, puerto, ricos, debt]</td>\n",
       "      <td>[oversight, board, established, congress, manage, puerto, rico, fiscal, crisis, asked, federal, ...</td>\n",
       "      <td>[fiscal, board, asks, court, invalidate, 6, billion, puerto, rico, debt]</td>\n",
       "      <td>[oversight, board, established, congress, manage, puerto, rico, fiscal, crisis, asked, federal, ...</td>\n",
       "      <td>0</td>\n",
       "    </tr>\n",
       "  </tbody>\n",
       "</table>\n",
       "</div>"
      ],
      "text/plain": [
       "        date    source  \\\n",
       "0 2018-11-20  CBS News   \n",
       "1 2020-08-05  CBS News   \n",
       "2 2020-05-28  CBS News   \n",
       "3 2020-12-10  CBS News   \n",
       "4 2019-01-15  CBS News   \n",
       "\n",
       "                                                                                         orig_headline  \\\n",
       "0                                             Ivanka Trump used personal email for government business   \n",
       "1                                Trump campaign calls for early September debate ahead of early voting   \n",
       "2                    Perfectly preserved ancient Roman mosaic floor unearthed beneath Italian vineyard   \n",
       "3  Detained Chinese citizen-journalist restrained to stop her from continuing hunger strike, lawyer...   \n",
       "4                               Fiscal board asks court to invalidate $6 billion of Puerto Rico's debt   \n",
       "\n",
       "                                                                                          orig_article  \\\n",
       "0  [CBSN](https://www.cbsnews.com/live/?ftag=CNM-00-10aac7b) [_x000D_\\n](https://www.cbsnews.com/li...   \n",
       "1  Washington — President Trump 's campaign is requesting a fourth presidential debate to be schedu...   \n",
       "2  Archaeologists in northern Italy have uncovered a rare gem — an amazingly well-preserved mosaic ...   \n",
       "3  Detained Chinese citizen-journalist restrained to stop her from continuing hunger strike , lawye...   \n",
       "4  The oversight board established by Congress to manage Puerto Rico 's fiscal crisis asked a feder...   \n",
       "\n",
       "                                                                                              headline  \\\n",
       "0                                    [Ivanka, Trump, used, personal, email, for, government, business]   \n",
       "1                    [Trump, campaign, calls, for, early, September, debate, ahead, of, early, voting]   \n",
       "2         [Perfectly, preserved, ancient, Roman, mosaic, floor, unearthed, beneath, Italian, vineyard]   \n",
       "3  [Detained, Chinese, citizen-journalist, restrained, to, stop, her, from, continuing, hunger, str...   \n",
       "4                  [Fiscal, board, asks, court, to, invalidate, $6, billion, of, Puerto, Rico's, debt]   \n",
       "\n",
       "                                                                                               article  \\\n",
       "0  [[CBSN](https://www.cbsnews.com/live/?ftag=CNM-00-10aac7b), [_x000D_, ](https://www.cbsnews.com/...   \n",
       "1  [Washington, —, President, Trump, 's, campaign, is, requesting, a, fourth, presidential, debate,...   \n",
       "2  [Archaeologists, in, northern, Italy, have, uncovered, a, rare, gem, —, an, amazingly, well-pres...   \n",
       "3  [Detained, Chinese, citizen-journalist, restrained, to, stop, her, from, continuing, hunger, str...   \n",
       "4  [The, oversight, board, established, by, Congress, to, manage, Puerto, Rico, 's, fiscal, crisis,...   \n",
       "\n",
       "                                                                             tokenized_headline  \\\n",
       "0                                  [ivanka, trump, used, personal, email, government, business]   \n",
       "1                      [trump, campaign, calls, early, september, debate, ahead, early, voting]   \n",
       "2  [perfectly, preserved, ancient, roman, mosaic, floor, unearthed, beneath, italian, vineyard]   \n",
       "3  [detained, chinese, citizenjournalist, restrained, stop, continuing, hunger, strike, lawyer]   \n",
       "4                     [fiscal, board, asks, court, invalidate, 6, billion, puerto, ricos, debt]   \n",
       "\n",
       "                                                                                     tokenized_article  \\\n",
       "0  [cbsnhttpswwwcbsnewscomliveftagcnm0010aac7b, _x000d_, httpswwwcbsnewscomliveftagcnm0010aac7b, wa...   \n",
       "1  [washington, president, trump, campaign, requesting, fourth, presidential, debate, scheduled, fi...   \n",
       "2  [archaeologists, northern, italy, uncovered, rare, gem, amazingly, wellpreserved, mosaic, floor,...   \n",
       "3  [detained, chinese, citizenjournalist, restrained, stop, continuing, hunger, strike, lawyer, chi...   \n",
       "4  [oversight, board, established, congress, manage, puerto, rico, fiscal, crisis, asked, federal, ...   \n",
       "\n",
       "                                                                            lemmatized_headline  \\\n",
       "0                                  [ivanka, trump, used, personal, email, government, business]   \n",
       "1                       [trump, campaign, call, early, september, debate, ahead, early, voting]   \n",
       "2  [perfectly, preserved, ancient, roman, mosaic, floor, unearthed, beneath, italian, vineyard]   \n",
       "3  [detained, chinese, citizenjournalist, restrained, stop, continuing, hunger, strike, lawyer]   \n",
       "4                      [fiscal, board, asks, court, invalidate, 6, billion, puerto, rico, debt]   \n",
       "\n",
       "                                                                                    lemmatized_article  \\\n",
       "0  [cbsnhttpswwwcbsnewscomliveftagcnm0010aac7b, _x000d_, httpswwwcbsnewscomliveftagcnm0010aac7b, wa...   \n",
       "1  [washington, president, trump, campaign, requesting, fourth, presidential, debate, scheduled, fi...   \n",
       "2  [archaeologist, northern, italy, uncovered, rare, gem, amazingly, wellpreserved, mosaic, floor, ...   \n",
       "3  [detained, chinese, citizenjournalist, restrained, stop, continuing, hunger, strike, lawyer, chi...   \n",
       "4  [oversight, board, established, congress, manage, puerto, rico, fiscal, crisis, asked, federal, ...   \n",
       "\n",
       "   Headline_Topic_LDA_BoW  \n",
       "0                      22  \n",
       "1                      27  \n",
       "2                       0  \n",
       "3                      27  \n",
       "4                       0  "
      ]
     },
     "execution_count": 108,
     "metadata": {},
     "output_type": "execute_result"
    }
   ],
   "source": [
    "# dataframe indicating which topic to assign each document\n",
    "if analyze_headlines:\n",
    "    column_name = 'Headline_Topic_LDA_BoW'\n",
    "else:\n",
    "    column_name = 'Article_Topic_LDA_BoW'\n",
    "\n",
    "df_dominant_topics_bow = determine_dominant_topics(lda_model_bow, bow_corpus, texts=text_data)\n",
    "  \n",
    "# # format\n",
    "df_dominant_topics_bow = df_dominant_topics_bow.reset_index() \n",
    "df_dominant_topics_bow.columns = ['Document_No', column_name, 'Topic_%', 'Keywords', 'Text Input']\n",
    "df_dominant_topics_bow[column_name] = df_dominant_topics_bow[column_name].astype(int)\n",
    "df_dominant_topics_bow[\"Topic_%\"] = round(df_dominant_topics_bow[\"Topic_%\"]*100)\n",
    "df_dominant_topics_bow.head()\n",
    "\n",
    "df[column_name] = df_dominant_topics_bow[column_name]\n",
    "df.head()"
   ]
  },
  {
   "cell_type": "markdown",
   "metadata": {},
   "source": [
    "### Most Representative Headline per Topic - BoW"
   ]
  },
  {
   "cell_type": "code",
   "execution_count": null,
   "metadata": {},
   "outputs": [],
   "source": [
    "# show_representative_headlines(df_dominant_topics_bow, column_name).head()"
   ]
  },
  {
   "cell_type": "markdown",
   "metadata": {},
   "source": [
    "### Number of Headlines per Topic - BoW"
   ]
  },
  {
   "cell_type": "code",
   "execution_count": 109,
   "metadata": {},
   "outputs": [],
   "source": [
    "# Number of Documents for Each Topic\n",
    "topic_counts = df_dominant_topics_bow[column_name].value_counts()\n",
    "\n",
    "# Percentage of Documents for Each Topic\n",
    "topic_contribution = 100*round(topic_counts/topic_counts.sum(), 3)\n",
    "\n",
    "# Topic Keywords\n",
    "topic_num_keywords = df_dominant_topics_bow[['Keywords']]\n",
    "\n",
    "# Concatenate Column wise\n",
    "dominant_topic_counts_bow = pd.concat([topic_num_keywords, topic_counts, topic_contribution], axis=1)\n",
    "# df_dominant_topics = pd.concat([topic_num_keywords, topic_counts, topic_contribution], axis=1)\n",
    "\n",
    "# Change Column names\n",
    "dominant_topic_counts_bow.columns = ['Topic_Keywords', 'Num_Documents', '%_Documents']\n",
    "dominant_topic_counts_bow = dominant_topic_counts_bow.head(best_number_bow)\n",
    "dominant_topic_counts_bow.insert(0, \"Topic\", dominant_topic_counts_bow.index.astype(int))\n",
    "dominant_topic_counts_bow = dominant_topic_counts_bow.fillna(0.0)\n",
    "dominant_topic_counts_bow.Num_Documents = dominant_topic_counts_bow.Num_Documents.astype(int)\n",
    "\n",
    "# dominant_topic_counts_bow.head()\n",
    "\n",
    "top_bow_topics = dominant_topic_counts_bow.sort_values(by='Num_Documents', ascending = False).head()"
   ]
  },
  {
   "cell_type": "markdown",
   "metadata": {},
   "source": [
    "### Visualize Distribution of Topics Between News Sources - LDA BoW"
   ]
  },
  {
   "cell_type": "code",
   "execution_count": 110,
   "metadata": {},
   "outputs": [
    {
     "data": {
      "image/png": "[encoded data removed]",
      "text/plain": [
       "<Figure size 1152x432 with 6 Axes>"
      ]
     },
     "metadata": {
      "needs_background": "light"
     },
     "output_type": "display_data"
    }
   ],
   "source": [
    "grouped_by_topic_source_bow = df.groupby(['source', column_name])\n",
    "counts_per_source_bow = grouped_by_topic_source_bow[column_name].count()\n",
    "\n",
    "ax = counts_per_source_bow.unstack(level=0).plot(kind='bar', subplots=True,\n",
    "                                             sharey=True, rot=90, figsize=(16, 6), layout=(2, 3), legend=False)\n",
    "plt.tight_layout()"
   ]
  },
  {
   "cell_type": "code",
   "execution_count": 127,
   "metadata": {
    "collapsed": true
   },
   "outputs": [
    {
     "name": "stderr",
     "output_type": "stream",
     "text": [
      "/opt/anaconda3/lib/python3.8/site-packages/pyLDAvis/_prepare.py:246: FutureWarning: In a future version of pandas all arguments of DataFrame.drop except for the argument 'labels' will be keyword-only\n",
      "  default_term_info = default_term_info.sort_values(\n"
     ]
    },
    {
     "data": {
      "text/html": [
       "\n",
       "<link rel=\"stylesheet\" type=\"text/css\" href=\"https://cdn.jsdelivr.net/gh/bmabey/pyLDAvis@3.3.1/pyLDAvis/js/ldavis.v1.0.0.css\">\n",
       "\n",
       "\n",
       "<div id=\"ldavis_el28251404007421167045110604661\"></div>\n",
       "<script type=\"text/javascript\">\n",
       "\n",
       "var ldavis_el28251404007421167045110604661_data = {\"mdsDat\": {\"x\": [-0.23891352550534647, -0.12043895587291276, -0.07673587513604142, -0.18923538111320432, -0.2017516512144687, -0.04928376461898052, -0.0475037632392239, -0.056242103900122076, -0.08333555726258036, -0.04585062222268247, -0.053606186811937635, -0.07696759095398797, -0.060769277057825005, -0.03756944221570189, -0.05966890032047574, -0.013508484685309102, -0.05171626372704654, -0.028624604494072736, -0.05541236289301432, -0.0648365470461418, -0.06216214024720331, -0.020246952432747316, -0.05179156109355597, -0.03460801934013848, -0.028469217092469124, -0.01411442259593197, -0.025060034643980746, -0.005941665890609074, -0.019105767145837456, -0.021155458077960262, -0.043506604225252946, -0.015596992203122108, 0.030516835042045207, 0.012138310886907082, 0.060781990391900416, 0.020224416720600855, 0.04381450831367849, 0.1275716051895284, 0.09563052994826979, 0.09566339701236765, 0.16375140947032912, 0.3259091730760643, 0.3259091730760643, 0.3259091730760643, 0.32590917307606426], \"y\": [-0.368159167953192, 0.08514710344122604, 0.06375604329588964, -0.3343607961010548, -0.3147667282697303, 0.048874477643050626, 0.0485672855156783, 0.051835447119076845, 0.06749691752296708, 0.04785705409697404, 0.053984695425655246, 0.06551277568936709, 0.0553073732500227, 0.044610322236429294, 0.05456680631457124, 0.03415886637635941, 0.05212927637020454, 0.040299638924999735, 0.05617046045373924, 0.05926483925776334, 0.059930299727175416, 0.03553154461494, 0.05286240448114269, 0.04379865265387585, 0.04203105917578289, 0.03513679500835035, 0.04161381019388444, 0.03315195149985331, 0.039175943297249494, 0.03851346654800144, 0.05148692026370618, 0.03851223795347576, 0.015482138339522323, 0.02436811161032175, 0.002354175338286228, 0.02074128701900936, 0.009562905334740437, -0.02883074979456371, -0.013846198410740357, -0.014133264097327868, -0.045000528777675984, -0.09867391314725195, -0.09867391314725209, -0.09867391314725199, -0.09867391314725217], \"topics\": [1, 2, 3, 4, 5, 6, 7, 8, 9, 10, 11, 12, 13, 14, 15, 16, 17, 18, 19, 20, 21, 22, 23, 24, 25, 26, 27, 28, 29, 30, 31, 32, 33, 34, 35, 36, 37, 38, 39, 40, 41, 42, 43, 44, 45], \"cluster\": [1, 1, 1, 1, 1, 1, 1, 1, 1, 1, 1, 1, 1, 1, 1, 1, 1, 1, 1, 1, 1, 1, 1, 1, 1, 1, 1, 1, 1, 1, 1, 1, 1, 1, 1, 1, 1, 1, 1, 1, 1, 1, 1, 1, 1], \"Freq\": [7.236397751617946, 4.396046560628756, 3.689156619592742, 3.665136026928776, 3.1903719655886746, 3.1311802979172425, 3.0767265305281577, 3.0751972423780685, 3.0249190086602, 2.7964512667044077, 2.7743501796184518, 2.7719766225035856, 2.6924236659992733, 2.6123337855336444, 2.5919697293809807, 2.5862913236799034, 2.5409508541241457, 2.486343447597259, 2.4417646652452363, 2.386087903527837, 2.363828499593978, 2.3430471640621198, 2.296993775724545, 2.229456933244223, 2.0500700051794767, 1.9391741145858825, 1.7718073453239997, 1.6830484490504747, 1.674307703512681, 1.6676021990083878, 1.631817030266249, 1.5800579600680689, 1.3817021477904419, 1.3814882818011867, 1.3662900209335707, 1.3465619902334127, 1.230969409957704, 1.0740108521008955, 1.0489629320607743, 1.045743817184559, 1.0069729196066943, 0.6800027502388465, 0.6800027502388465, 0.6800027502388465, 0.6800027502388465]}, \"tinfo\": {\"Term\": [\"trump\", \"coronavirus\", \"biden\", \"election\", \"pandemic\", \"yous\", \"new\", \"house\", \"state\", \"democrat\", \"republican\", \"voter\", \"white\", \"campaign\", \"2020\", \"senate\", \"day\", \"covid19\", \"first\", \"former\", \"response\", \"iran\", \"make\", \"court\", \"president\", \"case\", \"impeachment\", \"report\", \"amid\", \"death\", \"aid\", \"fund\", \"supporter\", \"urge\", \"border\", \"wall\", \"protect\", \"trump\", \"personal\", \"used\", \"ready\", \"decision\", \"evening\", \"almost\", \"lockdown\", \"best\", \"prince\", \"pentagon\", \"release\", \"treatment\", \"become\", \"blue\", \"red\", \"oil\", \"answer\", \"left\", \"ocasiocortez\", \"2018\", \"uk\", \"local\", \"business\", \"email\", \"government\", \"ahead\", \"call\", \"campaign\", \"debate\", \"early\", \"voting\", \"chinese\", \"lawyer\", \"stop\", \"strike\", \"6\", \"asks\", \"billion\", \"board\", \"court\", \"debt\", \"puerto\", \"coronavirus\", \"woman\", \"beat\", \"personal\", \"used\", \"ready\", \"decision\", \"evening\", \"almost\", \"lockdown\", \"best\", \"prince\", \"pentagon\", \"release\", \"treatment\", \"become\", \"blue\", \"red\", \"oil\", \"answer\", \"left\", \"ocasiocortez\", \"2018\", \"uk\", \"local\", \"message\", \"opinion\", \"billionaire\", \"reform\", \"allegation\", \"business\", \"email\", \"government\", \"trump\", \"ahead\", \"call\", \"campaign\", \"debate\", \"early\", \"voting\", \"chinese\", \"lawyer\", \"stop\", \"strike\", \"6\", \"asks\", \"billion\", \"board\", \"court\", \"debt\", \"puerto\", \"graham\", \"iran\", \"send\", \"new\", \"court\", \"supreme\", \"york\", \"lawsuit\", \"denies\", \"request\", \"personal\", \"used\", \"ready\", \"decision\", \"evening\", \"almost\", \"lockdown\", \"best\", \"prince\", \"pentagon\", \"release\", \"treatment\", \"become\", \"blue\", \"red\", \"oil\", \"answer\", \"left\", \"ocasiocortez\", \"2018\", \"uk\", \"local\", \"message\", \"business\", \"email\", \"government\", \"trump\", \"ahead\", \"call\", \"campaign\", \"debate\", \"early\", \"voting\", \"chinese\", \"lawyer\", \"stop\", \"strike\", \"6\", \"asks\", \"billion\", \"board\", \"debt\", \"puerto\", \"graham\", \"impeachment\", \"gop\", \"bill\", \"family\", \"speech\", \"never\", \"saying\", \"lawyer\", \"whistleblower\", \"victim\", \"trump\", \"personal\", \"used\", \"ready\", \"decision\", \"evening\", \"almost\", \"lockdown\", \"best\", \"prince\", \"pentagon\", \"release\", \"treatment\", \"become\", \"blue\", \"red\", \"oil\", \"answer\", \"left\", \"ocasiocortez\", \"business\", \"email\", \"government\", \"ahead\", \"call\", \"campaign\", \"debate\", \"early\", \"voting\", \"chinese\", \"stop\", \"strike\", \"6\", \"asks\", \"billion\", \"board\", \"court\", \"covid19\", \"president\", \"world\", \"leader\", \"trump\", \"personal\", \"used\", \"ready\", \"decision\", \"evening\", \"almost\", \"lockdown\", \"best\", \"prince\", \"pentagon\", \"release\", \"treatment\", \"become\", \"blue\", \"red\", \"oil\", \"answer\", \"left\", \"ocasiocortez\", \"2018\", \"uk\", \"local\", \"message\", \"opinion\", \"billionaire\", \"business\", \"email\", \"government\", \"ahead\", \"call\", \"campaign\", \"debate\", \"early\", \"voting\", \"chinese\", \"lawyer\", \"stop\", \"strike\", \"6\", \"asks\", \"billion\", \"board\", \"court\", \"debt\", \"puerto\", \"graham\", \"iran\", \"plan\", \"get\", \"go\", \"next\", \"justice\", \"push\", \"tweet\", \"immigration\", \"trade\", \"criminal\", \"abuse\", \"tip\", \"san\", \"personal\", \"used\", \"ready\", \"decision\", \"evening\", \"almost\", \"lockdown\", \"best\", \"prince\", \"pentagon\", \"release\", \"treatment\", \"become\", \"blue\", \"red\", \"oil\", \"answer\", \"business\", \"email\", \"government\", \"trump\", \"ahead\", \"call\", \"campaign\", \"debate\", \"early\", \"voting\", \"chinese\", \"lawyer\", \"stop\", \"strike\", \"6\", \"campaign\", \"week\", \"voting\", \"ahead\", \"harris\", \"iowa\", \"early\", \"nation\", \"proposal\", \"sunday\", \"living\", \"reject\", \"personal\", \"used\", \"ready\", \"decision\", \"evening\", \"almost\", \"lockdown\", \"best\", \"prince\", \"pentagon\", \"release\", \"treatment\", \"become\", \"blue\", \"red\", \"oil\", \"answer\", \"left\", \"business\", \"email\", \"government\", \"trump\", \"call\", \"debate\", \"chinese\", \"lawyer\", \"stop\", \"strike\", \"6\", \"asks\", \"billion\", \"board\", \"court\", \"debt\", \"health\", \"vote\", \"update\", \"live\", \"protest\", \"care\", \"nurse\", \"15\", \"kavanaugh\", \"brett\", \"friday\", \"judiciary\", \"cost\", \"personal\", \"used\", \"ready\", \"decision\", \"evening\", \"almost\", \"lockdown\", \"best\", \"prince\", \"pentagon\", \"release\", \"treatment\", \"become\", \"blue\", \"red\", \"oil\", \"answer\", \"business\", \"email\", \"government\", \"trump\", \"ahead\", \"call\", \"campaign\", \"debate\", \"early\", \"voting\", \"chinese\", \"lawyer\", \"stop\", \"strike\", \"6\", \"house\", \"white\", \"virus\", \"travel\", \"mexico\", \"source\", \"personal\", \"used\", \"ready\", \"decision\", \"evening\", \"almost\", \"lockdown\", \"best\", \"prince\", \"pentagon\", \"release\", \"treatment\", \"become\", \"blue\", \"red\", \"oil\", \"answer\", \"left\", \"ocasiocortez\", \"2018\", \"uk\", \"local\", \"message\", \"opinion\", \"business\", \"email\", \"government\", \"trump\", \"ahead\", \"call\", \"campaign\", \"debate\", \"early\", \"voting\", \"chinese\", \"lawyer\", \"stop\", \"strike\", \"6\", \"asks\", \"billion\", \"board\", \"court\", \"debt\", \"puerto\", \"graham\", \"democrat\", \"move\", \"south\", \"fed\", \"run\", \"got\", \"probe\", \"carolina\", \"aim\", \"name\", \"season\", \"hurricane\", \"personal\", \"used\", \"ready\", \"decision\", \"evening\", \"almost\", \"lockdown\", \"best\", \"prince\", \"pentagon\", \"release\", \"treatment\", \"become\", \"blue\", \"red\", \"oil\", \"answer\", \"left\", \"business\", \"email\", \"government\", \"trump\", \"ahead\", \"call\", \"campaign\", \"debate\", \"early\", \"voting\", \"chinese\", \"lawyer\", \"stop\", \"strike\", \"6\", \"asks\", \"day\", \"case\", \"congress\", \"warns\", \"see\", \"slam\", \"alleged\", \"personal\", \"used\", \"ready\", \"decision\", \"evening\", \"almost\", \"lockdown\", \"best\", \"prince\", \"pentagon\", \"release\", \"treatment\", \"become\", \"blue\", \"red\", \"oil\", \"answer\", \"left\", \"ocasiocortez\", \"2018\", \"uk\", \"local\", \"message\", \"business\", \"email\", \"government\", \"trump\", \"ahead\", \"call\", \"campaign\", \"debate\", \"early\", \"voting\", \"chinese\", \"lawyer\", \"stop\", \"strike\", \"6\", \"asks\", \"billion\", \"board\", \"court\", \"debt\", \"puerto\", \"biden\", \"want\", \"people\", \"teacher\", \"dr\", \"personal\", \"used\", \"ready\", \"decision\", \"evening\", \"almost\", \"lockdown\", \"best\", \"prince\", \"pentagon\", \"release\", \"treatment\", \"become\", \"blue\", \"red\", \"oil\", \"answer\", \"left\", \"ocasiocortez\", \"2018\", \"uk\", \"local\", \"message\", \"opinion\", \"billionaire\", \"business\", \"email\", \"government\", \"trump\", \"ahead\", \"call\", \"campaign\", \"debate\", \"early\", \"voting\", \"chinese\", \"lawyer\", \"stop\", \"strike\", \"6\", \"asks\", \"billion\", \"board\", \"court\", \"debt\", \"puerto\", \"graham\", \"iran\", \"republican\", \"need\", \"joe\", \"governor\", \"give\", \"asks\", \"front\", \"board\", \"puerto\", \"debt\", \"colorado\", \"personal\", \"used\", \"ready\", \"decision\", \"evening\", \"almost\", \"lockdown\", \"best\", \"prince\", \"pentagon\", \"release\", \"treatment\", \"become\", \"blue\", \"red\", \"oil\", \"answer\", \"left\", \"ocasiocortez\", \"business\", \"email\", \"government\", \"trump\", \"ahead\", \"call\", \"campaign\", \"debate\", \"early\", \"voting\", \"chinese\", \"lawyer\", \"stop\", \"strike\", \"6\", \"billion\", \"court\", \"amid\", \"government\", \"fall\", \"doctor\", \"office\", \"3\", \"shutdown\", \"russian\", \"5\", \"address\", \"deliver\", \"personal\", \"used\", \"ready\", \"decision\", \"evening\", \"almost\", \"lockdown\", \"best\", \"prince\", \"pentagon\", \"release\", \"treatment\", \"become\", \"blue\", \"red\", \"oil\", \"answer\", \"left\", \"ocasiocortez\", \"business\", \"email\", \"trump\", \"ahead\", \"call\", \"campaign\", \"debate\", \"early\", \"voting\", \"chinese\", \"lawyer\", \"stop\", \"strike\", \"6\", \"asks\", \"billion\", \"board\", \"pandemic\", \"take\", \"right\", \"child\", \"turn\", \"working\", \"activist\", \"ruth\", \"bader\", \"ginsburg\", \"6\", \"saudi\", \"personal\", \"used\", \"ready\", \"decision\", \"evening\", \"almost\", \"lockdown\", \"best\", \"prince\", \"pentagon\", \"release\", \"treatment\", \"become\", \"blue\", \"red\", \"oil\", \"answer\", \"left\", \"business\", \"email\", \"government\", \"trump\", \"ahead\", \"call\", \"campaign\", \"debate\", \"early\", \"voting\", \"chinese\", \"lawyer\", \"stop\", \"strike\", \"asks\", \"billion\", \"report\", \"hold\", \"hearing\", \"chief\", \"clash\", \"north\", \"korea\", \"intelligence\", \"struggle\", \"vice\", \"controversy\", \"personal\", \"used\", \"ready\", \"decision\", \"evening\", \"almost\", \"lockdown\", \"best\", \"prince\", \"pentagon\", \"release\", \"treatment\", \"become\", \"blue\", \"red\", \"oil\", \"answer\", \"left\", \"ocasiocortez\", \"business\", \"email\", \"government\", \"trump\", \"ahead\", \"call\", \"campaign\", \"debate\", \"early\", \"voting\", \"chinese\", \"lawyer\", \"stop\", \"strike\", \"6\", \"asks\", \"billion\", \"first\", \"life\", \"look\", \"news\", \"latest\", \"meeting\", \"giuliani\", \"eye\", \"cbs\", \"personal\", \"used\", \"ready\", \"decision\", \"evening\", \"almost\", \"lockdown\", \"best\", \"prince\", \"pentagon\", \"release\", \"treatment\", \"become\", \"blue\", \"red\", \"oil\", \"answer\", \"left\", \"ocasiocortez\", \"2018\", \"uk\", \"business\", \"email\", \"government\", \"trump\", \"ahead\", \"call\", \"campaign\", \"debate\", \"early\", \"voting\", \"chinese\", \"lawyer\", \"stop\", \"strike\", \"6\", \"asks\", \"billion\", \"board\", \"court\", \"call\", \"worker\", \"military\", \"defense\", \"act\", \"despite\", \"general\", \"strategy\", \"join\", \"union\", \"dozen\", \"son\", \"personal\", \"used\", \"ready\", \"decision\", \"evening\", \"almost\", \"lockdown\", \"best\", \"prince\", \"pentagon\", \"release\", \"treatment\", \"become\", \"blue\", \"red\", \"oil\", \"answer\", \"left\", \"business\", \"email\", \"government\", \"trump\", \"ahead\", \"campaign\", \"debate\", \"early\", \"voting\", \"chinese\", \"lawyer\", \"stop\", \"strike\", \"6\", \"asks\", \"billion\", \"senate\", \"debate\", \"face\", \"candidate\", \"personal\", \"used\", \"ready\", \"decision\", \"evening\", \"almost\", \"lockdown\", \"best\", \"prince\", \"pentagon\", \"release\", \"treatment\", \"become\", \"blue\", \"red\", \"oil\", \"answer\", \"left\", \"ocasiocortez\", \"2018\", \"uk\", \"local\", \"message\", \"opinion\", \"billionaire\", \"reform\", \"business\", \"email\", \"government\", \"trump\", \"ahead\", \"call\", \"campaign\", \"early\", \"voting\", \"chinese\", \"lawyer\", \"stop\", \"strike\", \"6\", \"asks\", \"billion\", \"board\", \"court\", \"debt\", \"puerto\", \"graham\", \"iran\", \"send\", \"state\", \"primary\", \"tuesday\", \"social\", \"medium\", \"watch\", \"personal\", \"used\", \"ready\", \"decision\", \"evening\", \"almost\", \"lockdown\", \"best\", \"prince\", \"pentagon\", \"release\", \"treatment\", \"become\", \"blue\", \"red\", \"oil\", \"answer\", \"left\", \"ocasiocortez\", \"2018\", \"uk\", \"local\", \"message\", \"opinion\", \"business\", \"email\", \"government\", \"trump\", \"ahead\", \"call\", \"campaign\", \"debate\", \"early\", \"voting\", \"chinese\", \"lawyer\", \"stop\", \"strike\", \"6\", \"asks\", \"billion\", \"board\", \"court\", \"debt\", \"puerto\", \"graham\", \"election\", \"2020\", \"funding\", \"personal\", \"used\", \"ready\", \"decision\", \"evening\", \"almost\", \"lockdown\", \"best\", \"prince\", \"pentagon\", \"release\", \"treatment\", \"become\", \"blue\", \"red\", \"oil\", \"answer\", \"left\", \"ocasiocortez\", \"2018\", \"uk\", \"local\", \"message\", \"opinion\", \"billionaire\", \"reform\", \"allegation\", \"business\", \"email\", \"government\", \"trump\", \"ahead\", \"call\", \"campaign\", \"debate\", \"early\", \"voting\", \"chinese\", \"lawyer\", \"stop\", \"strike\", \"6\", \"asks\", \"billion\", \"board\", \"court\", \"debt\", \"puerto\", \"graham\", \"iran\", \"send\", \"business\", \"attack\", \"top\", \"blame\", \"long\", \"story\", \"price\", \"spike\", \"scientist\", \"killing\", \"promise\", \"email\", \"nyc\", \"nuclear\", \"accuses\", \"personal\", \"used\", \"ready\", \"decision\", \"evening\", \"almost\", \"lockdown\", \"best\", \"prince\", \"pentagon\", \"release\", \"treatment\", \"become\", \"blue\", \"red\", \"government\", \"trump\", \"ahead\", \"call\", \"campaign\", \"debate\", \"early\", \"voting\", \"chinese\", \"lawyer\", \"stop\", \"strike\", \"6\", \"back\", \"million\", \"test\", \"college\", \"student\", \"loan\", \"positive\", \"personal\", \"used\", \"ready\", \"decision\", \"evening\", \"almost\", \"lockdown\", \"best\", \"prince\", \"pentagon\", \"release\", \"treatment\", \"become\", \"blue\", \"red\", \"oil\", \"answer\", \"left\", \"ocasiocortez\", \"2018\", \"uk\", \"local\", \"message\", \"business\", \"email\", \"government\", \"trump\", \"ahead\", \"call\", \"campaign\", \"debate\", \"early\", \"voting\", \"chinese\", \"lawyer\", \"stop\", \"strike\", \"6\", \"asks\", \"billion\", \"board\", \"court\", \"debt\", \"puerto\", \"claim\", \"school\", \"surge\", \"warren\", \"fauci\", \"medical\", \"officer\", \"effect\", \"senior\", \"card\", \"cia\", \"personal\", \"used\", \"ready\", \"decision\", \"evening\", \"almost\", \"lockdown\", \"best\", \"prince\", \"pentagon\", \"release\", \"treatment\", \"become\", \"blue\", \"red\", \"oil\", \"answer\", \"left\", \"ocasiocortez\", \"business\", \"email\", \"government\", \"trump\", \"ahead\", \"call\", \"campaign\", \"debate\", \"early\", \"voting\", \"chinese\", \"lawyer\", \"stop\", \"strike\", \"6\", \"asks\", \"billion\", \"change\", \"lawmaker\", \"relief\", \"service\", \"rep\", \"november\", \"charge\", \"tax\", \"personal\", \"used\", \"ready\", \"decision\", \"evening\", \"almost\", \"lockdown\", \"best\", \"prince\", \"pentagon\", \"release\", \"treatment\", \"become\", \"blue\", \"red\", \"oil\", \"answer\", \"left\", \"ocasiocortez\", \"2018\", \"uk\", \"local\", \"business\", \"email\", \"government\", \"trump\", \"ahead\", \"call\", \"campaign\", \"debate\", \"early\", \"voting\", \"chinese\", \"lawyer\", \"stop\", \"strike\", \"6\", \"asks\", \"billion\", \"board\", \"court\", \"debt\", \"make\", \"fear\", \"victory\", \"history\", \"rise\", \"female\", \"midterm\", \"thousand\", \"covid\", \"mass\", \"personal\", \"used\", \"ready\", \"decision\", \"evening\", \"almost\", \"lockdown\", \"best\", \"prince\", \"pentagon\", \"release\", \"treatment\", \"become\", \"blue\", \"red\", \"oil\", \"answer\", \"left\", \"ocasiocortez\", \"2018\", \"business\", \"email\", \"government\", \"trump\", \"ahead\", \"call\", \"campaign\", \"debate\", \"early\", \"voting\", \"chinese\", \"lawyer\", \"stop\", \"strike\", \"6\", \"asks\", \"billion\", \"board\", \"death\", \"hospital\", \"vaccine\", \"hope\", \"toll\", \"wildfire\", \"personal\", \"used\", \"ready\", \"decision\", \"evening\", \"almost\", \"lockdown\", \"best\", \"prince\", \"pentagon\", \"release\", \"treatment\", \"become\", \"blue\", \"red\", \"oil\", \"answer\", \"left\", \"ocasiocortez\", \"2018\", \"uk\", \"local\", \"message\", \"opinion\", \"business\", \"email\", \"government\", \"trump\", \"ahead\", \"call\", \"campaign\", \"debate\", \"early\", \"voting\", \"chinese\", \"lawyer\", \"stop\", \"strike\", \"6\", \"asks\", \"billion\", \"board\", \"court\", \"debt\", \"puerto\", \"graham\", \"year\", \"public\", \"policy\", \"shooting\", \"gun\", \"personal\", \"used\", \"ready\", \"decision\", \"evening\", \"almost\", \"lockdown\", \"best\", \"prince\", \"pentagon\", \"release\", \"treatment\", \"become\", \"blue\", \"red\", \"oil\", \"answer\", \"left\", \"ocasiocortez\", \"2018\", \"uk\", \"local\", \"message\", \"opinion\", \"billionaire\", \"business\", \"email\", \"government\", \"trump\", \"ahead\", \"call\", \"campaign\", \"debate\", \"early\", \"voting\", \"chinese\", \"lawyer\", \"stop\", \"strike\", \"6\", \"asks\", \"billion\", \"board\", \"court\", \"debt\", \"puerto\", \"graham\", \"iran\", \"federal\", \"order\", \"effort\", \"cut\", \"city\", \"personal\", \"used\", \"ready\", \"decision\", \"evening\", \"almost\", \"lockdown\", \"best\", \"prince\", \"pentagon\", \"release\", \"treatment\", \"become\", \"blue\", \"red\", \"oil\", \"answer\", \"left\", \"ocasiocortez\", \"2018\", \"uk\", \"local\", \"message\", \"opinion\", \"billionaire\", \"business\", \"email\", \"government\", \"trump\", \"ahead\", \"call\", \"campaign\", \"debate\", \"early\", \"voting\", \"chinese\", \"lawyer\", \"stop\", \"strike\", \"6\", \"asks\", \"billion\", \"board\", \"court\", \"debt\", \"puerto\", \"graham\", \"iran\", \"would\", \"convention\", \"daily\", \"trillion\", \"raise\", \"4\", \"trail\", \"budget\", \"dnc\", \"personal\", \"used\", \"ready\", \"decision\", \"evening\", \"almost\", \"lockdown\", \"best\", \"prince\", \"pentagon\", \"release\", \"treatment\", \"become\", \"blue\", \"red\", \"oil\", \"answer\", \"left\", \"ocasiocortez\", \"2018\", \"uk\", \"business\", \"email\", \"government\", \"trump\", \"ahead\", \"call\", \"campaign\", \"debate\", \"early\", \"voting\", \"chinese\", \"lawyer\", \"stop\", \"strike\", \"6\", \"asks\", \"billion\", \"board\", \"court\", \"yous\", \"record\", \"set\", \"personal\", \"used\", \"ready\", \"decision\", \"evening\", \"almost\", \"lockdown\", \"best\", \"prince\", \"pentagon\", \"release\", \"treatment\", \"become\", \"blue\", \"red\", \"oil\", \"answer\", \"left\", \"ocasiocortez\", \"2018\", \"uk\", \"local\", \"message\", \"opinion\", \"billionaire\", \"reform\", \"allegation\", \"business\", \"email\", \"government\", \"trump\", \"ahead\", \"call\", \"campaign\", \"debate\", \"early\", \"voting\", \"chinese\", \"lawyer\", \"stop\", \"strike\", \"6\", \"asks\", \"billion\", \"board\", \"court\", \"debt\", \"puerto\", \"graham\", \"iran\", \"send\", \"voter\", \"race\", \"law\", \"personal\", \"used\", \"ready\", \"decision\", \"evening\", \"almost\", \"lockdown\", \"best\", \"prince\", \"pentagon\", \"release\", \"treatment\", \"become\", \"blue\", \"red\", \"oil\", \"answer\", \"left\", \"ocasiocortez\", \"2018\", \"uk\", \"local\", \"message\", \"opinion\", \"billionaire\", \"reform\", \"allegation\", \"business\", \"email\", \"government\", \"trump\", \"ahead\", \"call\", \"campaign\", \"debate\", \"early\", \"voting\", \"chinese\", \"lawyer\", \"stop\", \"strike\", \"6\", \"asks\", \"billion\", \"board\", \"court\", \"debt\", \"puerto\", \"graham\", \"iran\", \"send\", \"stop\", \"challenge\", \"chinese\", \"legal\", \"electoral\", \"continues\", \"strike\", \"personal\", \"used\", \"ready\", \"decision\", \"evening\", \"almost\", \"lockdown\", \"best\", \"prince\", \"pentagon\", \"release\", \"treatment\", \"become\", \"blue\", \"red\", \"oil\", \"answer\", \"left\", \"ocasiocortez\", \"2018\", \"uk\", \"local\", \"message\", \"business\", \"email\", \"government\", \"trump\", \"ahead\", \"call\", \"campaign\", \"debate\", \"early\", \"voting\", \"lawyer\", \"6\", \"asks\", \"billion\", \"board\", \"court\", \"debt\", \"puerto\", \"graham\", \"iran\", \"question\", \"man\", \"died\", \"ship\", \"cruise\", \"passenger\", \"personal\", \"used\", \"ready\", \"decision\", \"evening\", \"almost\", \"lockdown\", \"best\", \"prince\", \"pentagon\", \"release\", \"treatment\", \"become\", \"blue\", \"red\", \"oil\", \"answer\", \"left\", \"ocasiocortez\", \"2018\", \"uk\", \"local\", \"message\", \"opinion\", \"business\", \"email\", \"government\", \"trump\", \"ahead\", \"call\", \"campaign\", \"debate\", \"early\", \"voting\", \"chinese\", \"lawyer\", \"stop\", \"strike\", \"6\", \"asks\", \"billion\", \"board\", \"court\", \"debt\", \"puerto\", \"graham\", \"former\", \"michael\", \"endorses\", \"rnc\", \"personal\", \"used\", \"ready\", \"decision\", \"evening\", \"almost\", \"lockdown\", \"best\", \"prince\", \"pentagon\", \"release\", \"treatment\", \"become\", \"blue\", \"red\", \"oil\", \"answer\", \"left\", \"ocasiocortez\", \"2018\", \"uk\", \"local\", \"message\", \"opinion\", \"billionaire\", \"reform\", \"business\", \"email\", \"government\", \"trump\", \"ahead\", \"call\", \"campaign\", \"debate\", \"early\", \"voting\", \"chinese\", \"lawyer\", \"stop\", \"strike\", \"6\", \"asks\", \"billion\", \"board\", \"court\", \"debt\", \"puerto\", \"graham\", \"iran\", \"response\", \"obama\", \"package\", \"massive\", \"clinton\", \"prompt\", \"personal\", \"used\", \"ready\", \"decision\", \"evening\", \"almost\", \"lockdown\", \"best\", \"prince\", \"pentagon\", \"release\", \"treatment\", \"become\", \"blue\", \"red\", \"oil\", \"answer\", \"left\", \"ocasiocortez\", \"2018\", \"uk\", \"local\", \"message\", \"opinion\", \"business\", \"email\", \"government\", \"trump\", \"ahead\", \"call\", \"campaign\", \"debate\", \"early\", \"voting\", \"chinese\", \"lawyer\", \"stop\", \"strike\", \"6\", \"asks\", \"billion\", \"board\", \"court\", \"debt\", \"puerto\", \"graham\", \"billion\", \"lost\", \"last\", \"control\", \"hear\", \"due\", \"personal\", \"used\", \"ready\", \"decision\", \"evening\", \"almost\", \"lockdown\", \"best\", \"prince\", \"pentagon\", \"release\", \"treatment\", \"become\", \"blue\", \"red\", \"oil\", \"answer\", \"left\", \"ocasiocortez\", \"2018\", \"uk\", \"local\", \"message\", \"opinion\", \"business\", \"email\", \"government\", \"trump\", \"ahead\", \"call\", \"campaign\", \"debate\", \"early\", \"voting\", \"chinese\", \"lawyer\", \"stop\", \"strike\", \"6\", \"asks\", \"board\", \"court\", \"debt\", \"puerto\", \"graham\", \"iran\", \"force\", \"group\", \"space\", \"freedom\", \"personal\", \"used\", \"ready\", \"decision\", \"evening\", \"almost\", \"lockdown\", \"best\", \"prince\", \"pentagon\", \"release\", \"treatment\", \"become\", \"blue\", \"red\", \"oil\", \"answer\", \"left\", \"ocasiocortez\", \"2018\", \"uk\", \"local\", \"message\", \"opinion\", \"billionaire\", \"reform\", \"business\", \"email\", \"government\", \"trump\", \"ahead\", \"call\", \"campaign\", \"debate\", \"early\", \"voting\", \"chinese\", \"lawyer\", \"stop\", \"strike\", \"6\", \"asks\", \"billion\", \"board\", \"court\", \"debt\", \"puerto\", \"graham\", \"iran\", \"texas\", \"high\", \"reach\", \"personal\", \"used\", \"ready\", \"decision\", \"evening\", \"almost\", \"lockdown\", \"best\", \"prince\", \"pentagon\", \"release\", \"treatment\", \"become\", \"blue\", \"red\", \"oil\", \"answer\", \"left\", \"ocasiocortez\", \"2018\", \"uk\", \"local\", \"message\", \"opinion\", \"billionaire\", \"reform\", \"allegation\", \"business\", \"email\", \"government\", \"trump\", \"ahead\", \"call\", \"campaign\", \"debate\", \"early\", \"voting\", \"chinese\", \"lawyer\", \"stop\", \"strike\", \"6\", \"asks\", \"billion\", \"board\", \"court\", \"debt\", \"puerto\", \"graham\", \"iran\", \"send\", \"tech\", \"demand\", \"committee\", \"testimony\", \"personal\", \"used\", \"ready\", \"decision\", \"evening\", \"almost\", \"lockdown\", \"best\", \"prince\", \"pentagon\", \"release\", \"treatment\", \"become\", \"blue\", \"red\", \"oil\", \"answer\", \"left\", \"ocasiocortez\", \"2018\", \"uk\", \"local\", \"message\", \"opinion\", \"billionaire\", \"reform\", \"business\", \"email\", \"government\", \"trump\", \"ahead\", \"call\", \"campaign\", \"debate\", \"early\", \"voting\", \"chinese\", \"lawyer\", \"stop\", \"strike\", \"6\", \"asks\", \"billion\", \"board\", \"court\", \"debt\", \"puerto\", \"graham\", \"iran\", \"iran\", \"send\", \"graham\", \"personal\", \"used\", \"ready\", \"decision\", \"evening\", \"almost\", \"lockdown\", \"best\", \"prince\", \"pentagon\", \"release\", \"treatment\", \"become\", \"blue\", \"red\", \"oil\", \"answer\", \"left\", \"ocasiocortez\", \"2018\", \"uk\", \"local\", \"message\", \"opinion\", \"billionaire\", \"reform\", \"allegation\", \"business\", \"email\", \"government\", \"trump\", \"ahead\", \"call\", \"campaign\", \"debate\", \"early\", \"voting\", \"chinese\", \"lawyer\", \"stop\", \"strike\", \"6\", \"asks\", \"billion\", \"board\", \"court\", \"debt\", \"puerto\", \"force\", \"freedom\", \"group\", \"personal\", \"used\", \"ready\", \"decision\", \"evening\", \"almost\", \"lockdown\", \"best\", \"prince\", \"pentagon\", \"release\", \"treatment\", \"become\", \"blue\", \"red\", \"oil\", \"answer\", \"left\", \"ocasiocortez\", \"2018\", \"uk\", \"local\", \"message\", \"opinion\", \"billionaire\", \"reform\", \"allegation\", \"investigation\", \"ukraine\", \"age\", \"business\", \"email\", \"government\", \"trump\", \"ahead\", \"call\", \"campaign\", \"debate\", \"early\", \"voting\", \"chinese\", \"lawyer\", \"stop\", \"strike\", \"6\", \"asks\", \"billion\", \"board\", \"court\", \"debt\", \"puerto\", \"graham\", \"iran\", \"send\", \"force\", \"freedom\", \"group\", \"personal\", \"used\", \"ready\", \"decision\", \"evening\", \"almost\", \"lockdown\", \"best\", \"prince\", \"pentagon\", \"release\", \"treatment\", \"become\", \"blue\", \"red\", \"oil\", \"answer\", \"left\", \"ocasiocortez\", \"2018\", \"uk\", \"local\", \"message\", \"opinion\", \"billionaire\", \"reform\", \"allegation\", \"investigation\", \"ukraine\", \"age\", \"business\", \"email\", \"government\", \"trump\", \"ahead\", \"call\", \"campaign\", \"debate\", \"early\", \"voting\", \"chinese\", \"lawyer\", \"stop\", \"strike\", \"6\", \"asks\", \"billion\", \"board\", \"court\", \"debt\", \"puerto\", \"graham\", \"iran\", \"send\", \"force\", \"freedom\", \"group\", \"personal\", \"used\", \"ready\", \"decision\", \"evening\", \"almost\", \"lockdown\", \"best\", \"prince\", \"pentagon\", \"release\", \"treatment\", \"become\", \"blue\", \"red\", \"oil\", \"answer\", \"left\", \"ocasiocortez\", \"2018\", \"uk\", \"local\", \"message\", \"opinion\", \"billionaire\", \"reform\", \"allegation\", \"investigation\", \"ukraine\", \"age\", \"business\", \"email\", \"government\", \"trump\", \"ahead\", \"call\", \"campaign\", \"debate\", \"early\", \"voting\", \"chinese\", \"lawyer\", \"stop\", \"strike\", \"6\", \"asks\", \"billion\", \"board\", \"court\", \"debt\", \"puerto\", \"graham\", \"iran\", \"send\", \"force\", \"freedom\", \"group\", \"personal\", \"used\", \"ready\", \"decision\", \"evening\", \"almost\", \"lockdown\", \"best\", \"prince\", \"pentagon\", \"release\", \"treatment\", \"become\", \"blue\", \"red\", \"oil\", \"answer\", \"left\", \"ocasiocortez\", \"2018\", \"uk\", \"local\", \"message\", \"opinion\", \"billionaire\", \"reform\", \"allegation\", \"investigation\", \"ukraine\", \"age\", \"business\", \"email\", \"government\", \"trump\", \"ahead\", \"call\", \"campaign\", \"debate\", \"early\", \"voting\", \"chinese\", \"lawyer\", \"stop\", \"strike\", \"6\", \"asks\", \"billion\", \"board\", \"court\", \"debt\", \"puerto\", \"graham\", \"iran\", \"send\", \"force\", \"freedom\", \"group\"], \"Freq\": [7235.0, 3790.0, 1613.0, 1270.0, 1304.0, 1114.0, 1301.0, 1152.0, 1039.0, 1002.0, 815.0, 695.0, 813.0, 814.0, 747.0, 752.0, 780.0, 784.0, 731.0, 617.0, 607.0, 564.0, 662.0, 789.0, 741.0, 704.0, 740.0, 648.0, 631.0, 564.0, 156.80560744772765, 131.2917872544622, 124.3606077622724, 120.53778410069181, 119.54562305366161, 89.72566885853665, 65.67508962732917, 5745.158869126897, 0.03308150646206154, 0.03308150646206154, 0.03308150646206154, 0.03308150646206154, 0.03308150646206154, 0.03308150646206154, 0.03308150646206154, 0.03308150646206154, 0.03308150646206154, 0.03308150646206154, 0.03308150646206154, 0.03308150646206154, 0.03308150646206154, 0.03308150646206154, 0.03308150646206154, 0.03308150646206154, 0.03308150646206154, 0.03308150646206154, 0.03308150646206154, 0.03308150646206154, 0.03308150646206154, 0.03308150646206154, 0.03308150646206154, 0.03308150646206154, 0.03308150646206154, 0.03308150646206154, 0.03308150646206154, 0.03308150646206154, 0.03308150646206154, 0.03308150646206154, 0.03308150646206154, 0.03308150646206154, 0.03308150646206154, 0.03308150646206154, 0.03308150646206154, 0.03308150646206154, 0.03308150646206154, 0.03308150646206154, 0.03308150646206154, 0.03308150646206154, 0.03308150646206154, 0.03308150646206154, 3785.585727471092, 144.97954360578427, 44.93305339825665, 0.0254635968983812, 0.0254635968983812, 0.0254635968983812, 0.0254635968983812, 0.0254635968983812, 0.0254635968983812, 0.0254635968983812, 0.0254635968983812, 0.0254635968983812, 0.0254635968983812, 0.0254635968983812, 0.0254635968983812, 0.0254635968983812, 0.0254635968983812, 0.0254635968983812, 0.0254635968983812, 0.0254635968983812, 0.0254635968983812, 0.0254635968983812, 0.0254635968983812, 0.0254635968983812, 0.0254635968983812, 0.0254635968983812, 0.0254635968983812, 0.0254635968983812, 0.0254635968983812, 0.0254635968983812, 0.0254635968983812, 0.0254635968983812, 0.0254635968983812, 0.0254635968983812, 0.0254635968983812, 0.0254635968983812, 0.0254635968983812, 0.0254635968983812, 0.0254635968983812, 0.0254635968983812, 0.0254635968983812, 0.0254635968983812, 0.0254635968983812, 0.0254635968983812, 0.0254635968983812, 0.0254635968983812, 0.0254635968983812, 0.0254635968983812, 0.0254635968983812, 0.0254635968983812, 0.0254635968983812, 0.0254635968983812, 0.0254635968983812, 0.0254635968983812, 1297.08426370885, 785.4374922245582, 554.9698011512514, 283.34483164461307, 169.55776376685924, 132.93600258762865, 95.00374252517534, 0.039480717615523256, 0.039480717615523256, 0.039480717615523256, 0.039480717615523256, 0.039480717615523256, 0.039480717615523256, 0.039480717615523256, 0.039480717615523256, 0.039480717615523256, 0.039480717615523256, 0.039480717615523256, 0.039480717615523256, 0.039480717615523256, 0.039480717615523256, 0.039480717615523256, 0.039480717615523256, 0.039480717615523256, 0.039480717615523256, 0.039480717615523256, 0.039480717615523256, 0.039480717615523256, 0.039480717615523256, 0.039480717615523256, 0.039480717615523256, 0.039480717615523256, 0.039480717615523256, 0.039480717615523256, 0.039480717615523256, 0.039480717615523256, 0.039480717615523256, 0.039480717615523256, 0.039480717615523256, 0.039480717615523256, 0.039480717615523256, 0.039480717615523256, 0.039480717615523256, 0.039480717615523256, 0.039480717615523256, 0.039480717615523256, 0.039480717615523256, 0.039480717615523256, 0.039480717615523256, 0.039480717615523256, 0.039480717615523256, 736.4220545090989, 673.0730982427754, 290.38771821950877, 212.18237305709846, 144.75493508910156, 144.3282013312951, 93.69520523014204, 86.02425555290822, 58.22124832757878, 12.79800833847219, 847.0246945317343, 0.03717395258627802, 0.03717395258627802, 0.03717395258627802, 0.03717395258627802, 0.03717395258627802, 0.03717395258627802, 0.03717395258627802, 0.03717395258627802, 0.03717395258627802, 0.03717395258627802, 0.03717395258627802, 0.03717395258627802, 0.03717395258627802, 0.03717395258627802, 0.03717395258627802, 0.03717395258627802, 0.03717395258627802, 0.03717395258627802, 0.03717395258627802, 0.03717395258627802, 0.03717395258627802, 0.03717395258627802, 0.03717395258627802, 0.03717395258627802, 0.03717395258627802, 0.03717395258627802, 0.03717395258627802, 0.03717395258627802, 0.03717395258627802, 0.03717395258627802, 0.03717395258627802, 0.03717395258627802, 0.03717395258627802, 0.03717395258627802, 0.03717395258627802, 0.03717395258627802, 780.0586422292961, 737.3069274635905, 373.7735762129398, 340.724344365785, 639.0180572588266, 0.03287204201259869, 0.03287204201259869, 0.03287204201259869, 0.03287204201259869, 0.03287204201259869, 0.03287204201259869, 0.03287204201259869, 0.03287204201259869, 0.03287204201259869, 0.03287204201259869, 0.03287204201259869, 0.03287204201259869, 0.03287204201259869, 0.03287204201259869, 0.03287204201259869, 0.03287204201259869, 0.03287204201259869, 0.03287204201259869, 0.03287204201259869, 0.03287204201259869, 0.03287204201259869, 0.03287204201259869, 0.03287204201259869, 0.03287204201259869, 0.03287204201259869, 0.03287204201259869, 0.03287204201259869, 0.03287204201259869, 0.03287204201259869, 0.03287204201259869, 0.03287204201259869, 0.03287204201259869, 0.03287204201259869, 0.03287204201259869, 0.03287204201259869, 0.03287204201259869, 0.03287204201259869, 0.03287204201259869, 0.03287204201259869, 0.03287204201259869, 0.03287204201259869, 0.03287204201259869, 0.03287204201259869, 0.03287204201259869, 0.03287204201259869, 0.03287204201259869, 0.03287204201259869, 600.8874623757911, 464.0387129626078, 310.2954260716242, 286.80179595518314, 239.2237325519746, 226.7198779465833, 178.52950330104585, 163.3652827846247, 150.19449747468698, 79.2173343731746, 69.79903881792607, 34.55371292455614, 9.358567129728328, 0.037217569144955255, 0.037217569144955255, 0.037217569144955255, 0.037217569144955255, 0.037217569144955255, 0.037217569144955255, 0.037217569144955255, 0.037217569144955255, 0.037217569144955255, 0.037217569144955255, 0.037217569144955255, 0.037217569144955255, 0.037217569144955255, 0.037217569144955255, 0.037217569144955255, 0.037217569144955255, 0.037217569144955255, 0.037217569144955255, 0.037217569144955255, 0.037217569144955255, 0.037217569144955255, 0.037217569144955255, 0.037217569144955255, 0.037217569144955255, 0.037217569144955255, 0.037217569144955255, 0.037217569144955255, 0.037217569144955255, 0.037217569144955255, 0.037217569144955255, 0.037217569144955255, 0.037217569144955255, 810.5066671668992, 425.51350298395323, 309.78289164289373, 259.348335663663, 212.42453206404784, 206.98906004470635, 148.88192308186083, 125.5218005133488, 92.10264155291271, 72.67761575670738, 60.152913072714476, 36.550145562195056, 0.04018995717498105, 0.04018995717498105, 0.04018995717498105, 0.04018995717498105, 0.04018995717498105, 0.04018995717498105, 0.04018995717498105, 0.04018995717498105, 0.04018995717498105, 0.04018995717498105, 0.04018995717498105, 0.04018995717498105, 0.04018995717498105, 0.04018995717498105, 0.04018995717498105, 0.04018995717498105, 0.04018995717498105, 0.04018995717498105, 0.04018995717498105, 0.04018995717498105, 0.04018995717498105, 0.04018995717498105, 0.04018995717498105, 0.04018995717498105, 0.04018995717498105, 0.04018995717498105, 0.04018995717498105, 0.04018995717498105, 0.04018995717498105, 0.04018995717498105, 0.04018995717498105, 0.04018995717498105, 0.04018995717498105, 0.04018995717498105, 627.8268055692154, 460.96055420875956, 416.47762290550486, 387.03864470931745, 261.528938765137, 186.49751249259296, 99.09263247064321, 73.8238039694795, 72.56451452642561, 62.383371917857446, 47.410113804776195, 41.966883382384005, 29.83583927978536, 0.031773746709409585, 0.031773746709409585, 0.031773746709409585, 0.031773746709409585, 0.031773746709409585, 0.031773746709409585, 0.031773746709409585, 0.031773746709409585, 0.031773746709409585, 0.031773746709409585, 0.031773746709409585, 0.031773746709409585, 0.031773746709409585, 0.031773746709409585, 0.031773746709409585, 0.031773746709409585, 0.031773746709409585, 0.031773746709409585, 0.031773746709409585, 0.031773746709409585, 0.031773746709409585, 0.031773746709409585, 0.031773746709409585, 0.031773746709409585, 0.031773746709409585, 0.031773746709409585, 0.031773746709409585, 0.031773746709409585, 0.031773746709409585, 0.031773746709409585, 0.031773746709409585, 0.031773746709409585, 1148.4373555410623, 808.7208246973681, 526.0692120644757, 150.91615941267142, 69.19488386597607, 17.786746284405883, 0.03207633680870265, 0.03207633680870265, 0.03207633680870265, 0.03207633680870265, 0.03207633680870265, 0.03207633680870265, 0.03207633680870265, 0.03207633680870265, 0.03207633680870265, 0.03207633680870265, 0.03207633680870265, 0.03207633680870265, 0.03207633680870265, 0.03207633680870265, 0.03207633680870265, 0.03207633680870265, 0.03207633680870265, 0.03207633680870265, 0.03207633680870265, 0.03207633680870265, 0.03207633680870265, 0.03207633680870265, 0.03207633680870265, 0.03207633680870265, 0.03207633680870265, 0.03207633680870265, 0.03207633680870265, 0.03207633680870265, 0.03207633680870265, 0.03207633680870265, 0.03207633680870265, 0.03207633680870265, 0.03207633680870265, 0.03207633680870265, 0.03207633680870265, 0.03207633680870265, 0.03207633680870265, 0.03207633680870265, 0.03207633680870265, 0.03207633680870265, 0.03207633680870265, 0.03207633680870265, 0.03207633680870265, 0.03207633680870265, 0.03207633680870265, 0.03207633680870265, 997.855247614692, 232.62120474310342, 190.62865979905868, 187.84156068108874, 166.19217888629214, 161.00204325392252, 137.97920246637392, 109.97452700923931, 104.93082780701047, 102.83371022138535, 61.20515627698677, 54.83696824462667, 0.0376283385804138, 0.0376283385804138, 0.0376283385804138, 0.0376283385804138, 0.0376283385804138, 0.0376283385804138, 0.0376283385804138, 0.0376283385804138, 0.0376283385804138, 0.0376283385804138, 0.0376283385804138, 0.0376283385804138, 0.0376283385804138, 0.0376283385804138, 0.0376283385804138, 0.0376283385804138, 0.0376283385804138, 0.0376283385804138, 0.0376283385804138, 0.0376283385804138, 0.0376283385804138, 0.0376283385804138, 0.0376283385804138, 0.0376283385804138, 0.0376283385804138, 0.0376283385804138, 0.0376283385804138, 0.0376283385804138, 0.0376283385804138, 0.0376283385804138, 0.0376283385804138, 0.0376283385804138, 0.0376283385804138, 0.0376283385804138, 776.5219596335836, 700.0803745904851, 605.0319271830756, 153.47033470584435, 120.71568613395108, 71.18584417875691, 52.21814971771421, 0.04606239041139727, 0.04606239041139727, 0.04606239041139727, 0.04606239041139727, 0.04606239041139727, 0.04606239041139727, 0.04606239041139727, 0.04606239041139727, 0.04606239041139727, 0.04606239041139727, 0.04606239041139727, 0.04606239041139727, 0.04606239041139727, 0.04606239041139727, 0.04606239041139727, 0.04606239041139727, 0.04606239041139727, 0.04606239041139727, 0.04606239041139727, 0.04606239041139727, 0.04606239041139727, 0.04606239041139727, 0.04606239041139727, 0.04606239041139727, 0.04606239041139727, 0.04606239041139727, 0.04606239041139727, 0.04606239041139727, 0.04606239041139727, 0.04606239041139727, 0.04606239041139727, 0.04606239041139727, 0.04606239041139727, 0.04606239041139727, 0.04606239041139727, 0.04606239041139727, 0.04606239041139727, 0.04606239041139727, 0.04606239041139727, 0.04606239041139727, 0.04606239041139727, 0.04606239041139727, 0.04606239041139727, 0.04606239041139727, 1608.6402055448712, 414.3603862652752, 392.31651565232806, 38.188307056993274, 32.766802981279646, 0.03671513170588645, 0.03671513170588645, 0.03671513170588645, 0.03671513170588645, 0.03671513170588645, 0.03671513170588645, 0.03671513170588645, 0.03671513170588645, 0.03671513170588645, 0.03671513170588645, 0.03671513170588645, 0.03671513170588645, 0.03671513170588645, 0.03671513170588645, 0.03671513170588645, 0.03671513170588645, 0.03671513170588645, 0.03671513170588645, 0.03671513170588645, 0.03671513170588645, 0.03671513170588645, 0.03671513170588645, 0.03671513170588645, 0.03671513170588645, 0.03671513170588645, 0.03671513170588645, 0.03671513170588645, 0.03671513170588645, 0.03671513170588645, 0.03671513170588645, 0.03671513170588645, 0.03671513170588645, 0.03671513170588645, 0.03671513170588645, 0.03671513170588645, 0.03671513170588645, 0.03671513170588645, 0.03671513170588645, 0.03671513170588645, 0.03671513170588645, 0.03671513170588645, 0.03671513170588645, 0.03671513170588645, 0.03671513170588645, 0.03671513170588645, 0.03671513170588645, 0.03671513170588645, 0.03671513170588645, 810.7582765549352, 541.891850350868, 398.6321863199741, 273.90166471440057, 146.34154971428865, 84.12412426927122, 57.205957436174124, 41.50779136659633, 26.77215032034385, 19.16479338567294, 19.09745047779373, 0.031348809927959596, 0.031348809927959596, 0.031348809927959596, 0.031348809927959596, 0.031348809927959596, 0.031348809927959596, 0.031348809927959596, 0.031348809927959596, 0.031348809927959596, 0.031348809927959596, 0.031348809927959596, 0.031348809927959596, 0.031348809927959596, 0.031348809927959596, 0.031348809927959596, 0.031348809927959596, 0.031348809927959596, 0.031348809927959596, 0.031348809927959596, 0.031348809927959596, 0.031348809927959596, 0.031348809927959596, 0.031348809927959596, 0.031348809927959596, 0.031348809927959596, 0.031348809927959596, 0.031348809927959596, 0.031348809927959596, 0.031348809927959596, 0.031348809927959596, 0.031348809927959596, 0.031348809927959596, 0.031348809927959596, 0.031348809927959596, 0.031348809927959596, 0.031348809927959596, 626.8106176481622, 329.10384200531945, 259.8660178896363, 222.43793938168594, 159.21885172289143, 155.08190924210658, 141.48690298338113, 134.5030990087521, 121.3854894963577, 105.15640034592639, 80.71749717997385, 0.04220685645413708, 0.04220685645413708, 0.04220685645413708, 0.04220685645413708, 0.04220685645413708, 0.04220685645413708, 0.04220685645413708, 0.04220685645413708, 0.04220685645413708, 0.04220685645413708, 0.04220685645413708, 0.04220685645413708, 0.04220685645413708, 0.04220685645413708, 0.04220685645413708, 0.04220685645413708, 0.04220685645413708, 0.04220685645413708, 0.04220685645413708, 0.04220685645413708, 0.04220685645413708, 0.04220685645413708, 0.04220685645413708, 0.04220685645413708, 0.04220685645413708, 0.04220685645413708, 0.04220685645413708, 0.04220685645413708, 0.04220685645413708, 0.04220685645413708, 0.04220685645413708, 0.04220685645413708, 0.04220685645413708, 0.04220685645413708, 0.04220685645413708, 0.04220685645413708, 1299.6514059439894, 342.12784241320054, 179.79952631769473, 132.48733640818742, 96.45992971617255, 61.36695099660817, 53.64117822278188, 47.88036999310235, 42.241774746526296, 40.54579828031259, 20.473706486845465, 13.058241282570089, 0.029598476154672978, 0.029598476154672978, 0.029598476154672978, 0.029598476154672978, 0.029598476154672978, 0.029598476154672978, 0.029598476154672978, 0.029598476154672978, 0.029598476154672978, 0.029598476154672978, 0.029598476154672978, 0.029598476154672978, 0.029598476154672978, 0.029598476154672978, 0.029598476154672978, 0.029598476154672978, 0.029598476154672978, 0.029598476154672978, 0.029598476154672978, 0.029598476154672978, 0.029598476154672978, 0.029598476154672978, 0.029598476154672978, 0.029598476154672978, 0.029598476154672978, 0.029598476154672978, 0.029598476154672978, 0.029598476154672978, 0.029598476154672978, 0.029598476154672978, 0.029598476154672978, 0.029598476154672978, 0.029598476154672978, 0.029598476154672978, 644.3166083569988, 302.41101400266035, 236.10829733511352, 220.673644029855, 189.18828902828204, 142.54957815348595, 138.89986673355182, 132.58516027827122, 130.47865639134108, 123.07327350880716, 34.45845972652359, 0.059723490752904944, 0.059723490752904944, 0.059723490752904944, 0.059723490752904944, 0.059723490752904944, 0.059723490752904944, 0.059723490752904944, 0.059723490752904944, 0.059723490752904944, 0.059723490752904944, 0.059723490752904944, 0.059723490752904944, 0.059723490752904944, 0.059723490752904944, 0.059723490752904944, 0.059723490752904944, 0.059723490752904944, 0.059723490752904944, 0.059723490752904944, 0.059723490752904944, 0.059723490752904944, 0.059723490752904944, 0.059723490752904944, 0.059723490752904944, 0.059723490752904944, 0.059723490752904944, 0.059723490752904944, 0.059723490752904944, 0.059723490752904944, 0.059723490752904944, 0.059723490752904944, 0.059723490752904944, 0.059723490752904944, 0.059723490752904944, 0.059723490752904944, 0.059723490752904944, 727.4624697839839, 477.30438794458297, 301.55298886991045, 286.402757172669, 205.85993973154072, 119.6514645215723, 75.95436674255228, 66.98340452498013, 13.330076745589786, 0.03838834682836073, 0.03838834682836073, 0.03838834682836073, 0.03838834682836073, 0.03838834682836073, 0.03838834682836073, 0.03838834682836073, 0.03838834682836073, 0.03838834682836073, 0.03838834682836073, 0.03838834682836073, 0.03838834682836073, 0.03838834682836073, 0.03838834682836073, 0.03838834682836073, 0.03838834682836073, 0.03838834682836073, 0.03838834682836073, 0.03838834682836073, 0.03838834682836073, 0.03838834682836073, 0.03838834682836073, 0.03838834682836073, 0.03838834682836073, 0.03838834682836073, 0.03838834682836073, 0.03838834682836073, 0.03838834682836073, 0.03838834682836073, 0.03838834682836073, 0.03838834682836073, 0.03838834682836073, 0.03838834682836073, 0.03838834682836073, 0.03838834682836073, 0.03838834682836073, 0.03838834682836073, 0.03838834682836073, 0.03838834682836073, 0.03838834682836073, 539.5949515653995, 320.7798907865134, 191.08439545562806, 189.451146789203, 169.28807713566948, 169.28183911508006, 162.47007236709413, 137.91831919570808, 136.06528989035496, 99.88627939845236, 59.73574458585565, 43.912596517607945, 0.04390431358930834, 0.04390431358930834, 0.04390431358930834, 0.04390431358930834, 0.04390431358930834, 0.04390431358930834, 0.04390431358930834, 0.04390431358930834, 0.04390431358930834, 0.04390431358930834, 0.04390431358930834, 0.04390431358930834, 0.04390431358930834, 0.04390431358930834, 0.04390431358930834, 0.04390431358930834, 0.04390431358930834, 0.04390431358930834, 0.04390431358930834, 0.04390431358930834, 0.04390431358930834, 0.04390431358930834, 0.04390431358930834, 0.04390431358930834, 0.04390431358930834, 0.04390431358930834, 0.04390431358930834, 0.04390431358930834, 0.04390431358930834, 0.04390431358930834, 0.04390431358930834, 0.04390431358930834, 0.04390431358930834, 0.04390431358930834, 747.9805595996346, 605.74260132283, 576.0683306204402, 246.20284547914702, 0.04646623782785158, 0.04646623782785158, 0.04646623782785158, 0.04646623782785158, 0.04646623782785158, 0.04646623782785158, 0.04646623782785158, 0.04646623782785158, 0.04646623782785158, 0.04646623782785158, 0.04646623782785158, 0.04646623782785158, 0.04646623782785158, 0.04646623782785158, 0.04646623782785158, 0.04646623782785158, 0.04646623782785158, 0.04646623782785158, 0.04646623782785158, 0.04646623782785158, 0.04646623782785158, 0.04646623782785158, 0.04646623782785158, 0.04646623782785158, 0.04646623782785158, 0.04646623782785158, 0.04646623782785158, 0.04646623782785158, 0.04646623782785158, 0.04646623782785158, 0.04646623782785158, 0.04646623782785158, 0.04646623782785158, 0.04646623782785158, 0.04646623782785158, 0.04646623782785158, 0.04646623782785158, 0.04646623782785158, 0.04646623782785158, 0.04646623782785158, 0.04646623782785158, 0.04646623782785158, 0.04646623782785158, 0.04646623782785158, 0.04646623782785158, 0.04646623782785158, 0.04646623782785158, 0.04646623782785158, 0.04646623782785158, 1035.4675736322256, 282.7816351855306, 271.7617726033519, 252.64796776913872, 226.682400784675, 67.84149621030525, 0.03462779586471715, 0.03462779586471715, 0.03462779586471715, 0.03462779586471715, 0.03462779586471715, 0.03462779586471715, 0.03462779586471715, 0.03462779586471715, 0.03462779586471715, 0.03462779586471715, 0.03462779586471715, 0.03462779586471715, 0.03462779586471715, 0.03462779586471715, 0.03462779586471715, 0.03462779586471715, 0.03462779586471715, 0.03462779586471715, 0.03462779586471715, 0.03462779586471715, 0.03462779586471715, 0.03462779586471715, 0.03462779586471715, 0.03462779586471715, 0.03462779586471715, 0.03462779586471715, 0.03462779586471715, 0.03462779586471715, 0.03462779586471715, 0.03462779586471715, 0.03462779586471715, 0.03462779586471715, 0.03462779586471715, 0.03462779586471715, 0.03462779586471715, 0.03462779586471715, 0.03462779586471715, 0.03462779586471715, 0.03462779586471715, 0.03462779586471715, 0.03462779586471715, 0.03462779586471715, 0.03462779586471715, 0.03462779586471715, 0.03462779586471715, 0.03462779586471715, 1266.4297597863906, 743.1009414050544, 97.52050633924154, 0.04442584878682595, 0.04442584878682595, 0.04442584878682595, 0.04442584878682595, 0.04442584878682595, 0.04442584878682595, 0.04442584878682595, 0.04442584878682595, 0.04442584878682595, 0.04442584878682595, 0.04442584878682595, 0.04442584878682595, 0.04442584878682595, 0.04442584878682595, 0.04442584878682595, 0.04442584878682595, 0.04442584878682595, 0.04442584878682595, 0.04442584878682595, 0.04442584878682595, 0.04442584878682595, 0.04442584878682595, 0.04442584878682595, 0.04442584878682595, 0.04442584878682595, 0.04442584878682595, 0.04442584878682595, 0.04442584878682595, 0.04442584878682595, 0.04442584878682595, 0.04442584878682595, 0.04442584878682595, 0.04442584878682595, 0.04442584878682595, 0.04442584878682595, 0.04442584878682595, 0.04442584878682595, 0.04442584878682595, 0.04442584878682595, 0.04442584878682595, 0.04442584878682595, 0.04442584878682595, 0.04442584878682595, 0.04442584878682595, 0.04442584878682595, 0.04442584878682595, 0.04442584878682595, 0.04442584878682595, 0.04442584878682595, 0.04442584878682595, 0.04442584878682595, 395.2820502149026, 338.85837092937686, 301.64147556492316, 207.64558515165285, 130.90122513928117, 115.59516134609905, 113.88234045121874, 95.3346637757254, 84.81445578144834, 81.78804375827572, 79.09205124543941, 60.25486626022119, 35.102552881358854, 31.440134539088643, 20.330628503732463, 0.041083298243859874, 0.041083298243859874, 0.041083298243859874, 0.041083298243859874, 0.041083298243859874, 0.041083298243859874, 0.041083298243859874, 0.041083298243859874, 0.041083298243859874, 0.041083298243859874, 0.041083298243859874, 0.041083298243859874, 0.041083298243859874, 0.041083298243859874, 0.041083298243859874, 0.041083298243859874, 0.041083298243859874, 0.041083298243859874, 0.041083298243859874, 0.041083298243859874, 0.041083298243859874, 0.041083298243859874, 0.041083298243859874, 0.041083298243859874, 0.041083298243859874, 0.041083298243859874, 0.041083298243859874, 0.041083298243859874, 601.9901246862282, 414.96314560716525, 321.8311172032654, 205.99267349864175, 194.67710419845966, 161.97429198260653, 151.48047385856233, 0.037873135834674145, 0.037873135834674145, 0.037873135834674145, 0.037873135834674145, 0.037873135834674145, 0.037873135834674145, 0.037873135834674145, 0.037873135834674145, 0.037873135834674145, 0.037873135834674145, 0.037873135834674145, 0.037873135834674145, 0.037873135834674145, 0.037873135834674145, 0.037873135834674145, 0.037873135834674145, 0.037873135834674145, 0.037873135834674145, 0.037873135834674145, 0.037873135834674145, 0.037873135834674145, 0.037873135834674145, 0.037873135834674145, 0.037873135834674145, 0.037873135834674145, 0.037873135834674145, 0.037873135834674145, 0.037873135834674145, 0.037873135834674145, 0.037873135834674145, 0.037873135834674145, 0.037873135834674145, 0.037873135834674145, 0.037873135834674145, 0.037873135834674145, 0.037873135834674145, 0.037873135834674145, 0.037873135834674145, 0.037873135834674145, 0.037873135834674145, 0.037873135834674145, 0.037873135834674145, 0.037873135834674145, 0.037873135834674145, 535.8342034562103, 358.7886437126451, 290.9470524245581, 225.52309906623938, 184.31756707037795, 156.5633642194208, 76.89270662346549, 72.795540361745, 49.8447265579826, 30.577718290626734, 7.707945725598346, 0.039695015703964165, 0.039695015703964165, 0.039695015703964165, 0.039695015703964165, 0.039695015703964165, 0.039695015703964165, 0.039695015703964165, 0.039695015703964165, 0.039695015703964165, 0.039695015703964165, 0.039695015703964165, 0.039695015703964165, 0.039695015703964165, 0.039695015703964165, 0.039695015703964165, 0.039695015703964165, 0.039695015703964165, 0.039695015703964165, 0.039695015703964165, 0.039695015703964165, 0.039695015703964165, 0.039695015703964165, 0.039695015703964165, 0.039695015703964165, 0.039695015703964165, 0.039695015703964165, 0.039695015703964165, 0.039695015703964165, 0.039695015703964165, 0.039695015703964165, 0.039695015703964165, 0.039695015703964165, 0.039695015703964165, 0.039695015703964165, 0.039695015703964165, 0.039695015703964165, 407.83816469293987, 336.28159489279335, 249.8116663423519, 236.60337459448635, 181.18737640043835, 180.2641969421866, 120.32600952385874, 109.32440999677836, 0.04450835337184821, 0.04450835337184821, 0.04450835337184821, 0.04450835337184821, 0.04450835337184821, 0.04450835337184821, 0.04450835337184821, 0.04450835337184821, 0.04450835337184821, 0.04450835337184821, 0.04450835337184821, 0.04450835337184821, 0.04450835337184821, 0.04450835337184821, 0.04450835337184821, 0.04450835337184821, 0.04450835337184821, 0.04450835337184821, 0.04450835337184821, 0.04450835337184821, 0.04450835337184821, 0.04450835337184821, 0.04450835337184821, 0.04450835337184821, 0.04450835337184821, 0.04450835337184821, 0.04450835337184821, 0.04450835337184821, 0.04450835337184821, 0.04450835337184821, 0.04450835337184821, 0.04450835337184821, 0.04450835337184821, 0.04450835337184821, 0.04450835337184821, 0.04450835337184821, 0.04450835337184821, 0.04450835337184821, 0.04450835337184821, 0.04450835337184821, 0.04450835337184821, 0.04450835337184821, 658.1194766034968, 308.89334849620315, 175.35487862256508, 159.24329471949616, 149.31536608331558, 86.63602580510431, 62.526335681491716, 53.97735834339736, 49.906260528293416, 13.55782166771597, 0.0478100006905665, 0.0478100006905665, 0.0478100006905665, 0.0478100006905665, 0.0478100006905665, 0.0478100006905665, 0.0478100006905665, 0.0478100006905665, 0.0478100006905665, 0.0478100006905665, 0.0478100006905665, 0.0478100006905665, 0.0478100006905665, 0.0478100006905665, 0.0478100006905665, 0.0478100006905665, 0.0478100006905665, 0.0478100006905665, 0.0478100006905665, 0.0478100006905665, 0.0478100006905665, 0.0478100006905665, 0.0478100006905665, 0.0478100006905665, 0.0478100006905665, 0.0478100006905665, 0.0478100006905665, 0.0478100006905665, 0.0478100006905665, 0.0478100006905665, 0.0478100006905665, 0.0478100006905665, 0.0478100006905665, 0.0478100006905665, 0.0478100006905665, 0.0478100006905665, 0.0478100006905665, 0.0478100006905665, 560.1926073402341, 326.9762686232356, 288.90746338865796, 214.41526688717184, 154.4662908646933, 22.672104503328285, 0.04518063002073145, 0.04518063002073145, 0.04518063002073145, 0.04518063002073145, 0.04518063002073145, 0.04518063002073145, 0.04518063002073145, 0.04518063002073145, 0.04518063002073145, 0.04518063002073145, 0.04518063002073145, 0.04518063002073145, 0.04518063002073145, 0.04518063002073145, 0.04518063002073145, 0.04518063002073145, 0.04518063002073145, 0.04518063002073145, 0.04518063002073145, 0.04518063002073145, 0.04518063002073145, 0.04518063002073145, 0.04518063002073145, 0.04518063002073145, 0.04518063002073145, 0.04518063002073145, 0.04518063002073145, 0.04518063002073145, 0.04518063002073145, 0.04518063002073145, 0.04518063002073145, 0.04518063002073145, 0.04518063002073145, 0.04518063002073145, 0.04518063002073145, 0.04518063002073145, 0.04518063002073145, 0.04518063002073145, 0.04518063002073145, 0.04518063002073145, 0.04518063002073145, 0.04518063002073145, 0.04518063002073145, 0.04518063002073145, 0.04518063002073145, 0.04518063002073145, 481.05987614677974, 415.90841053338164, 301.89749985790826, 146.6100733332413, 131.88935925279736, 0.05466724145596401, 0.05466724145596401, 0.05466724145596401, 0.05466724145596401, 0.05466724145596401, 0.05466724145596401, 0.05466724145596401, 0.05466724145596401, 0.05466724145596401, 0.05466724145596401, 0.05466724145596401, 0.05466724145596401, 0.05466724145596401, 0.05466724145596401, 0.05466724145596401, 0.05466724145596401, 0.05466724145596401, 0.05466724145596401, 0.05466724145596401, 0.05466724145596401, 0.05466724145596401, 0.05466724145596401, 0.05466724145596401, 0.05466724145596401, 0.05466724145596401, 0.05466724145596401, 0.05466724145596401, 0.05466724145596401, 0.05466724145596401, 0.05466724145596401, 0.05466724145596401, 0.05466724145596401, 0.05466724145596401, 0.05466724145596401, 0.05466724145596401, 0.05466724145596401, 0.05466724145596401, 0.05466724145596401, 0.05466724145596401, 0.05466724145596401, 0.05466724145596401, 0.05466724145596401, 0.05466724145596401, 0.05466724145596401, 0.05466724145596401, 0.05466724145596401, 0.05466724145596401, 0.05466724145596401, 461.0089996675932, 296.08227015382454, 256.21707893874384, 245.52781345812286, 218.07015287996398, 0.04713346145291017, 0.04713346145291017, 0.04713346145291017, 0.04713346145291017, 0.04713346145291017, 0.04713346145291017, 0.04713346145291017, 0.04713346145291017, 0.04713346145291017, 0.04713346145291017, 0.04713346145291017, 0.04713346145291017, 0.04713346145291017, 0.04713346145291017, 0.04713346145291017, 0.04713346145291017, 0.04713346145291017, 0.04713346145291017, 0.04713346145291017, 0.04713346145291017, 0.04713346145291017, 0.04713346145291017, 0.04713346145291017, 0.04713346145291017, 0.04713346145291017, 0.04713346145291017, 0.04713346145291017, 0.04713346145291017, 0.04713346145291017, 0.04713346145291017, 0.04713346145291017, 0.04713346145291017, 0.04713346145291017, 0.04713346145291017, 0.04713346145291017, 0.04713346145291017, 0.04713346145291017, 0.04713346145291017, 0.04713346145291017, 0.04713346145291017, 0.04713346145291017, 0.04713346145291017, 0.04713346145291017, 0.04713346145291017, 0.04713346145291017, 0.04713346145291017, 0.04713346145291017, 0.04713346145291017, 364.9779905131793, 354.3153874408769, 215.40048981132537, 176.9917297890021, 105.40366232428637, 103.47059016764838, 78.26230634550205, 57.760344398098795, 22.82084907703591, 0.038645820651001465, 0.038645820651001465, 0.038645820651001465, 0.038645820651001465, 0.038645820651001465, 0.038645820651001465, 0.038645820651001465, 0.038645820651001465, 0.038645820651001465, 0.038645820651001465, 0.038645820651001465, 0.038645820651001465, 0.038645820651001465, 0.038645820651001465, 0.038645820651001465, 0.038645820651001465, 0.038645820651001465, 0.038645820651001465, 0.038645820651001465, 0.038645820651001465, 0.038645820651001465, 0.038645820651001465, 0.038645820651001465, 0.038645820651001465, 0.038645820651001465, 0.038645820651001465, 0.038645820651001465, 0.038645820651001465, 0.038645820651001465, 0.038645820651001465, 0.038645820651001465, 0.038645820651001465, 0.038645820651001465, 0.038645820651001465, 0.038645820651001465, 0.038645820651001465, 0.038645820651001465, 0.038645820651001465, 0.038645820651001465, 0.038645820651001465, 1110.210901963652, 169.88077389668146, 166.10936665872578, 0.039048969203270625, 0.039048969203270625, 0.039048969203270625, 0.039048969203270625, 0.039048969203270625, 0.039048969203270625, 0.039048969203270625, 0.039048969203270625, 0.039048969203270625, 0.039048969203270625, 0.039048969203270625, 0.039048969203270625, 0.039048969203270625, 0.039048969203270625, 0.039048969203270625, 0.039048969203270625, 0.039048969203270625, 0.039048969203270625, 0.039048969203270625, 0.039048969203270625, 0.039048969203270625, 0.039048969203270625, 0.039048969203270625, 0.039048969203270625, 0.039048969203270625, 0.039048969203270625, 0.039048969203270625, 0.039048969203270625, 0.039048969203270625, 0.039048969203270625, 0.039048969203270625, 0.039048969203270625, 0.039048969203270625, 0.039048969203270625, 0.039048969203270625, 0.039048969203270625, 0.039048969203270625, 0.039048969203270625, 0.039048969203270625, 0.039048969203270625, 0.039048969203270625, 0.039048969203270625, 0.039048969203270625, 0.039048969203270625, 0.039048969203270625, 0.039048969203270625, 0.039048969203270625, 0.039048969203270625, 0.039048969203270625, 0.039048969203270625, 0.039048969203270625, 690.8377380755637, 505.558687862915, 190.90604787512996, 0.050876744741706774, 0.050876744741706774, 0.050876744741706774, 0.050876744741706774, 0.050876744741706774, 0.050876744741706774, 0.050876744741706774, 0.050876744741706774, 0.050876744741706774, 0.050876744741706774, 0.050876744741706774, 0.050876744741706774, 0.050876744741706774, 0.050876744741706774, 0.050876744741706774, 0.050876744741706774, 0.050876744741706774, 0.050876744741706774, 0.050876744741706774, 0.050876744741706774, 0.050876744741706774, 0.050876744741706774, 0.050876744741706774, 0.050876744741706774, 0.050876744741706774, 0.050876744741706774, 0.050876744741706774, 0.050876744741706774, 0.050876744741706774, 0.050876744741706774, 0.050876744741706774, 0.050876744741706774, 0.050876744741706774, 0.050876744741706774, 0.050876744741706774, 0.050876744741706774, 0.050876744741706774, 0.050876744741706774, 0.050876744741706774, 0.050876744741706774, 0.050876744741706774, 0.050876744741706774, 0.050876744741706774, 0.050876744741706774, 0.050876744741706774, 0.050876744741706774, 0.050876744741706774, 0.050876744741706774, 0.050876744741706774, 0.050876744741706774, 0.050876744741706774, 343.9176985874539, 226.2999378305513, 183.65256814568556, 178.4780080318364, 113.59413036977004, 86.61376032042523, 66.48214965652855, 0.058874662152497294, 0.058874662152497294, 0.058874662152497294, 0.058874662152497294, 0.058874662152497294, 0.058874662152497294, 0.058874662152497294, 0.058874662152497294, 0.058874662152497294, 0.058874662152497294, 0.058874662152497294, 0.058874662152497294, 0.058874662152497294, 0.058874662152497294, 0.058874662152497294, 0.058874662152497294, 0.058874662152497294, 0.058874662152497294, 0.058874662152497294, 0.058874662152497294, 0.058874662152497294, 0.058874662152497294, 0.058874662152497294, 0.058874662152497294, 0.058874662152497294, 0.058874662152497294, 0.058874662152497294, 0.058874662152497294, 0.058874662152497294, 0.058874662152497294, 0.058874662152497294, 0.058874662152497294, 0.058874662152497294, 0.058874662152497294, 0.058874662152497294, 0.058874662152497294, 0.058874662152497294, 0.058874662152497294, 0.058874662152497294, 0.058874662152497294, 0.058874662152497294, 0.058874662152497294, 0.058874662152497294, 436.7291616048894, 231.42890819175537, 167.518509375445, 132.76644489198833, 126.73916065480118, 110.97644104266239, 0.05145649328382789, 0.05145649328382789, 0.05145649328382789, 0.05145649328382789, 0.05145649328382789, 0.05145649328382789, 0.05145649328382789, 0.05145649328382789, 0.05145649328382789, 0.05145649328382789, 0.05145649328382789, 0.05145649328382789, 0.05145649328382789, 0.05145649328382789, 0.05145649328382789, 0.05145649328382789, 0.05145649328382789, 0.05145649328382789, 0.05145649328382789, 0.05145649328382789, 0.05145649328382789, 0.05145649328382789, 0.05145649328382789, 0.05145649328382789, 0.05145649328382789, 0.05145649328382789, 0.05145649328382789, 0.05145649328382789, 0.05145649328382789, 0.05145649328382789, 0.05145649328382789, 0.05145649328382789, 0.05145649328382789, 0.05145649328382789, 0.05145649328382789, 0.05145649328382789, 0.05145649328382789, 0.05145649328382789, 0.05145649328382789, 0.05145649328382789, 0.05145649328382789, 0.05145649328382789, 0.05145649328382789, 0.05145649328382789, 0.05145649328382789, 0.05145649328382789, 613.2119040993933, 302.02762567279336, 230.2948919082639, 15.855069088023416, 0.08241446032892129, 0.08241446032892129, 0.08241446032892129, 0.08241446032892129, 0.08241446032892129, 0.08241446032892129, 0.08241446032892129, 0.08241446032892129, 0.08241446032892129, 0.08241446032892129, 0.08241446032892129, 0.08241446032892129, 0.08241446032892129, 0.08241446032892129, 0.08241446032892129, 0.08241446032892129, 0.08241446032892129, 0.08241446032892129, 0.08241446032892129, 0.08241446032892129, 0.08241446032892129, 0.08241446032892129, 0.08241446032892129, 0.08241446032892129, 0.08241446032892129, 0.08241446032892129, 0.08241446032892129, 0.08241446032892129, 0.08241446032892129, 0.08241446032892129, 0.08241446032892129, 0.08241446032892129, 0.08241446032892129, 0.08241446032892129, 0.08241446032892129, 0.08241446032892129, 0.08241446032892129, 0.08241446032892129, 0.08241446032892129, 0.08241446032892129, 0.08241446032892129, 0.08241446032892129, 0.08241446032892129, 0.08241446032892129, 0.08241446032892129, 0.08241446032892129, 0.08241446032892129, 0.08241446032892129, 0.08241446032892129, 603.3462210980352, 203.86165668340263, 124.00008376938275, 112.32938409554397, 97.52331222682113, 30.07319364313532, 0.05471407586764627, 0.05471407586764627, 0.05471407586764627, 0.05471407586764627, 0.05471407586764627, 0.05471407586764627, 0.05471407586764627, 0.05471407586764627, 0.05471407586764627, 0.05471407586764627, 0.05471407586764627, 0.05471407586764627, 0.05471407586764627, 0.05471407586764627, 0.05471407586764627, 0.05471407586764627, 0.05471407586764627, 0.05471407586764627, 0.05471407586764627, 0.05471407586764627, 0.05471407586764627, 0.05471407586764627, 0.05471407586764627, 0.05471407586764627, 0.05471407586764627, 0.05471407586764627, 0.05471407586764627, 0.05471407586764627, 0.05471407586764627, 0.05471407586764627, 0.05471407586764627, 0.05471407586764627, 0.05471407586764627, 0.05471407586764627, 0.05471407586764627, 0.05471407586764627, 0.05471407586764627, 0.05471407586764627, 0.05471407586764627, 0.05471407586764627, 0.05471407586764627, 0.05471407586764627, 0.05471407586764627, 0.05471407586764627, 0.05471407586764627, 0.05471407586764627, 273.9038421633031, 211.9942116331495, 206.97565201763632, 130.46933667776284, 122.64203137842735, 114.22732990241884, 0.06046771643161537, 0.06046771643161537, 0.06046771643161537, 0.06046771643161537, 0.06046771643161537, 0.06046771643161537, 0.06046771643161537, 0.06046771643161537, 0.06046771643161537, 0.06046771643161537, 0.06046771643161537, 0.06046771643161537, 0.06046771643161537, 0.06046771643161537, 0.06046771643161537, 0.06046771643161537, 0.06046771643161537, 0.06046771643161537, 0.06046771643161537, 0.06046771643161537, 0.06046771643161537, 0.06046771643161537, 0.06046771643161537, 0.06046771643161537, 0.06046771643161537, 0.06046771643161537, 0.06046771643161537, 0.06046771643161537, 0.06046771643161537, 0.06046771643161537, 0.06046771643161537, 0.06046771643161537, 0.06046771643161537, 0.06046771643161537, 0.06046771643161537, 0.06046771643161537, 0.06046771643161537, 0.06046771643161537, 0.06046771643161537, 0.06046771643161537, 0.06046771643161537, 0.06046771643161537, 0.06046771643161537, 0.06046771643161537, 0.06046771643161537, 0.06046771643161537, 441.15288291046465, 236.66001544332218, 158.6433111160757, 38.6789336351617, 0.10274374833491226, 0.10274374833491226, 0.10274374833491226, 0.10274374833491226, 0.10274374833491226, 0.10274374833491226, 0.10274374833491226, 0.10274374833491226, 0.10274374833491226, 0.10274374833491226, 0.10274374833491226, 0.10274374833491226, 0.10274374833491226, 0.10274374833491226, 0.10274374833491226, 0.10274374833491226, 0.10274374833491226, 0.10274374833491226, 0.10274374833491226, 0.10274374833491226, 0.10274374833491226, 0.10274374833491226, 0.10274374833491226, 0.10274374833491226, 0.10274374833491226, 0.10274374833491226, 0.10274374833491226, 0.10274374833491226, 0.10274374833491226, 0.10274374833491226, 0.10274374833491226, 0.10274374833491226, 0.10274374833491226, 0.10274374833491226, 0.10274374833491226, 0.10274374833491226, 0.10274374833491226, 0.10274374833491226, 0.10274374833491226, 0.10274374833491226, 0.10274374833491226, 0.10274374833491226, 0.10274374833491226, 0.10274374833491226, 0.10274374833491226, 0.10274374833491226, 0.10274374833491226, 0.10274374833491226, 0.10274374833491226, 430.84181954432665, 264.68279616108634, 176.91373490610678, 0.08248056942182659, 0.08248056942182659, 0.08248056942182659, 0.08248056942182659, 0.08248056942182659, 0.08248056942182659, 0.08248056942182659, 0.08248056942182659, 0.08248056942182659, 0.08248056942182659, 0.08248056942182659, 0.08248056942182659, 0.08248056942182659, 0.08248056942182659, 0.08248056942182659, 0.08248056942182659, 0.08248056942182659, 0.08248056942182659, 0.08248056942182659, 0.08248056942182659, 0.08248056942182659, 0.08248056942182659, 0.08248056942182659, 0.08248056942182659, 0.08248056942182659, 0.08248056942182659, 0.08248056942182659, 0.08248056942182659, 0.08248056942182659, 0.08248056942182659, 0.08248056942182659, 0.08248056942182659, 0.08248056942182659, 0.08248056942182659, 0.08248056942182659, 0.08248056942182659, 0.08248056942182659, 0.08248056942182659, 0.08248056942182659, 0.08248056942182659, 0.08248056942182659, 0.08248056942182659, 0.08248056942182659, 0.08248056942182659, 0.08248056942182659, 0.08248056942182659, 0.08248056942182659, 0.08248056942182659, 0.08248056942182659, 0.08248056942182659, 0.08248056942182659, 270.0303298797932, 227.09504228576273, 188.27059443260245, 186.54029824536642, 0.08012605253678247, 0.08012605253678247, 0.08012605253678247, 0.08012605253678247, 0.08012605253678247, 0.08012605253678247, 0.08012605253678247, 0.08012605253678247, 0.08012605253678247, 0.08012605253678247, 0.08012605253678247, 0.08012605253678247, 0.08012605253678247, 0.08012605253678247, 0.08012605253678247, 0.08012605253678247, 0.08012605253678247, 0.08012605253678247, 0.08012605253678247, 0.08012605253678247, 0.08012605253678247, 0.08012605253678247, 0.08012605253678247, 0.08012605253678247, 0.08012605253678247, 0.08012605253678247, 0.08012605253678247, 0.08012605253678247, 0.08012605253678247, 0.08012605253678247, 0.08012605253678247, 0.08012605253678247, 0.08012605253678247, 0.08012605253678247, 0.08012605253678247, 0.08012605253678247, 0.08012605253678247, 0.08012605253678247, 0.08012605253678247, 0.08012605253678247, 0.08012605253678247, 0.08012605253678247, 0.08012605253678247, 0.08012605253678247, 0.08012605253678247, 0.08012605253678247, 0.08012605253678247, 0.08012605253678247, 0.08012605253678247, 560.4680586938254, 195.83688696904238, 35.87092305654848, 0.12465409289542748, 0.12465409289542748, 0.12465409289542748, 0.12465409289542748, 0.12465409289542748, 0.12465409289542748, 0.12465409289542748, 0.12465409289542748, 0.12465409289542748, 0.12465409289542748, 0.12465409289542748, 0.12465409289542748, 0.12465409289542748, 0.12465409289542748, 0.12465409289542748, 0.12465409289542748, 0.12465409289542748, 0.12465409289542748, 0.12465409289542748, 0.12465409289542748, 0.12465409289542748, 0.12465409289542748, 0.12465409289542748, 0.12465409289542748, 0.12465409289542748, 0.12465409289542748, 0.12465409289542748, 0.12465409289542748, 0.12465409289542748, 0.12465409289542748, 0.12465409289542748, 0.12465409289542748, 0.12465409289542748, 0.12465409289542748, 0.12465409289542748, 0.12465409289542748, 0.12465409289542748, 0.12465409289542748, 0.12465409289542748, 0.12465409289542748, 0.12465409289542748, 0.12465409289542748, 0.12465409289542748, 0.12465409289542748, 0.12465409289542748, 0.12465409289542748, 0.12465409289542748, 0.12465409289542748, 0.12465409289542748, 0.12465409289542748, 0.12465409289542748, 0.6188771995649059, 0.6188771995649059, 0.6188771995649059, 0.6188771995649059, 0.6188771995649059, 0.6188771995649059, 0.6188771995649059, 0.6188771995649059, 0.6188771995649059, 0.6188771995649059, 0.6188771995649059, 0.6188771995649059, 0.6188771995649059, 0.6188771995649059, 0.6188771995649059, 0.6188771995649059, 0.6188771995649059, 0.6188771995649059, 0.6188771995649059, 0.6188771995649059, 0.6188771995649059, 0.6188771995649059, 0.6188771995649059, 0.6188771995649059, 0.6188771995649059, 0.6188771995649059, 0.6188771995649059, 0.6188771995649059, 0.6188771995649059, 0.6188771995649059, 0.6188771995649059, 0.6188771995649059, 0.6188771995649059, 0.6188771995649059, 0.6188771995649059, 0.6188771995649059, 0.6188771995649059, 0.6188771995649059, 0.6188771995649059, 0.6188771995649059, 0.6188771995649059, 0.6188771995649059, 0.6188771995649059, 0.6188771995649059, 0.6188771995649059, 0.6188771995649059, 0.6188771995649059, 0.6188771995649059, 0.6188771995649059, 0.6188771995649059, 0.6188771995649059, 0.6188771995649059, 0.6188771995649059, 0.6188771995649059, 0.6188771995649059, 0.6188771995649059, 0.6188771995649059, 0.6188771995649059, 0.6188771995649059, 0.6188771995649059, 0.6188771995649059, 0.6188771995649059, 0.6188771995649059, 0.6188771995649059, 0.6188771995649059, 0.6188771995649059, 0.6188771995649059, 0.6188771995649059, 0.6188771995649059, 0.6188771995649059, 0.6188771995649059, 0.6188771995649059, 0.6188771995649059, 0.6188771995649059, 0.6188771995649059, 0.6188771995649059, 0.6188771995649059, 0.6188771995649059, 0.6188771995649059, 0.6188771995649059, 0.6188771995649059, 0.6188771995649059, 0.6188771995649059, 0.6188771995649059, 0.6188771995649059, 0.6188771995649059, 0.6188771995649059, 0.6188771995649059, 0.6188771995649059, 0.6188771995649059, 0.6188771995649059, 0.6188771995649059, 0.6188771995649059, 0.6188771995649059, 0.6188771995649059, 0.6188771995649059, 0.6188771995649059, 0.6188771995649059, 0.6188771995649059, 0.6188771995649059, 0.6188771995649059, 0.6188771995649059, 0.6188771995649059, 0.6188771995649059, 0.6188771995649059, 0.6188771995649059, 0.6188771995649059, 0.6188771995649059, 0.6188771995649059, 0.6188771995649059, 0.6188771995649059, 0.6188771995649059, 0.6188771995649059, 0.6188771995649059, 0.6188771995649059, 0.6188771995649059, 0.6188771995649059, 0.6188771995649059, 0.6188771995649059, 0.6188771995649059, 0.6188771995649059, 0.6188771995649059, 0.6188771995649059, 0.6188771995649059, 0.6188771995649059, 0.6188771995649059, 0.6188771995649059, 0.6188771995649059, 0.6188771995649059, 0.6188771995649059, 0.6188771995649059, 0.6188771995649059, 0.6188771995649059, 0.6188771995649059, 0.6188771995649059, 0.6188771995649059, 0.6188771995649059, 0.6188771995649059, 0.6188771995649059, 0.6188771995649059, 0.6188771995649059, 0.6188771995649059, 0.6188771995649059, 0.6188771995649059, 0.6188771995649059, 0.6188771995649059, 0.6188771995649059, 0.6188771995649059, 0.6188771995649059, 0.6188771995649059, 0.6188771995649059, 0.6188771995649059, 0.6188771995649059, 0.6188771995649059, 0.6188771995649059, 0.6188771995649059, 0.6188771995649059, 0.6188771995649059, 0.6188771995649059, 0.6188771995649059, 0.6188771995649059, 0.6188771995649059, 0.6188771995649059, 0.6188771995649059, 0.6188771995649059, 0.6188771995649059, 0.6188771995649059, 0.6188771995649059, 0.6188771995649059, 0.6188771995649059, 0.6188771995649059, 0.6188771995649059, 0.6188771995649059, 0.6188771995649059, 0.6188771995649059, 0.6188771995649059, 0.6188771995649059, 0.6188771995649059, 0.6188771995649059, 0.6188771995649059, 0.6188771995649059, 0.6188771995649059, 0.6188771995649059, 0.6188771995649059, 0.6188771995649059, 0.6188771995649059, 0.6188771995649059, 0.6188771995649059, 0.6188771995649059, 0.6188771995649059, 0.6188771995649059, 0.6188771995649059, 0.6188771995649059, 0.6188771995649059, 0.6188771995649059, 0.6188771995649059, 0.6188771995649059, 0.6188771995649059, 0.6188771995649059, 0.6188771995649059, 0.6188771995649059, 0.6188771995649059, 0.6188771995649059, 0.6188771995649059, 0.6188771995649059, 0.6188771995649059, 0.6188771995649059, 0.6188771995649059, 0.6188771995649059, 0.6188771995649059, 0.6188771995649059, 0.6188771995649059, 0.6188771995649059, 0.6188771995649059, 0.6188771995649059, 0.6188771995649059, 0.6188771995649059, 0.6188771995649059, 0.6188771995649059, 0.6188771995649059, 0.6188771995649059, 0.6188771995649059, 0.6188771995649059, 0.6188771995649059, 0.6188771995649059, 0.6188771995649059, 0.6188771995649059, 0.6188771995649059], \"Total\": [7235.0, 3790.0, 1613.0, 1270.0, 1304.0, 1114.0, 1301.0, 1152.0, 1039.0, 1002.0, 815.0, 695.0, 813.0, 814.0, 747.0, 752.0, 780.0, 784.0, 731.0, 617.0, 607.0, 564.0, 662.0, 789.0, 741.0, 704.0, 740.0, 648.0, 631.0, 564.0, 161.23291474444645, 135.719094551181, 128.78791505899125, 124.96509139741066, 123.97293035038047, 94.1529761552555, 70.10239692404802, 7235.5588822195805, 4.460388803180905, 4.460388803180905, 4.460388803180905, 4.460388803180905, 4.460388803180905, 4.460388803180905, 4.460388803180905, 4.460388803180905, 4.460388803180905, 4.460388803180905, 4.460388803180905, 4.460388803180905, 4.460388803180905, 4.460388803180905, 4.460388803180905, 4.460388803180905, 4.460388803180905, 4.460388803180905, 4.460388803180905, 4.460388803180905, 4.460388803180905, 4.460388803180905, 399.7013557198396, 64.67417176515822, 333.5220239520462, 263.7685345096689, 544.0114360549906, 814.9268660129047, 610.1565238881825, 153.3021219278667, 314.2030904888996, 188.054082286714, 90.44747040350286, 348.3192127284823, 70.88366379755696, 24.90449681387169, 88.55316426252418, 278.3037632500524, 45.936831359849265, 789.8584003101232, 23.593833378925876, 31.201190313596786, 3790.0206526773736, 149.41446881206673, 49.36797860453917, 4.460388803180905, 4.460388803180905, 4.460388803180905, 4.460388803180905, 4.460388803180905, 4.460388803180905, 4.460388803180905, 4.460388803180905, 4.460388803180905, 4.460388803180905, 4.460388803180905, 4.460388803180905, 4.460388803180905, 4.460388803180905, 4.460388803180905, 4.460388803180905, 4.460388803180905, 4.460388803180905, 4.460388803180905, 4.460388803180905, 4.460388803180905, 4.460388803180905, 4.460388803180905, 4.460388803180905, 4.460388803180905, 4.460388803180905, 4.460388803180905, 399.7013557198396, 64.67417176515822, 333.5220239520462, 7235.5588822195805, 263.7685345096689, 544.0114360549906, 814.9268660129047, 610.1565238881825, 153.3021219278667, 314.2030904888996, 188.054082286714, 90.44747040350286, 348.3192127284823, 70.88366379755696, 24.90449681387169, 88.55316426252418, 278.3037632500524, 45.936831359849265, 789.8584003101232, 23.593833378925876, 31.201190313596786, 40.206657766833956, 564.8037934041106, 200.17262167932785, 1301.5051717944157, 789.8584003101232, 559.3907092368164, 287.7657397301783, 173.97867185242455, 137.35691067319397, 99.42465061074074, 4.460388803180905, 4.460388803180905, 4.460388803180905, 4.460388803180905, 4.460388803180905, 4.460388803180905, 4.460388803180905, 4.460388803180905, 4.460388803180905, 4.460388803180905, 4.460388803180905, 4.460388803180905, 4.460388803180905, 4.460388803180905, 4.460388803180905, 4.460388803180905, 4.460388803180905, 4.460388803180905, 4.460388803180905, 4.460388803180905, 4.460388803180905, 4.460388803180905, 4.460388803180905, 399.7013557198396, 64.67417176515822, 333.5220239520462, 7235.5588822195805, 263.7685345096689, 544.0114360549906, 814.9268660129047, 610.1565238881825, 153.3021219278667, 314.2030904888996, 188.054082286714, 90.44747040350286, 348.3192127284823, 70.88366379755696, 24.90449681387169, 88.55316426252418, 278.3037632500524, 45.936831359849265, 23.593833378925876, 31.201190313596786, 40.206657766833956, 740.8452693596931, 677.4963130933696, 294.8109330701033, 216.60558790769304, 149.17814993969614, 148.75141618188968, 98.11842008073668, 90.44747040350286, 62.644463178173396, 17.22122318906682, 7235.5588822195805, 4.460388803180905, 4.460388803180905, 4.460388803180905, 4.460388803180905, 4.460388803180905, 4.460388803180905, 4.460388803180905, 4.460388803180905, 4.460388803180905, 4.460388803180905, 4.460388803180905, 4.460388803180905, 4.460388803180905, 4.460388803180905, 4.460388803180905, 4.460388803180905, 4.460388803180905, 4.460388803180905, 4.460388803180905, 399.7013557198396, 64.67417176515822, 333.5220239520462, 263.7685345096689, 544.0114360549906, 814.9268660129047, 610.1565238881825, 153.3021219278667, 314.2030904888996, 188.054082286714, 348.3192127284823, 70.88366379755696, 24.90449681387169, 88.55316426252418, 278.3037632500524, 45.936831359849265, 789.8584003101232, 784.486158990464, 741.7344442247584, 378.20109297410806, 345.15186112695324, 7235.5588822195805, 4.460388803180905, 4.460388803180905, 4.460388803180905, 4.460388803180905, 4.460388803180905, 4.460388803180905, 4.460388803180905, 4.460388803180905, 4.460388803180905, 4.460388803180905, 4.460388803180905, 4.460388803180905, 4.460388803180905, 4.460388803180905, 4.460388803180905, 4.460388803180905, 4.460388803180905, 4.460388803180905, 4.460388803180905, 4.460388803180905, 4.460388803180905, 4.460388803180905, 4.460388803180905, 4.460388803180905, 4.460388803180905, 399.7013557198396, 64.67417176515822, 333.5220239520462, 263.7685345096689, 544.0114360549906, 814.9268660129047, 610.1565238881825, 153.3021219278667, 314.2030904888996, 188.054082286714, 90.44747040350286, 348.3192127284823, 70.88366379755696, 24.90449681387169, 88.55316426252418, 278.3037632500524, 45.936831359849265, 789.8584003101232, 23.593833378925876, 31.201190313596786, 40.206657766833956, 564.8037934041106, 605.3106336098267, 468.46188419664367, 314.71859730566007, 291.224967189219, 243.64690378601048, 231.1430491806192, 182.95267453508174, 167.7884540186606, 154.61766870872287, 83.64050560721057, 74.22221005196205, 38.97688415859208, 13.78173836376428, 4.460388803180905, 4.460388803180905, 4.460388803180905, 4.460388803180905, 4.460388803180905, 4.460388803180905, 4.460388803180905, 4.460388803180905, 4.460388803180905, 4.460388803180905, 4.460388803180905, 4.460388803180905, 4.460388803180905, 4.460388803180905, 4.460388803180905, 4.460388803180905, 4.460388803180905, 399.7013557198396, 64.67417176515822, 333.5220239520462, 7235.5588822195805, 263.7685345096689, 544.0114360549906, 814.9268660129047, 610.1565238881825, 153.3021219278667, 314.2030904888996, 188.054082286714, 90.44747040350286, 348.3192127284823, 70.88366379755696, 24.90449681387169, 814.9268660129047, 429.9337018299591, 314.2030904888996, 263.7685345096689, 216.8447309100537, 211.4092588907122, 153.3021219278667, 129.94199935935472, 96.52284039891866, 77.09781460271333, 64.57311191872039, 40.97034440820097, 4.460388803180905, 4.460388803180905, 4.460388803180905, 4.460388803180905, 4.460388803180905, 4.460388803180905, 4.460388803180905, 4.460388803180905, 4.460388803180905, 4.460388803180905, 4.460388803180905, 4.460388803180905, 4.460388803180905, 4.460388803180905, 4.460388803180905, 4.460388803180905, 4.460388803180905, 4.460388803180905, 399.7013557198396, 64.67417176515822, 333.5220239520462, 7235.5588822195805, 544.0114360549906, 610.1565238881825, 188.054082286714, 90.44747040350286, 348.3192127284823, 70.88366379755696, 24.90449681387169, 88.55316426252418, 278.3037632500524, 45.936831359849265, 789.8584003101232, 23.593833378925876, 632.2554206256865, 465.38916926523103, 420.90623796197633, 391.4672597657889, 265.9575538216085, 190.9261275490644, 103.52124752711472, 78.25241902595101, 76.99312958289713, 66.81198697432895, 51.83872886124768, 46.39549843885549, 34.26445433625685, 4.460388803180905, 4.460388803180905, 4.460388803180905, 4.460388803180905, 4.460388803180905, 4.460388803180905, 4.460388803180905, 4.460388803180905, 4.460388803180905, 4.460388803180905, 4.460388803180905, 4.460388803180905, 4.460388803180905, 4.460388803180905, 4.460388803180905, 4.460388803180905, 4.460388803180905, 399.7013557198396, 64.67417176515822, 333.5220239520462, 7235.5588822195805, 263.7685345096689, 544.0114360549906, 814.9268660129047, 610.1565238881825, 153.3021219278667, 314.2030904888996, 188.054082286714, 90.44747040350286, 348.3192127284823, 70.88366379755696, 24.90449681387169, 1152.8656680074346, 813.14913716374, 530.4975245308475, 155.34447187904357, 73.62319633234829, 22.215058750778073, 4.460388803180905, 4.460388803180905, 4.460388803180905, 4.460388803180905, 4.460388803180905, 4.460388803180905, 4.460388803180905, 4.460388803180905, 4.460388803180905, 4.460388803180905, 4.460388803180905, 4.460388803180905, 4.460388803180905, 4.460388803180905, 4.460388803180905, 4.460388803180905, 4.460388803180905, 4.460388803180905, 4.460388803180905, 4.460388803180905, 4.460388803180905, 4.460388803180905, 4.460388803180905, 4.460388803180905, 399.7013557198396, 64.67417176515822, 333.5220239520462, 7235.5588822195805, 263.7685345096689, 544.0114360549906, 814.9268660129047, 610.1565238881825, 153.3021219278667, 314.2030904888996, 188.054082286714, 90.44747040350286, 348.3192127284823, 70.88366379755696, 24.90449681387169, 88.55316426252418, 278.3037632500524, 45.936831359849265, 789.8584003101232, 23.593833378925876, 31.201190313596786, 40.206657766833956, 1002.2780080792921, 237.04396520770385, 195.0514202636591, 192.26432114568917, 170.61493935089257, 165.42480371852295, 142.40196293097435, 114.39728747383982, 109.35358827161099, 107.25647068598586, 65.62791674158726, 59.259728709227154, 4.460388803180905, 4.460388803180905, 4.460388803180905, 4.460388803180905, 4.460388803180905, 4.460388803180905, 4.460388803180905, 4.460388803180905, 4.460388803180905, 4.460388803180905, 4.460388803180905, 4.460388803180905, 4.460388803180905, 4.460388803180905, 4.460388803180905, 4.460388803180905, 4.460388803180905, 4.460388803180905, 399.7013557198396, 64.67417176515822, 333.5220239520462, 7235.5588822195805, 263.7685345096689, 544.0114360549906, 814.9268660129047, 610.1565238881825, 153.3021219278667, 314.2030904888996, 188.054082286714, 90.44747040350286, 348.3192127284823, 70.88366379755696, 24.90449681387169, 88.55316426252418, 780.9362860463527, 704.4947010032542, 609.4462535958447, 157.8846611186138, 125.13001254672061, 75.60017059152644, 56.63247613048371, 4.460388803180905, 4.460388803180905, 4.460388803180905, 4.460388803180905, 4.460388803180905, 4.460388803180905, 4.460388803180905, 4.460388803180905, 4.460388803180905, 4.460388803180905, 4.460388803180905, 4.460388803180905, 4.460388803180905, 4.460388803180905, 4.460388803180905, 4.460388803180905, 4.460388803180905, 4.460388803180905, 4.460388803180905, 4.460388803180905, 4.460388803180905, 4.460388803180905, 4.460388803180905, 399.7013557198396, 64.67417176515822, 333.5220239520462, 7235.5588822195805, 263.7685345096689, 544.0114360549906, 814.9268660129047, 610.1565238881825, 153.3021219278667, 314.2030904888996, 188.054082286714, 90.44747040350286, 348.3192127284823, 70.88366379755696, 24.90449681387169, 88.55316426252418, 278.3037632500524, 45.936831359849265, 789.8584003101232, 23.593833378925876, 31.201190313596786, 1613.0638792163463, 418.7840599367502, 396.74018932380307, 42.61198072846828, 37.190476652754654, 4.460388803180905, 4.460388803180905, 4.460388803180905, 4.460388803180905, 4.460388803180905, 4.460388803180905, 4.460388803180905, 4.460388803180905, 4.460388803180905, 4.460388803180905, 4.460388803180905, 4.460388803180905, 4.460388803180905, 4.460388803180905, 4.460388803180905, 4.460388803180905, 4.460388803180905, 4.460388803180905, 4.460388803180905, 4.460388803180905, 4.460388803180905, 4.460388803180905, 4.460388803180905, 4.460388803180905, 4.460388803180905, 399.7013557198396, 64.67417176515822, 333.5220239520462, 7235.5588822195805, 263.7685345096689, 544.0114360549906, 814.9268660129047, 610.1565238881825, 153.3021219278667, 314.2030904888996, 188.054082286714, 90.44747040350286, 348.3192127284823, 70.88366379755696, 24.90449681387169, 88.55316426252418, 278.3037632500524, 45.936831359849265, 789.8584003101232, 23.593833378925876, 31.201190313596786, 40.206657766833956, 564.8037934041106, 815.1873165481877, 546.3208903441206, 403.061226313227, 278.33070470765347, 150.77058970754155, 88.55316426252418, 61.63499742942706, 45.936831359849265, 31.201190313596786, 23.593833378925876, 23.526490471046664, 4.460388803180905, 4.460388803180905, 4.460388803180905, 4.460388803180905, 4.460388803180905, 4.460388803180905, 4.460388803180905, 4.460388803180905, 4.460388803180905, 4.460388803180905, 4.460388803180905, 4.460388803180905, 4.460388803180905, 4.460388803180905, 4.460388803180905, 4.460388803180905, 4.460388803180905, 4.460388803180905, 4.460388803180905, 399.7013557198396, 64.67417176515822, 333.5220239520462, 7235.5588822195805, 263.7685345096689, 544.0114360549906, 814.9268660129047, 610.1565238881825, 153.3021219278667, 314.2030904888996, 188.054082286714, 90.44747040350286, 348.3192127284823, 70.88366379755696, 24.90449681387169, 278.3037632500524, 789.8584003101232, 631.2287995948885, 333.5220239520462, 264.28419983636303, 226.85612132841266, 163.63703366961815, 159.5000911888333, 145.90508493010785, 138.9212809554788, 125.80367144308448, 109.57458229265316, 85.13567912670062, 4.460388803180905, 4.460388803180905, 4.460388803180905, 4.460388803180905, 4.460388803180905, 4.460388803180905, 4.460388803180905, 4.460388803180905, 4.460388803180905, 4.460388803180905, 4.460388803180905, 4.460388803180905, 4.460388803180905, 4.460388803180905, 4.460388803180905, 4.460388803180905, 4.460388803180905, 4.460388803180905, 4.460388803180905, 399.7013557198396, 64.67417176515822, 7235.5588822195805, 263.7685345096689, 544.0114360549906, 814.9268660129047, 610.1565238881825, 153.3021219278667, 314.2030904888996, 188.054082286714, 90.44747040350286, 348.3192127284823, 70.88366379755696, 24.90449681387169, 88.55316426252418, 278.3037632500524, 45.936831359849265, 1304.0821962710158, 346.55863274022676, 184.23031664472092, 136.9181267352136, 100.8907200431988, 65.79774132363438, 58.0719685498081, 52.311160320128565, 46.67256507355251, 44.976588607338805, 24.90449681387169, 17.489031609596324, 4.460388803180905, 4.460388803180905, 4.460388803180905, 4.460388803180905, 4.460388803180905, 4.460388803180905, 4.460388803180905, 4.460388803180905, 4.460388803180905, 4.460388803180905, 4.460388803180905, 4.460388803180905, 4.460388803180905, 4.460388803180905, 4.460388803180905, 4.460388803180905, 4.460388803180905, 4.460388803180905, 399.7013557198396, 64.67417176515822, 333.5220239520462, 7235.5588822195805, 263.7685345096689, 544.0114360549906, 814.9268660129047, 610.1565238881825, 153.3021219278667, 314.2030904888996, 188.054082286714, 90.44747040350286, 348.3192127284823, 70.88366379755696, 88.55316426252418, 278.3037632500524, 648.7172736694263, 306.8116793150883, 240.5089626475415, 225.074309342283, 193.58895434071002, 146.95024346591393, 143.3005320459798, 136.9858255906992, 134.87932170376905, 127.47393882123517, 38.85912503895158, 4.460388803180905, 4.460388803180905, 4.460388803180905, 4.460388803180905, 4.460388803180905, 4.460388803180905, 4.460388803180905, 4.460388803180905, 4.460388803180905, 4.460388803180905, 4.460388803180905, 4.460388803180905, 4.460388803180905, 4.460388803180905, 4.460388803180905, 4.460388803180905, 4.460388803180905, 4.460388803180905, 4.460388803180905, 399.7013557198396, 64.67417176515822, 333.5220239520462, 7235.5588822195805, 263.7685345096689, 544.0114360549906, 814.9268660129047, 610.1565238881825, 153.3021219278667, 314.2030904888996, 188.054082286714, 90.44747040350286, 348.3192127284823, 70.88366379755696, 24.90449681387169, 88.55316426252418, 278.3037632500524, 731.884470240336, 481.7263884009355, 305.97498932626297, 290.8247576290215, 210.28194018789324, 124.07346497792486, 80.37636719890484, 71.4054049813327, 17.752077201942335, 4.460388803180905, 4.460388803180905, 4.460388803180905, 4.460388803180905, 4.460388803180905, 4.460388803180905, 4.460388803180905, 4.460388803180905, 4.460388803180905, 4.460388803180905, 4.460388803180905, 4.460388803180905, 4.460388803180905, 4.460388803180905, 4.460388803180905, 4.460388803180905, 4.460388803180905, 4.460388803180905, 4.460388803180905, 4.460388803180905, 4.460388803180905, 399.7013557198396, 64.67417176515822, 333.5220239520462, 7235.5588822195805, 263.7685345096689, 544.0114360549906, 814.9268660129047, 610.1565238881825, 153.3021219278667, 314.2030904888996, 188.054082286714, 90.44747040350286, 348.3192127284823, 70.88366379755696, 24.90449681387169, 88.55316426252418, 278.3037632500524, 45.936831359849265, 789.8584003101232, 544.0114360549906, 325.196375276105, 195.50087994521962, 193.86763127879456, 173.70456162526105, 173.69832360467163, 166.8865568566857, 142.33480368529965, 140.48177437994653, 104.30276388804397, 64.15222907544722, 48.32908100719953, 4.460388803180905, 4.460388803180905, 4.460388803180905, 4.460388803180905, 4.460388803180905, 4.460388803180905, 4.460388803180905, 4.460388803180905, 4.460388803180905, 4.460388803180905, 4.460388803180905, 4.460388803180905, 4.460388803180905, 4.460388803180905, 4.460388803180905, 4.460388803180905, 4.460388803180905, 4.460388803180905, 399.7013557198396, 64.67417176515822, 333.5220239520462, 7235.5588822195805, 263.7685345096689, 814.9268660129047, 610.1565238881825, 153.3021219278667, 314.2030904888996, 188.054082286714, 90.44747040350286, 348.3192127284823, 70.88366379755696, 24.90449681387169, 88.55316426252418, 278.3037632500524, 752.3944821649872, 610.1565238881825, 580.4822531857927, 250.61676804450005, 4.460388803180905, 4.460388803180905, 4.460388803180905, 4.460388803180905, 4.460388803180905, 4.460388803180905, 4.460388803180905, 4.460388803180905, 4.460388803180905, 4.460388803180905, 4.460388803180905, 4.460388803180905, 4.460388803180905, 4.460388803180905, 4.460388803180905, 4.460388803180905, 4.460388803180905, 4.460388803180905, 4.460388803180905, 4.460388803180905, 4.460388803180905, 4.460388803180905, 4.460388803180905, 4.460388803180905, 4.460388803180905, 4.460388803180905, 399.7013557198396, 64.67417176515822, 333.5220239520462, 7235.5588822195805, 263.7685345096689, 544.0114360549906, 814.9268660129047, 153.3021219278667, 314.2030904888996, 188.054082286714, 90.44747040350286, 348.3192127284823, 70.88366379755696, 24.90449681387169, 88.55316426252418, 278.3037632500524, 45.936831359849265, 789.8584003101232, 23.593833378925876, 31.201190313596786, 40.206657766833956, 564.8037934041106, 200.17262167932785, 1039.8933346395418, 287.2073961928468, 276.1875336106681, 257.07372877645486, 231.10816179199117, 72.26725721762145, 4.460388803180905, 4.460388803180905, 4.460388803180905, 4.460388803180905, 4.460388803180905, 4.460388803180905, 4.460388803180905, 4.460388803180905, 4.460388803180905, 4.460388803180905, 4.460388803180905, 4.460388803180905, 4.460388803180905, 4.460388803180905, 4.460388803180905, 4.460388803180905, 4.460388803180905, 4.460388803180905, 4.460388803180905, 4.460388803180905, 4.460388803180905, 4.460388803180905, 4.460388803180905, 4.460388803180905, 399.7013557198396, 64.67417176515822, 333.5220239520462, 7235.5588822195805, 263.7685345096689, 544.0114360549906, 814.9268660129047, 610.1565238881825, 153.3021219278667, 314.2030904888996, 188.054082286714, 90.44747040350286, 348.3192127284823, 70.88366379755696, 24.90449681387169, 88.55316426252418, 278.3037632500524, 45.936831359849265, 789.8584003101232, 23.593833378925876, 31.201190313596786, 40.206657766833956, 1270.8457227407846, 747.5169043594481, 101.93646929363561, 4.460388803180905, 4.460388803180905, 4.460388803180905, 4.460388803180905, 4.460388803180905, 4.460388803180905, 4.460388803180905, 4.460388803180905, 4.460388803180905, 4.460388803180905, 4.460388803180905, 4.460388803180905, 4.460388803180905, 4.460388803180905, 4.460388803180905, 4.460388803180905, 4.460388803180905, 4.460388803180905, 4.460388803180905, 4.460388803180905, 4.460388803180905, 4.460388803180905, 4.460388803180905, 4.460388803180905, 4.460388803180905, 4.460388803180905, 4.460388803180905, 399.7013557198396, 64.67417176515822, 333.5220239520462, 7235.5588822195805, 263.7685345096689, 544.0114360549906, 814.9268660129047, 610.1565238881825, 153.3021219278667, 314.2030904888996, 188.054082286714, 90.44747040350286, 348.3192127284823, 70.88366379755696, 24.90449681387169, 88.55316426252418, 278.3037632500524, 45.936831359849265, 789.8584003101232, 23.593833378925876, 31.201190313596786, 40.206657766833956, 564.8037934041106, 200.17262167932785, 399.7013557198396, 343.2776764343139, 306.0607810698602, 212.0648906565899, 135.32053064421822, 120.01446685103609, 118.30164595615578, 99.75396928066245, 89.23376128638539, 86.20734926321276, 83.51135675037645, 64.67417176515822, 39.52185838629589, 35.85944004402568, 24.749934008669502, 4.460388803180905, 4.460388803180905, 4.460388803180905, 4.460388803180905, 4.460388803180905, 4.460388803180905, 4.460388803180905, 4.460388803180905, 4.460388803180905, 4.460388803180905, 4.460388803180905, 4.460388803180905, 4.460388803180905, 4.460388803180905, 4.460388803180905, 333.5220239520462, 7235.5588822195805, 263.7685345096689, 544.0114360549906, 814.9268660129047, 610.1565238881825, 153.3021219278667, 314.2030904888996, 188.054082286714, 90.44747040350286, 348.3192127284823, 70.88366379755696, 24.90449681387169, 606.4126403535739, 419.38566127451145, 326.2536328706116, 210.41518916598798, 199.0996198658059, 166.39680764995276, 155.90298952590857, 4.460388803180905, 4.460388803180905, 4.460388803180905, 4.460388803180905, 4.460388803180905, 4.460388803180905, 4.460388803180905, 4.460388803180905, 4.460388803180905, 4.460388803180905, 4.460388803180905, 4.460388803180905, 4.460388803180905, 4.460388803180905, 4.460388803180905, 4.460388803180905, 4.460388803180905, 4.460388803180905, 4.460388803180905, 4.460388803180905, 4.460388803180905, 4.460388803180905, 4.460388803180905, 399.7013557198396, 64.67417176515822, 333.5220239520462, 7235.5588822195805, 263.7685345096689, 544.0114360549906, 814.9268660129047, 610.1565238881825, 153.3021219278667, 314.2030904888996, 188.054082286714, 90.44747040350286, 348.3192127284823, 70.88366379755696, 24.90449681387169, 88.55316426252418, 278.3037632500524, 45.936831359849265, 789.8584003101232, 23.593833378925876, 31.201190313596786, 540.2548972436867, 363.20933750012205, 295.367746212035, 229.94379285371633, 188.7382608578549, 160.98405800689775, 81.31340041094242, 77.21623414922193, 54.26542034545953, 34.99841207810367, 12.12863951307529, 4.460388803180905, 4.460388803180905, 4.460388803180905, 4.460388803180905, 4.460388803180905, 4.460388803180905, 4.460388803180905, 4.460388803180905, 4.460388803180905, 4.460388803180905, 4.460388803180905, 4.460388803180905, 4.460388803180905, 4.460388803180905, 4.460388803180905, 4.460388803180905, 4.460388803180905, 4.460388803180905, 4.460388803180905, 399.7013557198396, 64.67417176515822, 333.5220239520462, 7235.5588822195805, 263.7685345096689, 544.0114360549906, 814.9268660129047, 610.1565238881825, 153.3021219278667, 314.2030904888996, 188.054082286714, 90.44747040350286, 348.3192127284823, 70.88366379755696, 24.90449681387169, 88.55316426252418, 278.3037632500524, 412.25404514274896, 340.69747534260244, 254.22754679216098, 241.01925504429542, 185.60325685024742, 184.68007739199567, 124.7418899736678, 113.74029044658741, 4.460388803180905, 4.460388803180905, 4.460388803180905, 4.460388803180905, 4.460388803180905, 4.460388803180905, 4.460388803180905, 4.460388803180905, 4.460388803180905, 4.460388803180905, 4.460388803180905, 4.460388803180905, 4.460388803180905, 4.460388803180905, 4.460388803180905, 4.460388803180905, 4.460388803180905, 4.460388803180905, 4.460388803180905, 4.460388803180905, 4.460388803180905, 4.460388803180905, 399.7013557198396, 64.67417176515822, 333.5220239520462, 7235.5588822195805, 263.7685345096689, 544.0114360549906, 814.9268660129047, 610.1565238881825, 153.3021219278667, 314.2030904888996, 188.054082286714, 90.44747040350286, 348.3192127284823, 70.88366379755696, 24.90449681387169, 88.55316426252418, 278.3037632500524, 45.936831359849265, 789.8584003101232, 23.593833378925876, 662.5320554059866, 313.3059272986935, 179.76745742505545, 163.65587352198654, 153.72794488580595, 91.04860460759464, 66.93891448398207, 58.3899371458877, 54.31883933078375, 17.97040047020631, 4.460388803180905, 4.460388803180905, 4.460388803180905, 4.460388803180905, 4.460388803180905, 4.460388803180905, 4.460388803180905, 4.460388803180905, 4.460388803180905, 4.460388803180905, 4.460388803180905, 4.460388803180905, 4.460388803180905, 4.460388803180905, 4.460388803180905, 4.460388803180905, 4.460388803180905, 4.460388803180905, 4.460388803180905, 4.460388803180905, 399.7013557198396, 64.67417176515822, 333.5220239520462, 7235.5588822195805, 263.7685345096689, 544.0114360549906, 814.9268660129047, 610.1565238881825, 153.3021219278667, 314.2030904888996, 188.054082286714, 90.44747040350286, 348.3192127284823, 70.88366379755696, 24.90449681387169, 88.55316426252418, 278.3037632500524, 45.936831359849265, 564.6078155133938, 331.3914767963958, 293.32267156181814, 218.83047506033205, 158.8814990378535, 27.087312676488455, 4.460388803180905, 4.460388803180905, 4.460388803180905, 4.460388803180905, 4.460388803180905, 4.460388803180905, 4.460388803180905, 4.460388803180905, 4.460388803180905, 4.460388803180905, 4.460388803180905, 4.460388803180905, 4.460388803180905, 4.460388803180905, 4.460388803180905, 4.460388803180905, 4.460388803180905, 4.460388803180905, 4.460388803180905, 4.460388803180905, 4.460388803180905, 4.460388803180905, 4.460388803180905, 4.460388803180905, 399.7013557198396, 64.67417176515822, 333.5220239520462, 7235.5588822195805, 263.7685345096689, 544.0114360549906, 814.9268660129047, 610.1565238881825, 153.3021219278667, 314.2030904888996, 188.054082286714, 90.44747040350286, 348.3192127284823, 70.88366379755696, 24.90449681387169, 88.55316426252418, 278.3037632500524, 45.936831359849265, 789.8584003101232, 23.593833378925876, 31.201190313596786, 40.206657766833956, 485.46559770850473, 420.31413209510663, 306.30322141963325, 151.01579489496626, 136.29508081452232, 4.460388803180905, 4.460388803180905, 4.460388803180905, 4.460388803180905, 4.460388803180905, 4.460388803180905, 4.460388803180905, 4.460388803180905, 4.460388803180905, 4.460388803180905, 4.460388803180905, 4.460388803180905, 4.460388803180905, 4.460388803180905, 4.460388803180905, 4.460388803180905, 4.460388803180905, 4.460388803180905, 4.460388803180905, 4.460388803180905, 4.460388803180905, 4.460388803180905, 4.460388803180905, 4.460388803180905, 4.460388803180905, 399.7013557198396, 64.67417176515822, 333.5220239520462, 7235.5588822195805, 263.7685345096689, 544.0114360549906, 814.9268660129047, 610.1565238881825, 153.3021219278667, 314.2030904888996, 188.054082286714, 90.44747040350286, 348.3192127284823, 70.88366379755696, 24.90449681387169, 88.55316426252418, 278.3037632500524, 45.936831359849265, 789.8584003101232, 23.593833378925876, 31.201190313596786, 40.206657766833956, 564.8037934041106, 465.4222550093212, 300.49552549555256, 260.63033428047186, 249.94106879985088, 222.483408221692, 4.460388803180905, 4.460388803180905, 4.460388803180905, 4.460388803180905, 4.460388803180905, 4.460388803180905, 4.460388803180905, 4.460388803180905, 4.460388803180905, 4.460388803180905, 4.460388803180905, 4.460388803180905, 4.460388803180905, 4.460388803180905, 4.460388803180905, 4.460388803180905, 4.460388803180905, 4.460388803180905, 4.460388803180905, 4.460388803180905, 4.460388803180905, 4.460388803180905, 4.460388803180905, 4.460388803180905, 4.460388803180905, 399.7013557198396, 64.67417176515822, 333.5220239520462, 7235.5588822195805, 263.7685345096689, 544.0114360549906, 814.9268660129047, 610.1565238881825, 153.3021219278667, 314.2030904888996, 188.054082286714, 90.44747040350286, 348.3192127284823, 70.88366379755696, 24.90449681387169, 88.55316426252418, 278.3037632500524, 45.936831359849265, 789.8584003101232, 23.593833378925876, 31.201190313596786, 40.206657766833956, 564.8037934041106, 369.3997334957092, 358.7371304234068, 219.8222327938553, 181.41347277153204, 109.82540530681626, 107.89233315017827, 82.68404932803195, 62.182087380628694, 27.242592059565812, 4.460388803180905, 4.460388803180905, 4.460388803180905, 4.460388803180905, 4.460388803180905, 4.460388803180905, 4.460388803180905, 4.460388803180905, 4.460388803180905, 4.460388803180905, 4.460388803180905, 4.460388803180905, 4.460388803180905, 4.460388803180905, 4.460388803180905, 4.460388803180905, 4.460388803180905, 4.460388803180905, 4.460388803180905, 4.460388803180905, 4.460388803180905, 399.7013557198396, 64.67417176515822, 333.5220239520462, 7235.5588822195805, 263.7685345096689, 544.0114360549906, 814.9268660129047, 610.1565238881825, 153.3021219278667, 314.2030904888996, 188.054082286714, 90.44747040350286, 348.3192127284823, 70.88366379755696, 24.90449681387169, 88.55316426252418, 278.3037632500524, 45.936831359849265, 789.8584003101232, 1114.6322417976296, 174.30211373065913, 170.53070649270344, 4.460388803180905, 4.460388803180905, 4.460388803180905, 4.460388803180905, 4.460388803180905, 4.460388803180905, 4.460388803180905, 4.460388803180905, 4.460388803180905, 4.460388803180905, 4.460388803180905, 4.460388803180905, 4.460388803180905, 4.460388803180905, 4.460388803180905, 4.460388803180905, 4.460388803180905, 4.460388803180905, 4.460388803180905, 4.460388803180905, 4.460388803180905, 4.460388803180905, 4.460388803180905, 4.460388803180905, 4.460388803180905, 4.460388803180905, 4.460388803180905, 399.7013557198396, 64.67417176515822, 333.5220239520462, 7235.5588822195805, 263.7685345096689, 544.0114360549906, 814.9268660129047, 610.1565238881825, 153.3021219278667, 314.2030904888996, 188.054082286714, 90.44747040350286, 348.3192127284823, 70.88366379755696, 24.90449681387169, 88.55316426252418, 278.3037632500524, 45.936831359849265, 789.8584003101232, 23.593833378925876, 31.201190313596786, 40.206657766833956, 564.8037934041106, 200.17262167932785, 695.2472501340026, 509.9681999213542, 195.31555993356918, 4.460388803180905, 4.460388803180905, 4.460388803180905, 4.460388803180905, 4.460388803180905, 4.460388803180905, 4.460388803180905, 4.460388803180905, 4.460388803180905, 4.460388803180905, 4.460388803180905, 4.460388803180905, 4.460388803180905, 4.460388803180905, 4.460388803180905, 4.460388803180905, 4.460388803180905, 4.460388803180905, 4.460388803180905, 4.460388803180905, 4.460388803180905, 4.460388803180905, 4.460388803180905, 4.460388803180905, 4.460388803180905, 4.460388803180905, 4.460388803180905, 399.7013557198396, 64.67417176515822, 333.5220239520462, 7235.5588822195805, 263.7685345096689, 544.0114360549906, 814.9268660129047, 610.1565238881825, 153.3021219278667, 314.2030904888996, 188.054082286714, 90.44747040350286, 348.3192127284823, 70.88366379755696, 24.90449681387169, 88.55316426252418, 278.3037632500524, 45.936831359849265, 789.8584003101232, 23.593833378925876, 31.201190313596786, 40.206657766833956, 564.8037934041106, 200.17262167932785, 348.3192127284823, 230.70145197157973, 188.054082286714, 182.87952217286482, 117.99564451079846, 91.01527446145364, 70.88366379755696, 4.460388803180905, 4.460388803180905, 4.460388803180905, 4.460388803180905, 4.460388803180905, 4.460388803180905, 4.460388803180905, 4.460388803180905, 4.460388803180905, 4.460388803180905, 4.460388803180905, 4.460388803180905, 4.460388803180905, 4.460388803180905, 4.460388803180905, 4.460388803180905, 4.460388803180905, 4.460388803180905, 4.460388803180905, 4.460388803180905, 4.460388803180905, 4.460388803180905, 4.460388803180905, 399.7013557198396, 64.67417176515822, 333.5220239520462, 7235.5588822195805, 263.7685345096689, 544.0114360549906, 814.9268660129047, 610.1565238881825, 153.3021219278667, 314.2030904888996, 90.44747040350286, 24.90449681387169, 88.55316426252418, 278.3037632500524, 45.936831359849265, 789.8584003101232, 23.593833378925876, 31.201190313596786, 40.206657766833956, 564.8037934041106, 441.13809391478645, 235.83784050165244, 171.92744168534207, 137.1753772018854, 131.14809296469826, 115.38537335255948, 4.460388803180905, 4.460388803180905, 4.460388803180905, 4.460388803180905, 4.460388803180905, 4.460388803180905, 4.460388803180905, 4.460388803180905, 4.460388803180905, 4.460388803180905, 4.460388803180905, 4.460388803180905, 4.460388803180905, 4.460388803180905, 4.460388803180905, 4.460388803180905, 4.460388803180905, 4.460388803180905, 4.460388803180905, 4.460388803180905, 4.460388803180905, 4.460388803180905, 4.460388803180905, 4.460388803180905, 399.7013557198396, 64.67417176515822, 333.5220239520462, 7235.5588822195805, 263.7685345096689, 544.0114360549906, 814.9268660129047, 610.1565238881825, 153.3021219278667, 314.2030904888996, 188.054082286714, 90.44747040350286, 348.3192127284823, 70.88366379755696, 24.90449681387169, 88.55316426252418, 278.3037632500524, 45.936831359849265, 789.8584003101232, 23.593833378925876, 31.201190313596786, 40.206657766833956, 617.5898784422451, 306.40560001564535, 234.6728662511159, 20.233043430875398, 4.460388803180905, 4.460388803180905, 4.460388803180905, 4.460388803180905, 4.460388803180905, 4.460388803180905, 4.460388803180905, 4.460388803180905, 4.460388803180905, 4.460388803180905, 4.460388803180905, 4.460388803180905, 4.460388803180905, 4.460388803180905, 4.460388803180905, 4.460388803180905, 4.460388803180905, 4.460388803180905, 4.460388803180905, 4.460388803180905, 4.460388803180905, 4.460388803180905, 4.460388803180905, 4.460388803180905, 4.460388803180905, 4.460388803180905, 399.7013557198396, 64.67417176515822, 333.5220239520462, 7235.5588822195805, 263.7685345096689, 544.0114360549906, 814.9268660129047, 610.1565238881825, 153.3021219278667, 314.2030904888996, 188.054082286714, 90.44747040350286, 348.3192127284823, 70.88366379755696, 24.90449681387169, 88.55316426252418, 278.3037632500524, 45.936831359849265, 789.8584003101232, 23.593833378925876, 31.201190313596786, 40.206657766833956, 564.8037934041106, 607.7518958253482, 208.26733141071588, 128.40575849669602, 116.73505882285724, 101.9289869541344, 34.47886837044858, 4.460388803180905, 4.460388803180905, 4.460388803180905, 4.460388803180905, 4.460388803180905, 4.460388803180905, 4.460388803180905, 4.460388803180905, 4.460388803180905, 4.460388803180905, 4.460388803180905, 4.460388803180905, 4.460388803180905, 4.460388803180905, 4.460388803180905, 4.460388803180905, 4.460388803180905, 4.460388803180905, 4.460388803180905, 4.460388803180905, 4.460388803180905, 4.460388803180905, 4.460388803180905, 4.460388803180905, 399.7013557198396, 64.67417176515822, 333.5220239520462, 7235.5588822195805, 263.7685345096689, 544.0114360549906, 814.9268660129047, 610.1565238881825, 153.3021219278667, 314.2030904888996, 188.054082286714, 90.44747040350286, 348.3192127284823, 70.88366379755696, 24.90449681387169, 88.55316426252418, 278.3037632500524, 45.936831359849265, 789.8584003101232, 23.593833378925876, 31.201190313596786, 40.206657766833956, 278.3037632500524, 216.39413271989878, 211.3755731043856, 134.86925776451213, 127.04195246517665, 118.62725098916815, 4.460388803180905, 4.460388803180905, 4.460388803180905, 4.460388803180905, 4.460388803180905, 4.460388803180905, 4.460388803180905, 4.460388803180905, 4.460388803180905, 4.460388803180905, 4.460388803180905, 4.460388803180905, 4.460388803180905, 4.460388803180905, 4.460388803180905, 4.460388803180905, 4.460388803180905, 4.460388803180905, 4.460388803180905, 4.460388803180905, 4.460388803180905, 4.460388803180905, 4.460388803180905, 4.460388803180905, 399.7013557198396, 64.67417176515822, 333.5220239520462, 7235.5588822195805, 263.7685345096689, 544.0114360549906, 814.9268660129047, 610.1565238881825, 153.3021219278667, 314.2030904888996, 188.054082286714, 90.44747040350286, 348.3192127284823, 70.88366379755696, 24.90449681387169, 88.55316426252418, 45.936831359849265, 789.8584003101232, 23.593833378925876, 31.201190313596786, 40.206657766833956, 564.8037934041106, 445.51052796531064, 241.01766049816817, 163.00095617092168, 43.036578690007694, 4.460388803180905, 4.460388803180905, 4.460388803180905, 4.460388803180905, 4.460388803180905, 4.460388803180905, 4.460388803180905, 4.460388803180905, 4.460388803180905, 4.460388803180905, 4.460388803180905, 4.460388803180905, 4.460388803180905, 4.460388803180905, 4.460388803180905, 4.460388803180905, 4.460388803180905, 4.460388803180905, 4.460388803180905, 4.460388803180905, 4.460388803180905, 4.460388803180905, 4.460388803180905, 4.460388803180905, 4.460388803180905, 4.460388803180905, 399.7013557198396, 64.67417176515822, 333.5220239520462, 7235.5588822195805, 263.7685345096689, 544.0114360549906, 814.9268660129047, 610.1565238881825, 153.3021219278667, 314.2030904888996, 188.054082286714, 90.44747040350286, 348.3192127284823, 70.88366379755696, 24.90449681387169, 88.55316426252418, 278.3037632500524, 45.936831359849265, 789.8584003101232, 23.593833378925876, 31.201190313596786, 40.206657766833956, 564.8037934041106, 435.2197277780857, 269.0607043948454, 181.29164313986587, 4.460388803180905, 4.460388803180905, 4.460388803180905, 4.460388803180905, 4.460388803180905, 4.460388803180905, 4.460388803180905, 4.460388803180905, 4.460388803180905, 4.460388803180905, 4.460388803180905, 4.460388803180905, 4.460388803180905, 4.460388803180905, 4.460388803180905, 4.460388803180905, 4.460388803180905, 4.460388803180905, 4.460388803180905, 4.460388803180905, 4.460388803180905, 4.460388803180905, 4.460388803180905, 4.460388803180905, 4.460388803180905, 4.460388803180905, 4.460388803180905, 399.7013557198396, 64.67417176515822, 333.5220239520462, 7235.5588822195805, 263.7685345096689, 544.0114360549906, 814.9268660129047, 610.1565238881825, 153.3021219278667, 314.2030904888996, 188.054082286714, 90.44747040350286, 348.3192127284823, 70.88366379755696, 24.90449681387169, 88.55316426252418, 278.3037632500524, 45.936831359849265, 789.8584003101232, 23.593833378925876, 31.201190313596786, 40.206657766833956, 564.8037934041106, 200.17262167932785, 274.41059263043735, 231.47530503640687, 192.6508571832466, 190.92056099601055, 4.460388803180905, 4.460388803180905, 4.460388803180905, 4.460388803180905, 4.460388803180905, 4.460388803180905, 4.460388803180905, 4.460388803180905, 4.460388803180905, 4.460388803180905, 4.460388803180905, 4.460388803180905, 4.460388803180905, 4.460388803180905, 4.460388803180905, 4.460388803180905, 4.460388803180905, 4.460388803180905, 4.460388803180905, 4.460388803180905, 4.460388803180905, 4.460388803180905, 4.460388803180905, 4.460388803180905, 4.460388803180905, 4.460388803180905, 399.7013557198396, 64.67417176515822, 333.5220239520462, 7235.5588822195805, 263.7685345096689, 544.0114360549906, 814.9268660129047, 610.1565238881825, 153.3021219278667, 314.2030904888996, 188.054082286714, 90.44747040350286, 348.3192127284823, 70.88366379755696, 24.90449681387169, 88.55316426252418, 278.3037632500524, 45.936831359849265, 789.8584003101232, 23.593833378925876, 31.201190313596786, 40.206657766833956, 564.8037934041106, 564.8037934041106, 200.17262167932785, 40.206657766833956, 4.460388803180905, 4.460388803180905, 4.460388803180905, 4.460388803180905, 4.460388803180905, 4.460388803180905, 4.460388803180905, 4.460388803180905, 4.460388803180905, 4.460388803180905, 4.460388803180905, 4.460388803180905, 4.460388803180905, 4.460388803180905, 4.460388803180905, 4.460388803180905, 4.460388803180905, 4.460388803180905, 4.460388803180905, 4.460388803180905, 4.460388803180905, 4.460388803180905, 4.460388803180905, 4.460388803180905, 4.460388803180905, 4.460388803180905, 4.460388803180905, 399.7013557198396, 64.67417176515822, 333.5220239520462, 7235.5588822195805, 263.7685345096689, 544.0114360549906, 814.9268660129047, 610.1565238881825, 153.3021219278667, 314.2030904888996, 188.054082286714, 90.44747040350286, 348.3192127284823, 70.88366379755696, 24.90449681387169, 88.55316426252418, 278.3037632500524, 45.936831359849265, 789.8584003101232, 23.593833378925876, 31.201190313596786, 445.51052796531064, 43.036578690007694, 241.01766049816817, 4.460388803180905, 4.460388803180905, 4.460388803180905, 4.460388803180905, 4.460388803180905, 4.460388803180905, 4.460388803180905, 4.460388803180905, 4.460388803180905, 4.460388803180905, 4.460388803180905, 4.460388803180905, 4.460388803180905, 4.460388803180905, 4.460388803180905, 4.460388803180905, 4.460388803180905, 4.460388803180905, 4.460388803180905, 4.460388803180905, 4.460388803180905, 4.460388803180905, 4.460388803180905, 4.460388803180905, 4.460388803180905, 4.460388803180905, 4.460388803180905, 4.460388803180905, 4.460388803180905, 4.460388803180905, 399.7013557198396, 64.67417176515822, 333.5220239520462, 7235.5588822195805, 263.7685345096689, 544.0114360549906, 814.9268660129047, 610.1565238881825, 153.3021219278667, 314.2030904888996, 188.054082286714, 90.44747040350286, 348.3192127284823, 70.88366379755696, 24.90449681387169, 88.55316426252418, 278.3037632500524, 45.936831359849265, 789.8584003101232, 23.593833378925876, 31.201190313596786, 40.206657766833956, 564.8037934041106, 200.17262167932785, 445.51052796531064, 43.036578690007694, 241.01766049816817, 4.460388803180905, 4.460388803180905, 4.460388803180905, 4.460388803180905, 4.460388803180905, 4.460388803180905, 4.460388803180905, 4.460388803180905, 4.460388803180905, 4.460388803180905, 4.460388803180905, 4.460388803180905, 4.460388803180905, 4.460388803180905, 4.460388803180905, 4.460388803180905, 4.460388803180905, 4.460388803180905, 4.460388803180905, 4.460388803180905, 4.460388803180905, 4.460388803180905, 4.460388803180905, 4.460388803180905, 4.460388803180905, 4.460388803180905, 4.460388803180905, 4.460388803180905, 4.460388803180905, 4.460388803180905, 399.7013557198396, 64.67417176515822, 333.5220239520462, 7235.5588822195805, 263.7685345096689, 544.0114360549906, 814.9268660129047, 610.1565238881825, 153.3021219278667, 314.2030904888996, 188.054082286714, 90.44747040350286, 348.3192127284823, 70.88366379755696, 24.90449681387169, 88.55316426252418, 278.3037632500524, 45.936831359849265, 789.8584003101232, 23.593833378925876, 31.201190313596786, 40.206657766833956, 564.8037934041106, 200.17262167932785, 445.51052796531064, 43.036578690007694, 241.01766049816817, 4.460388803180905, 4.460388803180905, 4.460388803180905, 4.460388803180905, 4.460388803180905, 4.460388803180905, 4.460388803180905, 4.460388803180905, 4.460388803180905, 4.460388803180905, 4.460388803180905, 4.460388803180905, 4.460388803180905, 4.460388803180905, 4.460388803180905, 4.460388803180905, 4.460388803180905, 4.460388803180905, 4.460388803180905, 4.460388803180905, 4.460388803180905, 4.460388803180905, 4.460388803180905, 4.460388803180905, 4.460388803180905, 4.460388803180905, 4.460388803180905, 4.460388803180905, 4.460388803180905, 4.460388803180905, 399.7013557198396, 64.67417176515822, 333.5220239520462, 7235.5588822195805, 263.7685345096689, 544.0114360549906, 814.9268660129047, 610.1565238881825, 153.3021219278667, 314.2030904888996, 188.054082286714, 90.44747040350286, 348.3192127284823, 70.88366379755696, 24.90449681387169, 88.55316426252418, 278.3037632500524, 45.936831359849265, 789.8584003101232, 23.593833378925876, 31.201190313596786, 40.206657766833956, 564.8037934041106, 200.17262167932785, 445.51052796531064, 43.036578690007694, 241.01766049816817, 4.460388803180905, 4.460388803180905, 4.460388803180905, 4.460388803180905, 4.460388803180905, 4.460388803180905, 4.460388803180905, 4.460388803180905, 4.460388803180905, 4.460388803180905, 4.460388803180905, 4.460388803180905, 4.460388803180905, 4.460388803180905, 4.460388803180905, 4.460388803180905, 4.460388803180905, 4.460388803180905, 4.460388803180905, 4.460388803180905, 4.460388803180905, 4.460388803180905, 4.460388803180905, 4.460388803180905, 4.460388803180905, 4.460388803180905, 4.460388803180905, 4.460388803180905, 4.460388803180905, 4.460388803180905, 399.7013557198396, 64.67417176515822, 333.5220239520462, 7235.5588822195805, 263.7685345096689, 544.0114360549906, 814.9268660129047, 610.1565238881825, 153.3021219278667, 314.2030904888996, 188.054082286714, 90.44747040350286, 348.3192127284823, 70.88366379755696, 24.90449681387169, 88.55316426252418, 278.3037632500524, 45.936831359849265, 789.8584003101232, 23.593833378925876, 31.201190313596786, 40.206657766833956, 564.8037934041106, 200.17262167932785, 445.51052796531064, 43.036578690007694, 241.01766049816817], \"Category\": [\"Default\", \"Default\", \"Default\", \"Default\", \"Default\", \"Default\", \"Default\", \"Default\", \"Default\", \"Default\", \"Default\", \"Default\", \"Default\", \"Default\", \"Default\", \"Default\", \"Default\", \"Default\", \"Default\", \"Default\", \"Default\", \"Default\", \"Default\", \"Default\", \"Default\", \"Default\", \"Default\", \"Default\", \"Default\", \"Default\", \"Topic1\", \"Topic1\", \"Topic1\", \"Topic1\", \"Topic1\", \"Topic1\", \"Topic1\", \"Topic1\", \"Topic1\", \"Topic1\", \"Topic1\", \"Topic1\", \"Topic1\", \"Topic1\", \"Topic1\", \"Topic1\", \"Topic1\", \"Topic1\", \"Topic1\", \"Topic1\", \"Topic1\", \"Topic1\", \"Topic1\", \"Topic1\", \"Topic1\", \"Topic1\", \"Topic1\", \"Topic1\", \"Topic1\", \"Topic1\", \"Topic1\", \"Topic1\", \"Topic1\", \"Topic1\", \"Topic1\", \"Topic1\", \"Topic1\", \"Topic1\", \"Topic1\", \"Topic1\", \"Topic1\", \"Topic1\", \"Topic1\", \"Topic1\", \"Topic1\", \"Topic1\", \"Topic1\", \"Topic1\", \"Topic1\", \"Topic1\", \"Topic2\", \"Topic2\", \"Topic2\", \"Topic2\", \"Topic2\", \"Topic2\", \"Topic2\", \"Topic2\", \"Topic2\", \"Topic2\", \"Topic2\", \"Topic2\", \"Topic2\", \"Topic2\", \"Topic2\", \"Topic2\", \"Topic2\", \"Topic2\", \"Topic2\", \"Topic2\", \"Topic2\", \"Topic2\", \"Topic2\", \"Topic2\", \"Topic2\", \"Topic2\", \"Topic2\", \"Topic2\", \"Topic2\", \"Topic2\", \"Topic2\", \"Topic2\", \"Topic2\", \"Topic2\", \"Topic2\", \"Topic2\", \"Topic2\", \"Topic2\", \"Topic2\", \"Topic2\", \"Topic2\", \"Topic2\", \"Topic2\", \"Topic2\", \"Topic2\", \"Topic2\", \"Topic2\", \"Topic2\", \"Topic2\", \"Topic2\", \"Topic2\", \"Topic2\", \"Topic2\", \"Topic2\", \"Topic3\", \"Topic3\", \"Topic3\", \"Topic3\", \"Topic3\", \"Topic3\", \"Topic3\", \"Topic3\", \"Topic3\", \"Topic3\", \"Topic3\", \"Topic3\", \"Topic3\", \"Topic3\", \"Topic3\", \"Topic3\", \"Topic3\", \"Topic3\", \"Topic3\", \"Topic3\", \"Topic3\", \"Topic3\", \"Topic3\", \"Topic3\", \"Topic3\", \"Topic3\", \"Topic3\", \"Topic3\", \"Topic3\", \"Topic3\", \"Topic3\", \"Topic3\", \"Topic3\", \"Topic3\", \"Topic3\", \"Topic3\", \"Topic3\", \"Topic3\", \"Topic3\", \"Topic3\", \"Topic3\", \"Topic3\", \"Topic3\", \"Topic3\", \"Topic3\", \"Topic3\", \"Topic3\", \"Topic3\", \"Topic3\", \"Topic3\", \"Topic3\", \"Topic4\", \"Topic4\", \"Topic4\", \"Topic4\", \"Topic4\", \"Topic4\", \"Topic4\", \"Topic4\", \"Topic4\", \"Topic4\", \"Topic4\", \"Topic4\", \"Topic4\", \"Topic4\", \"Topic4\", \"Topic4\", \"Topic4\", \"Topic4\", \"Topic4\", \"Topic4\", \"Topic4\", \"Topic4\", \"Topic4\", \"Topic4\", \"Topic4\", \"Topic4\", \"Topic4\", \"Topic4\", \"Topic4\", \"Topic4\", \"Topic4\", \"Topic4\", \"Topic4\", \"Topic4\", \"Topic4\", \"Topic4\", \"Topic4\", \"Topic4\", \"Topic4\", \"Topic4\", \"Topic4\", \"Topic4\", \"Topic4\", \"Topic4\", \"Topic4\", \"Topic4\", \"Topic4\", \"Topic5\", \"Topic5\", \"Topic5\", \"Topic5\", \"Topic5\", \"Topic5\", \"Topic5\", \"Topic5\", \"Topic5\", \"Topic5\", \"Topic5\", \"Topic5\", \"Topic5\", \"Topic5\", \"Topic5\", \"Topic5\", \"Topic5\", \"Topic5\", \"Topic5\", \"Topic5\", \"Topic5\", \"Topic5\", \"Topic5\", \"Topic5\", \"Topic5\", \"Topic5\", \"Topic5\", \"Topic5\", \"Topic5\", \"Topic5\", \"Topic5\", \"Topic5\", \"Topic5\", \"Topic5\", \"Topic5\", \"Topic5\", \"Topic5\", \"Topic5\", \"Topic5\", \"Topic5\", \"Topic5\", \"Topic5\", \"Topic5\", \"Topic5\", \"Topic5\", \"Topic5\", \"Topic5\", \"Topic5\", \"Topic5\", \"Topic5\", \"Topic5\", \"Topic5\", \"Topic6\", \"Topic6\", \"Topic6\", \"Topic6\", \"Topic6\", \"Topic6\", \"Topic6\", \"Topic6\", \"Topic6\", \"Topic6\", \"Topic6\", \"Topic6\", \"Topic6\", \"Topic6\", \"Topic6\", \"Topic6\", \"Topic6\", \"Topic6\", \"Topic6\", \"Topic6\", \"Topic6\", \"Topic6\", \"Topic6\", \"Topic6\", \"Topic6\", \"Topic6\", \"Topic6\", \"Topic6\", \"Topic6\", \"Topic6\", \"Topic6\", \"Topic6\", \"Topic6\", \"Topic6\", \"Topic6\", \"Topic6\", \"Topic6\", \"Topic6\", \"Topic6\", \"Topic6\", \"Topic6\", \"Topic6\", \"Topic6\", \"Topic6\", \"Topic6\", \"Topic7\", \"Topic7\", \"Topic7\", \"Topic7\", \"Topic7\", \"Topic7\", \"Topic7\", \"Topic7\", \"Topic7\", \"Topic7\", \"Topic7\", \"Topic7\", \"Topic7\", \"Topic7\", \"Topic7\", \"Topic7\", \"Topic7\", \"Topic7\", \"Topic7\", \"Topic7\", \"Topic7\", \"Topic7\", \"Topic7\", \"Topic7\", \"Topic7\", \"Topic7\", \"Topic7\", \"Topic7\", \"Topic7\", \"Topic7\", \"Topic7\", \"Topic7\", \"Topic7\", \"Topic7\", \"Topic7\", \"Topic7\", \"Topic7\", \"Topic7\", \"Topic7\", \"Topic7\", \"Topic7\", \"Topic7\", \"Topic7\", \"Topic7\", \"Topic7\", \"Topic7\", \"Topic8\", \"Topic8\", \"Topic8\", \"Topic8\", \"Topic8\", \"Topic8\", \"Topic8\", \"Topic8\", \"Topic8\", \"Topic8\", \"Topic8\", \"Topic8\", \"Topic8\", \"Topic8\", \"Topic8\", \"Topic8\", \"Topic8\", \"Topic8\", \"Topic8\", \"Topic8\", \"Topic8\", \"Topic8\", \"Topic8\", \"Topic8\", \"Topic8\", \"Topic8\", \"Topic8\", \"Topic8\", \"Topic8\", \"Topic8\", \"Topic8\", \"Topic8\", \"Topic8\", \"Topic8\", \"Topic8\", \"Topic8\", \"Topic8\", \"Topic8\", \"Topic8\", \"Topic8\", \"Topic8\", \"Topic8\", \"Topic8\", \"Topic8\", \"Topic8\", \"Topic9\", \"Topic9\", \"Topic9\", \"Topic9\", \"Topic9\", \"Topic9\", \"Topic9\", \"Topic9\", \"Topic9\", \"Topic9\", \"Topic9\", \"Topic9\", \"Topic9\", \"Topic9\", \"Topic9\", \"Topic9\", \"Topic9\", \"Topic9\", \"Topic9\", \"Topic9\", \"Topic9\", \"Topic9\", \"Topic9\", \"Topic9\", \"Topic9\", \"Topic9\", \"Topic9\", \"Topic9\", \"Topic9\", \"Topic9\", \"Topic9\", \"Topic9\", \"Topic9\", \"Topic9\", \"Topic9\", \"Topic9\", \"Topic9\", \"Topic9\", \"Topic9\", \"Topic9\", \"Topic9\", \"Topic9\", \"Topic9\", \"Topic9\", \"Topic9\", \"Topic9\", \"Topic9\", \"Topic9\", \"Topic9\", \"Topic9\", \"Topic9\", \"Topic9\", \"Topic10\", \"Topic10\", \"Topic10\", \"Topic10\", \"Topic10\", \"Topic10\", \"Topic10\", \"Topic10\", \"Topic10\", \"Topic10\", \"Topic10\", \"Topic10\", \"Topic10\", \"Topic10\", \"Topic10\", \"Topic10\", \"Topic10\", \"Topic10\", \"Topic10\", \"Topic10\", \"Topic10\", \"Topic10\", \"Topic10\", \"Topic10\", \"Topic10\", \"Topic10\", \"Topic10\", \"Topic10\", \"Topic10\", \"Topic10\", \"Topic10\", \"Topic10\", \"Topic10\", \"Topic10\", \"Topic10\", \"Topic10\", \"Topic10\", \"Topic10\", \"Topic10\", \"Topic10\", \"Topic10\", \"Topic10\", \"Topic10\", \"Topic10\", \"Topic10\", \"Topic10\", \"Topic11\", \"Topic11\", \"Topic11\", \"Topic11\", \"Topic11\", \"Topic11\", \"Topic11\", \"Topic11\", \"Topic11\", \"Topic11\", \"Topic11\", \"Topic11\", \"Topic11\", \"Topic11\", \"Topic11\", \"Topic11\", \"Topic11\", \"Topic11\", \"Topic11\", \"Topic11\", \"Topic11\", \"Topic11\", \"Topic11\", \"Topic11\", \"Topic11\", \"Topic11\", \"Topic11\", \"Topic11\", \"Topic11\", \"Topic11\", \"Topic11\", \"Topic11\", \"Topic11\", \"Topic11\", \"Topic11\", \"Topic11\", \"Topic11\", \"Topic11\", \"Topic11\", \"Topic11\", \"Topic11\", \"Topic11\", \"Topic11\", \"Topic11\", \"Topic11\", \"Topic11\", \"Topic11\", \"Topic11\", \"Topic11\", \"Topic11\", \"Topic11\", \"Topic12\", \"Topic12\", \"Topic12\", \"Topic12\", \"Topic12\", \"Topic12\", \"Topic12\", \"Topic12\", \"Topic12\", \"Topic12\", \"Topic12\", \"Topic12\", \"Topic12\", \"Topic12\", \"Topic12\", \"Topic12\", \"Topic12\", \"Topic12\", \"Topic12\", \"Topic12\", \"Topic12\", \"Topic12\", \"Topic12\", \"Topic12\", \"Topic12\", \"Topic12\", \"Topic12\", \"Topic12\", \"Topic12\", \"Topic12\", \"Topic12\", \"Topic12\", \"Topic12\", \"Topic12\", \"Topic12\", \"Topic12\", \"Topic12\", \"Topic12\", \"Topic12\", \"Topic12\", \"Topic12\", \"Topic12\", \"Topic12\", \"Topic12\", \"Topic12\", \"Topic12\", \"Topic12\", \"Topic12\", \"Topic12\", \"Topic12\", \"Topic12\", \"Topic12\", \"Topic12\", \"Topic13\", \"Topic13\", \"Topic13\", \"Topic13\", \"Topic13\", \"Topic13\", \"Topic13\", \"Topic13\", \"Topic13\", \"Topic13\", \"Topic13\", \"Topic13\", \"Topic13\", \"Topic13\", \"Topic13\", \"Topic13\", \"Topic13\", \"Topic13\", \"Topic13\", \"Topic13\", \"Topic13\", \"Topic13\", \"Topic13\", \"Topic13\", \"Topic13\", \"Topic13\", \"Topic13\", \"Topic13\", \"Topic13\", \"Topic13\", \"Topic13\", \"Topic13\", \"Topic13\", \"Topic13\", \"Topic13\", \"Topic13\", \"Topic13\", \"Topic13\", \"Topic13\", \"Topic13\", \"Topic13\", \"Topic13\", \"Topic13\", \"Topic13\", \"Topic13\", \"Topic13\", \"Topic13\", \"Topic14\", \"Topic14\", \"Topic14\", \"Topic14\", \"Topic14\", \"Topic14\", \"Topic14\", \"Topic14\", \"Topic14\", \"Topic14\", \"Topic14\", \"Topic14\", \"Topic14\", \"Topic14\", \"Topic14\", \"Topic14\", \"Topic14\", \"Topic14\", \"Topic14\", \"Topic14\", \"Topic14\", \"Topic14\", \"Topic14\", \"Topic14\", \"Topic14\", \"Topic14\", \"Topic14\", \"Topic14\", \"Topic14\", \"Topic14\", \"Topic14\", \"Topic14\", \"Topic14\", \"Topic14\", \"Topic14\", \"Topic14\", \"Topic14\", \"Topic14\", \"Topic14\", \"Topic14\", \"Topic14\", \"Topic14\", \"Topic14\", \"Topic14\", \"Topic14\", \"Topic14\", \"Topic14\", \"Topic15\", \"Topic15\", \"Topic15\", \"Topic15\", \"Topic15\", \"Topic15\", \"Topic15\", \"Topic15\", \"Topic15\", \"Topic15\", \"Topic15\", \"Topic15\", \"Topic15\", \"Topic15\", \"Topic15\", \"Topic15\", \"Topic15\", \"Topic15\", \"Topic15\", \"Topic15\", \"Topic15\", \"Topic15\", \"Topic15\", \"Topic15\", \"Topic15\", \"Topic15\", \"Topic15\", \"Topic15\", \"Topic15\", \"Topic15\", \"Topic15\", \"Topic15\", \"Topic15\", \"Topic15\", \"Topic15\", \"Topic15\", \"Topic15\", \"Topic15\", \"Topic15\", \"Topic15\", \"Topic15\", \"Topic15\", \"Topic15\", \"Topic15\", \"Topic15\", \"Topic15\", \"Topic16\", \"Topic16\", \"Topic16\", \"Topic16\", \"Topic16\", \"Topic16\", \"Topic16\", \"Topic16\", \"Topic16\", \"Topic16\", \"Topic16\", \"Topic16\", \"Topic16\", \"Topic16\", \"Topic16\", \"Topic16\", \"Topic16\", \"Topic16\", \"Topic16\", \"Topic16\", \"Topic16\", \"Topic16\", \"Topic16\", \"Topic16\", \"Topic16\", \"Topic16\", \"Topic16\", \"Topic16\", \"Topic16\", \"Topic16\", \"Topic16\", \"Topic16\", \"Topic16\", \"Topic16\", \"Topic16\", \"Topic16\", \"Topic16\", \"Topic16\", \"Topic16\", \"Topic16\", \"Topic16\", \"Topic16\", \"Topic16\", \"Topic16\", \"Topic16\", \"Topic16\", \"Topic16\", \"Topic17\", \"Topic17\", \"Topic17\", \"Topic17\", \"Topic17\", \"Topic17\", \"Topic17\", \"Topic17\", \"Topic17\", \"Topic17\", \"Topic17\", \"Topic17\", \"Topic17\", \"Topic17\", \"Topic17\", \"Topic17\", \"Topic17\", \"Topic17\", \"Topic17\", \"Topic17\", \"Topic17\", \"Topic17\", \"Topic17\", \"Topic17\", \"Topic17\", \"Topic17\", \"Topic17\", \"Topic17\", \"Topic17\", \"Topic17\", \"Topic17\", \"Topic17\", \"Topic17\", \"Topic17\", \"Topic17\", \"Topic17\", \"Topic17\", \"Topic17\", \"Topic17\", \"Topic17\", \"Topic17\", \"Topic17\", \"Topic17\", \"Topic17\", \"Topic17\", \"Topic17\", \"Topic17\", \"Topic17\", \"Topic17\", \"Topic18\", \"Topic18\", \"Topic18\", \"Topic18\", \"Topic18\", \"Topic18\", \"Topic18\", \"Topic18\", \"Topic18\", \"Topic18\", \"Topic18\", \"Topic18\", \"Topic18\", \"Topic18\", \"Topic18\", \"Topic18\", \"Topic18\", \"Topic18\", \"Topic18\", \"Topic18\", \"Topic18\", \"Topic18\", \"Topic18\", \"Topic18\", \"Topic18\", \"Topic18\", \"Topic18\", \"Topic18\", \"Topic18\", \"Topic18\", \"Topic18\", \"Topic18\", \"Topic18\", \"Topic18\", \"Topic18\", \"Topic18\", \"Topic18\", \"Topic18\", \"Topic18\", \"Topic18\", \"Topic18\", \"Topic18\", \"Topic18\", \"Topic18\", \"Topic18\", \"Topic18\", \"Topic19\", \"Topic19\", \"Topic19\", \"Topic19\", \"Topic19\", \"Topic19\", \"Topic19\", \"Topic19\", \"Topic19\", \"Topic19\", \"Topic19\", \"Topic19\", \"Topic19\", \"Topic19\", \"Topic19\", \"Topic19\", \"Topic19\", \"Topic19\", \"Topic19\", \"Topic19\", \"Topic19\", \"Topic19\", \"Topic19\", \"Topic19\", \"Topic19\", \"Topic19\", \"Topic19\", \"Topic19\", \"Topic19\", \"Topic19\", \"Topic19\", \"Topic19\", \"Topic19\", \"Topic19\", \"Topic19\", \"Topic19\", \"Topic19\", \"Topic19\", \"Topic19\", \"Topic19\", \"Topic19\", \"Topic19\", \"Topic19\", \"Topic19\", \"Topic19\", \"Topic19\", \"Topic19\", \"Topic19\", \"Topic19\", \"Topic19\", \"Topic19\", \"Topic19\", \"Topic19\", \"Topic20\", \"Topic20\", \"Topic20\", \"Topic20\", \"Topic20\", \"Topic20\", \"Topic20\", \"Topic20\", \"Topic20\", \"Topic20\", \"Topic20\", \"Topic20\", \"Topic20\", \"Topic20\", \"Topic20\", \"Topic20\", \"Topic20\", \"Topic20\", \"Topic20\", \"Topic20\", \"Topic20\", \"Topic20\", \"Topic20\", \"Topic20\", \"Topic20\", \"Topic20\", \"Topic20\", \"Topic20\", \"Topic20\", \"Topic20\", \"Topic20\", \"Topic20\", \"Topic20\", \"Topic20\", \"Topic20\", \"Topic20\", \"Topic20\", \"Topic20\", \"Topic20\", \"Topic20\", \"Topic20\", \"Topic20\", \"Topic20\", \"Topic20\", \"Topic20\", \"Topic20\", \"Topic20\", \"Topic20\", \"Topic20\", \"Topic20\", \"Topic20\", \"Topic20\", \"Topic21\", \"Topic21\", \"Topic21\", \"Topic21\", \"Topic21\", \"Topic21\", \"Topic21\", \"Topic21\", \"Topic21\", \"Topic21\", \"Topic21\", \"Topic21\", \"Topic21\", \"Topic21\", \"Topic21\", \"Topic21\", \"Topic21\", \"Topic21\", \"Topic21\", \"Topic21\", \"Topic21\", \"Topic21\", \"Topic21\", \"Topic21\", \"Topic21\", \"Topic21\", \"Topic21\", \"Topic21\", \"Topic21\", \"Topic21\", \"Topic21\", \"Topic21\", \"Topic21\", \"Topic21\", \"Topic21\", \"Topic21\", \"Topic21\", \"Topic21\", \"Topic21\", \"Topic21\", \"Topic21\", \"Topic21\", \"Topic21\", \"Topic21\", \"Topic21\", \"Topic21\", \"Topic21\", \"Topic21\", \"Topic21\", \"Topic21\", \"Topic21\", \"Topic21\", \"Topic21\", \"Topic21\", \"Topic22\", \"Topic22\", \"Topic22\", \"Topic22\", \"Topic22\", \"Topic22\", \"Topic22\", \"Topic22\", \"Topic22\", \"Topic22\", \"Topic22\", \"Topic22\", \"Topic22\", \"Topic22\", \"Topic22\", \"Topic22\", \"Topic22\", \"Topic22\", \"Topic22\", \"Topic22\", \"Topic22\", \"Topic22\", \"Topic22\", \"Topic22\", \"Topic22\", \"Topic22\", \"Topic22\", \"Topic22\", \"Topic22\", \"Topic22\", \"Topic22\", \"Topic22\", \"Topic22\", \"Topic22\", \"Topic22\", \"Topic22\", \"Topic22\", \"Topic22\", \"Topic22\", \"Topic22\", \"Topic22\", \"Topic22\", \"Topic22\", \"Topic23\", \"Topic23\", \"Topic23\", \"Topic23\", \"Topic23\", \"Topic23\", \"Topic23\", \"Topic23\", \"Topic23\", \"Topic23\", \"Topic23\", \"Topic23\", \"Topic23\", \"Topic23\", \"Topic23\", \"Topic23\", \"Topic23\", \"Topic23\", \"Topic23\", \"Topic23\", \"Topic23\", \"Topic23\", \"Topic23\", \"Topic23\", \"Topic23\", \"Topic23\", \"Topic23\", \"Topic23\", \"Topic23\", \"Topic23\", \"Topic23\", \"Topic23\", \"Topic23\", \"Topic23\", \"Topic23\", \"Topic23\", \"Topic23\", \"Topic23\", \"Topic23\", \"Topic23\", \"Topic23\", \"Topic23\", \"Topic23\", \"Topic23\", \"Topic23\", \"Topic23\", \"Topic23\", \"Topic23\", \"Topic23\", \"Topic23\", \"Topic23\", \"Topic24\", \"Topic24\", \"Topic24\", \"Topic24\", \"Topic24\", \"Topic24\", \"Topic24\", \"Topic24\", \"Topic24\", \"Topic24\", \"Topic24\", \"Topic24\", \"Topic24\", \"Topic24\", \"Topic24\", \"Topic24\", \"Topic24\", \"Topic24\", \"Topic24\", \"Topic24\", \"Topic24\", \"Topic24\", \"Topic24\", \"Topic24\", \"Topic24\", \"Topic24\", \"Topic24\", \"Topic24\", \"Topic24\", \"Topic24\", \"Topic24\", \"Topic24\", \"Topic24\", \"Topic24\", \"Topic24\", \"Topic24\", \"Topic24\", \"Topic24\", \"Topic24\", \"Topic24\", \"Topic24\", \"Topic24\", \"Topic24\", \"Topic24\", \"Topic24\", \"Topic24\", \"Topic24\", \"Topic25\", \"Topic25\", \"Topic25\", \"Topic25\", \"Topic25\", \"Topic25\", \"Topic25\", \"Topic25\", \"Topic25\", \"Topic25\", \"Topic25\", \"Topic25\", \"Topic25\", \"Topic25\", \"Topic25\", \"Topic25\", \"Topic25\", \"Topic25\", \"Topic25\", \"Topic25\", \"Topic25\", \"Topic25\", \"Topic25\", \"Topic25\", \"Topic25\", \"Topic25\", \"Topic25\", \"Topic25\", \"Topic25\", \"Topic25\", \"Topic25\", \"Topic25\", \"Topic25\", \"Topic25\", \"Topic25\", \"Topic25\", \"Topic25\", \"Topic25\", \"Topic25\", \"Topic25\", \"Topic25\", \"Topic25\", \"Topic25\", \"Topic25\", \"Topic25\", \"Topic25\", \"Topic25\", \"Topic25\", \"Topic25\", \"Topic25\", \"Topic26\", \"Topic26\", \"Topic26\", \"Topic26\", \"Topic26\", \"Topic26\", \"Topic26\", \"Topic26\", \"Topic26\", \"Topic26\", \"Topic26\", \"Topic26\", \"Topic26\", \"Topic26\", \"Topic26\", \"Topic26\", \"Topic26\", \"Topic26\", \"Topic26\", \"Topic26\", \"Topic26\", \"Topic26\", \"Topic26\", \"Topic26\", \"Topic26\", \"Topic26\", \"Topic26\", \"Topic26\", \"Topic26\", \"Topic26\", \"Topic26\", \"Topic26\", \"Topic26\", \"Topic26\", \"Topic26\", \"Topic26\", \"Topic26\", \"Topic26\", \"Topic26\", \"Topic26\", \"Topic26\", \"Topic26\", \"Topic26\", \"Topic26\", \"Topic26\", \"Topic26\", \"Topic26\", \"Topic26\", \"Topic27\", \"Topic27\", \"Topic27\", \"Topic27\", \"Topic27\", \"Topic27\", \"Topic27\", \"Topic27\", \"Topic27\", \"Topic27\", \"Topic27\", \"Topic27\", \"Topic27\", \"Topic27\", \"Topic27\", \"Topic27\", \"Topic27\", \"Topic27\", \"Topic27\", \"Topic27\", \"Topic27\", \"Topic27\", \"Topic27\", \"Topic27\", \"Topic27\", \"Topic27\", \"Topic27\", \"Topic27\", \"Topic27\", \"Topic27\", \"Topic27\", \"Topic27\", \"Topic27\", \"Topic27\", \"Topic27\", \"Topic27\", \"Topic27\", \"Topic27\", \"Topic27\", \"Topic27\", \"Topic27\", \"Topic27\", \"Topic27\", \"Topic27\", \"Topic27\", \"Topic27\", \"Topic27\", \"Topic27\", \"Topic27\", \"Topic27\", \"Topic27\", \"Topic27\", \"Topic28\", \"Topic28\", \"Topic28\", \"Topic28\", \"Topic28\", \"Topic28\", \"Topic28\", \"Topic28\", \"Topic28\", \"Topic28\", \"Topic28\", \"Topic28\", \"Topic28\", \"Topic28\", \"Topic28\", \"Topic28\", \"Topic28\", \"Topic28\", \"Topic28\", \"Topic28\", \"Topic28\", \"Topic28\", \"Topic28\", \"Topic28\", \"Topic28\", \"Topic28\", \"Topic28\", \"Topic28\", \"Topic28\", \"Topic28\", \"Topic28\", \"Topic28\", \"Topic28\", \"Topic28\", \"Topic28\", \"Topic28\", \"Topic28\", \"Topic28\", \"Topic28\", \"Topic28\", \"Topic28\", \"Topic28\", \"Topic28\", \"Topic28\", \"Topic28\", \"Topic28\", \"Topic28\", \"Topic28\", \"Topic28\", \"Topic28\", \"Topic28\", \"Topic28\", \"Topic28\", \"Topic29\", \"Topic29\", \"Topic29\", \"Topic29\", \"Topic29\", \"Topic29\", \"Topic29\", \"Topic29\", \"Topic29\", \"Topic29\", \"Topic29\", \"Topic29\", \"Topic29\", \"Topic29\", \"Topic29\", \"Topic29\", \"Topic29\", \"Topic29\", \"Topic29\", \"Topic29\", \"Topic29\", \"Topic29\", \"Topic29\", \"Topic29\", \"Topic29\", \"Topic29\", \"Topic29\", \"Topic29\", \"Topic29\", \"Topic29\", \"Topic29\", \"Topic29\", \"Topic29\", \"Topic29\", \"Topic29\", \"Topic29\", \"Topic29\", \"Topic29\", \"Topic29\", \"Topic29\", \"Topic29\", \"Topic29\", \"Topic29\", \"Topic29\", \"Topic29\", \"Topic29\", \"Topic29\", \"Topic29\", \"Topic29\", \"Topic29\", \"Topic29\", \"Topic29\", \"Topic29\", \"Topic30\", \"Topic30\", \"Topic30\", \"Topic30\", \"Topic30\", \"Topic30\", \"Topic30\", \"Topic30\", \"Topic30\", \"Topic30\", \"Topic30\", \"Topic30\", \"Topic30\", \"Topic30\", \"Topic30\", \"Topic30\", \"Topic30\", \"Topic30\", \"Topic30\", \"Topic30\", \"Topic30\", \"Topic30\", \"Topic30\", \"Topic30\", \"Topic30\", \"Topic30\", \"Topic30\", \"Topic30\", \"Topic30\", \"Topic30\", \"Topic30\", \"Topic30\", \"Topic30\", \"Topic30\", \"Topic30\", \"Topic30\", \"Topic30\", \"Topic30\", \"Topic30\", \"Topic30\", \"Topic30\", \"Topic30\", \"Topic30\", \"Topic30\", \"Topic30\", \"Topic30\", \"Topic30\", \"Topic30\", \"Topic30\", \"Topic31\", \"Topic31\", \"Topic31\", \"Topic31\", \"Topic31\", \"Topic31\", \"Topic31\", \"Topic31\", \"Topic31\", \"Topic31\", \"Topic31\", \"Topic31\", \"Topic31\", \"Topic31\", \"Topic31\", \"Topic31\", \"Topic31\", \"Topic31\", \"Topic31\", \"Topic31\", \"Topic31\", \"Topic31\", \"Topic31\", \"Topic31\", \"Topic31\", \"Topic31\", \"Topic31\", \"Topic31\", \"Topic31\", \"Topic31\", \"Topic31\", \"Topic31\", \"Topic31\", \"Topic31\", \"Topic31\", \"Topic31\", \"Topic31\", \"Topic31\", \"Topic31\", \"Topic31\", \"Topic31\", \"Topic31\", \"Topic31\", \"Topic31\", \"Topic31\", \"Topic31\", \"Topic31\", \"Topic31\", \"Topic31\", \"Topic31\", \"Topic31\", \"Topic31\", \"Topic31\", \"Topic31\", \"Topic32\", \"Topic32\", \"Topic32\", \"Topic32\", \"Topic32\", \"Topic32\", \"Topic32\", \"Topic32\", \"Topic32\", \"Topic32\", \"Topic32\", \"Topic32\", \"Topic32\", \"Topic32\", \"Topic32\", \"Topic32\", \"Topic32\", \"Topic32\", \"Topic32\", \"Topic32\", \"Topic32\", \"Topic32\", \"Topic32\", \"Topic32\", \"Topic32\", \"Topic32\", \"Topic32\", \"Topic32\", \"Topic32\", \"Topic32\", \"Topic32\", \"Topic32\", \"Topic32\", \"Topic32\", \"Topic32\", \"Topic32\", \"Topic32\", \"Topic32\", \"Topic32\", \"Topic32\", \"Topic32\", \"Topic32\", \"Topic32\", \"Topic32\", \"Topic32\", \"Topic32\", \"Topic32\", \"Topic32\", \"Topic32\", \"Topic32\", \"Topic32\", \"Topic32\", \"Topic32\", \"Topic32\", \"Topic33\", \"Topic33\", \"Topic33\", \"Topic33\", \"Topic33\", \"Topic33\", \"Topic33\", \"Topic33\", \"Topic33\", \"Topic33\", \"Topic33\", \"Topic33\", \"Topic33\", \"Topic33\", \"Topic33\", \"Topic33\", \"Topic33\", \"Topic33\", \"Topic33\", \"Topic33\", \"Topic33\", \"Topic33\", \"Topic33\", \"Topic33\", \"Topic33\", \"Topic33\", \"Topic33\", \"Topic33\", \"Topic33\", \"Topic33\", \"Topic33\", \"Topic33\", \"Topic33\", \"Topic33\", \"Topic33\", \"Topic33\", \"Topic33\", \"Topic33\", \"Topic33\", \"Topic33\", \"Topic33\", \"Topic33\", \"Topic33\", \"Topic33\", \"Topic33\", \"Topic33\", \"Topic33\", \"Topic33\", \"Topic33\", \"Topic33\", \"Topic34\", \"Topic34\", \"Topic34\", \"Topic34\", \"Topic34\", \"Topic34\", \"Topic34\", \"Topic34\", \"Topic34\", \"Topic34\", \"Topic34\", \"Topic34\", \"Topic34\", \"Topic34\", \"Topic34\", \"Topic34\", \"Topic34\", \"Topic34\", \"Topic34\", \"Topic34\", \"Topic34\", \"Topic34\", \"Topic34\", \"Topic34\", \"Topic34\", \"Topic34\", \"Topic34\", \"Topic34\", \"Topic34\", \"Topic34\", \"Topic34\", \"Topic34\", \"Topic34\", \"Topic34\", \"Topic34\", \"Topic34\", \"Topic34\", \"Topic34\", \"Topic34\", \"Topic34\", \"Topic34\", \"Topic34\", \"Topic34\", \"Topic34\", \"Topic34\", \"Topic34\", \"Topic34\", \"Topic34\", \"Topic34\", \"Topic34\", \"Topic34\", \"Topic34\", \"Topic35\", \"Topic35\", \"Topic35\", \"Topic35\", \"Topic35\", \"Topic35\", \"Topic35\", \"Topic35\", \"Topic35\", \"Topic35\", \"Topic35\", \"Topic35\", \"Topic35\", \"Topic35\", \"Topic35\", \"Topic35\", \"Topic35\", \"Topic35\", \"Topic35\", \"Topic35\", \"Topic35\", \"Topic35\", \"Topic35\", \"Topic35\", \"Topic35\", \"Topic35\", \"Topic35\", \"Topic35\", \"Topic35\", \"Topic35\", \"Topic35\", \"Topic35\", \"Topic35\", \"Topic35\", \"Topic35\", \"Topic35\", \"Topic35\", \"Topic35\", \"Topic35\", \"Topic35\", \"Topic35\", \"Topic35\", \"Topic35\", \"Topic35\", \"Topic35\", \"Topic35\", \"Topic35\", \"Topic35\", \"Topic35\", \"Topic35\", \"Topic35\", \"Topic35\", \"Topic35\", \"Topic36\", \"Topic36\", \"Topic36\", \"Topic36\", \"Topic36\", \"Topic36\", \"Topic36\", \"Topic36\", \"Topic36\", \"Topic36\", \"Topic36\", \"Topic36\", \"Topic36\", \"Topic36\", \"Topic36\", \"Topic36\", \"Topic36\", \"Topic36\", \"Topic36\", \"Topic36\", \"Topic36\", \"Topic36\", \"Topic36\", \"Topic36\", \"Topic36\", \"Topic36\", \"Topic36\", \"Topic36\", \"Topic36\", \"Topic36\", \"Topic36\", \"Topic36\", \"Topic36\", \"Topic36\", \"Topic36\", \"Topic36\", \"Topic36\", \"Topic36\", \"Topic36\", \"Topic36\", \"Topic36\", \"Topic36\", \"Topic36\", \"Topic36\", \"Topic36\", \"Topic36\", \"Topic36\", \"Topic36\", \"Topic36\", \"Topic36\", \"Topic36\", \"Topic36\", \"Topic37\", \"Topic37\", \"Topic37\", \"Topic37\", \"Topic37\", \"Topic37\", \"Topic37\", \"Topic37\", \"Topic37\", \"Topic37\", \"Topic37\", \"Topic37\", \"Topic37\", \"Topic37\", \"Topic37\", \"Topic37\", \"Topic37\", \"Topic37\", \"Topic37\", \"Topic37\", \"Topic37\", \"Topic37\", \"Topic37\", \"Topic37\", \"Topic37\", \"Topic37\", \"Topic37\", \"Topic37\", \"Topic37\", \"Topic37\", \"Topic37\", \"Topic37\", \"Topic37\", \"Topic37\", \"Topic37\", \"Topic37\", \"Topic37\", \"Topic37\", \"Topic37\", \"Topic37\", \"Topic37\", \"Topic37\", \"Topic37\", \"Topic37\", \"Topic37\", \"Topic37\", \"Topic37\", \"Topic37\", \"Topic37\", \"Topic37\", \"Topic37\", \"Topic37\", \"Topic38\", \"Topic38\", \"Topic38\", \"Topic38\", \"Topic38\", \"Topic38\", \"Topic38\", \"Topic38\", \"Topic38\", \"Topic38\", \"Topic38\", \"Topic38\", \"Topic38\", \"Topic38\", \"Topic38\", \"Topic38\", \"Topic38\", \"Topic38\", \"Topic38\", \"Topic38\", \"Topic38\", \"Topic38\", \"Topic38\", \"Topic38\", \"Topic38\", \"Topic38\", \"Topic38\", \"Topic38\", \"Topic38\", \"Topic38\", \"Topic38\", \"Topic38\", \"Topic38\", \"Topic38\", \"Topic38\", \"Topic38\", \"Topic38\", \"Topic38\", \"Topic38\", \"Topic38\", \"Topic38\", \"Topic38\", \"Topic38\", \"Topic38\", \"Topic38\", \"Topic38\", \"Topic38\", \"Topic38\", \"Topic38\", \"Topic38\", \"Topic38\", \"Topic38\", \"Topic38\", \"Topic39\", \"Topic39\", \"Topic39\", \"Topic39\", \"Topic39\", \"Topic39\", \"Topic39\", \"Topic39\", \"Topic39\", \"Topic39\", \"Topic39\", \"Topic39\", \"Topic39\", \"Topic39\", \"Topic39\", \"Topic39\", \"Topic39\", \"Topic39\", \"Topic39\", \"Topic39\", \"Topic39\", \"Topic39\", \"Topic39\", \"Topic39\", \"Topic39\", \"Topic39\", \"Topic39\", \"Topic39\", \"Topic39\", \"Topic39\", \"Topic39\", \"Topic39\", \"Topic39\", \"Topic39\", \"Topic39\", \"Topic39\", \"Topic39\", \"Topic39\", \"Topic39\", \"Topic39\", \"Topic39\", \"Topic39\", \"Topic39\", \"Topic39\", \"Topic39\", \"Topic39\", \"Topic39\", \"Topic39\", \"Topic39\", \"Topic39\", \"Topic39\", \"Topic39\", \"Topic39\", \"Topic39\", \"Topic40\", \"Topic40\", \"Topic40\", \"Topic40\", \"Topic40\", \"Topic40\", \"Topic40\", \"Topic40\", \"Topic40\", \"Topic40\", \"Topic40\", \"Topic40\", \"Topic40\", \"Topic40\", \"Topic40\", \"Topic40\", \"Topic40\", \"Topic40\", \"Topic40\", \"Topic40\", \"Topic40\", \"Topic40\", \"Topic40\", \"Topic40\", \"Topic40\", \"Topic40\", \"Topic40\", \"Topic40\", \"Topic40\", \"Topic40\", \"Topic40\", \"Topic40\", \"Topic40\", \"Topic40\", \"Topic40\", \"Topic40\", \"Topic40\", \"Topic40\", \"Topic40\", \"Topic40\", \"Topic40\", \"Topic40\", \"Topic40\", \"Topic40\", \"Topic40\", \"Topic40\", \"Topic40\", \"Topic40\", \"Topic40\", \"Topic40\", \"Topic40\", \"Topic40\", \"Topic40\", \"Topic41\", \"Topic41\", \"Topic41\", \"Topic41\", \"Topic41\", \"Topic41\", \"Topic41\", \"Topic41\", \"Topic41\", \"Topic41\", \"Topic41\", \"Topic41\", \"Topic41\", \"Topic41\", \"Topic41\", \"Topic41\", \"Topic41\", \"Topic41\", \"Topic41\", \"Topic41\", \"Topic41\", \"Topic41\", \"Topic41\", \"Topic41\", \"Topic41\", \"Topic41\", \"Topic41\", \"Topic41\", \"Topic41\", \"Topic41\", \"Topic41\", \"Topic41\", \"Topic41\", \"Topic41\", \"Topic41\", \"Topic41\", \"Topic41\", \"Topic41\", \"Topic41\", \"Topic41\", \"Topic41\", \"Topic41\", \"Topic41\", \"Topic41\", \"Topic41\", \"Topic41\", \"Topic41\", \"Topic41\", \"Topic41\", \"Topic41\", \"Topic41\", \"Topic41\", \"Topic41\", \"Topic41\", \"Topic42\", \"Topic42\", \"Topic42\", \"Topic42\", \"Topic42\", \"Topic42\", \"Topic42\", \"Topic42\", \"Topic42\", \"Topic42\", \"Topic42\", \"Topic42\", \"Topic42\", \"Topic42\", \"Topic42\", \"Topic42\", \"Topic42\", \"Topic42\", \"Topic42\", \"Topic42\", \"Topic42\", \"Topic42\", \"Topic42\", \"Topic42\", \"Topic42\", \"Topic42\", \"Topic42\", \"Topic42\", \"Topic42\", \"Topic42\", \"Topic42\", \"Topic42\", \"Topic42\", \"Topic42\", \"Topic42\", \"Topic42\", \"Topic42\", \"Topic42\", \"Topic42\", \"Topic42\", \"Topic42\", \"Topic42\", \"Topic42\", \"Topic42\", \"Topic42\", \"Topic42\", \"Topic42\", \"Topic42\", \"Topic42\", \"Topic42\", \"Topic42\", \"Topic42\", \"Topic42\", \"Topic42\", \"Topic42\", \"Topic42\", \"Topic42\", \"Topic43\", \"Topic43\", \"Topic43\", \"Topic43\", \"Topic43\", \"Topic43\", \"Topic43\", \"Topic43\", \"Topic43\", \"Topic43\", \"Topic43\", \"Topic43\", \"Topic43\", \"Topic43\", \"Topic43\", \"Topic43\", \"Topic43\", \"Topic43\", \"Topic43\", \"Topic43\", \"Topic43\", \"Topic43\", \"Topic43\", \"Topic43\", \"Topic43\", \"Topic43\", \"Topic43\", \"Topic43\", \"Topic43\", \"Topic43\", \"Topic43\", \"Topic43\", \"Topic43\", \"Topic43\", \"Topic43\", \"Topic43\", \"Topic43\", \"Topic43\", \"Topic43\", \"Topic43\", \"Topic43\", \"Topic43\", \"Topic43\", \"Topic43\", \"Topic43\", \"Topic43\", \"Topic43\", \"Topic43\", \"Topic43\", \"Topic43\", \"Topic43\", \"Topic43\", \"Topic43\", \"Topic43\", \"Topic43\", \"Topic43\", \"Topic43\", \"Topic44\", \"Topic44\", \"Topic44\", \"Topic44\", \"Topic44\", \"Topic44\", \"Topic44\", \"Topic44\", \"Topic44\", \"Topic44\", \"Topic44\", \"Topic44\", \"Topic44\", \"Topic44\", \"Topic44\", \"Topic44\", \"Topic44\", \"Topic44\", \"Topic44\", \"Topic44\", \"Topic44\", \"Topic44\", \"Topic44\", \"Topic44\", \"Topic44\", \"Topic44\", \"Topic44\", \"Topic44\", \"Topic44\", \"Topic44\", \"Topic44\", \"Topic44\", \"Topic44\", \"Topic44\", \"Topic44\", \"Topic44\", \"Topic44\", \"Topic44\", \"Topic44\", \"Topic44\", \"Topic44\", \"Topic44\", \"Topic44\", \"Topic44\", \"Topic44\", \"Topic44\", \"Topic44\", \"Topic44\", \"Topic44\", \"Topic44\", \"Topic44\", \"Topic44\", \"Topic44\", \"Topic44\", \"Topic44\", \"Topic44\", \"Topic44\", \"Topic45\", \"Topic45\", \"Topic45\", \"Topic45\", \"Topic45\", \"Topic45\", \"Topic45\", \"Topic45\", \"Topic45\", \"Topic45\", \"Topic45\", \"Topic45\", \"Topic45\", \"Topic45\", \"Topic45\", \"Topic45\", \"Topic45\", \"Topic45\", \"Topic45\", \"Topic45\", \"Topic45\", \"Topic45\", \"Topic45\", \"Topic45\", \"Topic45\", \"Topic45\", \"Topic45\", \"Topic45\", \"Topic45\", \"Topic45\", \"Topic45\", \"Topic45\", \"Topic45\", \"Topic45\", \"Topic45\", \"Topic45\", \"Topic45\", \"Topic45\", \"Topic45\", \"Topic45\", \"Topic45\", \"Topic45\", \"Topic45\", \"Topic45\", \"Topic45\", \"Topic45\", \"Topic45\", \"Topic45\", \"Topic45\", \"Topic45\", \"Topic45\", \"Topic45\", \"Topic45\", \"Topic45\", \"Topic45\", \"Topic45\", \"Topic45\"], \"logprob\": [30.0, 29.0, 28.0, 27.0, 26.0, 25.0, 24.0, 23.0, 22.0, 21.0, 20.0, 19.0, 18.0, 17.0, 16.0, 15.0, 14.0, 13.0, 12.0, 11.0, 10.0, 9.0, 8.0, 7.0, 6.0, 5.0, 4.0, 3.0, 2.0, 1.0, -3.7377, -3.9153, -3.9695, -4.0007, -4.009, -4.2959, -4.608, -0.1366, -12.2015, -12.2015, -12.2015, -12.2015, -12.2015, -12.2015, -12.2015, -12.2015, -12.2015, -12.2015, -12.2015, -12.2015, -12.2015, -12.2015, -12.2015, -12.2015, -12.2015, -12.2015, -12.2015, -12.2015, -12.2015, -12.2015, -12.2015, -12.2015, -12.2015, -12.2015, -12.2015, -12.2015, -12.2015, -12.2015, -12.2015, -12.2015, -12.2015, -12.2015, -12.2015, -12.2015, -12.2015, -12.2015, -12.2015, -12.2015, -12.2015, -12.2015, -0.0553, -3.3177, -4.4891, -11.9648, -11.9648, -11.9648, -11.9648, -11.9648, -11.9648, -11.9648, -11.9648, -11.9648, -11.9648, -11.9648, -11.9648, -11.9648, -11.9648, -11.9648, -11.9648, -11.9648, -11.9648, -11.9648, -11.9648, -11.9648, -11.9648, -11.9648, -11.9648, -11.9648, -11.9648, -11.9648, -11.9648, -11.9648, -11.9648, -11.9648, -11.9648, -11.9648, -11.9648, -11.9648, -11.9648, -11.9648, -11.9648, -11.9648, -11.9648, -11.9648, -11.9648, -11.9648, -11.9648, -11.9648, -11.9648, -11.9648, -11.9648, -11.9648, -11.9648, -11.9648, -0.9511, -1.4527, -1.8, -2.4723, -2.9858, -3.2291, -3.565, -11.3509, -11.3509, -11.3509, -11.3509, -11.3509, -11.3509, -11.3509, -11.3509, -11.3509, -11.3509, -11.3509, -11.3509, -11.3509, -11.3509, -11.3509, -11.3509, -11.3509, -11.3509, -11.3509, -11.3509, -11.3509, -11.3509, -11.3509, -11.3509, -11.3509, -11.3509, -11.3509, -11.3509, -11.3509, -11.3509, -11.3509, -11.3509, -11.3509, -11.3509, -11.3509, -11.3509, -11.3509, -11.3509, -11.3509, -11.3509, -11.3509, -11.3509, -11.3509, -11.3509, -1.5106, -1.6006, -2.4412, -2.755, -3.1374, -3.1403, -3.5724, -3.6578, -4.0482, -5.5631, -1.3707, -11.4046, -11.4046, -11.4046, -11.4046, -11.4046, -11.4046, -11.4046, -11.4046, -11.4046, -11.4046, -11.4046, -11.4046, -11.4046, -11.4046, -11.4046, -11.4046, -11.4046, -11.4046, -11.4046, -11.4046, -11.4046, -11.4046, -11.4046, -11.4046, -11.4046, -11.4046, -11.4046, -11.4046, -11.4046, -11.4046, -11.4046, -11.4046, -11.4046, -11.4046, -11.4046, -11.4046, -1.3143, -1.3707, -2.0501, -2.1426, -1.5138, -11.3888, -11.3888, -11.3888, -11.3888, -11.3888, -11.3888, -11.3888, -11.3888, -11.3888, -11.3888, -11.3888, -11.3888, -11.3888, -11.3888, -11.3888, -11.3888, -11.3888, -11.3888, -11.3888, -11.3888, -11.3888, -11.3888, -11.3888, -11.3888, -11.3888, -11.3888, -11.3888, -11.3888, -11.3888, -11.3888, -11.3888, -11.3888, -11.3888, -11.3888, -11.3888, -11.3888, -11.3888, -11.3888, -11.3888, -11.3888, -11.3888, -11.3888, -11.3888, -11.3888, -11.3888, -11.3888, -11.3888, -1.5566, -1.815, -2.2175, -2.2962, -2.4776, -2.5313, -2.7702, -2.859, -2.943, -3.5828, -3.7094, -4.4125, -5.7187, -11.2459, -11.2459, -11.2459, -11.2459, -11.2459, -11.2459, -11.2459, -11.2459, -11.2459, -11.2459, -11.2459, -11.2459, -11.2459, -11.2459, -11.2459, -11.2459, -11.2459, -11.2459, -11.2459, -11.2459, -11.2459, -11.2459, -11.2459, -11.2459, -11.2459, -11.2459, -11.2459, -11.2459, -11.2459, -11.2459, -11.2459, -11.2459, -1.2398, -1.8841, -2.2016, -2.3793, -2.5788, -2.6048, -2.9343, -3.105, -3.4145, -3.6514, -3.8405, -4.3387, -11.1516, -11.1516, -11.1516, -11.1516, -11.1516, -11.1516, -11.1516, -11.1516, -11.1516, -11.1516, -11.1516, -11.1516, -11.1516, -11.1516, -11.1516, -11.1516, -11.1516, -11.1516, -11.1516, -11.1516, -11.1516, -11.1516, -11.1516, -11.1516, -11.1516, -11.1516, -11.1516, -11.1516, -11.1516, -11.1516, -11.1516, -11.1516, -11.1516, -11.1516, -1.4947, -1.8036, -1.9051, -1.9784, -2.3704, -2.7085, -3.3409, -3.6353, -3.6525, -3.8036, -4.0781, -4.2001, -4.5412, -11.386, -11.386, -11.386, -11.386, -11.386, -11.386, -11.386, -11.386, -11.386, -11.386, -11.386, -11.386, -11.386, -11.386, -11.386, -11.386, -11.386, -11.386, -11.386, -11.386, -11.386, -11.386, -11.386, -11.386, -11.386, -11.386, -11.386, -11.386, -11.386, -11.386, -11.386, -11.386, -0.8743, -1.225, -1.655, -2.9037, -3.6835, -5.042, -11.3601, -11.3601, -11.3601, -11.3601, -11.3601, -11.3601, -11.3601, -11.3601, -11.3601, -11.3601, -11.3601, -11.3601, -11.3601, -11.3601, -11.3601, -11.3601, -11.3601, -11.3601, -11.3601, -11.3601, -11.3601, -11.3601, -11.3601, -11.3601, -11.3601, -11.3601, -11.3601, -11.3601, -11.3601, -11.3601, -11.3601, -11.3601, -11.3601, -11.3601, -11.3601, -11.3601, -11.3601, -11.3601, -11.3601, -11.3601, -11.3601, -11.3601, -11.3601, -11.3601, -11.3601, -11.3601, -0.9363, -2.3925, -2.5916, -2.6063, -2.7288, -2.7605, -2.9148, -3.1417, -3.1886, -3.2088, -3.7277, -3.8376, -11.1219, -11.1219, -11.1219, -11.1219, -11.1219, -11.1219, -11.1219, -11.1219, -11.1219, -11.1219, -11.1219, -11.1219, -11.1219, -11.1219, -11.1219, -11.1219, -11.1219, -11.1219, -11.1219, -11.1219, -11.1219, -11.1219, -11.1219, -11.1219, -11.1219, -11.1219, -11.1219, -11.1219, -11.1219, -11.1219, -11.1219, -11.1219, -11.1219, -11.1219, -1.1792, -1.2828, -1.4287, -2.8005, -3.0405, -3.5687, -3.8786, -10.9117, -10.9117, -10.9117, -10.9117, -10.9117, -10.9117, -10.9117, -10.9117, -10.9117, -10.9117, -10.9117, -10.9117, -10.9117, -10.9117, -10.9117, -10.9117, -10.9117, -10.9117, -10.9117, -10.9117, -10.9117, -10.9117, -10.9117, -10.9117, -10.9117, -10.9117, -10.9117, -10.9117, -10.9117, -10.9117, -10.9117, -10.9117, -10.9117, -10.9117, -10.9117, -10.9117, -10.9117, -10.9117, -10.9117, -10.9117, -10.9117, -10.9117, -10.9117, -10.9117, -0.45, -1.8064, -1.8611, -4.1906, -4.3437, -11.1377, -11.1377, -11.1377, -11.1377, -11.1377, -11.1377, -11.1377, -11.1377, -11.1377, -11.1377, -11.1377, -11.1377, -11.1377, -11.1377, -11.1377, -11.1377, -11.1377, -11.1377, -11.1377, -11.1377, -11.1377, -11.1377, -11.1377, -11.1377, -11.1377, -11.1377, -11.1377, -11.1377, -11.1377, -11.1377, -11.1377, -11.1377, -11.1377, -11.1377, -11.1377, -11.1377, -11.1377, -11.1377, -11.1377, -11.1377, -11.1377, -11.1377, -11.1377, -11.1377, -11.1377, -11.1377, -11.1377, -11.1377, -1.106, -1.5089, -1.816, -2.1912, -2.8181, -3.3717, -3.7573, -4.0781, -4.5166, -4.8509, -4.8545, -11.2666, -11.2666, -11.2666, -11.2666, -11.2666, -11.2666, -11.2666, -11.2666, -11.2666, -11.2666, -11.2666, -11.2666, -11.2666, -11.2666, -11.2666, -11.2666, -11.2666, -11.2666, -11.2666, -11.2666, -11.2666, -11.2666, -11.2666, -11.2666, -11.2666, -11.2666, -11.2666, -11.2666, -11.2666, -11.2666, -11.2666, -11.2666, -11.2666, -11.2666, -11.2666, -11.2666, -1.3332, -1.9774, -2.2136, -2.3692, -2.7035, -2.7299, -2.8216, -2.8722, -2.9748, -3.1184, -3.3829, -10.939, -10.939, -10.939, -10.939, -10.939, -10.939, -10.939, -10.939, -10.939, -10.939, -10.939, -10.939, -10.939, -10.939, -10.939, -10.939, -10.939, -10.939, -10.939, -10.939, -10.939, -10.939, -10.939, -10.939, -10.939, -10.939, -10.939, -10.939, -10.939, -10.939, -10.939, -10.939, -10.939, -10.939, -10.939, -10.939, -0.5961, -1.9308, -2.5741, -2.8795, -3.1969, -3.6491, -3.7837, -3.8973, -4.0226, -4.0636, -4.7468, -5.1966, -11.286, -11.286, -11.286, -11.286, -11.286, -11.286, -11.286, -11.286, -11.286, -11.286, -11.286, -11.286, -11.286, -11.286, -11.286, -11.286, -11.286, -11.286, -11.286, -11.286, -11.286, -11.286, -11.286, -11.286, -11.286, -11.286, -11.286, -11.286, -11.286, -11.286, -11.286, -11.286, -11.286, -11.286, -1.2956, -2.052, -2.2995, -2.3671, -2.521, -2.8041, -2.83, -2.8766, -2.8926, -2.951, -4.224, -10.5818, -10.5818, -10.5818, -10.5818, -10.5818, -10.5818, -10.5818, -10.5818, -10.5818, -10.5818, -10.5818, -10.5818, -10.5818, -10.5818, -10.5818, -10.5818, -10.5818, -10.5818, -10.5818, -10.5818, -10.5818, -10.5818, -10.5818, -10.5818, -10.5818, -10.5818, -10.5818, -10.5818, -10.5818, -10.5818, -10.5818, -10.5818, -10.5818, -10.5818, -10.5818, -10.5818, -1.1565, -1.5779, -2.0372, -2.0887, -2.4189, -2.9615, -3.416, -3.5417, -5.1561, -11.0061, -11.0061, -11.0061, -11.0061, -11.0061, -11.0061, -11.0061, -11.0061, -11.0061, -11.0061, -11.0061, -11.0061, -11.0061, -11.0061, -11.0061, -11.0061, -11.0061, -11.0061, -11.0061, -11.0061, -11.0061, -11.0061, -11.0061, -11.0061, -11.0061, -11.0061, -11.0061, -11.0061, -11.0061, -11.0061, -11.0061, -11.0061, -11.0061, -11.0061, -11.0061, -11.0061, -11.0061, -11.0061, -11.0061, -11.0061, -1.4336, -1.9536, -2.4717, -2.4802, -2.5928, -2.5928, -2.6339, -2.7977, -2.8112, -3.1203, -3.6344, -3.9422, -10.8501, -10.8501, -10.8501, -10.8501, -10.8501, -10.8501, -10.8501, -10.8501, -10.8501, -10.8501, -10.8501, -10.8501, -10.8501, -10.8501, -10.8501, -10.8501, -10.8501, -10.8501, -10.8501, -10.8501, -10.8501, -10.8501, -10.8501, -10.8501, -10.8501, -10.8501, -10.8501, -10.8501, -10.8501, -10.8501, -10.8501, -10.8501, -10.8501, -10.8501, -1.0889, -1.2998, -1.3501, -2.2001, -10.7753, -10.7753, -10.7753, -10.7753, -10.7753, -10.7753, -10.7753, -10.7753, -10.7753, -10.7753, -10.7753, -10.7753, -10.7753, -10.7753, -10.7753, -10.7753, -10.7753, -10.7753, -10.7753, -10.7753, -10.7753, -10.7753, -10.7753, -10.7753, -10.7753, -10.7753, -10.7753, -10.7753, -10.7753, -10.7753, -10.7753, -10.7753, -10.7753, -10.7753, -10.7753, -10.7753, -10.7753, -10.7753, -10.7753, -10.7753, -10.7753, -10.7753, -10.7753, -10.7753, -10.7753, -10.7753, -10.7753, -10.7753, -10.7753, -0.7406, -2.0385, -2.0783, -2.1512, -2.2597, -3.466, -11.0463, -11.0463, -11.0463, -11.0463, -11.0463, -11.0463, -11.0463, -11.0463, -11.0463, -11.0463, -11.0463, -11.0463, -11.0463, -11.0463, -11.0463, -11.0463, -11.0463, -11.0463, -11.0463, -11.0463, -11.0463, -11.0463, -11.0463, -11.0463, -11.0463, -11.0463, -11.0463, -11.0463, -11.0463, -11.0463, -11.0463, -11.0463, -11.0463, -11.0463, -11.0463, -11.0463, -11.0463, -11.0463, -11.0463, -11.0463, -11.0463, -11.0463, -11.0463, -11.0463, -11.0463, -11.0463, -0.5299, -1.063, -3.0938, -10.7878, -10.7878, -10.7878, -10.7878, -10.7878, -10.7878, -10.7878, -10.7878, -10.7878, -10.7878, -10.7878, -10.7878, -10.7878, -10.7878, -10.7878, -10.7878, -10.7878, -10.7878, -10.7878, -10.7878, -10.7878, -10.7878, -10.7878, -10.7878, -10.7878, -10.7878, -10.7878, -10.7878, -10.7878, -10.7878, -10.7878, -10.7878, -10.7878, -10.7878, -10.7878, -10.7878, -10.7878, -10.7878, -10.7878, -10.7878, -10.7878, -10.7878, -10.7878, -10.7878, -10.7878, -10.7878, -10.7878, -10.7878, -10.7878, -10.7878, -10.7878, -1.6854, -1.8394, -1.9558, -2.3292, -2.7906, -2.9149, -2.9299, -3.1076, -3.2246, -3.2609, -3.2944, -3.5664, -4.1067, -4.2169, -4.6529, -10.8572, -10.8572, -10.8572, -10.8572, -10.8572, -10.8572, -10.8572, -10.8572, -10.8572, -10.8572, -10.8572, -10.8572, -10.8572, -10.8572, -10.8572, -10.8572, -10.8572, -10.8572, -10.8572, -10.8572, -10.8572, -10.8572, -10.8572, -10.8572, -10.8572, -10.8572, -10.8572, -10.8572, -1.2449, -1.617, -1.8711, -2.3173, -2.3738, -2.5577, -2.6247, -10.9187, -10.9187, -10.9187, -10.9187, -10.9187, -10.9187, -10.9187, -10.9187, -10.9187, -10.9187, -10.9187, -10.9187, -10.9187, -10.9187, -10.9187, -10.9187, -10.9187, -10.9187, -10.9187, -10.9187, -10.9187, -10.9187, -10.9187, -10.9187, -10.9187, -10.9187, -10.9187, -10.9187, -10.9187, -10.9187, -10.9187, -10.9187, -10.9187, -10.9187, -10.9187, -10.9187, -10.9187, -10.9187, -10.9187, -10.9187, -10.9187, -10.9187, -10.9187, -10.9187, -1.3315, -1.7326, -1.9422, -2.1969, -2.3987, -2.5619, -3.2729, -3.3277, -3.7064, -4.1951, -5.5731, -10.8419, -10.8419, -10.8419, -10.8419, -10.8419, -10.8419, -10.8419, -10.8419, -10.8419, -10.8419, -10.8419, -10.8419, -10.8419, -10.8419, -10.8419, -10.8419, -10.8419, -10.8419, -10.8419, -10.8419, -10.8419, -10.8419, -10.8419, -10.8419, -10.8419, -10.8419, -10.8419, -10.8419, -10.8419, -10.8419, -10.8419, -10.8419, -10.8419, -10.8419, -10.8419, -10.8419, -1.5206, -1.7135, -2.0107, -2.0651, -2.3319, -2.337, -2.7412, -2.8371, -10.6435, -10.6435, -10.6435, -10.6435, -10.6435, -10.6435, -10.6435, -10.6435, -10.6435, -10.6435, -10.6435, -10.6435, -10.6435, -10.6435, -10.6435, -10.6435, -10.6435, -10.6435, -10.6435, -10.6435, -10.6435, -10.6435, -10.6435, -10.6435, -10.6435, -10.6435, -10.6435, -10.6435, -10.6435, -10.6435, -10.6435, -10.6435, -10.6435, -10.6435, -10.6435, -10.6435, -10.6435, -10.6435, -10.6435, -10.6435, -10.6435, -10.6435, -0.9864, -1.7428, -2.309, -2.4054, -2.4698, -3.0141, -3.3402, -3.4873, -3.5657, -4.8689, -10.5163, -10.5163, -10.5163, -10.5163, -10.5163, -10.5163, -10.5163, -10.5163, -10.5163, -10.5163, -10.5163, -10.5163, -10.5163, -10.5163, -10.5163, -10.5163, -10.5163, -10.5163, -10.5163, -10.5163, -10.5163, -10.5163, -10.5163, -10.5163, -10.5163, -10.5163, -10.5163, -10.5163, -10.5163, -10.5163, -10.5163, -10.5163, -10.5163, -10.5163, -10.5163, -10.5163, -10.5163, -10.5163, -1.0573, -1.5957, -1.7195, -2.0177, -2.3456, -4.2644, -10.4827, -10.4827, -10.4827, -10.4827, -10.4827, -10.4827, -10.4827, -10.4827, -10.4827, -10.4827, -10.4827, -10.4827, -10.4827, -10.4827, -10.4827, -10.4827, -10.4827, -10.4827, -10.4827, -10.4827, -10.4827, -10.4827, -10.4827, -10.4827, -10.4827, -10.4827, -10.4827, -10.4827, -10.4827, -10.4827, -10.4827, -10.4827, -10.4827, -10.4827, -10.4827, -10.4827, -10.4827, -10.4827, -10.4827, -10.4827, -10.4827, -10.4827, -10.4827, -10.4827, -10.4827, -10.4827, -1.1582, -1.3037, -1.6241, -2.3464, -2.4522, -10.2407, -10.2407, -10.2407, -10.2407, -10.2407, -10.2407, -10.2407, -10.2407, -10.2407, -10.2407, -10.2407, -10.2407, -10.2407, -10.2407, -10.2407, -10.2407, -10.2407, -10.2407, -10.2407, -10.2407, -10.2407, -10.2407, -10.2407, -10.2407, -10.2407, -10.2407, -10.2407, -10.2407, -10.2407, -10.2407, -10.2407, -10.2407, -10.2407, -10.2407, -10.2407, -10.2407, -10.2407, -10.2407, -10.2407, -10.2407, -10.2407, -10.2407, -10.2407, -10.2407, -10.2407, -10.2407, -10.2407, -10.2407, -1.1955, -1.6383, -1.7829, -1.8256, -1.9441, -10.3837, -10.3837, -10.3837, -10.3837, -10.3837, -10.3837, -10.3837, -10.3837, -10.3837, -10.3837, -10.3837, -10.3837, -10.3837, -10.3837, -10.3837, -10.3837, -10.3837, -10.3837, -10.3837, -10.3837, -10.3837, -10.3837, -10.3837, -10.3837, -10.3837, -10.3837, -10.3837, -10.3837, -10.3837, -10.3837, -10.3837, -10.3837, -10.3837, -10.3837, -10.3837, -10.3837, -10.3837, -10.3837, -10.3837, -10.3837, -10.3837, -10.3837, -10.3837, -10.3837, -10.3837, -10.3837, -10.3837, -10.3837, -1.4251, -1.4548, -1.9525, -2.1488, -2.6672, -2.6857, -2.9649, -3.2686, -4.1973, -10.5783, -10.5783, -10.5783, -10.5783, -10.5783, -10.5783, -10.5783, -10.5783, -10.5783, -10.5783, -10.5783, -10.5783, -10.5783, -10.5783, -10.5783, -10.5783, -10.5783, -10.5783, -10.5783, -10.5783, -10.5783, -10.5783, -10.5783, -10.5783, -10.5783, -10.5783, -10.5783, -10.5783, -10.5783, -10.5783, -10.5783, -10.5783, -10.5783, -10.5783, -10.5783, -10.5783, -10.5783, -10.5783, -10.5783, -10.5783, -0.291, -2.1682, -2.1906, -10.5462, -10.5462, -10.5462, -10.5462, -10.5462, -10.5462, -10.5462, -10.5462, -10.5462, -10.5462, -10.5462, -10.5462, -10.5462, -10.5462, -10.5462, -10.5462, -10.5462, -10.5462, -10.5462, -10.5462, -10.5462, -10.5462, -10.5462, -10.5462, -10.5462, -10.5462, -10.5462, -10.5462, -10.5462, -10.5462, -10.5462, -10.5462, -10.5462, -10.5462, -10.5462, -10.5462, -10.5462, -10.5462, -10.5462, -10.5462, -10.5462, -10.5462, -10.5462, -10.5462, -10.5462, -10.5462, -10.5462, -10.5462, -10.5462, -10.5462, -10.5462, -0.7331, -1.0454, -2.0192, -10.2494, -10.2494, -10.2494, -10.2494, -10.2494, -10.2494, -10.2494, -10.2494, -10.2494, -10.2494, -10.2494, -10.2494, -10.2494, -10.2494, -10.2494, -10.2494, -10.2494, -10.2494, -10.2494, -10.2494, -10.2494, -10.2494, -10.2494, -10.2494, -10.2494, -10.2494, -10.2494, -10.2494, -10.2494, -10.2494, -10.2494, -10.2494, -10.2494, -10.2494, -10.2494, -10.2494, -10.2494, -10.2494, -10.2494, -10.2494, -10.2494, -10.2494, -10.2494, -10.2494, -10.2494, -10.2494, -10.2494, -10.2494, -10.2494, -10.2494, -10.2494, -1.2965, -1.715, -1.9238, -1.9524, -2.4042, -2.6754, -2.9399, -9.9692, -9.9692, -9.9692, -9.9692, -9.9692, -9.9692, -9.9692, -9.9692, -9.9692, -9.9692, -9.9692, -9.9692, -9.9692, -9.9692, -9.9692, -9.9692, -9.9692, -9.9692, -9.9692, -9.9692, -9.9692, -9.9692, -9.9692, -9.9692, -9.9692, -9.9692, -9.9692, -9.9692, -9.9692, -9.9692, -9.9692, -9.9692, -9.9692, -9.9692, -9.9692, -9.9692, -9.9692, -9.9692, -9.9692, -9.9692, -9.9692, -9.9692, -9.9692, -1.0574, -1.6925, -2.0156, -2.2481, -2.2946, -2.4274, -10.1037, -10.1037, -10.1037, -10.1037, -10.1037, -10.1037, -10.1037, -10.1037, -10.1037, -10.1037, -10.1037, -10.1037, -10.1037, -10.1037, -10.1037, -10.1037, -10.1037, -10.1037, -10.1037, -10.1037, -10.1037, -10.1037, -10.1037, -10.1037, -10.1037, -10.1037, -10.1037, -10.1037, -10.1037, -10.1037, -10.1037, -10.1037, -10.1037, -10.1037, -10.1037, -10.1037, -10.1037, -10.1037, -10.1037, -10.1037, -10.1037, -10.1037, -10.1037, -10.1037, -10.1037, -10.1037, -0.707, -1.4151, -1.6863, -4.3622, -9.6217, -9.6217, -9.6217, -9.6217, -9.6217, -9.6217, -9.6217, -9.6217, -9.6217, -9.6217, -9.6217, -9.6217, -9.6217, -9.6217, -9.6217, -9.6217, -9.6217, -9.6217, -9.6217, -9.6217, -9.6217, -9.6217, -9.6217, -9.6217, -9.6217, -9.6217, -9.6217, -9.6217, -9.6217, -9.6217, -9.6217, -9.6217, -9.6217, -9.6217, -9.6217, -9.6217, -9.6217, -9.6217, -9.6217, -9.6217, -9.6217, -9.6217, -9.6217, -9.6217, -9.6217, -9.6217, -9.6217, -9.6217, -9.6217, -0.7086, -1.7937, -2.2908, -2.3897, -2.531, -3.7075, -10.0168, -10.0168, -10.0168, -10.0168, -10.0168, -10.0168, -10.0168, -10.0168, -10.0168, -10.0168, -10.0168, -10.0168, -10.0168, -10.0168, -10.0168, -10.0168, -10.0168, -10.0168, -10.0168, -10.0168, -10.0168, -10.0168, -10.0168, -10.0168, -10.0168, -10.0168, -10.0168, -10.0168, -10.0168, -10.0168, -10.0168, -10.0168, -10.0168, -10.0168, -10.0168, -10.0168, -10.0168, -10.0168, -10.0168, -10.0168, -10.0168, -10.0168, -10.0168, -10.0168, -10.0168, -10.0168, -1.4086, -1.6648, -1.6888, -2.1502, -2.2121, -2.2832, -9.827, -9.827, -9.827, -9.827, -9.827, -9.827, -9.827, -9.827, -9.827, -9.827, -9.827, -9.827, -9.827, -9.827, -9.827, -9.827, -9.827, -9.827, -9.827, -9.827, -9.827, -9.827, -9.827, -9.827, -9.827, -9.827, -9.827, -9.827, -9.827, -9.827, -9.827, -9.827, -9.827, -9.827, -9.827, -9.827, -9.827, -9.827, -9.827, -9.827, -9.827, -9.827, -9.827, -9.827, -9.827, -9.827, -0.7956, -1.4183, -1.8183, -3.2297, -9.1605, -9.1605, -9.1605, -9.1605, -9.1605, -9.1605, -9.1605, -9.1605, -9.1605, -9.1605, -9.1605, -9.1605, -9.1605, -9.1605, -9.1605, -9.1605, -9.1605, -9.1605, -9.1605, -9.1605, -9.1605, -9.1605, -9.1605, -9.1605, -9.1605, -9.1605, -9.1605, -9.1605, -9.1605, -9.1605, -9.1605, -9.1605, -9.1605, -9.1605, -9.1605, -9.1605, -9.1605, -9.1605, -9.1605, -9.1605, -9.1605, -9.1605, -9.1605, -9.1605, -9.1605, -9.1605, -9.1605, -9.1605, -9.1605, -0.7956, -1.2828, -1.6857, -9.3566, -9.3566, -9.3566, -9.3566, -9.3566, -9.3566, -9.3566, -9.3566, -9.3566, -9.3566, -9.3566, -9.3566, -9.3566, -9.3566, -9.3566, -9.3566, -9.3566, -9.3566, -9.3566, -9.3566, -9.3566, -9.3566, -9.3566, -9.3566, -9.3566, -9.3566, -9.3566, -9.3566, -9.3566, -9.3566, -9.3566, -9.3566, -9.3566, -9.3566, -9.3566, -9.3566, -9.3566, -9.3566, -9.3566, -9.3566, -9.3566, -9.3566, -9.3566, -9.3566, -9.3566, -9.3566, -9.3566, -9.3566, -9.3566, -9.3566, -9.3566, -1.2598, -1.4329, -1.6204, -1.6296, -9.3824, -9.3824, -9.3824, -9.3824, -9.3824, -9.3824, -9.3824, -9.3824, -9.3824, -9.3824, -9.3824, -9.3824, -9.3824, -9.3824, -9.3824, -9.3824, -9.3824, -9.3824, -9.3824, -9.3824, -9.3824, -9.3824, -9.3824, -9.3824, -9.3824, -9.3824, -9.3824, -9.3824, -9.3824, -9.3824, -9.3824, -9.3824, -9.3824, -9.3824, -9.3824, -9.3824, -9.3824, -9.3824, -9.3824, -9.3824, -9.3824, -9.3824, -9.3824, -9.3824, -9.3824, -9.3824, -9.3824, -9.3824, -9.3824, -0.4917, -1.5432, -3.2406, -8.9027, -8.9027, -8.9027, -8.9027, -8.9027, -8.9027, -8.9027, -8.9027, -8.9027, -8.9027, -8.9027, -8.9027, -8.9027, -8.9027, -8.9027, -8.9027, -8.9027, -8.9027, -8.9027, -8.9027, -8.9027, -8.9027, -8.9027, -8.9027, -8.9027, -8.9027, -8.9027, -8.9027, -8.9027, -8.9027, -8.9027, -8.9027, -8.9027, -8.9027, -8.9027, -8.9027, -8.9027, -8.9027, -8.9027, -8.9027, -8.9027, -8.9027, -8.9027, -8.9027, -8.9027, -8.9027, -8.9027, -8.9027, -8.9027, -8.9027, -8.9027, -6.9078, -6.9078, -6.9078, -6.9078, -6.9078, -6.9078, -6.9078, -6.9078, -6.9078, -6.9078, -6.9078, -6.9078, -6.9078, -6.9078, -6.9078, -6.9078, -6.9078, -6.9078, -6.9078, -6.9078, -6.9078, -6.9078, -6.9078, -6.9078, -6.9078, -6.9078, -6.9078, -6.9078, -6.9078, -6.9078, -6.9078, -6.9078, -6.9078, -6.9078, -6.9078, -6.9078, -6.9078, -6.9078, -6.9078, -6.9078, -6.9078, -6.9078, -6.9078, -6.9078, -6.9078, -6.9078, -6.9078, -6.9078, -6.9078, -6.9078, -6.9078, -6.9078, -6.9078, -6.9078, -6.9078, -6.9078, -6.9078, -6.9078, -6.9078, -6.9078, -6.9078, -6.9078, -6.9078, -6.9078, -6.9078, -6.9078, -6.9078, -6.9078, -6.9078, -6.9078, -6.9078, -6.9078, -6.9078, -6.9078, -6.9078, -6.9078, -6.9078, -6.9078, -6.9078, -6.9078, -6.9078, -6.9078, -6.9078, -6.9078, -6.9078, -6.9078, -6.9078, -6.9078, -6.9078, -6.9078, -6.9078, -6.9078, -6.9078, -6.9078, -6.9078, -6.9078, -6.9078, -6.9078, -6.9078, -6.9078, -6.9078, -6.9078, -6.9078, -6.9078, -6.9078, -6.9078, -6.9078, -6.9078, -6.9078, -6.9078, -6.9078, -6.9078, -6.9078, -6.9078, -6.9078, -6.9078, -6.9078, -6.9078, -6.9078, -6.9078, -6.9078, -6.9078, -6.9078, -6.9078, -6.9078, -6.9078, -6.9078, -6.9078, -6.9078, -6.9078, -6.9078, -6.9078, -6.9078, -6.9078, -6.9078, -6.9078, -6.9078, -6.9078, -6.9078, -6.9078, -6.9078, -6.9078, -6.9078, -6.9078, -6.9078, -6.9078, -6.9078, -6.9078, -6.9078, -6.9078, -6.9078, -6.9078, -6.9078, -6.9078, -6.9078, -6.9078, -6.9078, -6.9078, -6.9078, -6.9078, -6.9078, -6.9078, -6.9078, -6.9078, -6.9078, -6.9078, -6.9078, -6.9078, -6.9078, -6.9078, -6.9078, -6.9078, -6.9078, -6.9078, -6.9078, -6.9078, -6.9078, -6.9078, -6.9078, -6.9078, -6.9078, -6.9078, -6.9078, -6.9078, -6.9078, -6.9078, -6.9078, -6.9078, -6.9078, -6.9078, -6.9078, -6.9078, -6.9078, -6.9078, -6.9078, -6.9078, -6.9078, -6.9078, -6.9078, -6.9078, -6.9078, -6.9078, -6.9078, -6.9078, -6.9078, -6.9078, -6.9078, -6.9078, -6.9078, -6.9078, -6.9078, -6.9078, -6.9078, -6.9078, -6.9078, -6.9078, -6.9078, -6.9078, -6.9078, -6.9078, -6.9078, -6.9078, -6.9078, -6.9078, -6.9078, -6.9078, -6.9078, -6.9078], \"loglift\": [30.0, 29.0, 28.0, 27.0, 26.0, 25.0, 24.0, 23.0, 22.0, 21.0, 20.0, 19.0, 18.0, 17.0, 16.0, 15.0, 14.0, 13.0, 12.0, 11.0, 10.0, 9.0, 8.0, 7.0, 6.0, 5.0, 4.0, 3.0, 2.0, 1.0, 2.5982, 2.5929, 2.5911, 2.59, 2.5897, 2.5779, 2.5608, 2.3954, -2.278, -2.278, -2.278, -2.278, -2.278, -2.278, -2.278, -2.278, -2.278, -2.278, -2.278, -2.278, -2.278, -2.278, -2.278, -2.278, -2.278, -2.278, -2.278, -2.278, -2.278, -2.278, -6.7735, -4.9521, -6.5924, -6.3578, -7.0817, -7.4858, -7.1964, -5.8151, -6.5328, -6.0195, -5.2875, -6.6359, -5.0438, -3.9978, -5.2663, -6.4114, -4.61, -7.4546, -3.9437, -4.2232, 3.1233, 3.0943, 3.0303, -2.0413, -2.0413, -2.0413, -2.0413, -2.0413, -2.0413, -2.0413, -2.0413, -2.0413, -2.0413, -2.0413, -2.0413, -2.0413, -2.0413, -2.0413, -2.0413, -2.0413, -2.0413, -2.0413, -2.0413, -2.0413, -2.0413, -2.0413, -2.0413, -2.0413, -2.0413, -2.0413, -6.5368, -4.7154, -6.3557, -9.4328, -6.1211, -6.845, -7.2491, -6.9598, -5.5785, -6.2961, -5.7828, -5.0508, -6.3992, -4.8071, -3.7611, -5.0296, -6.1748, -4.3733, -7.2179, -3.707, -3.9865, -4.2401, -6.8825, -5.8452, 3.2964, 3.2942, 3.2918, 3.2843, 3.274, 3.2671, 3.2543, -1.4274, -1.4274, -1.4274, -1.4274, -1.4274, -1.4274, -1.4274, -1.4274, -1.4274, -1.4274, -1.4274, -1.4274, -1.4274, -1.4274, -1.4274, -1.4274, -1.4274, -1.4274, -1.4274, -1.4274, -1.4274, -1.4274, -1.4274, -5.9229, -4.1015, -5.7419, -8.8189, -5.5072, -6.2311, -6.6353, -6.3459, -4.9646, -5.6822, -5.1689, -4.4369, -5.7853, -4.1932, -3.1472, -4.4158, -5.5609, -3.7594, -3.0932, -3.3726, -3.6262, 3.3003, 3.2998, 3.2912, 3.2857, 3.2762, 3.2761, 3.2602, 3.2562, 3.2331, 3.0095, 1.1613, -1.4811, -1.4811, -1.4811, -1.4811, -1.4811, -1.4811, -1.4811, -1.4811, -1.4811, -1.4811, -1.4811, -1.4811, -1.4811, -1.4811, -1.4811, -1.4811, -1.4811, -1.4811, -1.4811, -5.9766, -4.1552, -5.7956, -5.5609, -6.2848, -6.6889, -6.3996, -5.0183, -5.7359, -5.2226, -5.839, -4.2469, -3.2009, -4.4694, -5.6146, -3.8131, -6.6577, 3.4394, 3.439, 3.4333, 3.4321, 1.0182, -1.4653, -1.4653, -1.4653, -1.4653, -1.4653, -1.4653, -1.4653, -1.4653, -1.4653, -1.4653, -1.4653, -1.4653, -1.4653, -1.4653, -1.4653, -1.4653, -1.4653, -1.4653, -1.4653, -1.4653, -1.4653, -1.4653, -1.4653, -1.4653, -1.4653, -5.9608, -4.1395, -5.7798, -5.5452, -6.2691, -6.6732, -6.3838, -5.0025, -5.7201, -5.2068, -4.4749, -5.8232, -4.2311, -3.1851, -4.4537, -5.5988, -3.7974, -6.642, -3.1311, -3.4106, -3.6641, -6.3066, 3.4564, 3.4543, 3.4496, 3.4485, 3.4454, 3.4444, 3.4393, 3.437, 3.4347, 3.4094, 3.4023, 3.3433, 3.0767, -1.3225, -1.3225, -1.3225, -1.3225, -1.3225, -1.3225, -1.3225, -1.3225, -1.3225, -1.3225, -1.3225, -1.3225, -1.3225, -1.3225, -1.3225, -1.3225, -1.3225, -5.8179, -3.9966, -5.6369, -8.714, -5.4023, -6.1262, -6.5303, -6.2409, -4.8596, -5.5773, -5.0639, -4.332, -5.6803, -4.0883, -3.0423, 3.4759, 3.471, 3.4671, 3.4644, 3.4607, 3.4602, 3.452, 3.4467, 3.4344, 3.4223, 3.4104, 3.3671, -1.2281, -1.2281, -1.2281, -1.2281, -1.2281, -1.2281, -1.2281, -1.2281, -1.2281, -1.2281, -1.2281, -1.2281, -1.2281, -1.2281, -1.2281, -1.2281, -1.2281, -1.2281, -5.7236, -3.9022, -5.5425, -8.6196, -6.0318, -6.1465, -4.9696, -4.2376, -5.586, -3.9939, -2.9479, -4.2164, -5.3615, -3.5601, -6.4047, -2.8938, 3.4748, 3.4722, 3.4712, 3.4704, 3.465, 3.4583, 3.4381, 3.4235, 3.4226, 3.4132, 3.3925, 3.3815, 3.3434, -1.4625, -1.4625, -1.4625, -1.4625, -1.4625, -1.4625, -1.4625, -1.4625, -1.4625, -1.4625, -1.4625, -1.4625, -1.4625, -1.4625, -1.4625, -1.4625, -1.4625, -5.958, -4.1367, -5.777, -8.8541, -5.5424, -6.2663, -6.6704, -6.381, -4.9997, -5.7174, -5.204, -4.4721, -5.8204, -4.2284, -3.1824, 3.4944, 3.4928, 3.4899, 3.4694, 3.4363, 3.276, -1.4366, -1.4366, -1.4366, -1.4366, -1.4366, -1.4366, -1.4366, -1.4366, -1.4366, -1.4366, -1.4366, -1.4366, -1.4366, -1.4366, -1.4366, -1.4366, -1.4366, -1.4366, -1.4366, -1.4366, -1.4366, -1.4366, -1.4366, -1.4366, -5.9321, -4.1107, -5.7511, -8.8281, -5.5164, -6.2403, -6.6444, -6.3551, -4.9738, -5.6914, -5.1781, -4.4461, -5.7945, -4.2024, -3.1564, -4.425, -5.5701, -3.7686, -6.6132, -3.1023, -3.3818, -3.6354, 3.5724, 3.558, 3.5539, 3.5535, 3.5506, 3.5497, 3.5453, 3.5374, 3.5355, 3.5347, 3.507, 3.4993, -1.1984, -1.1984, -1.1984, -1.1984, -1.1984, -1.1984, -1.1984, -1.1984, -1.1984, -1.1984, -1.1984, -1.1984, -1.1984, -1.1984, -1.1984, -1.1984, -1.1984, -1.1984, -5.6939, -3.8725, -5.5129, -8.5899, -5.2783, -6.0021, -6.4063, -6.1169, -4.7356, -5.4532, -4.9399, -4.2079, -5.5563, -3.9642, -2.9182, -4.1868, 3.5791, 3.5785, 3.5775, 3.5564, 3.5488, 3.5246, 3.5036, -0.9882, -0.9882, -0.9882, -0.9882, -0.9882, -0.9882, -0.9882, -0.9882, -0.9882, -0.9882, -0.9882, -0.9882, -0.9882, -0.9882, -0.9882, -0.9882, -0.9882, -0.9882, -0.9882, -0.9882, -0.9882, -0.9882, -0.9882, -5.4837, -3.6624, -5.3027, -8.3798, -5.0681, -5.792, -6.1961, -5.9067, -4.5254, -5.243, -4.7297, -3.9978, -5.3461, -3.754, -2.7081, -3.9766, -5.1217, -3.3203, -6.1649, -2.654, -2.9335, 3.5829, 3.575, 3.5744, 3.476, 3.459, -1.2142, -1.2142, -1.2142, -1.2142, -1.2142, -1.2142, -1.2142, -1.2142, -1.2142, -1.2142, -1.2142, -1.2142, -1.2142, -1.2142, -1.2142, -1.2142, -1.2142, -1.2142, -1.2142, -1.2142, -1.2142, -1.2142, -1.2142, -1.2142, -1.2142, -5.7097, -3.8883, -5.5287, -8.6057, -5.294, -6.0179, -6.4221, -6.1327, -4.7514, -5.469, -4.9557, -4.2237, -5.5721, -3.98, -2.934, -4.2026, -5.3477, -3.5462, -6.3908, -2.8799, -3.1594, -3.413, -6.0554, 3.6093, 3.6066, 3.6037, 3.5987, 3.5849, 3.5634, 3.5402, 3.5133, 3.4616, 3.4068, 3.4062, -1.3431, -1.3431, -1.3431, -1.3431, -1.3431, -1.3431, -1.3431, -1.3431, -1.3431, -1.3431, -1.3431, -1.3431, -1.3431, -1.3431, -1.3431, -1.3431, -1.3431, -1.3431, -1.3431, -5.8386, -4.0172, -5.6576, -8.7346, -5.4229, -6.1468, -6.5509, -6.2616, -4.8803, -5.5979, -5.0846, -4.3526, -5.701, -4.1089, -3.0629, -5.4766, -6.5197, 3.6379, 3.6316, 3.6281, 3.6253, 3.6176, 3.6168, 3.6142, 3.6126, 3.6092, 3.6038, 3.5916, -1.0155, -1.0155, -1.0155, -1.0155, -1.0155, -1.0155, -1.0155, -1.0155, -1.0155, -1.0155, -1.0155, -1.0155, -1.0155, -1.0155, -1.0155, -1.0155, -1.0155, -1.0155, -1.0155, -5.511, -3.6896, -8.407, -5.0953, -5.8192, -6.2233, -5.934, -4.5527, -5.2703, -4.757, -4.025, -5.3734, -3.7813, -2.7353, -4.0038, -5.149, -3.3475, 3.6493, 3.6399, 3.6284, 3.6199, 3.6078, 3.583, 3.5734, 3.5642, 3.553, 3.549, 3.4568, 3.3606, -1.3625, -1.3625, -1.3625, -1.3625, -1.3625, -1.3625, -1.3625, -1.3625, -1.3625, -1.3625, -1.3625, -1.3625, -1.3625, -1.3625, -1.3625, -1.3625, -1.3625, -1.3625, -5.858, -4.0366, -5.677, -8.754, -5.4424, -6.1663, -6.5704, -6.281, -4.8997, -5.6173, -5.104, -4.372, -5.7204, -4.1283, -4.3509, -5.496, 3.6481, 3.6405, 3.6365, 3.6352, 3.632, 3.6245, 3.6238, 3.6223, 3.6218, 3.6198, 3.5348, -0.6583, -0.6583, -0.6583, -0.6583, -0.6583, -0.6583, -0.6583, -0.6583, -0.6583, -0.6583, -0.6583, -0.6583, -0.6583, -0.6583, -0.6583, -0.6583, -0.6583, -0.6583, -0.6583, -5.1538, -3.3324, -4.9728, -8.0498, -4.7382, -5.4621, -5.8662, -5.5768, -4.1955, -4.9131, -4.3998, -3.6679, -5.0162, -3.4241, -2.3781, -3.6467, -4.7918, 3.6666, 3.6634, 3.6581, 3.6573, 3.6514, 3.6363, 3.616, 3.6087, 3.3862, -1.0826, -1.0826, -1.0826, -1.0826, -1.0826, -1.0826, -1.0826, -1.0826, -1.0826, -1.0826, -1.0826, -1.0826, -1.0826, -1.0826, -1.0826, -1.0826, -1.0826, -1.0826, -1.0826, -1.0826, -1.0826, -5.5781, -3.7567, -5.3971, -8.4741, -5.1624, -5.8863, -6.2905, -6.0011, -4.6198, -5.3374, -4.8241, -4.0921, -5.4405, -3.8484, -2.8024, -4.071, -5.2161, -3.4146, -6.2592, 3.6862, 3.6807, 3.6715, 3.6713, 3.6686, 3.6686, 3.6675, 3.6628, 3.6624, 3.6511, 3.623, 3.5985, -0.9266, -0.9266, -0.9266, -0.9266, -0.9266, -0.9266, -0.9266, -0.9266, -0.9266, -0.9266, -0.9266, -0.9266, -0.9266, -0.9266, -0.9266, -0.9266, -0.9266, -0.9266, -5.4221, -3.6007, -5.2411, -8.3181, -5.0065, -6.1345, -5.8451, -4.4638, -5.1814, -4.6681, -3.9362, -5.2845, -3.6924, -2.6464, -3.915, -5.0601, 3.7066, 3.7052, 3.7048, 3.6947, -0.8518, -0.8518, -0.8518, -0.8518, -0.8518, -0.8518, -0.8518, -0.8518, -0.8518, -0.8518, -0.8518, -0.8518, -0.8518, -0.8518, -0.8518, -0.8518, -0.8518, -0.8518, -0.8518, -0.8518, -0.8518, -0.8518, -0.8518, -0.8518, -0.8518, -0.8518, -5.3473, -3.5259, -5.1663, -8.2433, -4.9317, -5.6556, -6.0597, -4.389, -5.1066, -4.5933, -3.8613, -5.2097, -3.6176, -2.5716, -3.8402, -4.9853, -3.1838, -6.0284, -2.5176, -2.797, -3.0506, -5.6931, -4.6558, 3.7313, 3.72, 3.7194, 3.7181, 3.7162, 3.6723, -1.1228, -1.1228, -1.1228, -1.1228, -1.1228, -1.1228, -1.1228, -1.1228, -1.1228, -1.1228, -1.1228, -1.1228, -1.1228, -1.1228, -1.1228, -1.1228, -1.1228, -1.1228, -1.1228, -1.1228, -1.1228, -1.1228, -1.1228, -1.1228, -5.6183, -3.7969, -5.4373, -8.5143, -5.2027, -5.9266, -6.3307, -6.0413, -4.66, -5.3776, -4.8643, -4.1324, -5.4807, -3.8886, -2.8426, -4.1112, -5.2563, -3.4549, -6.2994, -2.7886, -3.068, -3.3216, 3.7414, 3.739, 3.7006, -0.8643, -0.8643, -0.8643, -0.8643, -0.8643, -0.8643, -0.8643, -0.8643, -0.8643, -0.8643, -0.8643, -0.8643, -0.8643, -0.8643, -0.8643, -0.8643, -0.8643, -0.8643, -0.8643, -0.8643, -0.8643, -0.8643, -0.8643, -0.8643, -0.8643, -0.8643, -0.8643, -5.3598, -3.5384, -5.1788, -8.2558, -4.9441, -5.668, -6.0721, -5.7828, -4.4015, -5.1191, -4.6058, -3.8738, -5.2222, -3.6301, -2.5841, -3.8526, -4.9978, -3.1963, -6.0409, -2.53, -2.8095, -3.0631, -5.7055, -4.6682, 3.7426, 3.7408, 3.7392, 3.7327, 3.7205, 3.7162, 3.7156, 3.7084, 3.7029, 3.7011, 3.6993, 3.6829, 3.6351, 3.6222, 3.557, -0.9337, -0.9337, -0.9337, -0.9337, -0.9337, -0.9337, -0.9337, -0.9337, -0.9337, -0.9337, -0.9337, -0.9337, -0.9337, -0.9337, -0.9337, -5.2481, -8.3252, -5.0135, -5.7374, -6.1415, -5.8522, -4.4708, -5.1885, -4.6752, -3.9432, -5.2916, -3.6995, -2.6535, 3.7662, 3.763, 3.7599, 3.7523, 3.7511, 3.7466, 3.7448, -0.9952, -0.9952, -0.9952, -0.9952, -0.9952, -0.9952, -0.9952, -0.9952, -0.9952, -0.9952, -0.9952, -0.9952, -0.9952, -0.9952, -0.9952, -0.9952, -0.9952, -0.9952, -0.9952, -0.9952, -0.9952, -0.9952, -0.9952, -5.4907, -3.6693, -5.3097, -8.3867, -5.075, -5.7989, -6.203, -5.9137, -4.5324, -5.25, -4.7367, -4.0047, -5.3531, -3.761, -2.715, -3.9835, -5.1287, -3.3272, -6.1718, -2.6609, -2.9404, 3.7952, 3.7912, 3.7883, 3.784, 3.7797, 3.7756, 3.7475, 3.7445, 3.7184, 3.6684, 3.3501, -0.9184, -0.9184, -0.9184, -0.9184, -0.9184, -0.9184, -0.9184, -0.9184, -0.9184, -0.9184, -0.9184, -0.9184, -0.9184, -0.9184, -0.9184, -0.9184, -0.9184, -0.9184, -0.9184, -5.4138, -3.5925, -5.2328, -8.3099, -4.9982, -5.7221, -6.1262, -5.8368, -4.4555, -5.1732, -4.6598, -3.9279, -5.2762, -3.6842, -2.6382, -3.9067, -5.0518, 3.8765, 3.8743, 3.8698, 3.8688, 3.8632, 3.8631, 3.8513, 3.8477, -0.72, -0.72, -0.72, -0.72, -0.72, -0.72, -0.72, -0.72, -0.72, -0.72, -0.72, -0.72, -0.72, -0.72, -0.72, -0.72, -0.72, -0.72, -0.72, -0.72, -0.72, -0.72, -5.2155, -3.3941, -5.0345, -8.1115, -4.7999, -5.5238, -5.9279, -5.6385, -4.2572, -4.9748, -4.4615, -3.7296, -5.0779, -3.4858, -2.4398, -3.7084, -4.8535, -3.052, -5.8966, -2.3858, 3.9362, 3.9287, 3.9181, 3.9156, 3.9138, 3.8932, 3.8747, 3.8643, 3.8582, 3.6611, -0.5928, -0.5928, -0.5928, -0.5928, -0.5928, -0.5928, -0.5928, -0.5928, -0.5928, -0.5928, -0.5928, -0.5928, -0.5928, -0.5928, -0.5928, -0.5928, -0.5928, -0.5928, -0.5928, -0.5928, -5.0883, -3.267, -4.9073, -7.9844, -4.6727, -5.3966, -5.8007, -5.5113, -4.13, -4.8477, -4.3343, -3.6024, -4.9507, -3.3587, -2.3127, -3.5812, -4.7263, -2.9249, 4.0253, 4.0198, 4.018, 4.0128, 4.005, 3.8552, -0.5592, -0.5592, -0.5592, -0.5592, -0.5592, -0.5592, -0.5592, -0.5592, -0.5592, -0.5592, -0.5592, -0.5592, -0.5592, -0.5592, -0.5592, -0.5592, -0.5592, -0.5592, -0.5592, -0.5592, -0.5592, -0.5592, -0.5592, -0.5592, -5.0546, -3.2333, -4.8736, -7.9507, -4.639, -5.3629, -5.767, -5.4776, -4.0963, -4.814, -4.3006, -3.5687, -4.917, -3.325, -2.279, -3.5475, -4.6926, -2.8912, -5.7358, -2.2249, -2.5044, -2.7579, 4.0754, 4.074, 4.0701, 4.055, 4.0517, -0.3172, -0.3172, -0.3172, -0.3172, -0.3172, -0.3172, -0.3172, -0.3172, -0.3172, -0.3172, -0.3172, -0.3172, -0.3172, -0.3172, -0.3172, -0.3172, -0.3172, -0.3172, -0.3172, -0.3172, -0.3172, -0.3172, -0.3172, -0.3172, -0.3172, -4.8126, -2.9913, -4.6316, -7.7087, -4.397, -5.1209, -5.525, -5.2356, -3.8543, -4.572, -4.0587, -3.3267, -4.675, -3.083, -2.037, -3.3055, -4.4506, -2.6492, -5.4938, -1.9829, -2.2624, -2.516, -5.1584, 4.0802, 4.075, 4.0727, 4.072, 4.0697, -0.4602, -0.4602, -0.4602, -0.4602, -0.4602, -0.4602, -0.4602, -0.4602, -0.4602, -0.4602, -0.4602, -0.4602, -0.4602, -0.4602, -0.4602, -0.4602, -0.4602, -0.4602, -0.4602, -0.4602, -0.4602, -0.4602, -0.4602, -0.4602, -0.4602, -4.9557, -3.1344, -4.7747, -7.8518, -4.5401, -5.264, -5.6681, -5.3787, -3.9974, -4.715, -4.2017, -3.4698, -4.8181, -3.226, -2.18, -3.4486, -4.5937, -2.7923, -5.6369, -2.126, -2.4055, -2.659, -5.3015, 4.0817, 4.0814, 4.0735, 4.0691, 4.0527, 4.0519, 4.0388, 4.02, 3.9167, -0.6548, -0.6548, -0.6548, -0.6548, -0.6548, -0.6548, -0.6548, -0.6548, -0.6548, -0.6548, -0.6548, -0.6548, -0.6548, -0.6548, -0.6548, -0.6548, -0.6548, -0.6548, -0.6548, -0.6548, -0.6548, -5.1503, -3.3289, -4.9692, -8.0463, -4.7346, -5.4585, -5.8626, -5.5732, -4.1919, -4.9096, -4.3963, -3.6643, -5.0127, -3.4206, -2.3746, -3.6431, -4.7882, -2.9868, -5.8314, 4.1115, 4.0898, 4.0892, -0.6227, -0.6227, -0.6227, -0.6227, -0.6227, -0.6227, -0.6227, -0.6227, -0.6227, -0.6227, -0.6227, -0.6227, -0.6227, -0.6227, -0.6227, -0.6227, -0.6227, -0.6227, -0.6227, -0.6227, -0.6227, -0.6227, -0.6227, -0.6227, -0.6227, -0.6227, -0.6227, -5.1182, -3.2968, -4.9372, -8.0142, -4.7025, -5.4264, -5.8306, -5.5412, -4.1599, -4.8775, -4.3642, -3.6322, -4.9806, -3.3885, -2.3425, -3.6111, -4.7562, -2.9547, -5.7993, -2.2884, -2.5679, -2.8215, -5.4639, -4.4266, 4.1413, 4.139, 4.1249, -0.3259, -0.3259, -0.3259, -0.3259, -0.3259, -0.3259, -0.3259, -0.3259, -0.3259, -0.3259, -0.3259, -0.3259, -0.3259, -0.3259, -0.3259, -0.3259, -0.3259, -0.3259, -0.3259, -0.3259, -0.3259, -0.3259, -0.3259, -0.3259, -0.3259, -0.3259, -0.3259, -4.8214, -3.0, -4.6403, -7.7174, -4.4057, -5.1296, -5.5337, -5.2444, -3.8631, -4.5807, -4.0674, -3.3354, -4.6838, -3.0917, -2.0457, -3.3142, -4.4594, -2.6579, -5.5025, -1.9916, -2.2711, -2.5247, -5.1671, -4.1298, 4.2691, 4.2626, 4.2582, 4.2575, 4.2438, 4.2323, 4.2177, -0.0457, -0.0457, -0.0457, -0.0457, -0.0457, -0.0457, -0.0457, -0.0457, -0.0457, -0.0457, -0.0457, -0.0457, -0.0457, -0.0457, -0.0457, -0.0457, -0.0457, -0.0457, -0.0457, -0.0457, -0.0457, -0.0457, -0.0457, -4.5412, -2.7199, -4.3602, -7.4373, -4.1256, -4.8495, -5.2536, -4.9642, -3.5829, -4.3005, -3.0553, -1.7655, -3.0341, -4.1792, -2.3778, -5.2223, -1.7115, -1.9909, -2.2445, -4.887, 4.272, 4.2631, 4.256, 4.2493, 4.2478, 4.243, -0.1802, -0.1802, -0.1802, -0.1802, -0.1802, -0.1802, -0.1802, -0.1802, -0.1802, -0.1802, -0.1802, -0.1802, -0.1802, -0.1802, -0.1802, -0.1802, -0.1802, -0.1802, -0.1802, -0.1802, -0.1802, -0.1802, -0.1802, -0.1802, -4.6757, -2.8544, -4.4947, -7.5718, -4.2601, -4.984, -5.3881, -5.0987, -3.7174, -4.435, -3.9217, -3.1898, -4.5381, -2.946, -1.9001, -3.1686, -4.3137, -2.5123, -5.3569, -1.846, -2.1255, -2.379, 4.286, 4.2787, 4.2742, 4.0492, 0.3018, 0.3018, 0.3018, 0.3018, 0.3018, 0.3018, 0.3018, 0.3018, 0.3018, 0.3018, 0.3018, 0.3018, 0.3018, 0.3018, 0.3018, 0.3018, 0.3018, 0.3018, 0.3018, 0.3018, 0.3018, 0.3018, 0.3018, 0.3018, 0.3018, 0.3018, -4.1936, -2.3723, -4.0126, -7.0897, -3.778, -4.5019, -4.906, -4.6166, -3.2353, -3.953, -3.4397, -2.7077, -4.056, -2.464, -1.418, -2.6865, -3.8316, -2.0302, -4.8748, -1.3639, -1.6434, -1.897, -4.5394, 4.3003, 4.2862, 4.2727, 4.2691, 4.2634, 4.1709, -0.0933, -0.0933, -0.0933, -0.0933, -0.0933, -0.0933, -0.0933, -0.0933, -0.0933, -0.0933, -0.0933, -0.0933, -0.0933, -0.0933, -0.0933, -0.0933, -0.0933, -0.0933, -0.0933, -0.0933, -0.0933, -0.0933, -0.0933, -0.0933, -4.5887, -2.7674, -4.4077, -7.4848, -4.1731, -4.897, -5.3011, -5.0117, -3.6304, -4.3481, -3.8347, -3.1028, -4.4511, -2.8591, -1.8131, -3.0816, -4.2267, -2.4253, -5.2699, -1.759, -2.0385, -2.2921, 4.3814, 4.3768, 4.3763, 4.3642, 4.3621, 4.3596, 0.0965, 0.0965, 0.0965, 0.0965, 0.0965, 0.0965, 0.0965, 0.0965, 0.0965, 0.0965, 0.0965, 0.0965, 0.0965, 0.0965, 0.0965, 0.0965, 0.0965, 0.0965, 0.0965, 0.0965, 0.0965, 0.0965, 0.0965, 0.0965, -4.399, -2.5776, -4.218, -7.295, -3.9833, -4.7072, -5.1114, -4.822, -3.4407, -4.1583, -3.645, -2.913, -4.2614, -2.6693, -1.6233, -2.8919, -2.2355, -5.0801, -1.5693, -1.8487, -2.1023, -4.7448, 4.5239, 4.5155, 4.5067, 4.427, 0.763, 0.763, 0.763, 0.763, 0.763, 0.763, 0.763, 0.763, 0.763, 0.763, 0.763, 0.763, 0.763, 0.763, 0.763, 0.763, 0.763, 0.763, 0.763, 0.763, 0.763, 0.763, 0.763, 0.763, 0.763, 0.763, -3.7325, -1.9111, -3.5515, -6.6285, -3.3168, -4.0407, -4.4448, -4.1555, -2.7742, -3.4918, -2.9785, -2.2465, -3.5949, -2.0028, -0.9568, -2.2254, -3.3705, -1.569, -4.4136, -0.9027, -1.1822, -1.4358, -4.0782, 4.5473, 4.541, 4.5329, 0.5669, 0.5669, 0.5669, 0.5669, 0.5669, 0.5669, 0.5669, 0.5669, 0.5669, 0.5669, 0.5669, 0.5669, 0.5669, 0.5669, 0.5669, 0.5669, 0.5669, 0.5669, 0.5669, 0.5669, 0.5669, 0.5669, 0.5669, 0.5669, 0.5669, 0.5669, 0.5669, -3.9285, -2.1072, -3.7475, -6.8246, -3.5129, -4.2368, -4.6409, -4.3515, -2.9702, -3.6879, -3.1746, -2.4426, -3.7909, -2.1989, -1.1529, -2.4214, -3.5665, -1.7651, -4.6097, -1.0988, -1.3783, -1.6319, -4.2743, -3.237, 4.5444, 4.5413, 4.5374, 4.5372, 0.5411, 0.5411, 0.5411, 0.5411, 0.5411, 0.5411, 0.5411, 0.5411, 0.5411, 0.5411, 0.5411, 0.5411, 0.5411, 0.5411, 0.5411, 0.5411, 0.5411, 0.5411, 0.5411, 0.5411, 0.5411, 0.5411, 0.5411, 0.5411, 0.5411, 0.5411, -3.9544, -2.1331, -3.7734, -6.8505, -3.5388, -4.2627, -4.6668, -4.3774, -2.9961, -3.7138, -3.2004, -2.4685, -3.8168, -2.2248, -1.1788, -2.4473, -3.5924, -1.791, -4.6356, -1.1247, -1.4042, -1.6577, -4.3002, 4.5905, 4.5763, 4.4841, 1.0208, 1.0208, 1.0208, 1.0208, 1.0208, 1.0208, 1.0208, 1.0208, 1.0208, 1.0208, 1.0208, 1.0208, 1.0208, 1.0208, 1.0208, 1.0208, 1.0208, 1.0208, 1.0208, 1.0208, 1.0208, 1.0208, 1.0208, 1.0208, 1.0208, 1.0208, 1.0208, -3.4747, -1.6534, -3.2937, -6.3708, -3.0591, -3.783, -4.1871, -3.8977, -2.5164, -3.234, -2.7207, -1.9888, -3.3371, -1.745, -0.699, -1.9676, -3.1127, -1.3113, -4.1558, -0.645, -0.9244, -3.5832, -1.246, -2.9689, 3.0157, 3.0157, 3.0157, 3.0157, 3.0157, 3.0157, 3.0157, 3.0157, 3.0157, 3.0157, 3.0157, 3.0157, 3.0157, 3.0157, 3.0157, 3.0157, 3.0157, 3.0157, 3.0157, 3.0157, 3.0157, 3.0157, 3.0157, 3.0157, 3.0157, 3.0157, 3.0157, 3.0157, 3.0157, 3.0157, -1.4797, 0.3416, -1.2987, -4.3758, -1.0641, -1.788, -2.1921, -1.9027, -0.5214, -1.2391, -0.7257, 0.0062, -1.3421, 0.2499, 1.2959, 0.0274, -1.1177, 0.6837, -2.1609, 1.35, 1.0705, 0.8169, -1.8255, -0.7882, -1.5882, 0.7489, -0.9739, 3.0157, 3.0157, 3.0157, 3.0157, 3.0157, 3.0157, 3.0157, 3.0157, 3.0157, 3.0157, 3.0157, 3.0157, 3.0157, 3.0157, 3.0157, 3.0157, 3.0157, 3.0157, 3.0157, 3.0157, 3.0157, 3.0157, 3.0157, 3.0157, 3.0157, 3.0157, 3.0157, 3.0157, 3.0157, 3.0157, -1.4797, 0.3416, -1.2987, -4.3758, -1.0641, -1.788, -2.1921, -1.9027, -0.5214, -1.2391, -0.7257, 0.0062, -1.3421, 0.2499, 1.2959, 0.0274, -1.1177, 0.6837, -2.1609, 1.35, 1.0705, 0.8169, -1.8255, -0.7882, -1.5882, 0.7489, -0.9739, 3.0157, 3.0157, 3.0157, 3.0157, 3.0157, 3.0157, 3.0157, 3.0157, 3.0157, 3.0157, 3.0157, 3.0157, 3.0157, 3.0157, 3.0157, 3.0157, 3.0157, 3.0157, 3.0157, 3.0157, 3.0157, 3.0157, 3.0157, 3.0157, 3.0157, 3.0157, 3.0157, 3.0157, 3.0157, 3.0157, -1.4797, 0.3416, -1.2987, -4.3758, -1.0641, -1.788, -2.1921, -1.9027, -0.5214, -1.2391, -0.7257, 0.0062, -1.3421, 0.2499, 1.2959, 0.0274, -1.1177, 0.6837, -2.1609, 1.35, 1.0705, 0.8169, -1.8255, -0.7882, -1.5882, 0.7489, -0.9739, 3.0157, 3.0157, 3.0157, 3.0157, 3.0157, 3.0157, 3.0157, 3.0157, 3.0157, 3.0157, 3.0157, 3.0157, 3.0157, 3.0157, 3.0157, 3.0157, 3.0157, 3.0157, 3.0157, 3.0157, 3.0157, 3.0157, 3.0157, 3.0157, 3.0157, 3.0157, 3.0157, 3.0157, 3.0157, 3.0157, -1.4797, 0.3416, -1.2987, -4.3758, -1.0641, -1.788, -2.1921, -1.9027, -0.5214, -1.2391, -0.7257, 0.0062, -1.3421, 0.2499, 1.2959, 0.0274, -1.1177, 0.6837, -2.1609, 1.35, 1.0705, 0.8169, -1.8255, -0.7882, -1.5882, 0.7489, -0.9739]}, \"token.table\": {\"Topic\": [8, 42, 43, 44, 45, 42, 43, 44, 45, 21, 42, 43, 44, 45, 14, 42, 43, 44, 45, 30, 42, 43, 44, 45, 14, 42, 43, 44, 45, 15, 42, 43, 44, 45, 6, 42, 43, 44, 45, 22, 42, 43, 44, 45, 18, 42, 43, 44, 45, 15, 42, 43, 44, 45, 14, 42, 43, 44, 45, 42, 43, 44, 45, 7, 42, 43, 44, 45, 1, 42, 43, 44, 45, 10, 42, 43, 44, 45, 42, 43, 44, 45, 11, 42, 43, 44, 45, 42, 43, 44, 45, 14, 42, 43, 44, 45, 42, 43, 44, 45, 13, 42, 43, 44, 45, 22, 42, 43, 44, 45, 23, 42, 43, 44, 45, 15, 42, 43, 44, 45, 2, 42, 43, 44, 45, 42, 43, 44, 45, 42, 43, 44, 45, 12, 42, 43, 44, 45, 4, 42, 43, 44, 45, 37, 42, 43, 44, 45, 42, 43, 44, 45, 22, 42, 43, 44, 45, 42, 43, 44, 45, 13, 42, 43, 44, 45, 1, 42, 43, 44, 45, 8, 42, 43, 44, 45, 30, 42, 43, 44, 45, 22, 42, 43, 44, 45, 18, 42, 43, 44, 45, 7, 42, 43, 44, 45, 19, 42, 43, 44, 45, 24, 42, 43, 44, 45, 8, 42, 43, 44, 45, 10, 42, 43, 44, 45, 11, 42, 43, 44, 45, 17, 42, 43, 44, 45, 33, 42, 43, 44, 45, 25, 42, 43, 44, 45, 25, 42, 43, 44, 45, 16, 42, 43, 44, 45, 15, 42, 43, 44, 45, 33, 42, 43, 44, 45, 24, 42, 43, 44, 45, 29, 42, 43, 44, 45, 24, 42, 43, 44, 45, 16, 42, 43, 44, 45, 36, 42, 43, 44, 45, 23, 42, 43, 44, 45, 13, 42, 43, 44, 45, 40, 42, 43, 44, 45, 11, 42, 43, 44, 45, 33, 42, 43, 44, 45, 37, 42, 43, 44, 45, 16, 42, 43, 44, 45, 30, 42, 43, 44, 45, 2, 42, 43, 44, 45, 8, 42, 43, 44, 45, 3, 42, 43, 44, 45, 26, 42, 43, 44, 45, 5, 42, 43, 44, 45, 6, 42, 43, 44, 45, 34, 42, 43, 44, 45, 29, 42, 43, 44, 45, 30, 42, 43, 44, 45, 11, 42, 43, 44, 45, 27, 42, 43, 44, 45, 19, 42, 43, 44, 45, 13, 42, 43, 44, 45, 42, 43, 44, 45, 18, 42, 43, 44, 45, 14, 42, 43, 44, 45, 40, 42, 43, 44, 45, 10, 42, 43, 44, 45, 3, 42, 43, 44, 45, 18, 42, 43, 44, 45, 34, 42, 43, 44, 45, 30, 42, 43, 44, 45, 14, 42, 43, 44, 45, 18, 42, 43, 44, 45, 12, 42, 43, 44, 45, 37, 42, 43, 44, 45, 7, 42, 43, 44, 45, 24, 42, 43, 44, 45, 29, 42, 43, 44, 45, 21, 42, 43, 44, 45, 33, 42, 43, 44, 45, 22, 42, 43, 44, 45, 35, 42, 43, 44, 45, 42, 43, 44, 45, 17, 42, 43, 44, 45, 19, 42, 43, 44, 45, 14, 42, 43, 44, 45, 4, 42, 43, 44, 45, 24, 42, 43, 44, 45, 26, 42, 43, 44, 45, 10, 42, 43, 44, 45, 29, 42, 43, 44, 45, 26, 42, 43, 44, 45, 17, 42, 43, 44, 45, 38, 42, 43, 44, 45, 35, 42, 43, 44, 45, 38, 42, 43, 44, 45, 8, 42, 43, 44, 45, 13, 42, 43, 44, 45, 1, 42, 43, 44, 45, 21, 42, 43, 44, 45, 18, 42, 43, 44, 45, 6, 42, 43, 44, 45, 15, 42, 43, 44, 45, 17, 42, 43, 44, 45, 13, 42, 43, 44, 45, 6, 42, 43, 44, 45, 4, 42, 43, 44, 45, 10, 42, 43, 44, 45, 14, 42, 43, 44, 45, 13, 42, 43, 44, 45, 41, 42, 43, 44, 45, 38, 42, 43, 44, 45, 28, 42, 43, 44, 45, 7, 42, 43, 44, 45, 8, 42, 43, 44, 45, 37, 42, 43, 44, 45, 16, 42, 43, 44, 45, 39, 42, 43, 44, 45, 26, 42, 43, 44, 45, 16, 42, 43, 44, 45, 27, 42, 43, 44, 45, 27, 42, 43, 44, 45, 9, 42, 43, 44, 45, 10, 42, 43, 44, 45, 6, 42, 43, 44, 45, 4, 42, 43, 44, 45, 16, 42, 43, 44, 45, 42, 43, 44, 45, 7, 42, 43, 44, 45, 41, 42, 43, 44, 45, 13, 42, 43, 44, 45, 18, 42, 43, 44, 45, 8, 42, 43, 44, 45, 6, 42, 43, 44, 45, 8, 42, 43, 44, 45, 22, 42, 43, 44, 45, 16, 42, 43, 44, 45, 37, 42, 43, 44, 45, 17, 42, 43, 44, 45, 32, 42, 43, 44, 45, 25, 42, 43, 44, 45, 3, 42, 43, 44, 45, 4, 42, 43, 44, 45, 5, 42, 43, 44, 45, 42, 43, 44, 45, 33, 42, 43, 44, 45, 17, 42, 43, 44, 45, 8, 42, 43, 44, 45, 7, 42, 43, 44, 45, 23, 42, 43, 44, 45, 42, 43, 44, 45, 42, 43, 44, 45, 22, 42, 43, 44, 45, 17, 42, 43, 44, 45, 37, 42, 43, 44, 45, 26, 42, 43, 44, 45, 34, 42, 43, 44, 45, 26, 42, 43, 44, 45, 36, 42, 43, 44, 45, 24, 42, 43, 44, 45, 20, 42, 43, 44, 45, 17, 42, 43, 44, 45, 42, 43, 44, 45, 9, 42, 43, 44, 45, 35, 42, 43, 44, 45, 26, 42, 43, 44, 45, 18, 42, 43, 44, 45, 23, 42, 43, 44, 45, 10, 42, 43, 44, 45, 10, 42, 43, 44, 45, 7, 42, 43, 44, 45, 13, 42, 43, 44, 45, 4, 42, 43, 44, 45, 3, 42, 43, 44, 45, 17, 42, 43, 44, 45, 6, 42, 43, 44, 45, 16, 42, 43, 44, 45, 25, 42, 43, 44, 45, 22, 42, 43, 44, 45, 8, 42, 43, 44, 45, 22, 42, 43, 44, 45, 36, 42, 43, 44, 45, 42, 43, 44, 45, 14, 42, 43, 44, 45, 24, 42, 43, 44, 45, 42, 43, 44, 45, 42, 43, 44, 45, 29, 42, 43, 44, 45, 36, 42, 43, 44, 45, 15, 42, 43, 44, 45, 34, 42, 43, 44, 45, 42, 43, 44, 45, 12, 42, 43, 44, 45, 42, 43, 44, 45, 6, 42, 43, 44, 45, 28, 42, 43, 44, 45, 23, 42, 43, 44, 45, 5, 42, 43, 44, 45, 22, 42, 43, 44, 45, 20, 42, 43, 44, 45, 42, 43, 44, 45, 10, 42, 43, 44, 45, 22, 42, 43, 44, 45, 36, 42, 43, 44, 45, 7, 42, 43, 44, 45, 1, 42, 43, 44, 45, 8, 42, 43, 44, 45, 28, 42, 43, 44, 45, 13, 42, 43, 44, 45, 6, 42, 43, 44, 45, 34, 42, 43, 44, 45, 32, 42, 43, 44, 45, 30, 42, 43, 44, 45, 39, 42, 43, 44, 45, 42, 43, 44, 45, 31, 42, 43, 44, 45, 42, 43, 44, 45, 42, 43, 44, 45, 7, 42, 43, 44, 45, 42, 43, 44, 45, 25, 42, 43, 44, 45, 25, 42, 43, 44, 45, 16, 42, 43, 44, 45, 13, 42, 43, 44, 45, 3, 42, 43, 44, 45, 36, 42, 43, 44, 45, 15, 42, 43, 44, 45, 26, 42, 43, 44, 45, 35, 42, 43, 44, 45, 10, 42, 43, 44, 45, 14, 42, 43, 44, 45, 15, 42, 43, 44, 45, 6, 42, 43, 44, 45, 15, 42, 43, 44, 45, 4, 42, 43, 44, 45, 24, 42, 43, 44, 45, 22, 42, 43, 44, 45, 10, 42, 43, 44, 45, 11, 42, 43, 44, 45, 19, 42, 43, 44, 45, 41, 42, 43, 44, 45, 24, 42, 43, 44, 45, 25, 42, 43, 44, 45, 31, 42, 43, 44, 45, 34, 42, 43, 44, 45, 28, 42, 43, 44, 45, 14, 42, 43, 44, 45, 11, 42, 43, 44, 45, 20, 42, 43, 44, 45, 18, 42, 43, 44, 45, 9, 42, 43, 44, 45, 10, 42, 43, 44, 45, 38, 42, 43, 44, 45, 4, 42, 43, 44, 45, 22, 42, 43, 44, 45, 20, 42, 43, 44, 45, 33, 42, 43, 44, 45, 22, 42, 43, 44, 45, 18, 42, 43, 44, 45, 33, 42, 43, 44, 45, 16, 42, 43, 44, 45, 23, 42, 43, 44, 45, 7, 42, 43, 44, 45, 1, 42, 43, 44, 45, 3, 42, 43, 44, 45, 24, 42, 43, 44, 45, 15, 42, 43, 44, 45, 25, 42, 43, 44, 45, 12, 42, 43, 44, 45, 40, 42, 43, 44, 45, 23, 42, 43, 44, 45, 40, 42, 43, 44, 45, 39, 42, 43, 44, 45, 26, 42, 43, 44, 45, 6, 42, 43, 44, 45, 27, 42, 43, 44, 45, 22, 42, 43, 44, 45, 6, 42, 43, 44, 45, 30, 42, 43, 44, 45, 9, 42, 43, 44, 45, 42, 43, 44, 45, 30, 42, 43, 44, 45, 1, 4, 5, 42, 43, 44, 45, 20, 42, 43, 44, 45, 15, 42, 43, 44, 45, 6, 42, 43, 44, 45, 42, 43, 44, 45, 42, 43, 44, 45, 18, 42, 43, 44, 45, 8, 42, 43, 44, 45, 1, 42, 43, 44, 45, 42, 43, 44, 45, 27, 42, 43, 44, 45, 16, 42, 43, 44, 45, 4, 42, 43, 44, 45, 26, 42, 43, 44, 45, 9, 42, 43, 44, 45, 8, 42, 43, 44, 45, 32, 42, 43, 44, 45, 7, 42, 43, 44, 45, 1, 42, 43, 44, 45, 12, 42, 43, 44, 45, 11, 42, 43, 44, 45, 24, 42, 43, 44, 45, 20, 42, 43, 44, 45, 7, 42, 43, 44, 45, 4, 42, 43, 44, 45, 9, 42, 43, 44, 45, 27, 42, 43, 44, 45, 2, 42, 43, 44, 45, 18, 42, 43, 44, 45, 15, 42, 43, 44, 45, 5, 42, 43, 44, 45, 30, 42, 43, 44, 45, 28, 42, 43, 44, 45, 3, 42, 43, 44, 45, 31, 42, 43, 44, 45], \"Freq\": [0.9456576668314781, 0.012779157659884839, 0.012779157659884839, 0.012779157659884839, 0.012779157659884839, 0.2241957022416644, 0.2241957022416644, 0.2241957022416644, 0.2241957022416644, 0.9939574552319741, 0.0013377623892758736, 0.0013377623892758736, 0.0013377623892758736, 0.0013377623892758736, 0.9717862782692356, 0.006269588892059585, 0.006269588892059585, 0.006269588892059585, 0.006269588892059585, 0.9546554142696265, 0.009268499167666276, 0.009268499167666276, 0.009268499167666276, 0.009268499167666276, 0.9618161267633772, 0.007948893609614687, 0.007948893609614687, 0.007948893609614687, 0.007948893609614687, 0.8030678214249282, 0.04015339107124641, 0.04015339107124641, 0.04015339107124641, 0.04015339107124641, 0.9431139270980191, 0.013473056101400272, 0.013473056101400272, 0.013473056101400272, 0.013473056101400272, 0.8080829626856509, 0.040404148134282544, 0.040404148134282544, 0.040404148134282544, 0.040404148134282544, 0.9729163035141797, 0.005756901204225915, 0.005756901204225915, 0.005756901204225915, 0.005756901204225915, 0.9298806523785123, 0.01722001208108356, 0.01722001208108356, 0.01722001208108356, 0.01722001208108356, 0.9582514284158044, 0.009126204080150519, 0.009126204080150519, 0.009126204080150519, 0.009126204080150519, 0.2241957022416644, 0.2241957022416644, 0.2241957022416644, 0.2241957022416644, 0.9819215187340926, 0.003791202775035107, 0.003791202775035107, 0.003791202775035107, 0.003791202775035107, 0.9737465842433253, 0.006202207542951116, 0.006202207542951116, 0.006202207542951116, 0.006202207542951116, 0.9601879705968349, 0.009144647339017474, 0.009144647339017474, 0.009144647339017474, 0.009144647339017474, 0.2241957022416644, 0.2241957022416644, 0.2241957022416644, 0.2241957022416644, 0.9182010668258566, 0.017657712823574166, 0.017657712823574166, 0.017657712823574166, 0.017657712823574166, 0.2241957022416644, 0.2241957022416644, 0.2241957022416644, 0.2241957022416644, 0.993300686537746, 0.001584211621272322, 0.001584211621272322, 0.001584211621272322, 0.001584211621272322, 0.2241957022416644, 0.2241957022416644, 0.2241957022416644, 0.2241957022416644, 0.9485827039559435, 0.011292651237570756, 0.011292651237570756, 0.011292651237570756, 0.011292651237570756, 0.9875387281842883, 0.0029130935934639775, 0.0029130935934639775, 0.0029130935934639775, 0.0029130935934639775, 0.9927233700949883, 0.0016490421430149307, 0.0016490421430149307, 0.0016490421430149307, 0.0016490421430149307, 0.8998862593862391, 0.021425863318719977, 0.021425863318719977, 0.021425863318719977, 0.021425863318719977, 0.9115220284887753, 0.020256045077528338, 0.020256045077528338, 0.020256045077528338, 0.020256045077528338, 0.2241957022416644, 0.2241957022416644, 0.2241957022416644, 0.2241957022416644, 0.2241957022416644, 0.2241957022416644, 0.2241957022416644, 0.2241957022416644, 0.9974806458264253, 0.0006199382509797547, 0.0006199382509797547, 0.0006199382509797547, 0.0006199382509797547, 0.9836812935666829, 0.0033920044605747685, 0.0033920044605747685, 0.0033920044605747685, 0.0033920044605747685, 0.9845357346239494, 0.0035931961117662385, 0.0035931961117662385, 0.0035931961117662385, 0.0035931961117662385, 0.2241957022416644, 0.2241957022416644, 0.2241957022416644, 0.2241957022416644, 0.9808318546082555, 0.00471553776253969, 0.00471553776253969, 0.00471553776253969, 0.00471553776253969, 0.2241957022416644, 0.2241957022416644, 0.2241957022416644, 0.2241957022416644, 0.9142990223028264, 0.021769024340543487, 0.021769024340543487, 0.021769024340543487, 0.021769024340543487, 0.9679532431866222, 0.008066277026555185, 0.008066277026555185, 0.008066277026555185, 0.008066277026555185, 0.9279771910364252, 0.014967374048974599, 0.014967374048974599, 0.014967374048974599, 0.014967374048974599, 0.9327444999549578, 0.01608180172336134, 0.01608180172336134, 0.01608180172336134, 0.01608180172336134, 0.9882378289376258, 0.002501867921361078, 0.002501867921361078, 0.002501867921361078, 0.002501867921361078, 0.9926261916769981, 0.0018381966512537001, 0.0018381966512537001, 0.0018381966512537001, 0.0018381966512537001, 0.995181327089979, 0.0012271039791491726, 0.0012271039791491726, 0.0012271039791491726, 0.0012271039791491726, 0.9815783752997713, 0.003990155997153542, 0.003990155997153542, 0.003990155997153542, 0.003990155997153542, 0.8857544716834388, 0.028572724893014156, 0.028572724893014156, 0.028572724893014156, 0.028572724893014156, 0.9741987772323173, 0.005237627834582351, 0.005237627834582351, 0.005237627834582351, 0.005237627834582351, 0.9615612610146426, 0.008741466009224024, 0.008741466009224024, 0.008741466009224024, 0.008741466009224024, 0.993619964782058, 0.0014194570925457973, 0.0014194570925457973, 0.0014194570925457973, 0.0014194570925457973, 0.7323086674373865, 0.05633143595672204, 0.05633143595672204, 0.05633143595672204, 0.05633143595672204, 0.9796210559950923, 0.004334606442456161, 0.004334606442456161, 0.004334606442456161, 0.004334606442456161, 0.9896810105495122, 0.0024256887513468437, 0.0024256887513468437, 0.0024256887513468437, 0.0024256887513468437, 0.9619863866527213, 0.00801655322210601, 0.00801655322210601, 0.00801655322210601, 0.00801655322210601, 0.9818979369338552, 0.00444297709019844, 0.00444297709019844, 0.00444297709019844, 0.00444297709019844, 0.9640797982525369, 0.007303634835246491, 0.007303634835246491, 0.007303634835246491, 0.007303634835246491, 0.9784419341637424, 0.005317619207411643, 0.005317619207411643, 0.005317619207411643, 0.005317619207411643, 0.6595958261745345, 0.08244947827181681, 0.08244947827181681, 0.08244947827181681, 0.08244947827181681, 0.9798483479845628, 0.004494717192589737, 0.004494717192589737, 0.004494717192589737, 0.004494717192589737, 0.9921242782519979, 0.0018509781310671602, 0.0018509781310671602, 0.0018509781310671602, 0.0018509781310671602, 0.9762953710022442, 0.005165583973556848, 0.005165583973556848, 0.005165583973556848, 0.005165583973556848, 0.961453683868139, 0.0098107518762055, 0.0098107518762055, 0.0098107518762055, 0.0098107518762055, 0.9790167754358027, 0.004752508618620401, 0.004752508618620401, 0.004752508618620401, 0.004752508618620401, 0.8076002675954886, 0.042505277241867825, 0.042505277241867825, 0.042505277241867825, 0.042505277241867825, 0.975858621906765, 0.0051907373505678985, 0.0051907373505678985, 0.0051907373505678985, 0.0051907373505678985, 0.9927044369054514, 0.0016408337800090107, 0.0016408337800090107, 0.0016408337800090107, 0.0016408337800090107, 0.9558835098260988, 0.01098716677961033, 0.01098716677961033, 0.01098716677961033, 0.01098716677961033, 0.9638964590951181, 0.0074145881468855234, 0.0074145881468855234, 0.0074145881468855234, 0.0074145881468855234, 0.8749553667489709, 0.025733981374969732, 0.025733981374969732, 0.025733981374969732, 0.025733981374969732, 0.9867949815570646, 0.0027875564450764536, 0.0027875564450764536, 0.0027875564450764536, 0.0027875564450764536, 0.9989391475546358, 0.0002638508049536809, 0.0002638508049536809, 0.0002638508049536809, 0.0002638508049536809, 0.8755429082743506, 0.029184763609145018, 0.029184763609145018, 0.029184763609145018, 0.029184763609145018, 0.9938490236880235, 0.0012660497117044885, 0.0012660497117044885, 0.0012660497117044885, 0.0012660497117044885, 0.9204909496595932, 0.018409818993191863, 0.018409818993191863, 0.018409818993191863, 0.018409818993191863, 0.9942814045358849, 0.0012747197494049805, 0.0012747197494049805, 0.0012747197494049805, 0.0012747197494049805, 0.9445184414713711, 0.011955929638878114, 0.011955929638878114, 0.011955929638878114, 0.011955929638878114, 0.9683709242663954, 0.007624967907609412, 0.007624967907609412, 0.007624967907609412, 0.007624967907609412, 0.9842320078938014, 0.004000943121519518, 0.004000943121519518, 0.004000943121519518, 0.004000943121519518, 0.9780630342410475, 0.004549130391818825, 0.004549130391818825, 0.004549130391818825, 0.004549130391818825, 0.9949595298404164, 0.0012805141954188113, 0.0012805141954188113, 0.0012805141954188113, 0.0012805141954188113, 0.9918389094398137, 0.0017711409097139529, 0.0017711409097139529, 0.0017711409097139529, 0.0017711409097139529, 0.993187774406319, 0.0016389237201424405, 0.0016389237201424405, 0.0016389237201424405, 0.0016389237201424405, 0.8052951673792395, 0.04238395617785471, 0.04238395617785471, 0.04238395617785471, 0.04238395617785471, 0.2241957022416644, 0.2241957022416644, 0.2241957022416644, 0.2241957022416644, 0.9748919855950858, 0.005158158653942253, 0.005158158653942253, 0.005158158653942253, 0.005158158653942253, 0.9514224920841259, 0.011745956692396616, 0.011745956692396616, 0.011745956692396616, 0.011745956692396616, 0.9806661663726808, 0.004320115270364232, 0.004320115270364232, 0.004320115270364232, 0.004320115270364232, 0.9957317151081762, 0.0009977271694470702, 0.0009977271694470702, 0.0009977271694470702, 0.0009977271694470702, 0.9682803678981967, 0.007280303518031554, 0.007280303518031554, 0.007280303518031554, 0.007280303518031554, 0.9729512438164644, 0.005757107951576712, 0.005757107951576712, 0.005757107951576712, 0.005757107951576712, 0.9771564001252924, 0.005816407143602931, 0.005816407143602931, 0.005816407143602931, 0.005816407143602931, 0.8442662118828707, 0.03670722660360307, 0.03670722660360307, 0.03670722660360307, 0.03670722660360307, 0.9785938272241612, 0.004408080302811537, 0.004408080302811537, 0.004408080302811537, 0.004408080302811537, 0.9352753733535287, 0.015587922889225479, 0.015587922889225479, 0.015587922889225479, 0.015587922889225479, 0.8873239326325152, 0.026888604019167126, 0.026888604019167126, 0.026888604019167126, 0.026888604019167126, 0.9609933556532414, 0.008429766277660013, 0.008429766277660013, 0.008429766277660013, 0.008429766277660013, 0.9719369707753232, 0.006523066917955189, 0.006523066917955189, 0.006523066917955189, 0.006523066917955189, 0.9453970503006663, 0.012950644524666663, 0.012950644524666663, 0.012950644524666663, 0.012950644524666663, 0.9822340929989791, 0.003836851925777262, 0.003836851925777262, 0.003836851925777262, 0.003836851925777262, 0.9961870094425513, 0.0007868775745991717, 0.0007868775745991717, 0.0007868775745991717, 0.0007868775745991717, 0.9661373559391611, 0.008474889087185623, 0.008474889087185623, 0.008474889087185623, 0.008474889087185623, 0.9277273811540896, 0.015462123019234827, 0.015462123019234827, 0.015462123019234827, 0.015462123019234827, 0.9800877437355046, 0.004261251059719585, 0.004261251059719585, 0.004261251059719585, 0.004261251059719585, 0.2241957022416644, 0.2241957022416644, 0.2241957022416644, 0.2241957022416644, 0.9383043204854816, 0.014004542096798234, 0.014004542096798234, 0.014004542096798234, 0.014004542096798234, 0.9922783975544587, 0.0017227055513098241, 0.0017227055513098241, 0.0017227055513098241, 0.0017227055513098241, 0.9837894212404084, 0.003783805466309263, 0.003783805466309263, 0.003783805466309263, 0.003783805466309263, 0.978737446470422, 0.004616686068256708, 0.004616686068256708, 0.004616686068256708, 0.004616686068256708, 0.9748950698373583, 0.005298342770855208, 0.005298342770855208, 0.005298342770855208, 0.005298342770855208, 0.986256476742017, 0.0031917685331456862, 0.0031917685331456862, 0.0031917685331456862, 0.0031917685331456862, 0.977820527905134, 0.005201173020771989, 0.005201173020771989, 0.005201173020771989, 0.005201173020771989, 0.990498402339543, 0.0021485865560510694, 0.0021485865560510694, 0.0021485865560510694, 0.0021485865560510694, 0.9555335897233845, 0.01098314470946419, 0.01098314470946419, 0.01098314470946419, 0.01098314470946419, 0.9933261731339483, 0.001366335864008182, 0.001366335864008182, 0.001366335864008182, 0.001366335864008182, 0.9898755973603797, 0.002244615867030339, 0.002244615867030339, 0.002244615867030339, 0.002244615867030339, 0.9925680802058767, 0.0016191975207273683, 0.0016191975207273683, 0.0016191975207273683, 0.0016191975207273683, 0.9062058645720155, 0.02323604780953886, 0.02323604780953886, 0.02323604780953886, 0.02323604780953886, 0.9066580341080682, 0.01929059647038443, 0.01929059647038443, 0.01929059647038443, 0.01929059647038443, 0.9247992597917409, 0.016224548417398964, 0.016224548417398964, 0.016224548417398964, 0.016224548417398964, 0.9652289564207092, 0.00736815997267717, 0.00736815997267717, 0.00736815997267717, 0.00736815997267717, 0.9613831112563226, 0.009810031747513496, 0.009810031747513496, 0.009810031747513496, 0.009810031747513496, 0.970719290105062, 0.0059920943833645796, 0.0059920943833645796, 0.0059920943833645796, 0.0059920943833645796, 0.9904754594831225, 0.0021346453868170746, 0.0021346453868170746, 0.0021346453868170746, 0.0021346453868170746, 0.9115853662878748, 0.02223378942165548, 0.02223378942165548, 0.02223378942165548, 0.02223378942165548, 0.9455515675636995, 0.012441467994259206, 0.012441467994259206, 0.012441467994259206, 0.012441467994259206, 0.9683586187677893, 0.006632593279231433, 0.006632593279231433, 0.006632593279231433, 0.006632593279231433, 0.9850069320781915, 0.003177441716381263, 0.003177441716381263, 0.003177441716381263, 0.003177441716381263, 0.9933633393917083, 0.001476022792558259, 0.001476022792558259, 0.001476022792558259, 0.001476022792558259, 0.9732518726390516, 0.006045042687199078, 0.006045042687199078, 0.006045042687199078, 0.006045042687199078, 0.9864416031707208, 0.0029983027451997595, 0.0029983027451997595, 0.0029983027451997595, 0.0029983027451997595, 0.9844404349415842, 0.0035928483027065114, 0.0035928483027065114, 0.0035928483027065114, 0.0035928483027065114, 0.8953740997018662, 0.024871502769496283, 0.024871502769496283, 0.024871502769496283, 0.024871502769496283, 0.9833304310984352, 0.004149073548938545, 0.004149073548938545, 0.004149073548938545, 0.004149073548938545, 0.9684868977746358, 0.0073370219528381495, 0.0073370219528381495, 0.0073370219528381495, 0.0073370219528381495, 0.9776580648756309, 0.004611594645639768, 0.004611594645639768, 0.004611594645639768, 0.004611594645639768, 0.9932694596410494, 0.001581639266944346, 0.001581639266944346, 0.001581639266944346, 0.001581639266944346, 0.9681841125175986, 0.007871415548923566, 0.007871415548923566, 0.007871415548923566, 0.007871415548923566, 0.9812524132244118, 0.004157849208578016, 0.004157849208578016, 0.004157849208578016, 0.004157849208578016, 0.9849078504273655, 0.003716633397839115, 0.003716633397839115, 0.003716633397839115, 0.003716633397839115, 0.9715508314991149, 0.006110382588044748, 0.006110382588044748, 0.006110382588044748, 0.006110382588044748, 0.9843171572678404, 0.003259328335323975, 0.003259328335323975, 0.003259328335323975, 0.003259328335323975, 0.9779259490297214, 0.00456974742537253, 0.00456974742537253, 0.00456974742537253, 0.00456974742537253, 0.9867483713255127, 0.0030175791172034026, 0.0030175791172034026, 0.0030175791172034026, 0.0030175791172034026, 0.9957795013396104, 0.0008674037468115073, 0.0008674037468115073, 0.0008674037468115073, 0.0008674037468115073, 0.9281176474815032, 0.016874866317845513, 0.016874866317845513, 0.016874866317845513, 0.016874866317845513, 0.9714613615897072, 0.0059598856539245845, 0.0059598856539245845, 0.0059598856539245845, 0.0059598856539245845, 0.993459809274505, 0.0013498095234707947, 0.0013498095234707947, 0.0013498095234707947, 0.0013498095234707947, 0.9709033721298401, 0.0073000253543597, 0.0073000253543597, 0.0073000253543597, 0.0073000253543597, 0.2241957022416644, 0.2241957022416644, 0.2241957022416644, 0.2241957022416644, 0.9791434920407551, 0.004730161797298333, 0.004730161797298333, 0.004730161797298333, 0.004730161797298333, 0.9914947571878762, 0.0017705263521212073, 0.0017705263521212073, 0.0017705263521212073, 0.0017705263521212073, 0.989924046154539, 0.002481012647003857, 0.002481012647003857, 0.002481012647003857, 0.002481012647003857, 0.9680971115311717, 0.007118361114199792, 0.007118361114199792, 0.007118361114199792, 0.007118361114199792, 0.905260238886143, 0.021553815211574835, 0.021553815211574835, 0.021553815211574835, 0.021553815211574835, 0.9809277125471221, 0.004104300052498419, 0.004104300052498419, 0.004104300052498419, 0.004104300052498419, 0.9481365466694298, 0.01298817187218397, 0.01298817187218397, 0.01298817187218397, 0.01298817187218397, 0.9511950048438833, 0.011599939083461991, 0.011599939083461991, 0.011599939083461991, 0.011599939083461991, 0.9699894202444419, 0.006978341152837711, 0.006978341152837711, 0.006978341152837711, 0.006978341152837711, 0.9792995328640705, 0.004730915617700823, 0.004730915617700823, 0.004730915617700823, 0.004730915617700823, 0.9796371472316301, 0.004755520132192379, 0.004755520132192379, 0.004755520132192379, 0.004755520132192379, 0.977904679304419, 0.005119919786934131, 0.005119919786934131, 0.005119919786934131, 0.005119919786934131, 0.9862121803577244, 0.0029351552986837037, 0.0029351552986837037, 0.0029351552986837037, 0.0029351552986837037, 0.9771312666658393, 0.005747830980387289, 0.005747830980387289, 0.005747830980387289, 0.005747830980387289, 0.9508281394309661, 0.011056141156174025, 0.011056141156174025, 0.011056141156174025, 0.011056141156174025, 0.9879709148506486, 0.002897275410119204, 0.002897275410119204, 0.002897275410119204, 0.002897275410119204, 0.2241957022416644, 0.2241957022416644, 0.2241957022416644, 0.2241957022416644, 0.9733183785976184, 0.005468080778638306, 0.005468080778638306, 0.005468080778638306, 0.005468080778638306, 0.9901886454328889, 0.0020758671812010246, 0.0020758671812010246, 0.0020758671812010246, 0.0020758671812010246, 0.9885884204761807, 0.0025544920425741103, 0.0025544920425741103, 0.0025544920425741103, 0.0025544920425741103, 0.9291793165477813, 0.015486321942463022, 0.015486321942463022, 0.015486321942463022, 0.015486321942463022, 0.9735763701717025, 0.006009730680072238, 0.006009730680072238, 0.006009730680072238, 0.006009730680072238, 0.2241957022416644, 0.2241957022416644, 0.2241957022416644, 0.2241957022416644, 0.2241957022416644, 0.2241957022416644, 0.2241957022416644, 0.2241957022416644, 0.9680718762803431, 0.0073898616509949855, 0.0073898616509949855, 0.0073898616509949855, 0.0073898616509949855, 0.9870087769754788, 0.0032682409833625125, 0.0032682409833625125, 0.0032682409833625125, 0.0032682409833625125, 0.9796938453706295, 0.004621197383823724, 0.004621197383823724, 0.004621197383823724, 0.004621197383823724, 0.9931594926328365, 0.001509360931052943, 0.001509360931052943, 0.001509360931052943, 0.001509360931052943, 0.9794865807312269, 0.00424020164818713, 0.00424020164818713, 0.00424020164818713, 0.00424020164818713, 0.7790588764680586, 0.055647062604861325, 0.055647062604861325, 0.055647062604861325, 0.055647062604861325, 0.9594375599703721, 0.00856640678544975, 0.00856640678544975, 0.00856640678544975, 0.00856640678544975, 0.9752518475666264, 0.006211795207430742, 0.006211795207430742, 0.006211795207430742, 0.006211795207430742, 0.982224073091418, 0.0043269782955569075, 0.0043269782955569075, 0.0043269782955569075, 0.0043269782955569075, 0.9671689270655123, 0.008059741058879268, 0.008059741058879268, 0.008059741058879268, 0.008059741058879268, 0.2241957022416644, 0.2241957022416644, 0.2241957022416644, 0.2241957022416644, 0.9372046235064511, 0.013582675702992044, 0.013582675702992044, 0.013582675702992044, 0.013582675702992044, 0.9856216726606158, 0.0032636479227172712, 0.0032636479227172712, 0.0032636479227172712, 0.0032636479227172712, 0.9411565826194475, 0.014938993374911863, 0.014938993374911863, 0.014938993374911863, 0.014938993374911863, 0.9769776998114751, 0.0051150664911595554, 0.0051150664911595554, 0.0051150664911595554, 0.0051150664911595554, 0.9895426532676787, 0.0023844401283558522, 0.0023844401283558522, 0.0023844401283558522, 0.0023844401283558522, 0.982940020412836, 0.004218626697050798, 0.004218626697050798, 0.004218626697050798, 0.004218626697050798, 0.9603150219398184, 0.009323446814949694, 0.009323446814949694, 0.009323446814949694, 0.009323446814949694, 0.9696633930615988, 0.007695741214774594, 0.007695741214774594, 0.007695741214774594, 0.007695741214774594, 0.9920909296706576, 0.0018304260695030583, 0.0018304260695030583, 0.0018304260695030583, 0.0018304260695030583, 0.9680580104455626, 0.00672262507253863, 0.00672262507253863, 0.00672262507253863, 0.00672262507253863, 0.9965384910547807, 0.0007683411650383814, 0.0007683411650383814, 0.0007683411650383814, 0.0007683411650383814, 0.9834100863064209, 0.003438496805267206, 0.003438496805267206, 0.003438496805267206, 0.003438496805267206, 0.9854924279672975, 0.0034337715260184584, 0.0034337715260184584, 0.0034337715260184584, 0.0034337715260184584, 0.9731184966234492, 0.006805024451912232, 0.006805024451912232, 0.006805024451912232, 0.006805024451912232, 0.9746584609553639, 0.0054147692275297995, 0.0054147692275297995, 0.0054147692275297995, 0.0054147692275297995, 0.8644864493684339, 0.027886659657046255, 0.027886659657046255, 0.027886659657046255, 0.027886659657046255, 0.9563254149740564, 0.00965985267650562, 0.00965985267650562, 0.00965985267650562, 0.00965985267650562, 0.8855858866225826, 0.025302453903502362, 0.025302453903502362, 0.025302453903502362, 0.025302453903502362, 0.9795103179081868, 0.004801521166216602, 0.004801521166216602, 0.004801521166216602, 0.004801521166216602, 0.2241957022416644, 0.2241957022416644, 0.2241957022416644, 0.2241957022416644, 0.9716626880503084, 0.00611108608836672, 0.00611108608836672, 0.00611108608836672, 0.00611108608836672, 0.946953387890024, 0.01229809594662369, 0.01229809594662369, 0.01229809594662369, 0.01229809594662369, 0.2241957022416644, 0.2241957022416644, 0.2241957022416644, 0.2241957022416644, 0.2241957022416644, 0.2241957022416644, 0.2241957022416644, 0.2241957022416644, 0.9850396258375598, 0.00332783657377554, 0.00332783657377554, 0.00332783657377554, 0.00332783657377554, 0.9656887779155996, 0.007787812725125803, 0.007787812725125803, 0.007787812725125803, 0.007787812725125803, 0.9968696787037744, 0.0007668228297721342, 0.0007668228297721342, 0.0007668228297721342, 0.0007668228297721342, 0.9619936806101065, 0.008666609735226184, 0.008666609735226184, 0.008666609735226184, 0.008666609735226184, 0.2241957022416644, 0.2241957022416644, 0.2241957022416644, 0.2241957022416644, 0.9880521574285626, 0.0025205412179300068, 0.0025205412179300068, 0.0025205412179300068, 0.0025205412179300068, 0.2241957022416644, 0.2241957022416644, 0.2241957022416644, 0.2241957022416644, 0.9928786421872026, 0.0016520443297624002, 0.0016520443297624002, 0.0016520443297624002, 0.0016520443297624002, 0.9859511062283676, 0.003264738762345588, 0.003264738762345588, 0.003264738762345588, 0.003264738762345588, 0.9685510230379915, 0.0064142451856820625, 0.0064142451856820625, 0.0064142451856820625, 0.0064142451856820625, 0.9936170630046625, 0.0013481914016345489, 0.0013481914016345489, 0.0013481914016345489, 0.0013481914016345489, 0.9636383253894031, 0.008452967766573711, 0.008452967766573711, 0.008452967766573711, 0.008452967766573711, 0.9853506690683491, 0.0034818044843404564, 0.0034818044843404564, 0.0034818044843404564, 0.0034818044843404564, 0.2241957022416644, 0.2241957022416644, 0.2241957022416644, 0.2241957022416644, 0.9690877650815243, 0.007022375109286408, 0.007022375109286408, 0.007022375109286408, 0.007022375109286408, 0.9459791227693578, 0.01197441927556149, 0.01197441927556149, 0.01197441927556149, 0.01197441927556149, 0.8700981620879599, 0.02900327206959866, 0.02900327206959866, 0.02900327206959866, 0.02900327206959866, 0.9531422782397799, 0.010360242154780217, 0.010360242154780217, 0.010360242154780217, 0.010360242154780217, 0.9414799335821179, 0.014264847478516939, 0.014264847478516939, 0.014264847478516939, 0.014264847478516939, 0.985119603618166, 0.003759998487092237, 0.003759998487092237, 0.003759998487092237, 0.003759998487092237, 0.9897359337560164, 0.002379172917682732, 0.002379172917682732, 0.002379172917682732, 0.002379172917682732, 0.8653516012891982, 0.03205005930700734, 0.03205005930700734, 0.03205005930700734, 0.03205005930700734, 0.9820758218977126, 0.004326325206597853, 0.004326325206597853, 0.004326325206597853, 0.004326325206597853, 0.9906195044774668, 0.0022668638546395124, 0.0022668638546395124, 0.0022668638546395124, 0.0022668638546395124, 0.9922187306542523, 0.0019609065823206566, 0.0019609065823206566, 0.0019609065823206566, 0.0019609065823206566, 0.9560629410532503, 0.009105361343364288, 0.009105361343364288, 0.009105361343364288, 0.009105361343364288, 0.9763274077859458, 0.00551597405528783, 0.00551597405528783, 0.00551597405528783, 0.00551597405528783, 0.2241957022416644, 0.2241957022416644, 0.2241957022416644, 0.2241957022416644, 0.9753180633408326, 0.0057371650784754855, 0.0057371650784754855, 0.0057371650784754855, 0.0057371650784754855, 0.2241957022416644, 0.2241957022416644, 0.2241957022416644, 0.2241957022416644, 0.2241957022416644, 0.2241957022416644, 0.2241957022416644, 0.2241957022416644, 0.9030922374329312, 0.02440789830899814, 0.02440789830899814, 0.02440789830899814, 0.02440789830899814, 0.2241957022416644, 0.2241957022416644, 0.2241957022416644, 0.2241957022416644, 0.9833710121286852, 0.003933484048514741, 0.003933484048514741, 0.003933484048514741, 0.003933484048514741, 0.9751984047674254, 0.005387836490427764, 0.005387836490427764, 0.005387836490427764, 0.005387836490427764, 0.9927283057490618, 0.001541503580355686, 0.001541503580355686, 0.001541503580355686, 0.001541503580355686, 0.9948633688684971, 0.0012267119221559767, 0.0012267119221559767, 0.0012267119221559767, 0.0012267119221559767, 0.9554974487356885, 0.010057867881428302, 0.010057867881428302, 0.010057867881428302, 0.010057867881428302, 0.9921811912756027, 0.0016454082774056428, 0.0016454082774056428, 0.0016454082774056428, 0.0016454082774056428, 0.9770378908218517, 0.005427988282343621, 0.005427988282343621, 0.005427988282343621, 0.005427988282343621, 0.9692447271748932, 0.006504998168959014, 0.006504998168959014, 0.006504998168959014, 0.006504998168959014, 0.7907856301827623, 0.04942410188642264, 0.04942410188642264, 0.04942410188642264, 0.04942410188642264, 0.9729511415093532, 0.005861151454875622, 0.005861151454875622, 0.005861151454875622, 0.005861151454875622, 0.9717733602187595, 0.007198321186805626, 0.007198321186805626, 0.007198321186805626, 0.007198321186805626, 0.9175862226388105, 0.01911637963830855, 0.01911637963830855, 0.01911637963830855, 0.01911637963830855, 0.6530380828925983, 0.07255978698806648, 0.07255978698806648, 0.07255978698806648, 0.07255978698806648, 0.7433230318405297, 0.05717869475696383, 0.05717869475696383, 0.05717869475696383, 0.05717869475696383, 0.9580260253136176, 0.010191766226740612, 0.010191766226740612, 0.010191766226740612, 0.010191766226740612, 0.9884107123206307, 0.0027532331819516177, 0.0027532331819516177, 0.0027532331819516177, 0.0027532331819516177, 0.9525542661728936, 0.011206520778504632, 0.011206520778504632, 0.011206520778504632, 0.011206520778504632, 0.9294824981294183, 0.015237418002121613, 0.015237418002121613, 0.015237418002121613, 0.015237418002121613, 0.9669942289410499, 0.007991687842488016, 0.007991687842488016, 0.007991687842488016, 0.007991687842488016, 0.9941593375959614, 0.0013290900235240126, 0.0013290900235240126, 0.0013290900235240126, 0.0013290900235240126, 0.9791548831987009, 0.0049956881795852085, 0.0049956881795852085, 0.0049956881795852085, 0.0049956881795852085, 0.9213970827406218, 0.018427941654812437, 0.018427941654812437, 0.018427941654812437, 0.018427941654812437, 0.9833239255363363, 0.004149046099309436, 0.004149046099309436, 0.004149046099309436, 0.004149046099309436, 0.9734317262510297, 0.005864046543680902, 0.005864046543680902, 0.005864046543680902, 0.005864046543680902, 0.9695617589172701, 0.007289938036971956, 0.007289938036971956, 0.007289938036971956, 0.007289938036971956, 0.9734081133847006, 0.006621823900576194, 0.006621823900576194, 0.006621823900576194, 0.006621823900576194, 0.9663816724930628, 0.006853770726901155, 0.006853770726901155, 0.006853770726901155, 0.006853770726901155, 0.939151319956915, 0.01322748337967486, 0.01322748337967486, 0.01322748337967486, 0.01322748337967486, 0.9841534613597281, 0.0038899346298803482, 0.0038899346298803482, 0.0038899346298803482, 0.0038899346298803482, 0.9104249260077047, 0.0206914755910842, 0.0206914755910842, 0.0206914755910842, 0.0206914755910842, 0.8102611927312394, 0.04501451070729108, 0.04501451070729108, 0.04501451070729108, 0.04501451070729108, 0.9792289630181485, 0.005126853209519102, 0.005126853209519102, 0.005126853209519102, 0.005126853209519102, 0.9754544006065442, 0.006134933337148077, 0.006134933337148077, 0.006134933337148077, 0.006134933337148077, 0.9719922123891125, 0.006703394568200776, 0.006703394568200776, 0.006703394568200776, 0.006703394568200776, 0.9523430564724003, 0.010024663752341055, 0.010024663752341055, 0.010024663752341055, 0.010024663752341055, 0.995294387917932, 0.0009616370897757798, 0.0009616370897757798, 0.0009616370897757798, 0.0009616370897757798, 0.9875998435611729, 0.0028709297777941073, 0.0028709297777941073, 0.0028709297777941073, 0.0028709297777941073, 0.9665501421922833, 0.008332328812002443, 0.008332328812002443, 0.008332328812002443, 0.008332328812002443, 0.9695450193974775, 0.007025688546358533, 0.007025688546358533, 0.007025688546358533, 0.007025688546358533, 0.9311031126790419, 0.014107622919379422, 0.014107622919379422, 0.014107622919379422, 0.014107622919379422, 0.9638245385420506, 0.007414034911861928, 0.007414034911861928, 0.007414034911861928, 0.007414034911861928, 0.9794092029479059, 0.0050226112971687486, 0.0050226112971687486, 0.0050226112971687486, 0.0050226112971687486, 0.9468491471019062, 0.012970536261669947, 0.012970536261669947, 0.012970536261669947, 0.012970536261669947, 0.9628232582474983, 0.007764703695544341, 0.007764703695544341, 0.007764703695544341, 0.007764703695544341, 0.9921509078282571, 0.001787659293384247, 0.001787659293384247, 0.001787659293384247, 0.001787659293384247, 0.9852125146768749, 0.003385610016071735, 0.003385610016071735, 0.003385610016071735, 0.003385610016071735, 0.9868459986000585, 0.0028855146157896446, 0.0028855146157896446, 0.0028855146157896446, 0.0028855146157896446, 0.9583235595058247, 0.008791959261521327, 0.008791959261521327, 0.008791959261521327, 0.008791959261521327, 0.8917679805156979, 0.02346757843462363, 0.02346757843462363, 0.02346757843462363, 0.02346757843462363, 0.9839270321595154, 0.0036441741931833903, 0.0036441741931833903, 0.0036441741931833903, 0.0036441741931833903, 0.9869621900201229, 0.003065099969006593, 0.003065099969006593, 0.003065099969006593, 0.003065099969006593, 0.9794649618901315, 0.0052377805448670135, 0.0052377805448670135, 0.0052377805448670135, 0.0052377805448670135, 0.9903043738397876, 0.0022976899625053076, 0.0022976899625053076, 0.0022976899625053076, 0.0022976899625053076, 0.9248168886546425, 0.017126238678789676, 0.017126238678789676, 0.017126238678789676, 0.017126238678789676, 0.897968135615699, 0.025656232446162826, 0.025656232446162826, 0.025656232446162826, 0.025656232446162826, 0.9692758498162805, 0.006293999024781042, 0.006293999024781042, 0.006293999024781042, 0.006293999024781042, 0.986732109041657, 0.0032673248643763477, 0.0032673248643763477, 0.0032673248643763477, 0.0032673248643763477, 0.9701349221774784, 0.006467566147849856, 0.006467566147849856, 0.006467566147849856, 0.006467566147849856, 0.943350024991532, 0.012094231089635026, 0.012094231089635026, 0.012094231089635026, 0.012094231089635026, 0.9720333023345284, 0.006437306637977009, 0.006437306637977009, 0.006437306637977009, 0.006437306637977009, 0.2241957022416644, 0.2241957022416644, 0.2241957022416644, 0.2241957022416644, 0.9756717475052679, 0.005512269759916768, 0.005512269759916768, 0.005512269759916768, 0.005512269759916768, 0.7939953351934665, 0.1170607569902291, 0.08831384146016104, 0.00013820632466378878, 0.00013820632466378878, 0.00013820632466378878, 0.00013820632466378878, 0.984838078837508, 0.0036207282310202495, 0.0036207282310202495, 0.0036207282310202495, 0.0036207282310202495, 0.9515245798513013, 0.009911714373451055, 0.009911714373451055, 0.009911714373451055, 0.009911714373451055, 0.9783950983765268, 0.005465894404338139, 0.005465894404338139, 0.005465894404338139, 0.005465894404338139, 0.2241957022416644, 0.2241957022416644, 0.2241957022416644, 0.2241957022416644, 0.2241957022416644, 0.2241957022416644, 0.2241957022416644, 0.2241957022416644, 0.9587473646176582, 0.009587473646176582, 0.009587473646176582, 0.009587473646176582, 0.009587473646176582, 0.9883436320978937, 0.0023758260386968597, 0.0023758260386968597, 0.0023758260386968597, 0.0023758260386968597, 0.9682704077349011, 0.008002234774668604, 0.008002234774668604, 0.008002234774668604, 0.008002234774668604, 0.2241957022416644, 0.2241957022416644, 0.2241957022416644, 0.2241957022416644, 0.9852630840336966, 0.003409214823646009, 0.003409214823646009, 0.003409214823646009, 0.003409214823646009, 0.9649031099014737, 0.00784474073090629, 0.00784474073090629, 0.00784474073090629, 0.00784474073090629, 0.7548824991858457, 0.05806788455275736, 0.05806788455275736, 0.05806788455275736, 0.05806788455275736, 0.9734798639679098, 0.005562742079816627, 0.005562742079816627, 0.005562742079816627, 0.005562742079816627, 0.9915220631145736, 0.0018850229336778964, 0.0018850229336778964, 0.0018850229336778964, 0.0018850229336778964, 0.990568819484646, 0.0021487393047389283, 0.0021487393047389283, 0.0021487393047389283, 0.0021487393047389283, 0.9938910220311062, 0.0014383372243576067, 0.0014383372243576067, 0.0014383372243576067, 0.0014383372243576067, 0.986623013534464, 0.003182654882369239, 0.003182654882369239, 0.003182654882369239, 0.003182654882369239, 0.9558911855488522, 0.010621013172765025, 0.010621013172765025, 0.010621013172765025, 0.010621013172765025, 0.9885763084261785, 0.002387865479290286, 0.002387865479290286, 0.002387865479290286, 0.002387865479290286, 0.9690618386611725, 0.006333737507589362, 0.006333737507589362, 0.006333737507589362, 0.006333737507589362, 0.9828488831780501, 0.004348888863619691, 0.004348888863619691, 0.004348888863619691, 0.004348888863619691, 0.9409517202960771, 0.013837525298471723, 0.013837525298471723, 0.013837525298471723, 0.013837525298471723, 0.9908504455147019, 0.0023259400129453096, 0.0023259400129453096, 0.0023259400129453096, 0.0023259400129453096, 0.9258599572485183, 0.01596310271118135, 0.01596310271118135, 0.01596310271118135, 0.01596310271118135, 0.9948974462689438, 0.0012297867073781752, 0.0012297867073781752, 0.0012297867073781752, 0.0012297867073781752, 0.8491060104298864, 0.03691765262738637, 0.03691765262738637, 0.03691765262738637, 0.03691765262738637, 0.97045487731433, 0.006692792257340207, 0.006692792257340207, 0.006692792257340207, 0.006692792257340207, 0.9870958731549756, 0.0030750650254049083, 0.0030750650254049083, 0.0030750650254049083, 0.0030750650254049083, 0.9270834951607823, 0.015198090084602989, 0.015198090084602989, 0.015198090084602989, 0.015198090084602989, 0.9888919068396355, 0.0026440960075926083, 0.0026440960075926083, 0.0026440960075926083, 0.0026440960075926083, 0.9880895054956494, 0.0027070945356045192, 0.0027070945356045192, 0.0027070945356045192, 0.0027070945356045192, 0.9908014126447203, 0.0020598781967665703, 0.0020598781967665703, 0.0020598781967665703, 0.0020598781967665703, 0.9834388216795825, 0.003475048839857182, 0.003475048839857182, 0.003475048839857182, 0.003475048839857182, 0.9958441523365958, 0.0008971568939969332, 0.0008971568939969332, 0.0008971568939969332, 0.0008971568939969332], \"Term\": [\"15\", \"15\", \"15\", \"15\", \"15\", \"2018\", \"2018\", \"2018\", \"2018\", \"2020\", \"2020\", \"2020\", \"2020\", \"2020\", \"3\", \"3\", \"3\", \"3\", \"3\", \"4\", \"4\", \"4\", \"4\", \"4\", \"5\", \"5\", \"5\", \"5\", \"5\", \"6\", \"6\", \"6\", \"6\", \"6\", \"abuse\", \"abuse\", \"abuse\", \"abuse\", \"abuse\", \"accuses\", \"accuses\", \"accuses\", \"accuses\", \"accuses\", \"act\", \"act\", \"act\", \"act\", \"act\", \"activist\", \"activist\", \"activist\", \"activist\", \"activist\", \"address\", \"address\", \"address\", \"address\", \"address\", \"age\", \"age\", \"age\", \"age\", \"ahead\", \"ahead\", \"ahead\", \"ahead\", \"ahead\", \"aid\", \"aid\", \"aid\", \"aid\", \"aid\", \"aim\", \"aim\", \"aim\", \"aim\", \"aim\", \"allegation\", \"allegation\", \"allegation\", \"allegation\", \"alleged\", \"alleged\", \"alleged\", \"alleged\", \"alleged\", \"almost\", \"almost\", \"almost\", \"almost\", \"amid\", \"amid\", \"amid\", \"amid\", \"amid\", \"answer\", \"answer\", \"answer\", \"answer\", \"asks\", \"asks\", \"asks\", \"asks\", \"asks\", \"attack\", \"attack\", \"attack\", \"attack\", \"attack\", \"back\", \"back\", \"back\", \"back\", \"back\", \"bader\", \"bader\", \"bader\", \"bader\", \"bader\", \"beat\", \"beat\", \"beat\", \"beat\", \"beat\", \"become\", \"become\", \"become\", \"become\", \"best\", \"best\", \"best\", \"best\", \"biden\", \"biden\", \"biden\", \"biden\", \"biden\", \"bill\", \"bill\", \"bill\", \"bill\", \"bill\", \"billion\", \"billion\", \"billion\", \"billion\", \"billion\", \"billionaire\", \"billionaire\", \"billionaire\", \"billionaire\", \"blame\", \"blame\", \"blame\", \"blame\", \"blame\", \"blue\", \"blue\", \"blue\", \"blue\", \"board\", \"board\", \"board\", \"board\", \"board\", \"border\", \"border\", \"border\", \"border\", \"border\", \"brett\", \"brett\", \"brett\", \"brett\", \"brett\", \"budget\", \"budget\", \"budget\", \"budget\", \"budget\", \"business\", \"business\", \"business\", \"business\", \"business\", \"call\", \"call\", \"call\", \"call\", \"call\", \"campaign\", \"campaign\", \"campaign\", \"campaign\", \"campaign\", \"candidate\", \"candidate\", \"candidate\", \"candidate\", \"candidate\", \"card\", \"card\", \"card\", \"card\", \"card\", \"care\", \"care\", \"care\", \"care\", \"care\", \"carolina\", \"carolina\", \"carolina\", \"carolina\", \"carolina\", \"case\", \"case\", \"case\", \"case\", \"case\", \"cbs\", \"cbs\", \"cbs\", \"cbs\", \"cbs\", \"challenge\", \"challenge\", \"challenge\", \"challenge\", \"challenge\", \"change\", \"change\", \"change\", \"change\", \"change\", \"charge\", \"charge\", \"charge\", \"charge\", \"charge\", \"chief\", \"chief\", \"chief\", \"chief\", \"chief\", \"child\", \"child\", \"child\", \"child\", \"child\", \"chinese\", \"chinese\", \"chinese\", \"chinese\", \"chinese\", \"cia\", \"cia\", \"cia\", \"cia\", \"cia\", \"city\", \"city\", \"city\", \"city\", \"city\", \"claim\", \"claim\", \"claim\", \"claim\", \"claim\", \"clash\", \"clash\", \"clash\", \"clash\", \"clash\", \"clinton\", \"clinton\", \"clinton\", \"clinton\", \"clinton\", \"college\", \"college\", \"college\", \"college\", \"college\", \"colorado\", \"colorado\", \"colorado\", \"colorado\", \"colorado\", \"committee\", \"committee\", \"committee\", \"committee\", \"committee\", \"congress\", \"congress\", \"congress\", \"congress\", \"congress\", \"continues\", \"continues\", \"continues\", \"continues\", \"continues\", \"control\", \"control\", \"control\", \"control\", \"control\", \"controversy\", \"controversy\", \"controversy\", \"controversy\", \"controversy\", \"convention\", \"convention\", \"convention\", \"convention\", \"convention\", \"coronavirus\", \"coronavirus\", \"coronavirus\", \"coronavirus\", \"coronavirus\", \"cost\", \"cost\", \"cost\", \"cost\", \"cost\", \"court\", \"court\", \"court\", \"court\", \"court\", \"covid\", \"covid\", \"covid\", \"covid\", \"covid\", \"covid19\", \"covid19\", \"covid19\", \"covid19\", \"covid19\", \"criminal\", \"criminal\", \"criminal\", \"criminal\", \"criminal\", \"cruise\", \"cruise\", \"cruise\", \"cruise\", \"cruise\", \"cut\", \"cut\", \"cut\", \"cut\", \"cut\", \"daily\", \"daily\", \"daily\", \"daily\", \"daily\", \"day\", \"day\", \"day\", \"day\", \"day\", \"death\", \"death\", \"death\", \"death\", \"death\", \"debate\", \"debate\", \"debate\", \"debate\", \"debate\", \"debt\", \"debt\", \"debt\", \"debt\", \"debt\", \"decision\", \"decision\", \"decision\", \"decision\", \"defense\", \"defense\", \"defense\", \"defense\", \"defense\", \"deliver\", \"deliver\", \"deliver\", \"deliver\", \"deliver\", \"demand\", \"demand\", \"demand\", \"demand\", \"demand\", \"democrat\", \"democrat\", \"democrat\", \"democrat\", \"democrat\", \"denies\", \"denies\", \"denies\", \"denies\", \"denies\", \"despite\", \"despite\", \"despite\", \"despite\", \"despite\", \"died\", \"died\", \"died\", \"died\", \"died\", \"dnc\", \"dnc\", \"dnc\", \"dnc\", \"dnc\", \"doctor\", \"doctor\", \"doctor\", \"doctor\", \"doctor\", \"dozen\", \"dozen\", \"dozen\", \"dozen\", \"dozen\", \"dr\", \"dr\", \"dr\", \"dr\", \"dr\", \"due\", \"due\", \"due\", \"due\", \"due\", \"early\", \"early\", \"early\", \"early\", \"early\", \"effect\", \"effect\", \"effect\", \"effect\", \"effect\", \"effort\", \"effort\", \"effort\", \"effort\", \"effort\", \"election\", \"election\", \"election\", \"election\", \"election\", \"electoral\", \"electoral\", \"electoral\", \"electoral\", \"electoral\", \"email\", \"email\", \"email\", \"email\", \"email\", \"endorses\", \"endorses\", \"endorses\", \"endorses\", \"endorses\", \"evening\", \"evening\", \"evening\", \"evening\", \"eye\", \"eye\", \"eye\", \"eye\", \"eye\", \"face\", \"face\", \"face\", \"face\", \"face\", \"fall\", \"fall\", \"fall\", \"fall\", \"fall\", \"family\", \"family\", \"family\", \"family\", \"family\", \"fauci\", \"fauci\", \"fauci\", \"fauci\", \"fauci\", \"fear\", \"fear\", \"fear\", \"fear\", \"fear\", \"fed\", \"fed\", \"fed\", \"fed\", \"fed\", \"federal\", \"federal\", \"federal\", \"federal\", \"federal\", \"female\", \"female\", \"female\", \"female\", \"female\", \"first\", \"first\", \"first\", \"first\", \"first\", \"force\", \"force\", \"force\", \"force\", \"force\", \"former\", \"former\", \"former\", \"former\", \"former\", \"freedom\", \"freedom\", \"freedom\", \"freedom\", \"freedom\", \"friday\", \"friday\", \"friday\", \"friday\", \"friday\", \"front\", \"front\", \"front\", \"front\", \"front\", \"fund\", \"fund\", \"fund\", \"fund\", \"fund\", \"funding\", \"funding\", \"funding\", \"funding\", \"funding\", \"general\", \"general\", \"general\", \"general\", \"general\", \"get\", \"get\", \"get\", \"get\", \"get\", \"ginsburg\", \"ginsburg\", \"ginsburg\", \"ginsburg\", \"ginsburg\", \"giuliani\", \"giuliani\", \"giuliani\", \"giuliani\", \"giuliani\", \"give\", \"give\", \"give\", \"give\", \"give\", \"go\", \"go\", \"go\", \"go\", \"go\", \"gop\", \"gop\", \"gop\", \"gop\", \"gop\", \"got\", \"got\", \"got\", \"got\", \"got\", \"government\", \"government\", \"government\", \"government\", \"government\", \"governor\", \"governor\", \"governor\", \"governor\", \"governor\", \"graham\", \"graham\", \"graham\", \"graham\", \"graham\", \"group\", \"group\", \"group\", \"group\", \"group\", \"gun\", \"gun\", \"gun\", \"gun\", \"gun\", \"harris\", \"harris\", \"harris\", \"harris\", \"harris\", \"health\", \"health\", \"health\", \"health\", \"health\", \"hear\", \"hear\", \"hear\", \"hear\", \"hear\", \"hearing\", \"hearing\", \"hearing\", \"hearing\", \"hearing\", \"high\", \"high\", \"high\", \"high\", \"high\", \"history\", \"history\", \"history\", \"history\", \"history\", \"hold\", \"hold\", \"hold\", \"hold\", \"hold\", \"hope\", \"hope\", \"hope\", \"hope\", \"hope\", \"hospital\", \"hospital\", \"hospital\", \"hospital\", \"hospital\", \"house\", \"house\", \"house\", \"house\", \"house\", \"hurricane\", \"hurricane\", \"hurricane\", \"hurricane\", \"hurricane\", \"immigration\", \"immigration\", \"immigration\", \"immigration\", \"immigration\", \"impeachment\", \"impeachment\", \"impeachment\", \"impeachment\", \"impeachment\", \"intelligence\", \"intelligence\", \"intelligence\", \"intelligence\", \"intelligence\", \"investigation\", \"investigation\", \"investigation\", \"investigation\", \"iowa\", \"iowa\", \"iowa\", \"iowa\", \"iowa\", \"iran\", \"iran\", \"iran\", \"iran\", \"iran\", \"joe\", \"joe\", \"joe\", \"joe\", \"joe\", \"join\", \"join\", \"join\", \"join\", \"join\", \"judiciary\", \"judiciary\", \"judiciary\", \"judiciary\", \"judiciary\", \"justice\", \"justice\", \"justice\", \"justice\", \"justice\", \"kavanaugh\", \"kavanaugh\", \"kavanaugh\", \"kavanaugh\", \"kavanaugh\", \"killing\", \"killing\", \"killing\", \"killing\", \"killing\", \"korea\", \"korea\", \"korea\", \"korea\", \"korea\", \"last\", \"last\", \"last\", \"last\", \"last\", \"latest\", \"latest\", \"latest\", \"latest\", \"latest\", \"law\", \"law\", \"law\", \"law\", \"law\", \"lawmaker\", \"lawmaker\", \"lawmaker\", \"lawmaker\", \"lawmaker\", \"lawsuit\", \"lawsuit\", \"lawsuit\", \"lawsuit\", \"lawsuit\", \"lawyer\", \"lawyer\", \"lawyer\", \"lawyer\", \"lawyer\", \"leader\", \"leader\", \"leader\", \"leader\", \"leader\", \"left\", \"left\", \"left\", \"left\", \"legal\", \"legal\", \"legal\", \"legal\", \"legal\", \"life\", \"life\", \"life\", \"life\", \"life\", \"live\", \"live\", \"live\", \"live\", \"live\", \"living\", \"living\", \"living\", \"living\", \"living\", \"loan\", \"loan\", \"loan\", \"loan\", \"loan\", \"local\", \"local\", \"local\", \"local\", \"lockdown\", \"lockdown\", \"lockdown\", \"lockdown\", \"long\", \"long\", \"long\", \"long\", \"long\", \"look\", \"look\", \"look\", \"look\", \"look\", \"lost\", \"lost\", \"lost\", \"lost\", \"lost\", \"make\", \"make\", \"make\", \"make\", \"make\", \"man\", \"man\", \"man\", \"man\", \"man\", \"mass\", \"mass\", \"mass\", \"mass\", \"mass\", \"massive\", \"massive\", \"massive\", \"massive\", \"massive\", \"medical\", \"medical\", \"medical\", \"medical\", \"medical\", \"medium\", \"medium\", \"medium\", \"medium\", \"medium\", \"meeting\", \"meeting\", \"meeting\", \"meeting\", \"meeting\", \"message\", \"message\", \"message\", \"message\", \"mexico\", \"mexico\", \"mexico\", \"mexico\", \"mexico\", \"michael\", \"michael\", \"michael\", \"michael\", \"michael\", \"midterm\", \"midterm\", \"midterm\", \"midterm\", \"midterm\", \"military\", \"military\", \"military\", \"military\", \"military\", \"million\", \"million\", \"million\", \"million\", \"million\", \"move\", \"move\", \"move\", \"move\", \"move\", \"name\", \"name\", \"name\", \"name\", \"name\", \"nation\", \"nation\", \"nation\", \"nation\", \"nation\", \"need\", \"need\", \"need\", \"need\", \"need\", \"never\", \"never\", \"never\", \"never\", \"never\", \"new\", \"new\", \"new\", \"new\", \"new\", \"news\", \"news\", \"news\", \"news\", \"news\", \"next\", \"next\", \"next\", \"next\", \"next\", \"north\", \"north\", \"north\", \"north\", \"north\", \"november\", \"november\", \"november\", \"november\", \"november\", \"nuclear\", \"nuclear\", \"nuclear\", \"nuclear\", \"nuclear\", \"nurse\", \"nurse\", \"nurse\", \"nurse\", \"nurse\", \"nyc\", \"nyc\", \"nyc\", \"nyc\", \"nyc\", \"obama\", \"obama\", \"obama\", \"obama\", \"obama\", \"ocasiocortez\", \"ocasiocortez\", \"ocasiocortez\", \"ocasiocortez\", \"office\", \"office\", \"office\", \"office\", \"office\", \"officer\", \"officer\", \"officer\", \"officer\", \"officer\", \"oil\", \"oil\", \"oil\", \"oil\", \"opinion\", \"opinion\", \"opinion\", \"opinion\", \"order\", \"order\", \"order\", \"order\", \"order\", \"package\", \"package\", \"package\", \"package\", \"package\", \"pandemic\", \"pandemic\", \"pandemic\", \"pandemic\", \"pandemic\", \"passenger\", \"passenger\", \"passenger\", \"passenger\", \"passenger\", \"pentagon\", \"pentagon\", \"pentagon\", \"pentagon\", \"people\", \"people\", \"people\", \"people\", \"people\", \"personal\", \"personal\", \"personal\", \"personal\", \"plan\", \"plan\", \"plan\", \"plan\", \"plan\", \"policy\", \"policy\", \"policy\", \"policy\", \"policy\", \"positive\", \"positive\", \"positive\", \"positive\", \"positive\", \"president\", \"president\", \"president\", \"president\", \"president\", \"price\", \"price\", \"price\", \"price\", \"price\", \"primary\", \"primary\", \"primary\", \"primary\", \"primary\", \"prince\", \"prince\", \"prince\", \"prince\", \"probe\", \"probe\", \"probe\", \"probe\", \"probe\", \"promise\", \"promise\", \"promise\", \"promise\", \"promise\", \"prompt\", \"prompt\", \"prompt\", \"prompt\", \"prompt\", \"proposal\", \"proposal\", \"proposal\", \"proposal\", \"proposal\", \"protect\", \"protect\", \"protect\", \"protect\", \"protect\", \"protest\", \"protest\", \"protest\", \"protest\", \"protest\", \"public\", \"public\", \"public\", \"public\", \"public\", \"puerto\", \"puerto\", \"puerto\", \"puerto\", \"puerto\", \"push\", \"push\", \"push\", \"push\", \"push\", \"question\", \"question\", \"question\", \"question\", \"question\", \"race\", \"race\", \"race\", \"race\", \"race\", \"raise\", \"raise\", \"raise\", \"raise\", \"raise\", \"reach\", \"reach\", \"reach\", \"reach\", \"reach\", \"ready\", \"ready\", \"ready\", \"ready\", \"record\", \"record\", \"record\", \"record\", \"record\", \"red\", \"red\", \"red\", \"red\", \"reform\", \"reform\", \"reform\", \"reform\", \"reject\", \"reject\", \"reject\", \"reject\", \"reject\", \"release\", \"release\", \"release\", \"release\", \"relief\", \"relief\", \"relief\", \"relief\", \"relief\", \"rep\", \"rep\", \"rep\", \"rep\", \"rep\", \"report\", \"report\", \"report\", \"report\", \"report\", \"republican\", \"republican\", \"republican\", \"republican\", \"republican\", \"request\", \"request\", \"request\", \"request\", \"request\", \"response\", \"response\", \"response\", \"response\", \"response\", \"right\", \"right\", \"right\", \"right\", \"right\", \"rise\", \"rise\", \"rise\", \"rise\", \"rise\", \"rnc\", \"rnc\", \"rnc\", \"rnc\", \"rnc\", \"run\", \"run\", \"run\", \"run\", \"run\", \"russian\", \"russian\", \"russian\", \"russian\", \"russian\", \"ruth\", \"ruth\", \"ruth\", \"ruth\", \"ruth\", \"san\", \"san\", \"san\", \"san\", \"san\", \"saudi\", \"saudi\", \"saudi\", \"saudi\", \"saudi\", \"saying\", \"saying\", \"saying\", \"saying\", \"saying\", \"school\", \"school\", \"school\", \"school\", \"school\", \"scientist\", \"scientist\", \"scientist\", \"scientist\", \"scientist\", \"season\", \"season\", \"season\", \"season\", \"season\", \"see\", \"see\", \"see\", \"see\", \"see\", \"senate\", \"senate\", \"senate\", \"senate\", \"senate\", \"send\", \"send\", \"send\", \"send\", \"send\", \"senior\", \"senior\", \"senior\", \"senior\", \"senior\", \"service\", \"service\", \"service\", \"service\", \"service\", \"set\", \"set\", \"set\", \"set\", \"set\", \"ship\", \"ship\", \"ship\", \"ship\", \"ship\", \"shooting\", \"shooting\", \"shooting\", \"shooting\", \"shooting\", \"shutdown\", \"shutdown\", \"shutdown\", \"shutdown\", \"shutdown\", \"slam\", \"slam\", \"slam\", \"slam\", \"slam\", \"social\", \"social\", \"social\", \"social\", \"social\", \"son\", \"son\", \"son\", \"son\", \"son\", \"source\", \"source\", \"source\", \"source\", \"source\", \"south\", \"south\", \"south\", \"south\", \"south\", \"space\", \"space\", \"space\", \"space\", \"space\", \"speech\", \"speech\", \"speech\", \"speech\", \"speech\", \"spike\", \"spike\", \"spike\", \"spike\", \"spike\", \"state\", \"state\", \"state\", \"state\", \"state\", \"stop\", \"stop\", \"stop\", \"stop\", \"stop\", \"story\", \"story\", \"story\", \"story\", \"story\", \"strategy\", \"strategy\", \"strategy\", \"strategy\", \"strategy\", \"strike\", \"strike\", \"strike\", \"strike\", \"strike\", \"struggle\", \"struggle\", \"struggle\", \"struggle\", \"struggle\", \"student\", \"student\", \"student\", \"student\", \"student\", \"sunday\", \"sunday\", \"sunday\", \"sunday\", \"sunday\", \"supporter\", \"supporter\", \"supporter\", \"supporter\", \"supporter\", \"supreme\", \"supreme\", \"supreme\", \"supreme\", \"supreme\", \"surge\", \"surge\", \"surge\", \"surge\", \"surge\", \"take\", \"take\", \"take\", \"take\", \"take\", \"tax\", \"tax\", \"tax\", \"tax\", \"tax\", \"teacher\", \"teacher\", \"teacher\", \"teacher\", \"teacher\", \"tech\", \"tech\", \"tech\", \"tech\", \"tech\", \"test\", \"test\", \"test\", \"test\", \"test\", \"testimony\", \"testimony\", \"testimony\", \"testimony\", \"testimony\", \"texas\", \"texas\", \"texas\", \"texas\", \"texas\", \"thousand\", \"thousand\", \"thousand\", \"thousand\", \"thousand\", \"tip\", \"tip\", \"tip\", \"tip\", \"tip\", \"toll\", \"toll\", \"toll\", \"toll\", \"toll\", \"top\", \"top\", \"top\", \"top\", \"top\", \"trade\", \"trade\", \"trade\", \"trade\", \"trade\", \"trail\", \"trail\", \"trail\", \"trail\", \"trail\", \"travel\", \"travel\", \"travel\", \"travel\", \"travel\", \"treatment\", \"treatment\", \"treatment\", \"treatment\", \"trillion\", \"trillion\", \"trillion\", \"trillion\", \"trillion\", \"trump\", \"trump\", \"trump\", \"trump\", \"trump\", \"trump\", \"trump\", \"tuesday\", \"tuesday\", \"tuesday\", \"tuesday\", \"tuesday\", \"turn\", \"turn\", \"turn\", \"turn\", \"turn\", \"tweet\", \"tweet\", \"tweet\", \"tweet\", \"tweet\", \"uk\", \"uk\", \"uk\", \"uk\", \"ukraine\", \"ukraine\", \"ukraine\", \"ukraine\", \"union\", \"union\", \"union\", \"union\", \"union\", \"update\", \"update\", \"update\", \"update\", \"update\", \"urge\", \"urge\", \"urge\", \"urge\", \"urge\", \"used\", \"used\", \"used\", \"used\", \"vaccine\", \"vaccine\", \"vaccine\", \"vaccine\", \"vaccine\", \"vice\", \"vice\", \"vice\", \"vice\", \"vice\", \"victim\", \"victim\", \"victim\", \"victim\", \"victim\", \"victory\", \"victory\", \"victory\", \"victory\", \"victory\", \"virus\", \"virus\", \"virus\", \"virus\", \"virus\", \"vote\", \"vote\", \"vote\", \"vote\", \"vote\", \"voter\", \"voter\", \"voter\", \"voter\", \"voter\", \"voting\", \"voting\", \"voting\", \"voting\", \"voting\", \"wall\", \"wall\", \"wall\", \"wall\", \"wall\", \"want\", \"want\", \"want\", \"want\", \"want\", \"warns\", \"warns\", \"warns\", \"warns\", \"warns\", \"warren\", \"warren\", \"warren\", \"warren\", \"warren\", \"watch\", \"watch\", \"watch\", \"watch\", \"watch\", \"week\", \"week\", \"week\", \"week\", \"week\", \"whistleblower\", \"whistleblower\", \"whistleblower\", \"whistleblower\", \"whistleblower\", \"white\", \"white\", \"white\", \"white\", \"white\", \"wildfire\", \"wildfire\", \"wildfire\", \"wildfire\", \"wildfire\", \"woman\", \"woman\", \"woman\", \"woman\", \"woman\", \"worker\", \"worker\", \"worker\", \"worker\", \"worker\", \"working\", \"working\", \"working\", \"working\", \"working\", \"world\", \"world\", \"world\", \"world\", \"world\", \"would\", \"would\", \"would\", \"would\", \"would\", \"year\", \"year\", \"year\", \"year\", \"year\", \"york\", \"york\", \"york\", \"york\", \"york\", \"yous\", \"yous\", \"yous\", \"yous\", \"yous\"]}, \"R\": 30, \"lambda.step\": 0.01, \"plot.opts\": {\"xlab\": \"PC1\", \"ylab\": \"PC2\"}, \"topic.order\": [22, 19, 45, 18, 34, 16, 23, 6, 21, 30, 1, 4, 42, 36, 29, 13, 8, 43, 7, 12, 31, 26, 2, 11, 15, 38, 25, 40, 10, 17, 24, 33, 39, 37, 20, 41, 44, 35, 28, 27, 14, 3, 5, 9, 32]};\n",
       "\n",
       "function LDAvis_load_lib(url, callback){\n",
       "  var s = document.createElement('script');\n",
       "  s.src = url;\n",
       "  s.async = true;\n",
       "  s.onreadystatechange = s.onload = callback;\n",
       "  s.onerror = function(){console.warn(\"failed to load library \" + url);};\n",
       "  document.getElementsByTagName(\"head\")[0].appendChild(s);\n",
       "}\n",
       "\n",
       "if(typeof(LDAvis) !== \"undefined\"){\n",
       "   // already loaded: just create the visualization\n",
       "   !function(LDAvis){\n",
       "       new LDAvis(\"#\" + \"ldavis_el28251404007421167045110604661\", ldavis_el28251404007421167045110604661_data);\n",
       "   }(LDAvis);\n",
       "}else if(typeof define === \"function\" && define.amd){\n",
       "   // require.js is available: use it to load d3/LDAvis\n",
       "   require.config({paths: {d3: \"https://d3js.org/d3.v5\"}});\n",
       "   require([\"d3\"], function(d3){\n",
       "      window.d3 = d3;\n",
       "      LDAvis_load_lib(\"https://cdn.jsdelivr.net/gh/bmabey/pyLDAvis@3.3.1/pyLDAvis/js/ldavis.v3.0.0.js\", function(){\n",
       "        new LDAvis(\"#\" + \"ldavis_el28251404007421167045110604661\", ldavis_el28251404007421167045110604661_data);\n",
       "      });\n",
       "    });\n",
       "}else{\n",
       "    // require.js not available: dynamically load d3 & LDAvis\n",
       "    LDAvis_load_lib(\"https://d3js.org/d3.v5.js\", function(){\n",
       "         LDAvis_load_lib(\"https://cdn.jsdelivr.net/gh/bmabey/pyLDAvis@3.3.1/pyLDAvis/js/ldavis.v3.0.0.js\", function(){\n",
       "                 new LDAvis(\"#\" + \"ldavis_el28251404007421167045110604661\", ldavis_el28251404007421167045110604661_data);\n",
       "            })\n",
       "         });\n",
       "}\n",
       "</script>"
      ],
      "text/plain": [
       "PreparedData(topic_coordinates=              x         y  topics  cluster      Freq\n",
       "topic                                               \n",
       "21    -0.238914 -0.368159       1        1  7.236398\n",
       "18    -0.120439  0.085147       2        1  4.396047\n",
       "44    -0.076736  0.063756       3        1  3.689157\n",
       "17    -0.189235 -0.334361       4        1  3.665136\n",
       "33    -0.201752 -0.314767       5        1  3.190372\n",
       "15    -0.049284  0.048874       6        1  3.131180\n",
       "22    -0.047504  0.048567       7        1  3.076727\n",
       "5     -0.056242  0.051835       8        1  3.075197\n",
       "20    -0.083336  0.067497       9        1  3.024919\n",
       "29    -0.045851  0.047857      10        1  2.796451\n",
       "0     -0.053606  0.053985      11        1  2.774350\n",
       "3     -0.076968  0.065513      12        1  2.771977\n",
       "41    -0.060769  0.055307      13        1  2.692424\n",
       "35    -0.037569  0.044610      14        1  2.612334\n",
       "28    -0.059669  0.054567      15        1  2.591970\n",
       "12    -0.013508  0.034159      16        1  2.586291\n",
       "7     -0.051716  0.052129      17        1  2.540951\n",
       "42    -0.028625  0.040300      18        1  2.486343\n",
       "6     -0.055412  0.056170      19        1  2.441765\n",
       "11    -0.064837  0.059265      20        1  2.386088\n",
       "30    -0.062162  0.059930      21        1  2.363828\n",
       "25    -0.020247  0.035532      22        1  2.343047\n",
       "1     -0.051792  0.052862      23        1  2.296994\n",
       "10    -0.034608  0.043799      24        1  2.229457\n",
       "14    -0.028469  0.042031      25        1  2.050070\n",
       "37    -0.014114  0.035137      26        1  1.939174\n",
       "24    -0.025060  0.041614      27        1  1.771807\n",
       "39    -0.005942  0.033152      28        1  1.683048\n",
       "9     -0.019106  0.039176      29        1  1.674308\n",
       "16    -0.021155  0.038513      30        1  1.667602\n",
       "23    -0.043507  0.051487      31        1  1.631817\n",
       "32    -0.015597  0.038512      32        1  1.580058\n",
       "38     0.030517  0.015482      33        1  1.381702\n",
       "36     0.012138  0.024368      34        1  1.381488\n",
       "19     0.060782  0.002354      35        1  1.366290\n",
       "40     0.020224  0.020741      36        1  1.346562\n",
       "43     0.043815  0.009563      37        1  1.230969\n",
       "34     0.127572 -0.028831      38        1  1.074011\n",
       "27     0.095631 -0.013846      39        1  1.048963\n",
       "26     0.095663 -0.014133      40        1  1.045744\n",
       "13     0.163751 -0.045001      41        1  1.006973\n",
       "2      0.325909 -0.098674      42        1  0.680003\n",
       "4      0.325909 -0.098674      43        1  0.680003\n",
       "8      0.325909 -0.098674      44        1  0.680003\n",
       "31     0.325909 -0.098674      45        1  0.680003, topic_info=            Term         Freq        Total Category  logprob  loglift\n",
       "4          trump  7235.000000  7235.000000  Default  30.0000  30.0000\n",
       "74   coronavirus  3790.000000  3790.000000  Default  29.0000  29.0000\n",
       "37         biden  1613.000000  1613.000000  Default  28.0000  28.0000\n",
       "168     election  1270.000000  1270.000000  Default  27.0000  27.0000\n",
       "222     pandemic  1304.000000  1304.000000  Default  26.0000  26.0000\n",
       "..           ...          ...          ...      ...      ...      ...\n",
       "24          iran     0.618877   564.803793  Topic45  -6.9078  -1.8255\n",
       "26          send     0.618877   200.172622  Topic45  -6.9078  -0.7882\n",
       "27         force     0.618877   445.510528  Topic45  -6.9078  -1.5882\n",
       "28       freedom     0.618877    43.036579  Topic45  -6.9078   0.7489\n",
       "29         group     0.618877   241.017660  Topic45  -6.9078  -0.9739\n",
       "\n",
       "[2318 rows x 6 columns], token_table=      Topic      Freq  Term\n",
       "term                       \n",
       "279       8  0.945658    15\n",
       "279      42  0.012779    15\n",
       "279      43  0.012779    15\n",
       "279      44  0.012779    15\n",
       "279      45  0.012779    15\n",
       "...     ...       ...   ...\n",
       "48       31  0.995844  yous\n",
       "48       42  0.000897  yous\n",
       "48       43  0.000897  yous\n",
       "48       44  0.000897  yous\n",
       "48       45  0.000897  yous\n",
       "\n",
       "[1642 rows x 3 columns], R=30, lambda_step=0.01, plot_opts={'xlab': 'PC1', 'ylab': 'PC2'}, topic_order=[22, 19, 45, 18, 34, 16, 23, 6, 21, 30, 1, 4, 42, 36, 29, 13, 8, 43, 7, 12, 31, 26, 2, 11, 15, 38, 25, 40, 10, 17, 24, 33, 39, 37, 20, 41, 44, 35, 28, 27, 14, 3, 5, 9, 32])"
      ]
     },
     "execution_count": 127,
     "metadata": {},
     "output_type": "execute_result"
    }
   ],
   "source": [
    "# !pip install pyLDAvis\n",
    "# !pip install pandas==1.3.1\n",
    "# import pyLDAvis\n",
    "# import pyLDAvis.gensim_models as gensimvis\n",
    "\n",
    "pyLDAvis.enable_notebook()\n",
    "lda_viz = gensimvis.prepare(lda_model_bow, bow_corpus, dictionary)\n",
    "lda_viz"
   ]
  },
  {
   "cell_type": "code",
   "execution_count": 128,
   "metadata": {},
   "outputs": [],
   "source": [
    "# pyLDAvis.save_html(lda_viz, 'index_bow.html')"
   ]
  },
  {
   "cell_type": "code",
   "execution_count": 152,
   "metadata": {},
   "outputs": [
    {
     "data": {
      "text/plain": [
       "[(17, 0.20443895), (38, 0.6044483)]"
      ]
     },
     "execution_count": 152,
     "metadata": {},
     "output_type": "execute_result"
    }
   ],
   "source": [
    "# https://stackoverflow.com/questions/59418433/how-to-get-document-topics-using-models-hdpmodel-hierarchical-dirichlet-proces\n",
    "\n",
    "dir(lda_model_bow[bow_corpus])\n",
    "lda_model_bow[bow_corpus].__getitem__(3)"
   ]
  },
  {
   "cell_type": "code",
   "execution_count": 143,
   "metadata": {},
   "outputs": [
    {
     "data": {
      "text/html": [
       "<div>\n",
       "<style scoped>\n",
       "    .dataframe tbody tr th:only-of-type {\n",
       "        vertical-align: middle;\n",
       "    }\n",
       "\n",
       "    .dataframe tbody tr th {\n",
       "        vertical-align: top;\n",
       "    }\n",
       "\n",
       "    .dataframe thead th {\n",
       "        text-align: right;\n",
       "    }\n",
       "</style>\n",
       "<table border=\"1\" class=\"dataframe\">\n",
       "  <thead>\n",
       "    <tr style=\"text-align: right;\">\n",
       "      <th></th>\n",
       "      <th>date</th>\n",
       "      <th>source</th>\n",
       "      <th>orig_headline</th>\n",
       "      <th>orig_article</th>\n",
       "      <th>headline</th>\n",
       "      <th>article</th>\n",
       "      <th>tokenized_headline</th>\n",
       "      <th>tokenized_article</th>\n",
       "      <th>lemmatized_headline</th>\n",
       "      <th>lemmatized_article</th>\n",
       "      <th>Headline_Topic_LDA_BoW</th>\n",
       "      <th>Headline_Topic_LDA</th>\n",
       "    </tr>\n",
       "  </thead>\n",
       "  <tbody>\n",
       "    <tr>\n",
       "      <th>0</th>\n",
       "      <td>2018-11-20</td>\n",
       "      <td>CBS News</td>\n",
       "      <td>Ivanka Trump used personal email for government business</td>\n",
       "      <td>[CBSN](https://www.cbsnews.com/live/?ftag=CNM-00-10aac7b) [_x000D_\\n](https://www.cbsnews.com/li...</td>\n",
       "      <td>[Ivanka, Trump, used, personal, email, for, government, business]</td>\n",
       "      <td>[[CBSN](https://www.cbsnews.com/live/?ftag=CNM-00-10aac7b), [_x000D_, ](https://www.cbsnews.com/...</td>\n",
       "      <td>[ivanka, trump, used, personal, email, government, business]</td>\n",
       "      <td>[cbsnhttpswwwcbsnewscomliveftagcnm0010aac7b, _x000d_, httpswwwcbsnewscomliveftagcnm0010aac7b, wa...</td>\n",
       "      <td>[ivanka, trump, used, personal, email, government, business]</td>\n",
       "      <td>[cbsnhttpswwwcbsnewscomliveftagcnm0010aac7b, _x000d_, httpswwwcbsnewscomliveftagcnm0010aac7b, wa...</td>\n",
       "      <td>22</td>\n",
       "      <td>19</td>\n",
       "    </tr>\n",
       "    <tr>\n",
       "      <th>1</th>\n",
       "      <td>2020-08-05</td>\n",
       "      <td>CBS News</td>\n",
       "      <td>Trump campaign calls for early September debate ahead of early voting</td>\n",
       "      <td>Washington — President Trump 's campaign is requesting a fourth presidential debate to be schedu...</td>\n",
       "      <td>[Trump, campaign, calls, for, early, September, debate, ahead, of, early, voting]</td>\n",
       "      <td>[Washington, —, President, Trump, 's, campaign, is, requesting, a, fourth, presidential, debate,...</td>\n",
       "      <td>[trump, campaign, calls, early, september, debate, ahead, early, voting]</td>\n",
       "      <td>[washington, president, trump, campaign, requesting, fourth, presidential, debate, scheduled, fi...</td>\n",
       "      <td>[trump, campaign, call, early, september, debate, ahead, early, voting]</td>\n",
       "      <td>[washington, president, trump, campaign, requesting, fourth, presidential, debate, scheduled, fi...</td>\n",
       "      <td>27</td>\n",
       "      <td>15</td>\n",
       "    </tr>\n",
       "    <tr>\n",
       "      <th>2</th>\n",
       "      <td>2020-05-28</td>\n",
       "      <td>CBS News</td>\n",
       "      <td>Perfectly preserved ancient Roman mosaic floor unearthed beneath Italian vineyard</td>\n",
       "      <td>Archaeologists in northern Italy have uncovered a rare gem — an amazingly well-preserved mosaic ...</td>\n",
       "      <td>[Perfectly, preserved, ancient, Roman, mosaic, floor, unearthed, beneath, Italian, vineyard]</td>\n",
       "      <td>[Archaeologists, in, northern, Italy, have, uncovered, a, rare, gem, —, an, amazingly, well-pres...</td>\n",
       "      <td>[perfectly, preserved, ancient, roman, mosaic, floor, unearthed, beneath, italian, vineyard]</td>\n",
       "      <td>[archaeologists, northern, italy, uncovered, rare, gem, amazingly, wellpreserved, mosaic, floor,...</td>\n",
       "      <td>[perfectly, preserved, ancient, roman, mosaic, floor, unearthed, beneath, italian, vineyard]</td>\n",
       "      <td>[archaeologist, northern, italy, uncovered, rare, gem, amazingly, wellpreserved, mosaic, floor, ...</td>\n",
       "      <td>0</td>\n",
       "      <td>0</td>\n",
       "    </tr>\n",
       "    <tr>\n",
       "      <th>3</th>\n",
       "      <td>2020-12-10</td>\n",
       "      <td>CBS News</td>\n",
       "      <td>Detained Chinese citizen-journalist restrained to stop her from continuing hunger strike, lawyer...</td>\n",
       "      <td>Detained Chinese citizen-journalist restrained to stop her from continuing hunger strike , lawye...</td>\n",
       "      <td>[Detained, Chinese, citizen-journalist, restrained, to, stop, her, from, continuing, hunger, str...</td>\n",
       "      <td>[Detained, Chinese, citizen-journalist, restrained, to, stop, her, from, continuing, hunger, str...</td>\n",
       "      <td>[detained, chinese, citizenjournalist, restrained, stop, continuing, hunger, strike, lawyer]</td>\n",
       "      <td>[detained, chinese, citizenjournalist, restrained, stop, continuing, hunger, strike, lawyer, chi...</td>\n",
       "      <td>[detained, chinese, citizenjournalist, restrained, stop, continuing, hunger, strike, lawyer]</td>\n",
       "      <td>[detained, chinese, citizenjournalist, restrained, stop, continuing, hunger, strike, lawyer, chi...</td>\n",
       "      <td>27</td>\n",
       "      <td>12</td>\n",
       "    </tr>\n",
       "    <tr>\n",
       "      <th>4</th>\n",
       "      <td>2019-01-15</td>\n",
       "      <td>CBS News</td>\n",
       "      <td>Fiscal board asks court to invalidate $6 billion of Puerto Rico's debt</td>\n",
       "      <td>The oversight board established by Congress to manage Puerto Rico 's fiscal crisis asked a feder...</td>\n",
       "      <td>[Fiscal, board, asks, court, to, invalidate, $6, billion, of, Puerto, Rico's, debt]</td>\n",
       "      <td>[The, oversight, board, established, by, Congress, to, manage, Puerto, Rico, 's, fiscal, crisis,...</td>\n",
       "      <td>[fiscal, board, asks, court, invalidate, 6, billion, puerto, ricos, debt]</td>\n",
       "      <td>[oversight, board, established, congress, manage, puerto, rico, fiscal, crisis, asked, federal, ...</td>\n",
       "      <td>[fiscal, board, asks, court, invalidate, 6, billion, puerto, rico, debt]</td>\n",
       "      <td>[oversight, board, established, congress, manage, puerto, rico, fiscal, crisis, asked, federal, ...</td>\n",
       "      <td>0</td>\n",
       "      <td>8</td>\n",
       "    </tr>\n",
       "  </tbody>\n",
       "</table>\n",
       "</div>"
      ],
      "text/plain": [
       "        date    source  \\\n",
       "0 2018-11-20  CBS News   \n",
       "1 2020-08-05  CBS News   \n",
       "2 2020-05-28  CBS News   \n",
       "3 2020-12-10  CBS News   \n",
       "4 2019-01-15  CBS News   \n",
       "\n",
       "                                                                                         orig_headline  \\\n",
       "0                                             Ivanka Trump used personal email for government business   \n",
       "1                                Trump campaign calls for early September debate ahead of early voting   \n",
       "2                    Perfectly preserved ancient Roman mosaic floor unearthed beneath Italian vineyard   \n",
       "3  Detained Chinese citizen-journalist restrained to stop her from continuing hunger strike, lawyer...   \n",
       "4                               Fiscal board asks court to invalidate $6 billion of Puerto Rico's debt   \n",
       "\n",
       "                                                                                          orig_article  \\\n",
       "0  [CBSN](https://www.cbsnews.com/live/?ftag=CNM-00-10aac7b) [_x000D_\\n](https://www.cbsnews.com/li...   \n",
       "1  Washington — President Trump 's campaign is requesting a fourth presidential debate to be schedu...   \n",
       "2  Archaeologists in northern Italy have uncovered a rare gem — an amazingly well-preserved mosaic ...   \n",
       "3  Detained Chinese citizen-journalist restrained to stop her from continuing hunger strike , lawye...   \n",
       "4  The oversight board established by Congress to manage Puerto Rico 's fiscal crisis asked a feder...   \n",
       "\n",
       "                                                                                              headline  \\\n",
       "0                                    [Ivanka, Trump, used, personal, email, for, government, business]   \n",
       "1                    [Trump, campaign, calls, for, early, September, debate, ahead, of, early, voting]   \n",
       "2         [Perfectly, preserved, ancient, Roman, mosaic, floor, unearthed, beneath, Italian, vineyard]   \n",
       "3  [Detained, Chinese, citizen-journalist, restrained, to, stop, her, from, continuing, hunger, str...   \n",
       "4                  [Fiscal, board, asks, court, to, invalidate, $6, billion, of, Puerto, Rico's, debt]   \n",
       "\n",
       "                                                                                               article  \\\n",
       "0  [[CBSN](https://www.cbsnews.com/live/?ftag=CNM-00-10aac7b), [_x000D_, ](https://www.cbsnews.com/...   \n",
       "1  [Washington, —, President, Trump, 's, campaign, is, requesting, a, fourth, presidential, debate,...   \n",
       "2  [Archaeologists, in, northern, Italy, have, uncovered, a, rare, gem, —, an, amazingly, well-pres...   \n",
       "3  [Detained, Chinese, citizen-journalist, restrained, to, stop, her, from, continuing, hunger, str...   \n",
       "4  [The, oversight, board, established, by, Congress, to, manage, Puerto, Rico, 's, fiscal, crisis,...   \n",
       "\n",
       "                                                                             tokenized_headline  \\\n",
       "0                                  [ivanka, trump, used, personal, email, government, business]   \n",
       "1                      [trump, campaign, calls, early, september, debate, ahead, early, voting]   \n",
       "2  [perfectly, preserved, ancient, roman, mosaic, floor, unearthed, beneath, italian, vineyard]   \n",
       "3  [detained, chinese, citizenjournalist, restrained, stop, continuing, hunger, strike, lawyer]   \n",
       "4                     [fiscal, board, asks, court, invalidate, 6, billion, puerto, ricos, debt]   \n",
       "\n",
       "                                                                                     tokenized_article  \\\n",
       "0  [cbsnhttpswwwcbsnewscomliveftagcnm0010aac7b, _x000d_, httpswwwcbsnewscomliveftagcnm0010aac7b, wa...   \n",
       "1  [washington, president, trump, campaign, requesting, fourth, presidential, debate, scheduled, fi...   \n",
       "2  [archaeologists, northern, italy, uncovered, rare, gem, amazingly, wellpreserved, mosaic, floor,...   \n",
       "3  [detained, chinese, citizenjournalist, restrained, stop, continuing, hunger, strike, lawyer, chi...   \n",
       "4  [oversight, board, established, congress, manage, puerto, rico, fiscal, crisis, asked, federal, ...   \n",
       "\n",
       "                                                                            lemmatized_headline  \\\n",
       "0                                  [ivanka, trump, used, personal, email, government, business]   \n",
       "1                       [trump, campaign, call, early, september, debate, ahead, early, voting]   \n",
       "2  [perfectly, preserved, ancient, roman, mosaic, floor, unearthed, beneath, italian, vineyard]   \n",
       "3  [detained, chinese, citizenjournalist, restrained, stop, continuing, hunger, strike, lawyer]   \n",
       "4                      [fiscal, board, asks, court, invalidate, 6, billion, puerto, rico, debt]   \n",
       "\n",
       "                                                                                    lemmatized_article  \\\n",
       "0  [cbsnhttpswwwcbsnewscomliveftagcnm0010aac7b, _x000d_, httpswwwcbsnewscomliveftagcnm0010aac7b, wa...   \n",
       "1  [washington, president, trump, campaign, requesting, fourth, presidential, debate, scheduled, fi...   \n",
       "2  [archaeologist, northern, italy, uncovered, rare, gem, amazingly, wellpreserved, mosaic, floor, ...   \n",
       "3  [detained, chinese, citizenjournalist, restrained, stop, continuing, hunger, strike, lawyer, chi...   \n",
       "4  [oversight, board, established, congress, manage, puerto, rico, fiscal, crisis, asked, federal, ...   \n",
       "\n",
       "   Headline_Topic_LDA_BoW  Headline_Topic_LDA  \n",
       "0                      22                  19  \n",
       "1                      27                  15  \n",
       "2                       0                   0  \n",
       "3                      27                  12  \n",
       "4                       0                   8  "
      ]
     },
     "execution_count": 143,
     "metadata": {},
     "output_type": "execute_result"
    }
   ],
   "source": [
    "df.head()"
   ]
  },
  {
   "cell_type": "markdown",
   "metadata": {},
   "source": [
    "## LDA TF-IDF Topic Model"
   ]
  },
  {
   "cell_type": "code",
   "execution_count": 113,
   "metadata": {},
   "outputs": [],
   "source": [
    "from gensim import models\n",
    "\n",
    "tfidf = models.TfidfModel(bow_corpus)\n",
    "tfidf_corpus = tfidf[bow_corpus]\n",
    "\n",
    "if analyze_headlines:\n",
    "    column_name = 'Headline_Topic_LDA'\n",
    "else:\n",
    "    column_name = 'Article_Topic_LDA'"
   ]
  },
  {
   "cell_type": "markdown",
   "metadata": {},
   "source": [
    "### Determine Best Number of Topics - TFIDF"
   ]
  },
  {
   "cell_type": "code",
   "execution_count": 114,
   "metadata": {},
   "outputs": [
    {
     "data": {
      "image/png": "[encoded data removed]",
      "text/plain": [
       "<Figure size 432x288 with 1 Axes>"
      ]
     },
     "metadata": {
      "needs_background": "light"
     },
     "output_type": "display_data"
    },
    {
     "name": "stdout",
     "output_type": "stream",
     "text": [
      "The best number of topics is 60\n"
     ]
    }
   ],
   "source": [
    "model_list_lda, coherence_values_lda = compute_coherence_values(dictionary=dictionary, corpus=tfidf_corpus,\n",
    "                                                        texts=text_data, start=min_topics, \n",
    "                                                        limit=max_topics, step=step, analysis='LDA')\n",
    "\n",
    "# Plot coherence scores\n",
    "best_num_lda = plot_coherence_scores(min_topics, max_topics, step, model_list_lda, coherence_values_lda, \n",
    "                                       'LDA - TFIDF')"
   ]
  },
  {
   "cell_type": "code",
   "execution_count": 115,
   "metadata": {},
   "outputs": [],
   "source": [
    "## overriding the best number\n",
    "\n",
    "best_num_lda = 40"
   ]
  },
  {
   "cell_type": "markdown",
   "metadata": {},
   "source": [
    "### Create Model with Appropriate Topic Number - LDA TFIDF"
   ]
  },
  {
   "cell_type": "code",
   "execution_count": 116,
   "metadata": {},
   "outputs": [
    {
     "name": "stdout",
     "output_type": "stream",
     "text": [
      "The first 3 topics of the LDA - TFIDF model:\n",
      "-----------------------------------------------\n",
      "\n",
      "Topic: 28 \n",
      "Words: 0.065*\"medium\" + 0.057*\"economic\" + 0.050*\"charge\" + 0.048*\"star\" + 0.047*\"moment\" + 0.046*\"come\" + 0.042*\"aide\" + 0.042*\"facebook\" + 0.040*\"billion\" + 0.039*\"ohio\"\n",
      "Topic: 0 \n",
      "Words: 0.094*\"vote\" + 0.082*\"vaccine\" + 0.081*\"news\" + 0.063*\"fight\" + 0.057*\"key\" + 0.057*\"trial\" + 0.047*\"senate\" + 0.036*\"mcconnell\" + 0.033*\"online\" + 0.031*\"impeachment\"\n",
      "Topic: 4 \n",
      "Words: 0.157*\"back\" + 0.099*\"dc\" + 0.098*\"political\" + 0.089*\"call\" + 0.074*\"expert\" + 0.062*\"fbi\" + 0.046*\"might\" + 0.040*\"foreign\" + 0.037*\"stay\" + 0.031*\"dog\"\n",
      "\n",
      "\n",
      "Our LDA - TFIDF model's top 3 predicted topic for the following headline:\n",
      "In contrast with Trump legal team, Justice Department lawyer says House can impeach over defied subpoenas\n",
      "------------------------------------------------------------------------------------------\n",
      "\n",
      "Score: 0.422\t \n",
      "Topic: 0.078*\"question\" + 0.069*\"death\" + 0.058*\"stimulus\" + 0.050*\"team\" + 0.047*\"another\" + 0.046*\"offer\" + 0.037*\"county\" + 0.032*\"review\"\n",
      "\n",
      "Score: 0.352\t \n",
      "Topic: 0.079*\"iran\" + 0.077*\"move\" + 0.074*\"give\" + 0.067*\"military\" + 0.059*\"justice\" + 0.058*\"george\" + 0.044*\"part\" + 0.038*\"hand\"\n",
      "\n",
      "Score: 0.124\t \n",
      "Topic: 0.077*\"would\" + 0.072*\"harris\" + 0.070*\"dy\" + 0.063*\"testing\" + 0.050*\"child\" + 0.050*\"meeting\" + 0.049*\"kamala\" + 0.047*\"3\"\n"
     ]
    }
   ],
   "source": [
    "# lda_model = gensim.models.LdaModel(tfidf_corpus, num_topics=best_num_lda, id2word=dictionary, \n",
    "#                                         passes=10, random_state = 0)\n",
    "\n",
    "lda_model = gensim.models.LdaModel(tfidf_corpus, num_topics=best_num_lda, id2word=dictionary, \n",
    "                                        iterations = 100, passes=10)\n",
    "\n",
    "print_topic_examples(lda_model, \"LDA - TFIDF\")"
   ]
  },
  {
   "cell_type": "markdown",
   "metadata": {},
   "source": [
    "### Assign Dominant Topic per Headline - LDA TFIDF"
   ]
  },
  {
   "cell_type": "code",
   "execution_count": 117,
   "metadata": {},
   "outputs": [],
   "source": [
    "# dataframe indicating which topic to assign each document\n",
    "if analyze_headlines:\n",
    "    column_name = 'Headline_Topic_LDA'\n",
    "else:\n",
    "    column_name = 'Article_Topic_LDA'\n",
    "\n",
    "\n",
    "df_dominant_topics_lda = determine_dominant_topics(lda_model, tfidf_corpus, text_data)\n",
    "\n",
    "# Format\n",
    "df_dominant_topics_lda = df_dominant_topics_lda.reset_index()\n",
    "df_dominant_topics_lda.columns = ['Document_No', column_name, 'Topic_%', 'Keywords', 'Text']\n",
    "df_dominant_topics_lda[column_name] = df_dominant_topics_lda[column_name].astype(int)\n",
    "df_dominant_topics_lda[\"Topic_%\"] = round(df_dominant_topics_lda[\"Topic_%\"]*100)\n",
    "\n",
    "df[column_name] = df_dominant_topics_lda[column_name]\n",
    "# df.head()"
   ]
  },
  {
   "cell_type": "markdown",
   "metadata": {},
   "source": [
    "### Most Representative Headline per Topic - LDA TFIDF"
   ]
  },
  {
   "cell_type": "code",
   "execution_count": null,
   "metadata": {},
   "outputs": [],
   "source": [
    "# show_representative_headlines(df_dominant_topics_lda, column_name).head(20)"
   ]
  },
  {
   "cell_type": "markdown",
   "metadata": {},
   "source": [
    "### Number of Headlines per Topic - LDA TFIDF"
   ]
  },
  {
   "cell_type": "code",
   "execution_count": 118,
   "metadata": {},
   "outputs": [],
   "source": [
    "topic_counts_lda = df_dominant_topics_lda[column_name].value_counts()\n",
    "\n",
    "# Percentage of Documents for Each Topic\n",
    "topic_contribution_lda = 100*round(topic_counts_lda/topic_counts_lda.sum(), 3)\n",
    "\n",
    "# topic Keywords\n",
    "topic_num_keywords_lda = df_dominant_topics_lda[['Keywords']]\n",
    "\n",
    "# concatenate Column wise\n",
    "df_dominant_topics_lda = pd.concat([topic_num_keywords_lda, topic_counts_lda, topic_contribution_lda], axis=1)\n",
    "\n",
    "# adjust dataframe\n",
    "df_dominant_topics_lda.columns = ['Topic_Keywords', 'Num_Documents', '%_Documents']\n",
    "df_dominant_topics_lda = df_dominant_topics_lda.head(best_num_lda)\n",
    "df_dominant_topics_lda.insert(0, \"Topic\", df_dominant_topics_lda.index.astype(int))\n",
    "\n",
    "df_dominant_topics_lda = df_dominant_topics_lda.fillna(0.0)\n",
    "\n",
    "df_dominant_topics_lda.Num_Documents = df_dominant_topics_lda.Num_Documents.astype(int)\n",
    "\n",
    "# df_dominant_topics_lda.head()\n",
    "\n",
    "top_lda_topics = df_dominant_topics_lda.sort_values(by='Num_Documents', ascending = False).head()"
   ]
  },
  {
   "cell_type": "markdown",
   "metadata": {},
   "source": [
    "### Plot Distribution of Topics Between Sources - TFIDF"
   ]
  },
  {
   "cell_type": "code",
   "execution_count": 119,
   "metadata": {
    "collapsed": true
   },
   "outputs": [
    {
     "data": {
      "image/png": "[encoded data removed]",
      "text/plain": [
       "<Figure size 1152x432 with 6 Axes>"
      ]
     },
     "metadata": {
      "needs_background": "light"
     },
     "output_type": "display_data"
    }
   ],
   "source": [
    "grouped_by_topic_source_lda = df.groupby(['source', column_name])\n",
    "\n",
    "counts_per_source_lda = grouped_by_topic_source_lda[column_name].count()  # series with multi index\n",
    "\n",
    "display_images = True\n",
    "\n",
    "if display_images:\n",
    "    \n",
    "    ax = counts_per_source_lda.unstack(level=0).plot(kind='bar', subplots=True,\n",
    "                                                 sharey=True, rot=90, figsize=(16, 6), layout=(2, 3), legend=False)\n",
    "    plt.tight_layout()"
   ]
  },
  {
   "cell_type": "code",
   "execution_count": null,
   "metadata": {},
   "outputs": [],
   "source": [
    "# !pip install -qq -U gensim\n",
    "# !pip install spacy -qq\n",
    "# !pip install seaborn -qq\n",
    "# !python -m spacy download en_core_web_md -qq\n",
    "\n",
    "# import seaborn as sns\n",
    "# sns.set()\n",
    "# import spacy\n",
    "\n",
    "# import en_core_web_md"
   ]
  },
  {
   "cell_type": "code",
   "execution_count": 120,
   "metadata": {
    "collapsed": true
   },
   "outputs": [
    {
     "name": "stderr",
     "output_type": "stream",
     "text": [
      "/opt/anaconda3/lib/python3.8/site-packages/pyLDAvis/_prepare.py:246: FutureWarning: In a future version of pandas all arguments of DataFrame.drop except for the argument 'labels' will be keyword-only\n",
      "  default_term_info = default_term_info.sort_values(\n"
     ]
    },
    {
     "data": {
      "text/html": [
       "\n",
       "<link rel=\"stylesheet\" type=\"text/css\" href=\"https://cdn.jsdelivr.net/gh/bmabey/pyLDAvis@3.3.1/pyLDAvis/js/ldavis.v1.0.0.css\">\n",
       "\n",
       "\n",
       "<div id=\"ldavis_el28251403971955542564269497564\"></div>\n",
       "<script type=\"text/javascript\">\n",
       "\n",
       "var ldavis_el28251403971955542564269497564_data = {\"mdsDat\": {\"x\": [0.1976618416675525, 0.07139058309292252, -0.023065518914170306, -0.12789256524629292, 0.00015629194698966656, 0.05149167004526406, 0.15600457697778566, 0.09590259940546503, 0.14905234110248297, 0.022076918347505404, -0.03568281989524858, -0.051900732862651434, -0.0688579660806854, 0.07894449275172112, -0.024053441382893836, -0.01511526419966106, -0.09180970432593408, -0.06090327532579406, 0.203739007033605, -0.15714571134802396, 0.19263017386974435, -0.06980604271667924, -0.0200997623518781, -0.06264350827197855, -0.0744437487472877, 0.05119796035155573, 0.061289558823938446, -0.11157972036787316, -0.10251496108540774, 0.01570461305220111, -0.04549567595880881, -0.12267245726052961, 0.13626440082599064, -0.06471816627480745, -0.04877243185978657, -0.005715011202746059, -0.0400070936301739, -0.11111059913558217, 0.04255853775917457, 0.009940611390996003], \"y\": [0.1121894524034505, -0.17960262814534664, -0.15431458260421296, 0.027875240475695277, -0.046454924638182855, 0.1345422146554989, -0.07327024717766357, 0.12348678616549306, 0.0915288942765573, 0.10594694300364459, 0.0952442985117766, 0.10735862721637632, 0.05102084353665807, 0.03689332320219816, 0.05388681365388244, 0.011097163160581642, 0.02801890801694554, -0.10383419565975704, -0.13273797977162158, -0.004994066430829369, 0.07564704908097994, -0.04426017005426565, -0.0918345325882184, -0.10422789724879089, -0.05971220647423062, 0.058149526142554135, 0.0329804819769827, 0.06364869547259776, -0.034506293841347666, -0.10862835749870577, 0.06403647352399203, 0.06900407024238135, -0.1191217691243561, 0.12286325648321815, -0.05389350711733951, -0.0380796468670028, -0.019178379760964634, -0.031440347094946676, -0.006893098108004013, -0.058434230995677926], \"topics\": [1, 2, 3, 4, 5, 6, 7, 8, 9, 10, 11, 12, 13, 14, 15, 16, 17, 18, 19, 20, 21, 22, 23, 24, 25, 26, 27, 28, 29, 30, 31, 32, 33, 34, 35, 36, 37, 38, 39, 40], \"cluster\": [1, 1, 1, 1, 1, 1, 1, 1, 1, 1, 1, 1, 1, 1, 1, 1, 1, 1, 1, 1, 1, 1, 1, 1, 1, 1, 1, 1, 1, 1, 1, 1, 1, 1, 1, 1, 1, 1, 1, 1], \"Freq\": [3.559073350263374, 3.170128275021981, 3.1670953754273214, 2.8441251555369518, 2.7893917083742257, 2.750014263089715, 2.6877342779227833, 2.6576793875941545, 2.6468818863661436, 2.6334830465926613, 2.6303995622985, 2.625464159207146, 2.615908064940088, 2.596644466215147, 2.5605210943179304, 2.5519132799781854, 2.5278387793529995, 2.516904337310999, 2.4761234568390815, 2.461628945329692, 2.4595153370416347, 2.451885289026131, 2.4441972186795375, 2.432017469798839, 2.4216170688445593, 2.4089115496353073, 2.395162834931992, 2.3941523213196367, 2.364937661775145, 2.339093417386615, 2.3302699307365087, 2.3043360605780387, 2.27407814373956, 2.2115603283372933, 2.197788087631881, 2.113047663027727, 2.0467044754027093, 2.0394353414092183, 2.0089775239953243, 1.893359404723271]}, \"tinfo\": {\"Term\": [\"opinion\", \"analysis\", \"pandemic\", \"report\", \"back\", \"white\", \"court\", \"donald\", \"home\", \"republican\", \"face\", \"impeachment\", \"may\", \"day\", \"time\", \"joe\", \"year\", \"house\", \"supreme\", \"health\", \"people\", \"woman\", \"update\", \"vote\", \"crisis\", \"sander\", \"need\", \"governor\", \"world\", \"virus\", \"debate\", \"know\", \"presidential\", \"big\", \"iowa\", \"thing\", \"5\", \"early\", \"clinton\", \"2016\", \"likely\", \"caucus\", \"clash\", \"bank\", \"strategy\", \"criticism\", \"opening\", \"hillary\", \"racial\", \"winner\", \"husband\", \"bush\", \"video\", \"race\", \"georgia\", \"voting\", \"ahead\", \"cut\", \"democratic\", \"2020\", \"election\", \"biden\", \"campaign\", \"power\", \"stop\", \"hearing\", \"put\", \"cohen\", \"must\", \"bad\", \"adviser\", \"quarantine\", \"november\", \"brett\", \"condition\", \"ask\", \"doj\", \"white\", \"calling\", \"remain\", \"female\", \"jail\", \"payment\", \"peace\", \"michael\", \"sue\", \"hold\", \"federal\", \"ad\", \"house\", \"judge\", \"prosecutor\", \"kavanaugh\", \"democrat\", \"trump\", \"campaign\", \"president\", \"supreme\", \"return\", \"ballot\", \"tax\", \"today\", \"lawsuit\", \"start\", \"testimony\", \"court\", \"son\", \"mailin\", \"continue\", \"resident\", \"hotel\", \"list\", \"hear\", \"deadline\", \"tweet\", \"rise\", \"2\", \"kavanaugh\", \"york\", \"make\", \"voter\", \"reject\", \"new\", \"fight\", \"challenge\", \"judge\", \"case\", \"trump\", \"election\", \"state\", \"attack\", \"outbreak\", \"made\", \"lead\", \"reopening\", \"mean\", \"drug\", \"story\", \"act\", \"andrew\", \"praise\", \"food\", \"cuomo\", \"others\", \"racist\", \"prince\", \"shift\", \"virus\", \"meghan\", \"sunday\", \"ny\", \"battleground\", \"car\", \"monday\", \"released\", \"schiff\", \"change\", \"china\", \"amid\", \"york\", \"coronavirus\", \"trump\", \"new\", \"health\", \"worker\", \"public\", \"care\", \"ukraine\", \"run\", \"reopen\", \"special\", \"nyc\", \"better\", \"industry\", \"coming\", \"future\", \"crime\", \"lie\", \"limit\", \"pardon\", \"tech\", \"attempt\", \"8\", \"pentagon\", \"saudi\", \"aim\", \"teen\", \"7\", \"boy\", \"wedding\", \"stacey\", \"abrams\", \"judiciary\", \"committee\", \"official\", \"say\", \"update\", \"live\", \"government\", \"shutdown\", \"penny\", \"mike\", \"sign\", \"good\", \"control\", \"chinese\", \"game\", \"defends\", \"protect\", \"message\", \"democracy\", \"went\", \"viral\", \"tariff\", \"memo\", \"dozen\", \"win\", \"raise\", \"bill\", \"gop\", \"congress\", \"hold\", \"senate\", \"election\", \"first\", \"million\", \"biden\", \"trump\", \"coronavirus\", \"party\", \"inquiry\", \"threat\", \"battle\", \"market\", \"stock\", \"robert\", \"global\", \"view\", \"target\", \"reelection\", \"bid\", \"abortion\", \"stage\", \"amazon\", \"learned\", \"process\", \"consider\", \"near\", \"watchdog\", \"civil\", \"crash\", \"age\", \"heat\", \"lewis\", \"activist\", \"take\", \"rule\", \"month\", \"john\", \"democrat\", \"impeachment\", \"trump\", \"joe\", \"need\", \"next\", \"bidens\", \"man\", \"obama\", \"begin\", \"blame\", \"season\", \"prison\", \"inside\", \"promise\", \"tv\", \"board\", \"accuses\", \"bar\", \"transition\", \"friday\", \"effort\", \"biden\", \"campaign\", \"month\", \"week\", \"nfl\", \"black\", \"first\", \"deal\", \"democrat\", \"2020\", \"gop\", \"trump\", \"primary\", \"politics\", \"policy\", \"ally\", \"pay\", \"arizona\", \"delay\", \"without\", \"pennsylvania\", \"night\", \"let\", \"evidence\", \"denies\", \"nevada\", \"taking\", \"problem\", \"system\", \"kill\", \"dangerous\", \"hill\", \"tom\", \"person\", \"red\", \"kentucky\", \"claim\", \"check\", \"flight\", \"fraud\", \"billionaire\", \"voting\", \"gop\", \"election\", \"trump\", \"face\", \"trade\", \"history\", \"nation\", \"emergency\", \"number\", \"step\", \"left\", \"intelligence\", \"assault\", \"using\", \"violence\", \"sexual\", \"nurse\", \"full\", \"possible\", \"fda\", \"employee\", \"dnc\", \"strike\", \"roll\", \"transcript\", \"allegation\", \"read\", \"talk\", \"fraud\", \"national\", \"china\", \"voter\", \"official\", \"trump\", \"doctor\", \"meet\", \"running\", \"restriction\", \"think\", \"member\", \"distancing\", \"died\", \"ice\", \"behind\", \"medical\", \"center\", \"launch\", \"town\", \"hall\", \"panel\", \"historic\", \"honor\", \"blue\", \"investigate\", \"mayor\", \"texas\", \"department\", \"gov\", \"candidate\", \"patient\", \"social\", \"justice\", \"family\", \"congress\", \"covid19\", \"coronavirus\", \"work\", \"administration\", \"job\", \"hospital\", \"many\", \"michigan\", \"immigration\", \"issue\", \"pick\", \"study\", \"turn\", \"july\", \"daily\", \"bloomberg\", \"6\", \"whistleblower\", \"yet\", \"fighting\", \"treatment\", \"wife\", \"trail\", \"draw\", \"leadership\", \"price\", \"million\", \"patient\", \"4\", \"american\", \"plan\", \"covid19\", \"trump\", \"biden\", \"coronavirus\", \"look\", \"buttigieg\", \"ban\", \"putin\", \"twitter\", \"warning\", \"role\", \"pete\", \"critic\", \"side\", \"play\", \"threatens\", \"gift\", \"safe\", \"fan\", \"confirmation\", \"refuse\", \"massive\", \"scandal\", \"becomes\", \"account\", \"crowd\", \"want\", \"poll\", \"student\", \"school\", \"show\", \"top\", \"close\", \"american\", \"trump\", \"new\", \"vaccine\", \"news\", \"key\", \"mcconnell\", \"online\", \"trying\", \"agent\", \"melania\", \"mitch\", \"continues\", \"virtual\", \"james\", \"chris\", \"phone\", \"cbs\", \"san\", \"trial\", \"vote\", \"fight\", \"senate\", \"impeachment\", \"get\", \"race\", \"covid19\", \"eye\", \"take\", \"show\", \"day\", \"house\", \"yous\", \"coronavirus\", \"trump\", \"opinion\", \"still\", \"sen\", \"company\", \"gun\", \"despite\", \"concern\", \"funding\", \"sale\", \"safety\", \"911\", \"session\", \"found\", \"jeff\", \"southern\", \"ambassador\", \"security\", \"investigation\", \"russia\", \"loan\", \"want\", \"china\", \"top\", \"election\", \"trump\", \"campaign\", \"yous\", \"official\", \"covid19\", \"say\", \"coronavirus\", \"new\", \"question\", \"stimulus\", \"team\", \"another\", \"offer\", \"county\", \"review\", \"block\", \"worry\", \"count\", \"benefit\", \"effect\", \"little\", \"unemployment\", \"king\", \"sex\", \"steve\", \"firing\", \"census\", \"los\", \"loses\", \"freedom\", \"angeles\", \"nfl\", \"reject\", \"death\", \"raise\", \"check\", \"legal\", \"record\", \"talk\", \"coronavirus\", \"trump\", \"vote\", \"end\", \"business\", \"photo\", \"comment\", \"conservative\", \"small\", \"super\", \"share\", \"got\", \"high\", \"maryland\", \"charged\", \"restaurant\", \"tension\", \"15\", \"access\", \"lose\", \"owner\", \"rip\", \"evening\", \"slam\", \"time\", \"tuesday\", \"billionaire\", \"puerto\", \"life\", \"loan\", \"first\", \"aid\", \"school\", \"covid19\", \"coronavirus\", \"analysis\", \"test\", \"two\", \"positive\", \"seek\", \"join\", \"struggle\", \"2018\", \"argument\", \"reality\", \"spike\", \"appeal\", \"tested\", \"flynn\", \"challenge\", \"week\", \"judge\", \"case\", \"covid19\", \"rule\", \"coronavirus\", \"michael\", \"get\", \"voter\", \"president\", \"first\", \"democrat\", \"state\", \"say\", \"bill\", \"trump\", \"court\", \"pelosi\", \"rally\", \"senator\", \"war\", \"support\", \"watch\", \"amy\", \"giuliani\", \"feel\", \"accused\", \"biggest\", \"word\", \"witness\", \"past\", \"interview\", \"community\", \"stand\", \"leave\", \"living\", \"coney\", \"financial\", \"us\", \"prosecutor\", \"impeachment\", \"republican\", \"democrat\", \"trump\", \"2020\", \"house\", \"day\", \"election\", \"protest\", \"rep\", \"latest\", \"fear\", \"line\", \"dr\", \"west\", \"ship\", \"letter\", \"thousand\", \"cruise\", \"majority\", \"resume\", \"measure\", \"rival\", \"passenger\", \"wildfire\", \"teacher\", \"syria\", \"water\", \"tie\", \"navy\", \"weapon\", \"mass\", \"people\", \"leader\", \"aid\", \"california\", \"amid\", \"american\", \"coronavirus\", \"donald\", \"convention\", \"russian\", \"point\", \"result\", \"victory\", \"loss\", \"supporter\", \"address\", \"trillion\", \"nomination\", \"v\", \"leaf\", \"vice\", \"christmas\", \"veteran\", \"daughter\", \"allow\", \"announces\", \"4\", \"national\", \"election\", \"democratic\", \"republican\", \"trump\", \"plan\", \"day\", \"gop\", \"2020\", \"campaign\", \"biden\", \"year\", \"border\", \"see\", \"fall\", \"wall\", \"surge\", \"kid\", \"1\", \"migrant\", \"reach\", \"file\", \"already\", \"parent\", \"mail\", \"short\", \"100\", \"budget\", \"handling\", \"debt\", \"prompt\", \"family\", \"student\", \"cut\", \"billion\", \"fund\", \"case\", \"deal\", \"yous\", \"death\", \"day\", \"state\", \"coronavirus\", \"trump\", \"may\", \"warns\", \"paul\", \"travel\", \"group\", \"risk\", \"wisconsin\", \"manafort\", \"demand\", \"nearly\", \"mark\", \"document\", \"rick\", \"endorses\", \"worse\", \"reported\", \"agency\", \"ryan\", \"controversy\", \"recount\", \"rnc\", \"schumer\", \"secretary\", \"former\", \"get\", \"trial\", \"florida\", \"case\", \"president\", \"say\", \"trump\", \"harris\", \"dy\", \"testing\", \"child\", \"meeting\", \"kamala\", \"3\", \"south\", \"second\", \"carolina\", \"event\", \"pressure\", \"seat\", \"park\", \"almost\", \"request\", \"boost\", \"mount\", \"cancel\", \"wave\", \"would\", \"lawyer\", \"rule\", \"make\", \"president\", \"case\", \"first\", \"china\", \"get\", \"coronavirus\", \"trump\", \"world\", \"economy\", \"shooting\", \"fed\", \"break\", \"office\", \"congressional\", \"officer\", \"package\", \"called\", \"saying\", \"around\", \"cast\", \"manager\", \"google\", \"helped\", \"victim\", \"well\", \"backlash\", \"chair\", \"police\", \"record\", \"deal\", \"president\", \"leader\", \"say\", \"call\", \"candidate\", \"gop\", \"trump\", \"new\", \"coronavirus\", \"help\", \"open\", \"book\", \"fauci\", \"midterm\", \"pompeo\", \"blast\", \"holiday\", \"place\", \"shut\", \"enough\", \"storm\", \"mom\", \"united\", \"looking\", \"speaker\", \"friend\", \"jr\", \"pass\", \"colorado\", \"arrest\", \"transgender\", \"urge\", \"dems\", \"legal\", \"stay\", \"ahead\", \"bill\", \"top\", \"state\", \"trump\", \"house\", \"america\", \"hit\", \"keep\", \"college\", \"hour\", \"secret\", \"never\", \"away\", \"ready\", \"mccain\", \"scott\", \"post\", \"racism\", \"le\", \"executive\", \"chance\", \"old\", \"electoral\", \"advice\", \"fired\", \"cia\", \"program\", \"lawmaker\", \"final\", \"john\", \"loan\", \"order\", \"make\", \"bill\", \"top\", \"senate\", \"trump\", \"biden\", \"coronavirus\", \"pandemic\", \"mask\", \"cannot\", \"service\", \"staff\", \"protection\", \"lot\", \"movement\", \"highlight\", \"wear\", \"reform\", \"chief\", \"black\", \"plan\", \"amid\", \"american\", \"rule\", \"life\", \"voter\", \"coronavirus\", \"police\", \"covid19\", \"say\", \"get\", \"urge\", \"yous\", \"bill\", \"democrat\", \"beat\", \"best\", \"new\", \"biden\", \"trump\", \"crisis\", \"sander\", \"bernie\", \"spread\", \"law\", \"much\", \"last\", \"decision\", \"young\", \"10\", \"kim\", \"un\", \"drop\", \"hard\", \"sanction\", \"hong\", \"kong\", \"minute\", \"halt\", \"closed\", \"jong\", \"summit\", \"fund\", \"activist\", \"million\", \"announces\", \"people\", \"china\", \"yous\", \"state\", \"coronavirus\", \"new\", \"trump\", \"medium\", \"economic\", \"charge\", \"star\", \"moment\", \"come\", \"aide\", \"facebook\", \"ohio\", \"lost\", \"stone\", \"real\", \"roger\", \"hampshire\", \"whether\", \"across\", \"taylor\", \"impact\", \"term\", \"tip\", \"mother\", \"space\", \"breonna\", \"comey\", \"eye\", \"billion\", \"social\", \"ad\", \"former\", \"make\", \"new\", \"trump\", \"city\", \"washington\", \"country\", \"general\", \"barr\", \"try\", \"attorney\", \"name\", \"far\", \"william\", \"street\", \"due\", \"deadly\", \"barrett\", \"mexico\", \"ceo\", \"arrested\", \"source\", \"probe\", \"close\", \"congress\", \"york\", \"mueller\", \"russia\", \"yous\", \"new\", \"call\", \"case\", \"beat\", \"best\", \"biden\", \"trump\", \"coronavirus\", \"home\", \"woman\", \"go\", \"virginia\", \"set\", \"lockdown\", \"protester\", \"matter\", \"making\", \"climate\", \"toll\", \"criminal\", \"project\", \"march\", \"rate\", \"canada\", \"outside\", \"local\", \"death\", \"change\", \"life\", \"black\", \"record\", \"show\", \"first\", \"million\", \"deal\", \"video\", \"mayor\", \"yous\", \"new\", \"coronavirus\", \"warren\", \"north\", \"elizabeth\", \"korea\", \"speech\", \"union\", \"takeaway\", \"since\", \"hurricane\", \"shot\", \"changed\", \"base\", \"testify\", \"expected\", \"front\", \"detail\", \"20\", \"responds\", \"deputy\", \"warn\", \"acting\", \"republican\", \"puerto\", \"summit\", \"state\", \"committee\", \"sue\", \"chief\", \"ahead\", \"talk\", \"democrat\", \"senate\", \"president\", \"trump\", \"house\", \"report\", \"push\", \"relief\", \"nominee\", \"major\", \"potential\", \"oil\", \"airline\", \"india\", \"bring\", \"great\", \"bolton\", \"congressman\", \"alleged\", \"treasury\", \"troop\", \"controversial\", \"mueller\", \"price\", \"flight\", \"yous\", \"john\", \"lawmaker\", \"bill\", \"china\", \"tweet\", \"deal\", \"gop\", \"congress\", \"hold\", \"coronavirus\", \"covid19\", \"state\", \"find\", \"way\", \"covid\", \"force\", \"briefing\", \"long\", \"used\", \"trip\", \"email\", \"graham\", \"personal\", \"every\", \"supply\", \"governor\", \"illinois\", \"murder\", \"defense\", \"florida\", \"order\", \"fund\", \"lawyer\", \"poll\", \"show\", \"american\", \"new\", \"case\", \"make\", \"beat\", \"best\", \"ocasiocortez\", \"trump\", \"campaign\", \"yous\", \"tell\", \"fire\", \"really\", \"become\", \"weekend\", \"store\", \"save\", \"church\", \"remains\", \"reveals\", \"presidency\", \"reporter\", \"tough\", \"deliver\", \"kelly\", \"remark\", \"california\", \"right\", \"day\", \"read\", \"life\", \"deal\", \"get\", \"president\", \"voter\", \"call\", \"state\", \"first\", \"beat\", \"best\", \"case\", \"2020\", \"trump\", \"coronavirus\", \"back\", \"dc\", \"political\", \"expert\", \"fbi\", \"might\", \"foreign\", \"dog\", \"director\", \"suggests\", \"approach\", \"send\", \"human\", \"card\", \"stay\", \"call\", \"say\", \"investigation\", \"probe\", \"former\", \"beat\", \"best\", \"ocasiocortez\", \"uk\", \"factchecking\", \"europe\", \"asked\", \"army\", \"accuser\", \"even\", \"china\", \"coronavirus\", \"election\", \"amid\", \"case\", \"2020\", \"biden\", \"democrat\", \"trump\", \"pandemic\", \"response\", \"cdc\", \"visit\", \"three\", \"head\", \"dead\", \"asks\", \"spending\", \"university\", \"infection\", \"killed\", \"working\", \"four\", \"avoid\", \"least\", \"mnuchin\", \"ginsburg\", \"chicago\", \"ruth\", \"senior\", \"bader\", \"kushner\", \"coronavirus\", \"2\", \"month\", \"justice\", \"federal\", \"bill\", \"call\", \"covid19\", \"trump\", \"iran\", \"move\", \"give\", \"military\", \"george\", \"part\", \"hand\", \"immigrant\", \"floyd\", \"dept\", \"proposal\", \"focus\", \"nuclear\", \"pull\", \"subpoena\", \"dem\", \"private\", \"forward\", \"done\", \"justice\", \"program\", \"deal\", \"yous\", \"top\", \"plan\", \"official\", \"million\", \"house\", \"call\", \"democrat\", \"trump\", \"state\", \"hope\", \"release\", \"data\", \"press\", \"answer\", \"scientist\", \"free\", \"five\", \"vow\", \"ag\", \"air\", \"facing\", \"apologizes\", \"abuse\", \"ever\", \"david\", \"killing\", \"stormy\", \"guard\", \"cost\", \"daniel\", \"iranian\", \"secretary\", \"national\", \"allegation\", \"former\", \"american\", \"show\", \"official\", \"make\", \"state\", \"democrat\", \"trump\"], \"Freq\": [276.0, 232.0, 197.0, 134.0, 123.0, 144.0, 133.0, 114.0, 109.0, 153.0, 113.0, 147.0, 107.0, 142.0, 113.0, 105.0, 101.0, 205.0, 104.0, 97.0, 102.0, 91.0, 95.0, 113.0, 91.0, 91.0, 93.0, 89.0, 88.0, 96.0, 97.07776216418438, 86.40757955612392, 68.95187836928416, 55.30818917522799, 47.97314371011007, 44.95340217533218, 32.066626114852916, 30.887339772008886, 29.724122646959625, 26.447876538462747, 25.13083133933072, 24.21300151283222, 23.12681320495145, 20.656550626349198, 20.287347103653556, 19.74631016276052, 17.97366606086452, 17.51365379914734, 17.038836162353633, 16.581446185078786, 14.593482132653348, 12.441406463548537, 30.17972407236375, 72.19567071217197, 46.63563485403123, 41.22862812442906, 36.45771267812429, 27.62730919443584, 79.48444591154552, 50.16949045263549, 30.145345532315538, 28.188215710518904, 24.941096005265102, 57.169748926898784, 50.14081990014774, 46.52175943236423, 41.939571327338534, 37.146263422436014, 29.275108896333887, 28.365661116251893, 27.196312050359722, 26.61475854385129, 25.05959308810781, 24.514633560406867, 20.977063564771896, 20.747716431228962, 20.231050614761216, 137.22479607964132, 19.2472981383029, 18.848576337836285, 15.883334957392409, 13.603628494502324, 13.211895860871072, 12.986568537477135, 47.72069196411538, 19.815358654344735, 36.14662269692036, 61.135780352529196, 36.04961472399541, 122.29099240889771, 16.838098288720875, 6.988893268068915, 12.77109188355956, 23.339204222707437, 36.225180887210634, 16.6344574928021, 16.93155381902672, 103.39717762598238, 49.151547044046104, 45.53069163060009, 43.510165460333816, 38.423112666065684, 37.767385827640844, 36.70220123118688, 33.91219474155604, 128.53085591911943, 20.560819337732468, 20.127272528040486, 19.00398552508294, 18.961572092772975, 17.99454516266292, 16.81539046114423, 16.544340927733273, 16.098994276454686, 47.096473254257745, 26.174933219408707, 36.34819475954079, 39.047201158191356, 48.894619607738036, 50.278347174005084, 37.41155657061125, 6.345080002980994, 61.21728183644459, 15.506786570063438, 6.24515286548126, 9.837088958238633, 19.287740680748286, 26.04046688042283, 13.50914960073654, 12.206571900988239, 71.64762455003181, 53.10095058803529, 42.77294372790682, 41.602497190548995, 41.35759867494579, 39.23383319990245, 35.979886596531756, 34.56908536213259, 28.221419212593588, 26.268121521591254, 26.15429624595809, 25.758000276214158, 21.743169684624267, 20.799514928919926, 18.83553704681699, 18.647115736550614, 16.818580538398574, 91.50750642601179, 16.46751612543452, 15.912871909002694, 15.567553793647601, 15.485148196854379, 15.354060845646567, 14.254713779791718, 13.30691535991084, 11.112991834512878, 49.308599787014664, 53.29600418005346, 18.627228970750792, 10.678606610191677, 32.900673402790765, 19.038289326984124, 15.039859017519367, 96.90429374315822, 57.71663136248972, 55.941756228852476, 44.65973568584013, 44.54430092843018, 43.26106643219946, 35.79869355658401, 29.01962303210916, 27.802656857031906, 25.571092198266655, 24.522147593835225, 24.354131954478962, 23.933856593054173, 23.532171870205858, 20.11949568175145, 20.028128120278048, 19.881848680061392, 19.367133349171304, 19.17231618939149, 18.968619889140882, 18.23731758869054, 18.154366527102287, 17.752980345828473, 17.752406987837706, 16.340028546928156, 15.352839540843567, 15.046573450237892, 14.46018046211593, 13.365131943937328, 13.256450948239303, 22.805982341355936, 43.967218087820356, 39.94153719208635, 94.74331054795749, 85.97083463811873, 56.73656291780682, 47.241063701638936, 47.01854851140688, 39.21606948568893, 37.61623598574351, 36.258994293169465, 33.96261523128526, 33.42805483349656, 30.902720470406674, 28.435920166801612, 23.330290239313356, 22.326665996077253, 20.825582163851454, 18.73634895956402, 17.276995253196052, 16.680741165205745, 13.824759536727267, 13.560714012215705, 62.588822744845004, 20.542726018592028, 33.981822511410584, 47.78479696935557, 11.034542473682967, 4.041378442511939, 10.980006194950834, 14.704244013713968, 9.838097916312757, 5.140796169053208, 14.117552632877592, 25.233458034000307, 10.333334458521149, 49.565619862091914, 42.87730098101592, 41.92250124023526, 41.024182203040965, 37.9505559598719, 34.636296163248765, 31.872064081846165, 30.896870859822528, 29.690906489986567, 29.00024090841556, 27.930767127147167, 26.942042387396402, 24.410585558641966, 22.532649790461278, 21.991914873139223, 20.139451429825414, 18.591048028943142, 18.119188022490654, 17.52419368127672, 16.652280439832904, 15.494733680695772, 14.612072188792085, 14.296434249839832, 13.421681542371479, 12.684021416938492, 17.33810530810747, 59.55821611646426, 41.11325437576369, 26.787328161129594, 17.02968081303439, 41.982331008746904, 25.551357464992076, 16.30065719831743, 104.14465172519128, 92.52682859100383, 64.7694378157021, 63.085061576837404, 45.190522657539454, 42.71471190540025, 33.176891847195925, 31.663811619256403, 30.305380792079244, 26.75009473076347, 25.824357092201158, 22.22311531044495, 21.120537814209786, 18.533722032798813, 18.139839538897622, 16.14558807407573, 15.279208024009003, 14.209171193979296, 35.00534782182088, 94.7586460390863, 56.27211660284285, 8.1763743051965, 15.12131670674894, 4.453305878944709, 9.744128202182715, 12.80786361935153, 5.824773128621789, 12.4352080493634, 9.565820911069011, 3.7413769660079272, 18.618237910536173, 68.8338573526521, 50.63570657277325, 39.90362332063524, 37.08126085069533, 36.204666797412834, 35.53782300062283, 34.54402230055305, 34.15611508929196, 31.528445403182076, 26.705240112463233, 25.66566477054304, 25.465737704539045, 25.403682381432105, 25.18054249344298, 24.334626211525627, 22.889136977231168, 21.005226894566615, 20.880281389726424, 20.81470465169456, 20.53234045558076, 20.18735811031981, 16.309601134556157, 15.885943213220816, 13.516757014338548, 86.588587512837, 35.25848493251857, 12.300103467560158, 10.215157551592394, 5.224345949250414, 11.205339280223608, 17.195933954421115, 18.02526187684663, 22.950074152604888, 112.18598294791472, 47.8585566156831, 43.32049224597966, 42.751171151368276, 40.28700006697373, 39.0599524507004, 33.01814465617949, 32.4394196820554, 31.55051601119763, 29.189800667571586, 28.438434801004043, 26.279953264826297, 25.50496010431834, 25.14085749427729, 24.096791678049705, 23.77931648171, 23.750535533276814, 22.56352440205072, 20.999323999556193, 16.977134658150668, 16.577871095671977, 15.356580975698154, 27.57506981206228, 17.640845466775247, 46.92904714988301, 21.403031912396088, 11.104326039334563, 14.329338733517416, 11.109200638649257, 9.695386711470306, 17.97696789541585, 47.4894568324668, 47.17083759980606, 40.55615496725548, 35.59430773972818, 32.19556213955845, 31.058122651799074, 30.251652210605645, 28.55924109607664, 28.074648866213376, 27.68037956576614, 27.66426365522921, 26.16597617802272, 25.598697618646163, 25.152732116513594, 20.892902080777645, 19.638396648708472, 18.426604718536698, 14.820936345709413, 14.118386866498083, 13.727301036347217, 41.079030874463186, 48.21145484485328, 37.217323862807035, 36.6899398260669, 57.73731525849041, 24.160410399757524, 37.331350828151635, 18.602060075872366, 8.637011269635483, 12.523489688666572, 14.89360523106318, 18.758106984724755, 69.49512899680867, 67.58073300934556, 54.754925255578996, 53.50995674216392, 50.05918923289022, 48.34167338925455, 44.086220306782025, 41.437224191750715, 35.12193042265946, 32.675747020110215, 32.22071453812591, 31.77566767828738, 31.227340529762643, 28.914250992567023, 22.433474287408927, 22.02932270007793, 21.91632475972471, 20.926311547782472, 20.518084576087098, 20.398443200948115, 19.357115503230705, 17.918041456986945, 16.032186186417164, 16.538704357538062, 33.21655982979324, 6.671322789839314, 5.229500185282228, 9.38093094276019, 7.273517122085267, 12.249046890449382, 22.690971586617717, 12.162191889476487, 13.372970905524221, 55.805103895946196, 38.67613164850061, 37.832983287130254, 36.268384426567735, 35.951939577126126, 27.67046643385635, 26.064372080644254, 25.832319940918378, 25.23014209816776, 24.97172233552099, 24.551273613461298, 23.370172461865824, 21.191701742818058, 20.331363716016334, 19.14364145609862, 18.224814809295516, 16.72655867538601, 16.58858338112693, 16.529633082051834, 15.604113015746272, 15.351000708314398, 14.452065198470391, 71.87301155096225, 51.14447404225308, 33.120478505226686, 50.716191609002834, 67.47191579374443, 39.04624251846274, 10.443469892157058, 9.704716625431113, 16.593676684000407, 10.477008373783146, 80.66452637953243, 79.91223428748525, 55.94714063317167, 35.68257654279777, 32.73675746025263, 28.72594891114393, 22.998950791005754, 22.717182665334278, 21.55247604896908, 21.519905092896, 20.24633966775788, 19.350659541256174, 18.414766790058717, 16.904817609809445, 13.69979191286716, 13.013688045252252, 55.846547415387285, 92.74296400074266, 62.17073126360934, 46.68310821613568, 30.72900657503019, 14.753764272403917, 10.283216043358452, 18.360686156434298, 2.0379144948219046, 6.83582595493956, 7.553084530071397, 8.439149994510279, 12.132313961670592, 7.931586389157859, 17.59405857380377, 18.479905021246967, 275.54870000745865, 65.60294811979517, 54.31270859654674, 43.04953611941152, 37.69038077074953, 36.236999813247294, 34.59164863516909, 21.128250534635075, 20.963517958424607, 19.774272097091675, 18.465681869032316, 18.402849080814192, 15.117654870356715, 13.670293853310257, 12.44781218565635, 12.24829934447918, 42.47171983890807, 43.47460888811537, 46.904403266138175, 13.137699721226126, 14.91025186001117, 10.70172909166398, 5.004829130719953, 7.693823284114804, 26.384531507416643, 6.099306755468734, 5.453898630714556, 3.542443443925011, 6.047114579518392, 3.649314401468437, 9.061508565279631, 5.182881528452905, 75.36995800313923, 56.43123449681058, 48.74946588211193, 45.94725912305823, 44.25227882482742, 36.21005775120129, 31.216666137701946, 30.106916437315604, 28.20882711125749, 20.3209306251248, 19.944275169774834, 19.760114857120772, 19.24410965323492, 18.99696964283198, 18.21879170882146, 17.419248537733203, 17.080512218016295, 16.580476678722327, 16.31794400259542, 15.969183458032187, 14.9330065396265, 14.79001844242977, 13.950419973755457, 21.7127857438001, 16.59881764587169, 67.00544236437092, 8.987895086528676, 12.692471098622354, 6.88513259543, 8.53016767268906, 9.184311650997735, 18.17140002437566, 12.59141942384751, 9.530075057240802, 57.0882156468334, 54.847904358229215, 40.89229959407835, 39.4402762410867, 37.75608667876701, 33.28673037456993, 32.91037092106232, 30.76707356669293, 30.372392085861318, 27.501782273474767, 27.37543625344679, 26.81704801390542, 24.363138007578776, 21.665286673248826, 18.81630280158207, 17.464839177082414, 15.87449938898831, 14.330676873962775, 13.215732418441425, 10.55937619381322, 30.512915907787864, 101.31446128114739, 43.73488706074348, 13.192725965101532, 9.549495825936276, 48.75148179262615, 8.673387220532476, 26.75460870917103, 9.042223283395318, 9.362345436626008, 9.601514544819272, 9.760923886891383, 231.12698348263413, 85.02387597925805, 52.423793729387285, 50.07756898531261, 46.21826799297695, 25.792239934170638, 23.483433747893443, 19.144136951118973, 19.045036197640666, 18.537788622574247, 18.367771897245397, 18.118231593802694, 15.322001194282464, 13.702929187733286, 29.02495892537331, 43.509770954787925, 29.532852293904455, 25.94029432981917, 37.36818947514482, 6.1462126394067385, 44.74848488229065, 4.436944068967174, 7.494974589990829, 4.3704973625241195, 9.097358544148282, 4.953238996399262, 6.838958143357027, 6.61702551053148, 3.9252281204731867, 2.8664171777831844, 18.32073422795119, 4.25877866104574, 60.26450016047236, 59.682341491340836, 59.661365077389064, 55.215846585791866, 49.54880650255611, 38.13414124379798, 33.04779611406157, 31.495938123995693, 28.058254537231623, 26.917316282824977, 25.461570354107923, 24.928688356204987, 24.849221233771715, 24.551362122842527, 24.0935052038896, 22.564605084548557, 22.363705726395455, 21.54071669423878, 19.38149569428156, 19.30982803500104, 18.16396158695512, 18.01379208533449, 19.718360896248083, 90.4404897143118, 13.72255694360951, 15.677359700710376, 30.765565084195874, 7.106266998213047, 8.671683224714744, 5.903695171094304, 6.644927611942197, 65.87108497095551, 53.172449250981934, 50.41830874539038, 47.91152586080767, 35.90958124663105, 28.026960196993045, 26.231407679375856, 23.858025525762145, 23.749808965644824, 22.433156993869677, 20.957058198394915, 19.760963623679988, 19.58373399068841, 19.330510415515544, 19.044753651365248, 19.026360168677265, 18.42025286488296, 17.872414271755318, 17.075925174800396, 17.036758327961103, 16.767271647861786, 16.55029415591413, 15.85855124940603, 13.484744241586803, 91.08821822776493, 67.67753364673875, 25.799176539238445, 8.780039628314649, 12.237570326857451, 11.383836705760052, 28.954264259280112, 113.51606369391115, 52.46373652832375, 43.617014487078805, 40.7262363313497, 38.941069189058524, 31.219301629689664, 28.724375980148384, 28.50575608591395, 27.18980054275818, 26.975312229291454, 23.610361090939644, 22.12970888405858, 21.448866212333346, 18.55966747102431, 17.117423275735682, 17.047653602535217, 16.43204806814714, 13.559424461833604, 32.2055814335449, 22.807635043284083, 46.24725899481906, 35.09606323115986, 17.019382781729362, 21.872567664835124, 79.16422541867578, 10.356114883706923, 11.809312126237527, 8.732523056885942, 9.981570525925713, 8.09104110092595, 10.748648179016381, 100.16300452793627, 69.02139137815368, 53.019710000370274, 48.74523981623022, 42.834525644145984, 40.76885276523719, 40.276450238930636, 33.975645712409005, 29.394704763138115, 26.05097260519758, 25.37400428739679, 23.665169264342975, 23.427645210629542, 22.654692323517274, 22.461318981964734, 21.715939218219702, 20.686934792948136, 16.919023864154696, 15.809674005912361, 14.007285700550138, 64.69859436843716, 11.42489221167931, 9.050022710838885, 5.952286312343185, 3.6302353920258414, 11.981842019061395, 7.914100745179114, 12.168545396698427, 8.177628621213483, 9.205618127535947, 9.472231600478077, 13.532650338415076, 11.417461058551975, 106.43211882850294, 45.67007746131234, 44.448606484753846, 43.706528876302805, 40.46794964254717, 40.25933094268847, 40.01527720806055, 36.08999215529819, 29.612580753638284, 29.19551659648845, 28.847174301039285, 22.846675433919337, 22.688693804133468, 20.689067454429054, 20.25240090075953, 18.63080369288178, 18.216629221758886, 17.43802515036298, 15.067554028108717, 14.332197365066262, 12.587146637330676, 11.027423012457858, 35.450727080992756, 56.11162875878751, 37.341988472261185, 9.889928771886748, 10.237973090119704, 10.394800924405608, 16.177202124582678, 6.098982935715009, 14.11023292401539, 66.30672339770216, 64.33391151748363, 58.20733824190402, 46.65209677672122, 46.48412006588836, 45.032169410812536, 43.677664761353995, 42.329014112162156, 38.523610551281635, 32.29756408978038, 32.13555170195187, 29.820235987519478, 28.794618933138562, 24.061551118570495, 21.96591383169623, 21.89538829785898, 18.18545355228187, 17.09382212975803, 15.682149616682093, 15.622613261790713, 71.39081575417497, 35.04287991214185, 6.055974911497573, 6.8509390116130895, 11.651715251674517, 6.554068281657218, 5.706139355659954, 5.064815181860778, 4.200138747150005, 16.974554631391605, 10.924711681745828, 87.19076398923413, 68.94029913257229, 39.70185245685848, 38.01042591805151, 35.61022389861371, 34.34730531085616, 31.405040355728207, 29.38495007906676, 26.195616610544736, 24.76330271172611, 22.21273877438727, 21.714657411997916, 18.232442435507526, 17.83690864948627, 17.577363471390214, 16.730884678192933, 16.25042581085038, 15.87549079399798, 13.736881642983581, 13.63792396126732, 72.58693866472727, 35.0497712276619, 33.53837322839705, 70.71400059858034, 10.567404591520965, 13.25571303553176, 8.52483692283795, 3.0101034938791456, 4.901939785027452, 22.199784944629968, 7.738379657768812, 11.05743937197018, 79.1188546481134, 52.16392369553345, 47.387681528726006, 43.11566989286971, 37.50992771249132, 32.90106690208681, 32.85079034524169, 28.860761794221542, 26.80321342598402, 25.34580794705591, 25.224212644730226, 23.487513260380187, 22.927533905902926, 21.803933279684582, 20.3440640001884, 19.569650332929143, 19.041160842538503, 17.493421131694184, 17.042347567538503, 16.01264967163365, 15.699065740703308, 15.035526513838386, 37.56070966432476, 37.03860249307719, 31.094553005312665, 11.049952609860586, 6.208639557744946, 9.94115612974445, 7.1385774344598145, 13.362482140492263, 12.554904488247569, 9.080170520625632, 79.72476761942673, 61.75055183896363, 59.341869725439864, 50.942963930452, 32.83491059592851, 31.607002476841465, 31.152580214860095, 30.881129487476137, 28.562417121466005, 26.639547198060203, 26.39941679432103, 23.71501431202534, 22.261662336971415, 22.23483404955429, 21.594184120895136, 19.190297926624257, 18.466616629915734, 17.9913809272121, 16.880129936401655, 16.07003720961456, 12.622078545154835, 27.352363403363956, 51.67746108611987, 20.517078377494723, 42.33950920840506, 5.720836048194145, 9.565906588398505, 8.357133762712847, 5.704838474353519, 4.540393948346428, 6.227982439470068, 10.111801885149593, 7.1261893598793264, 6.412668621304798, 196.1167356391446, 74.47217616215048, 47.75760854649925, 36.76095784976572, 28.60398706593224, 25.951718784682683, 25.77815939089132, 25.607871724968685, 19.059045127191624, 18.499201240832985, 14.333548397965586, 43.424812494006275, 68.70143195399213, 57.62621227368908, 47.83885871784501, 41.12818510477759, 5.683850391086737, 6.4377978483335925, 6.7158569599424265, 35.1138974110052, 5.19556706708505, 11.512490012953224, 6.301446722754695, 6.207125336761198, 1.9629769035972635, 6.985299786150088, 2.525575583124414, 4.6213050086119765, 0.02377332036171704, 0.02377332036171704, 4.969196334634659, 3.9128910773182355, 8.200853173263628, 90.4114229996832, 90.13136232369556, 53.81363978180532, 53.09383241725323, 48.537581340021575, 38.22141971630424, 35.68310205967728, 32.57581917088574, 31.43355393131594, 31.42595047404931, 24.45722432194448, 24.362776173865026, 23.922677473390078, 23.485091467457163, 22.27157398846216, 21.88563315854004, 21.321349684785005, 20.80978250899697, 19.97885504178564, 15.595763652066701, 15.327374685282676, 21.817753528466785, 18.044311566529366, 2.877897889344554, 8.855879604849285, 3.8940655480563575, 10.121394271765574, 6.751223440415046, 8.1038296255433, 9.253063862817246, 22.115681323282686, 8.19681776231781, 11.462719732347946, 57.4391696667508, 50.47374895889529, 44.41105070605915, 42.59963393569847, 41.838223402578436, 41.17672630378439, 37.4888787345608, 36.99598970101439, 35.15367576547884, 30.574087863049492, 25.844817155110178, 25.62287848714841, 24.313215696792078, 24.036742769649297, 23.034680523744093, 22.857761260330445, 20.25370686380032, 19.713001499452844, 17.37088662429586, 16.39203538463923, 15.077239646043926, 14.891238247471016, 13.678590831517633, 9.71964616999133, 20.41552405179124, 35.894063758653736, 13.730051290299729, 8.35312636190011, 13.243272554148257, 7.685449332692378, 15.875366675191163, 13.708779232037424, 59.42821152279587, 56.675721549836155, 46.687818152549596, 45.82398551700205, 44.793908488614036, 43.096634037654304, 42.61844769622444, 40.044302287209085, 30.242347765600748, 27.48797983815767, 27.482684568084085, 27.06470343234738, 25.596820213109364, 23.688775514460847, 22.509121145731616, 17.946284702483542, 17.174746014672074, 13.145472446663012, 41.234235029509094, 35.22497558039359, 64.87523749605717, 14.857682168876769, 14.724119469406876, 9.67147384770217, 11.233740383560574, 15.621832914380331, 6.6394180596472605, 5.617291781825915, 0.026855438815464917, 0.026855438815464917, 4.951243099221805, 10.303349374404071, 7.291889147853395, 108.60787675427059, 90.06349722009818, 63.97470070976452, 49.95193036482821, 46.3131586732879, 44.1875809646739, 40.70197951940095, 34.86330874063553, 33.41307494808152, 31.670805045769605, 25.298638608012098, 22.309024240951437, 21.050632180278697, 19.619333157024936, 19.40400303410538, 19.061388730530435, 16.903357483919716, 15.436124374633454, 24.42507494970963, 14.991837562739647, 17.017681482189392, 10.97064412651594, 5.986641844115415, 6.942405479615388, 8.009210602162646, 4.867104622203404, 4.426981074947425, 1.6668561567213687, 2.1949885908996385, 5.653129067489981, 8.781431677394126, 14.855531069860113, 65.7923545498756, 57.31353125545459, 45.06001107652196, 43.297808028459606, 39.48167701116843, 33.73446976090424, 33.557798461374915, 32.38457066633436, 31.710090166456204, 25.601187727229703, 22.967260879578376, 21.67155368488328, 21.301510741557575, 20.555438456044296, 20.30530401679298, 20.25154570369629, 20.243492917289746, 16.511081220646272, 16.353344284991582, 15.68438274841527, 14.466680877608225, 98.00288122689733, 3.7953615658817412, 6.2104512027957375, 29.17418777943618, 3.7014751188417514, 2.5346800027343823, 4.79423388222356, 4.48046776255504, 5.782077137118867, 13.821045987324048, 7.206780427913992, 8.581389133294989, 13.821643982471532, 7.137672498134052, 134.0093796757472, 61.50259923307843, 53.48731163245986, 36.65076026177725, 31.10032061742618, 30.9971392148932, 29.174554106478055, 28.474515065526514, 24.941737084987167, 24.24797131781019, 24.242847046953354, 23.382391209832974, 20.50772855532744, 18.548360371058077, 17.827502902070556, 17.035300659825765, 16.870640547288172, 61.904872521988764, 9.139524254230565, 4.802193817615507, 23.903380169918456, 11.13779473032908, 8.388831897748963, 10.141524553784436, 10.80953650999709, 4.586937996447206, 6.316059633555109, 8.794614113032205, 7.114762442102527, 2.7808082792383906, 14.166157294915497, 6.987753728722398, 6.226705454401797, 67.02654326832038, 57.206697245691636, 52.95898043481209, 52.39477996692401, 40.22378710682184, 33.727406230710095, 28.693936240213308, 28.543517676225743, 21.59853399562511, 20.07609592913136, 20.063135257503596, 19.395883430217534, 18.365782646091205, 84.12674748542142, 14.558801885888027, 14.03605375838633, 44.917051929274166, 71.33835309283606, 54.75087429154765, 4.449706229984041, 6.2051337883659805, 10.057312164768167, 6.467459651439492, 7.8685436937368864, 11.179818487390545, 5.089921737966799, 4.069829645572244, 0.02773738410334805, 0.02773738410334805, 0.02773738410334805, 6.559535331495977, 1.7167496117658747, 1.0129327622602717, 58.528736041635966, 56.64079501058661, 38.79695514442589, 36.11345465320597, 32.45903685249283, 29.938106764680533, 27.895632040785767, 26.473718378080846, 24.599944183633788, 22.827012284912396, 20.115173627358615, 19.49956399462919, 19.408181233735966, 18.595748575430143, 17.802518053933497, 24.020281082809603, 66.72952969410606, 57.20680948238481, 94.51840198791173, 4.081512203894596, 8.634810470153697, 5.0733697423713275, 6.300199220529052, 9.483565585514057, 4.012126680646689, 5.512727767479914, 6.399926471339782, 3.522273745469678, 0.027104179277370324, 0.027104179277370324, 3.177524548073361, 3.5783071862237223, 11.03008870009665, 8.735960545234667, 122.3795584651127, 77.29021516674266, 76.15048638810259, 57.61564799588037, 48.16789688902146, 36.194286257958865, 31.122985846073068, 24.337154130112165, 23.359709274145015, 21.574706531704663, 21.451631757949695, 17.537749793266393, 17.502830323693956, 16.09137494764858, 29.07099879969391, 69.6235006260202, 12.595807077437016, 5.480339906264312, 4.842107211021091, 4.979726565472053, 0.02774141433217636, 0.02774141433217636, 0.02774141433217636, 0.02774141433217636, 0.02774141433217636, 0.02774141433217636, 0.02774141433217636, 0.02774141433217636, 0.02774141433217636, 0.02774141433217636, 2.9503957934886897, 11.83112132275203, 4.289901300508359, 2.7272641039311476, 2.7667399977897915, 2.3733423469462798, 2.7806094653557825, 1.4921847984694614, 3.314072871734558, 0.02775705171031764, 74.89799596167636, 42.381255347912145, 41.473942812761344, 40.425867069076205, 36.95598126834523, 35.82820456278216, 35.80535067045609, 33.373890228516586, 32.889422404019605, 30.830675554083193, 26.98240966812217, 25.796938810091163, 23.863331837363337, 22.475649566567196, 19.794694295165172, 18.068042977746067, 17.94780779735357, 17.56668119754923, 17.1743155710001, 16.89465678384194, 15.468426458228642, 13.876026218734836, 54.09904584009186, 4.360788272683889, 3.708419507357604, 6.3131644200755215, 5.99010997987658, 5.360298772409138, 6.064561485082653, 6.491375632063317, 9.911311005891873, 60.647877236927805, 59.044725065191315, 56.68497925386296, 51.118661397260425, 44.46457714195609, 33.57506877418064, 29.16662670927972, 28.7114766894069, 28.596772163375007, 28.432884551101065, 23.63926800842653, 22.6349761575441, 22.392808551550697, 20.882876412353923, 19.56305954222009, 19.289417039344983, 19.278361524533658, 16.702046379978935, 15.654134798903899, 44.97679036385739, 3.905609441621256, 6.1731579694456045, 10.848973616052541, 5.096439609839936, 6.884430263672333, 5.083713094689726, 3.810902097744548, 8.520714093171902, 4.955726002691826, 6.901584538135504, 11.318248465803123, 4.976615642846498, 54.17980214301166, 51.29127784706125, 42.852840573897474, 36.6472226722002, 33.113619381132125, 30.166605503785114, 29.169193343786066, 28.165573107347488, 27.75247970276088, 25.324147525344745, 24.243067243058793, 23.312126860449077, 23.1163349191991, 22.2710072120023, 21.273718515693794, 21.11108731132685, 19.516802017382762, 19.060060172200416, 18.919990615282988, 18.61058792279692, 17.415514420233528, 15.58122778984975, 8.341766545467733, 7.353946977424977, 3.3779068543192228, 6.228546585226817, 7.18659865488143, 5.068507582349895, 4.585545806887473, 4.6394246233409016, 5.739268702595637, 5.396943142130321, 7.300328172819833], \"Total\": [276.0, 232.0, 197.0, 134.0, 123.0, 144.0, 133.0, 114.0, 109.0, 153.0, 113.0, 147.0, 107.0, 142.0, 113.0, 105.0, 101.0, 205.0, 104.0, 97.0, 102.0, 91.0, 95.0, 113.0, 91.0, 91.0, 93.0, 89.0, 88.0, 96.0, 98.06560129081656, 87.3954186827561, 69.9397192521275, 56.29602830186018, 48.96098283674227, 45.941241301964375, 33.05446524148511, 31.875180581865763, 30.711961773591817, 27.43571566509494, 26.11867046596291, 25.200840639464413, 24.114652331583642, 21.64438975298139, 21.275186230285748, 20.73414928939271, 18.961505187496712, 18.501492925779534, 18.026675288985825, 17.569285311710978, 15.581321259285543, 13.429245590180733, 32.80881353867349, 83.44082948381279, 59.867189986447016, 53.398023512656785, 48.08036643939496, 37.63907891399983, 114.78787305257782, 156.80061667142357, 177.3154660236955, 244.6055552781295, 150.34843531477162, 58.156104994390276, 51.12717596763923, 47.50811549985572, 42.925927394830026, 38.13261948992751, 30.261464963825375, 29.35201718374338, 28.18266811785121, 27.60111461134278, 26.0459491555993, 25.500989627898356, 21.963419632263385, 21.73407249872045, 21.217406682252705, 144.06915402199957, 20.233654205794387, 19.834932405327773, 16.8696910248839, 14.589984561993813, 14.198251928362561, 13.972924604968624, 53.121093191973884, 23.309160838957954, 43.90346021890438, 76.06636556287901, 45.36283608394395, 205.56540232380868, 59.23498105349961, 27.668362540854417, 52.78175618444639, 180.55963858270678, 642.464311767366, 150.34843531477162, 191.20759782240333, 104.38337532867781, 50.137744746741554, 46.51688934073711, 44.496363163029265, 39.40931036876113, 38.75358353033629, 37.68839893388233, 34.89839244425149, 133.7529333796536, 21.547017040427917, 21.113472545065054, 19.990183227778388, 19.947769795468425, 18.98074286535837, 17.80158816383968, 17.530538630428723, 17.085191979150135, 52.641338704317384, 29.3526145764222, 41.667918524692574, 52.78175618444639, 75.36689906660557, 103.77059993566002, 90.19758976508635, 23.905516624537714, 245.05059860120892, 78.6378176321632, 36.23341058494986, 59.23498105349961, 119.86368852909094, 642.464311767366, 177.3154660236955, 176.37809137092026, 72.63336459503957, 54.0866892990908, 43.75868243896233, 42.588235901604506, 42.3433373860013, 40.21957191095796, 36.96562530758727, 35.5548240731881, 29.207157923649095, 27.253860232646762, 27.140034957013597, 26.743738987269666, 22.728908395679774, 21.785253639975434, 19.8212757578725, 19.63285444760612, 17.804319249454082, 96.98233608750088, 17.45325483649003, 16.898610620058204, 16.553292504703112, 16.470886907909883, 16.339799556702072, 15.240452490847227, 14.29265407096635, 12.098730545568387, 65.26057024376603, 112.08813810680763, 112.43152169007487, 75.36689906660557, 485.91088408849805, 642.464311767366, 245.05059860120892, 97.88971587986063, 58.70205349565939, 56.92717842341512, 45.64515782627897, 45.52972306159985, 44.246488565369134, 36.78411568975368, 30.00504516527883, 28.78807899188497, 26.556514331436325, 25.507569727004896, 25.339554087648633, 24.919278726223844, 24.517594003375528, 21.10491781492112, 21.01355025344772, 20.867270813231062, 20.352555482340975, 20.157738322561162, 19.954042022310553, 19.22273972186021, 19.139788663333547, 18.738402478998143, 18.737829121007376, 17.325450680097827, 16.338261674013236, 16.031995583407564, 15.445602595285603, 14.350554077107, 14.241873081408976, 27.465645707754707, 97.20394915110936, 109.9207089436153, 95.72896599155352, 86.95649008171476, 57.72221836140287, 48.22671914523498, 48.00420395500292, 40.201724934736845, 38.60189142933955, 37.24464973676551, 34.94827067488131, 34.413710277092605, 31.888375914002726, 29.421575610397664, 24.31594568290941, 23.312321439673305, 21.811237607447506, 19.72200440316007, 18.262650696792104, 17.666396608801797, 14.810414980323317, 14.546369455811755, 78.9924683606703, 30.49169782170633, 85.21396046376779, 126.17558105643774, 108.07089600035, 43.90346021890438, 131.46525353095592, 177.3154660236955, 122.0822770995572, 83.51995748497983, 244.6055552781295, 642.464311767366, 485.91088408849805, 50.551115586333026, 43.8627967034847, 42.90799696270404, 42.009679602540345, 38.936051682340675, 35.62179188571754, 32.85755984862342, 31.882366582291308, 30.676402212455347, 29.98573663088434, 28.916262849615947, 27.927538115164324, 25.396081281110746, 23.518145512930058, 22.977410595608003, 21.124947152294194, 19.576543751411922, 19.104683744959434, 18.5096894037455, 17.637776162301684, 16.480229403164547, 15.597567911260866, 15.281929972308612, 14.407177264840259, 13.669517139407272, 21.17618324118002, 82.42038724546364, 59.91240954781024, 39.60652965320301, 71.43946844776778, 180.55963858270678, 147.65554154583728, 642.464311767366, 105.12991658413158, 93.51209342611018, 65.75470265403439, 64.07032664861865, 46.17578756613392, 43.69997674050661, 34.16215668230228, 32.64907645436276, 31.290645627185604, 27.73535956586983, 26.809621927307518, 23.20838014555131, 22.105802649316146, 19.518986867905173, 19.125104374003982, 17.13085290918209, 16.26447285911536, 15.194436029085653, 40.3681364574586, 244.6055552781295, 150.34843531477162, 39.60652965320301, 78.74156238729618, 27.126777730840747, 90.35208998396203, 122.0822770995572, 80.13784121402989, 180.55963858270678, 156.80061667142357, 126.17558105643774, 642.464311767366, 69.81916502139062, 51.62101424151179, 40.888930989373776, 38.066568519433865, 37.18997446615137, 36.523130669361365, 35.529330000650255, 35.141422758030494, 32.513753071920604, 27.690547781201765, 26.65097243928157, 26.45112125386239, 26.388990050170637, 26.165850162181513, 25.31993388026416, 23.8744446459697, 21.990534563305147, 21.865589058464955, 21.80001232043309, 21.51764812431929, 21.17266577905834, 17.29490880329469, 16.871250881959348, 14.502064683077078, 98.7293544825084, 48.91168497286904, 18.059334704831176, 32.576841818136494, 19.37892409465868, 53.398023512656785, 126.17558105643774, 177.3154660236955, 642.464311767366, 113.16842276283151, 48.84099199684015, 44.302927618755746, 43.73360652414436, 41.269435441417215, 40.04238782347649, 34.000580028955575, 33.42185505483149, 32.53295138397372, 30.172236040347673, 29.42087017378013, 27.262388637602385, 26.487395477094427, 26.12329286705338, 25.079227050825793, 24.76175185448609, 24.732970906052902, 23.54595977482681, 21.98175937233228, 17.959570030926756, 17.560306468448065, 16.339016348474242, 31.906274076109497, 22.677688864168562, 62.826058701560406, 32.576841818136494, 69.31526651347862, 112.08813810680763, 90.19758976508635, 97.20394915110936, 642.464311767366, 48.47292789772886, 48.15430866506812, 41.53962603251754, 36.57777880499024, 33.179033204820506, 32.041593717061126, 31.2351232758677, 29.542712161338695, 29.05811993147543, 28.663850634343955, 28.647734720491265, 27.149447243284776, 26.58216868390822, 26.13620318177565, 21.8763731460397, 20.621867713970527, 19.410075783798753, 15.804407410971468, 15.101857931760138, 14.710772101609273, 44.231884738930546, 52.81741865784671, 42.230567932056076, 42.833330232311155, 75.54247638479332, 31.79127375473985, 52.018612114270354, 70.81850435499035, 74.29304467342392, 108.07089600035, 177.35749390050577, 485.91088408849805, 70.48028918405622, 68.56589321191241, 55.74008544282657, 54.495116929411495, 51.04434942013779, 49.3268335801813, 45.0713804940296, 42.42238437899829, 36.10709060990703, 33.66090720735779, 33.205874725373484, 32.76082786553495, 32.21250071860522, 29.899411179814592, 23.418634474656496, 23.0144828873255, 22.90148494697228, 21.91147173503004, 21.503244763334667, 21.383603388195684, 20.342275690478274, 18.903201644234514, 17.017346373664733, 26.63511854993318, 83.51995748497983, 31.79127375473985, 28.998204323754727, 131.4570806169862, 103.13226181986676, 177.35749390050577, 642.464311767366, 244.6055552781295, 485.91088408849805, 56.790464730506585, 39.661492483061, 38.81834412913222, 37.253745261128124, 36.937300411686515, 28.655827268416743, 27.049732915204647, 26.81768077547877, 26.215502932728153, 25.957083170081383, 25.53663444802169, 24.355533296426216, 22.17706257737845, 21.316724550576726, 20.129002290659013, 19.21017564385591, 17.7119195099464, 17.573944215687323, 17.514993916612227, 16.589473850306664, 16.336361542874783, 15.43742603303078, 87.7468368684101, 69.68870814536713, 45.504639433559305, 69.81026128667392, 94.38528860439382, 70.11936853717701, 46.626950868295566, 131.4570806169862, 642.464311767366, 245.05059860120892, 81.6477192538361, 80.89542730638935, 56.93033436677653, 36.665769325959374, 33.71995024341424, 29.709141694305533, 23.982143574167356, 23.70037544849588, 22.535668832130682, 22.503097876057602, 21.229532450919482, 20.333852324417776, 19.39795957322032, 17.888010392971047, 14.68298469602876, 13.99688082841385, 66.69364535506746, 113.60122865311281, 78.6378176321632, 131.46525353095592, 147.65554154583728, 113.86413359116615, 83.44082948381279, 177.35749390050577, 23.410370260331682, 82.42038724546364, 94.38528860439382, 142.09973615863387, 205.56540232380868, 145.42212189101613, 485.91088408849805, 642.464311767366, 276.53600329384705, 66.59025140618363, 55.3000118829352, 44.03683940579998, 38.67768405713799, 37.22430314277198, 35.578951921557554, 22.11555382102354, 21.95082124481307, 20.76157538348014, 19.45298515542078, 19.390152367202656, 16.104958156745177, 14.657597139698716, 13.435115472044808, 13.235602630867639, 46.16935450216207, 49.91829478892476, 59.886368582831054, 28.471029010522884, 87.7468368684101, 112.08813810680763, 70.11936853717701, 177.3154660236955, 642.464311767366, 150.34843531477162, 145.42212189101613, 97.20394915110936, 177.35749390050577, 109.9207089436153, 485.91088408849805, 245.05059860120892, 76.3544699634954, 57.41574645994791, 49.733977842468114, 46.93177108341442, 45.23679078518361, 37.19456971155748, 32.20117809805813, 31.09142839767179, 29.19333907161368, 21.305442585480986, 20.92878713013102, 20.74462681747696, 20.228621613591105, 19.98148160318817, 19.203303669177647, 18.40376049808939, 18.065024178372482, 17.564988639078514, 17.30245596295161, 16.953695418388374, 15.917518499982684, 15.774530402785953, 14.93493193411164, 27.126777730840747, 23.905516624537714, 100.54096001939064, 30.49169782170633, 48.91168497286904, 38.93713875556877, 50.500707541001624, 62.826058701560406, 485.91088408849805, 642.464311767366, 113.60122865311281, 58.073850845768206, 55.83353955716402, 41.87793479301316, 40.42591144788477, 38.74172187770182, 34.272365573504736, 33.896006119997125, 31.752708765627737, 31.358027284796126, 28.487417472409575, 28.361071452381598, 27.80268321284023, 25.348773206513584, 22.650921872183634, 19.801938000516877, 18.450474376017223, 16.860134587923117, 15.31631207289758, 14.20136761737623, 11.545011392748025, 33.497021335433224, 113.12054519492808, 48.895017673345514, 19.37892409465868, 14.30325870514017, 81.75092347555476, 28.471029010522884, 122.0822770995572, 42.65037606398791, 69.81026128667392, 177.35749390050577, 485.91088408849805, 232.11317526140053, 86.01006775802449, 53.40998551843725, 51.063760764079056, 47.204459771743394, 26.778431712937085, 24.46962552665989, 20.13032872988542, 20.031227976407113, 19.523980401340694, 19.353963676011844, 19.10442337256914, 16.308192973048907, 14.68912096649973, 36.23341058494986, 78.74156238729618, 59.23498105349961, 119.86368852909094, 177.35749390050577, 59.91240954781024, 485.91088408849805, 53.121093191973884, 113.86413359116615, 90.19758976508635, 191.20759782240333, 122.0822770995572, 180.55963858270678, 176.37809137092026, 109.9207089436153, 85.21396046376779, 642.464311767366, 133.7529333796536, 61.248343265630666, 60.66618448775338, 60.645208073801605, 56.19968958220441, 50.53264949896865, 39.117984242050106, 34.03163911047411, 32.479781120408234, 29.042097533644164, 27.90115927923752, 26.445413350520464, 25.912531352617528, 25.833064230184256, 25.535205119255068, 25.07734820030214, 23.548448080961098, 23.347548722807996, 22.524559690651323, 20.365338690694102, 20.29367103141358, 19.147804583367662, 18.997635085154805, 27.668362540854417, 147.65554154583728, 153.17143060654044, 180.55963858270678, 642.464311767366, 156.80061667142357, 205.56540232380868, 142.09973615863387, 177.3154660236955, 66.85394075267497, 54.15530496318757, 51.40116445213389, 48.894381567551186, 36.89243695337456, 29.00981590373656, 27.21426338611937, 24.84088123250566, 24.732664679057933, 23.41601270061319, 21.93991390513843, 20.743819330423502, 20.566589697431922, 20.31336612225906, 20.027609358108762, 20.00921587542078, 19.403108571626476, 18.855269978498832, 18.05878088154391, 18.019614034704617, 17.7501273546053, 17.533149862657645, 16.841406956149545, 14.467599948330317, 102.16715254945123, 79.20301006859818, 42.65037606398791, 76.465320851584, 112.43152169007487, 131.4570806169862, 485.91088408849805, 114.5010632892186, 53.44873612363121, 44.602014091571036, 41.71123592665716, 39.92606878436598, 32.20430122499712, 29.70937557545584, 29.49075568122141, 28.17480013806564, 27.96031182459891, 24.5953606862471, 23.114708479366037, 22.433865807640803, 19.544667066331765, 18.10242287104314, 18.032653197842674, 17.417047663454596, 14.544424057141061, 37.059330898167936, 28.998204323754727, 69.31526651347862, 177.3154660236955, 114.78787305257782, 153.17143060654044, 642.464311767366, 103.13226181986676, 142.09973615863387, 126.17558105643774, 156.80061667142357, 150.34843531477162, 244.6055552781295, 101.14600309900877, 70.00439065654604, 54.00270857142481, 49.72823838568974, 43.81752421360551, 41.75185133469672, 41.25944880839016, 34.95864428186853, 30.377703332597633, 27.033971174657097, 26.357002856856308, 24.648167833802493, 24.41064378008906, 23.637690892976792, 23.444317551424252, 22.69893778767922, 21.669933362407654, 17.902022433614214, 16.79267257537188, 14.99028427000966, 74.29304467342392, 45.504639433559305, 37.63907891399983, 42.80308757101337, 27.05419869515464, 119.86368852909094, 80.13784121402989, 145.42212189101613, 100.54096001939064, 142.09973615863387, 176.37809137092026, 485.91088408849805, 642.464311767366, 107.41518749347377, 46.653144535142886, 45.43167355675228, 44.68959594830124, 41.45101675128966, 41.242398014686906, 40.99834428005899, 37.073059227296625, 30.595647825636714, 30.17858366848688, 29.830241373037715, 23.829742505917768, 23.6717608761319, 21.672134526427485, 21.23546797275796, 19.61387076488021, 19.199697859602313, 18.42109222236141, 16.050621100107154, 15.315264437064698, 13.570213709329112, 12.010490084456293, 44.746422738472425, 81.46310108880975, 113.86413359116615, 66.69364535506746, 82.53166539982448, 119.86368852909094, 191.20759782240333, 109.9207089436153, 642.464311767366, 67.29010781992555, 65.31729593970702, 59.190722664127414, 47.63548120440674, 47.46750448811176, 46.01555383303593, 44.66104920051724, 43.31239853438555, 39.50699497350503, 33.280948512003775, 33.118936124175264, 30.80362040974287, 29.778003355361953, 25.044935540793887, 22.949298253919622, 22.878772720082374, 19.168837974505266, 18.077206551981426, 16.665534038905484, 16.605997684014106, 80.98849217815074, 42.203660740370026, 59.91240954781024, 103.77059993566002, 191.20759782240333, 119.86368852909094, 122.0822770995572, 112.08813810680763, 113.86413359116615, 485.91088408849805, 642.464311767366, 88.17507080019568, 69.92460594353385, 40.68615926782003, 38.99473272901306, 36.59453070957526, 35.331612121817706, 32.38934716668976, 30.369256899742737, 27.179923421506285, 25.747609522687657, 23.197045585348818, 22.698964222959464, 19.216749246469075, 18.821215460447817, 18.561670282351763, 17.71519148915448, 17.23473262181193, 16.859797604959528, 14.721188453945134, 14.622230772228873, 78.74303922581994, 50.500707541001624, 80.13784121402989, 191.20759782240333, 79.20301006859818, 109.9207089436153, 127.63899986213167, 75.54247638479332, 126.17558105643774, 642.464311767366, 245.05059860120892, 485.91088408849805, 80.10089013933886, 53.14595557550958, 48.36971340870214, 44.097701772845845, 38.49195959246745, 33.883098782062945, 33.832822225217825, 29.842793674197676, 27.785245305960153, 26.327839827032044, 26.20624452470636, 24.46954514035632, 23.90956578587906, 22.785965159660716, 21.326095880164534, 20.551682212905277, 20.023192722514636, 18.475453011670318, 18.024379447514637, 16.994681551609784, 16.68109762067944, 16.01755839381452, 40.48194512753644, 40.86850735575856, 38.93713875556877, 41.07524187519845, 48.08036643939496, 85.21396046376779, 70.11936853717701, 176.37809137092026, 642.464311767366, 205.56540232380868, 80.70911657370789, 62.734900748943716, 60.32621863541995, 51.92731284043209, 33.8192595059086, 32.59135138682155, 32.13692912484017, 31.86547839745622, 29.546766031446086, 27.623896108040285, 27.383765704301112, 24.69936322200542, 23.246011246951497, 23.219182959534372, 22.578533030875217, 20.17464683660434, 19.450965539895815, 18.97572983719218, 17.864478846381736, 17.054386119594643, 13.60642745513492, 32.212602396858, 61.02237166004019, 30.32304546742057, 71.43946844776778, 28.471029010522884, 65.27339240752003, 103.77059993566002, 85.21396046376779, 70.11936853717701, 131.46525353095592, 642.464311767366, 244.6055552781295, 485.91088408849805, 197.10211148282065, 75.45749367572503, 48.74292591350413, 37.7462752167706, 29.58930443293713, 26.937036151687572, 26.76347675789621, 26.593189091973574, 20.044362494196513, 19.484518607837874, 15.318865764970475, 49.17712985762206, 90.35208998396203, 103.13226181986676, 112.43152169007487, 131.4570806169862, 59.91240954781024, 81.75092347555476, 90.19758976508635, 485.91088408849805, 78.74303922581994, 177.35749390050577, 109.9207089436153, 113.86413359116615, 40.48194512753644, 145.42212189101613, 85.21396046376779, 180.55963858270678, 1.0090906873666052, 1.0090906873666052, 245.05059860120892, 244.6055552781295, 642.464311767366, 91.39519800830902, 91.11513733232138, 54.79741479043114, 54.07760742587905, 49.521356744575826, 39.20519472493006, 36.6668770683031, 33.559594179511556, 32.41732893994176, 32.40972548267513, 25.440999330570303, 25.34655118249085, 24.9064524820159, 24.468866476082987, 23.25534899708798, 22.86940816716586, 22.30512469341083, 21.793557517622794, 20.962630050411462, 16.579538660692524, 16.3111496939085, 28.984745854275694, 27.05419869515464, 21.17618324118002, 83.51995748497983, 37.059330898167936, 102.16715254945123, 112.08813810680763, 145.42212189101613, 176.37809137092026, 485.91088408849805, 245.05059860120892, 642.464311767366, 58.421999284674335, 51.45657857681883, 45.39388035301603, 43.582463553622006, 42.82105302050197, 42.15955592170793, 38.471708352484335, 37.97881931893792, 36.13650538340237, 31.556917480973034, 26.82764677303372, 26.60570810507195, 25.29604531471562, 25.01957238757284, 24.017510141667636, 23.840590878253987, 21.236536481723864, 20.695831117376386, 18.353716242219402, 17.37486500256277, 16.06006926396747, 15.874067865394558, 14.661420449441176, 10.70247995903945, 23.410370260331682, 42.80308757101337, 52.018612114270354, 45.36283608394395, 81.46310108880975, 103.77059993566002, 245.05059860120892, 642.464311767366, 60.41044677471378, 57.65795762567009, 47.67018258279817, 46.806220765553185, 45.77614373716517, 44.07886928620544, 43.60068294477558, 41.02653753576022, 31.22458301415189, 28.470215086708812, 28.464919816635227, 28.04693868089852, 26.579055461660506, 24.67101076301199, 23.491356394282757, 18.928519951034684, 18.156981263223216, 14.127707695214154, 47.03083607474914, 46.626950868295566, 108.07089600035, 75.36689906660557, 77.58637325553026, 59.886368582831054, 145.42212189101613, 245.05059860120892, 127.63899986213167, 119.86368852909094, 1.0090906873666052, 1.0090906873666052, 244.6055552781295, 642.464311767366, 485.91088408849805, 109.59136203982926, 91.05293086006506, 64.95818558008732, 50.93541523515099, 47.29664356381139, 45.17106583499668, 41.685464389723734, 35.846793610958315, 34.396559818404306, 32.65428991609239, 26.282123478334892, 23.29250911127423, 22.03411705060149, 20.60281802734773, 20.387487904428173, 20.04487360085323, 17.88684235424251, 16.41960924495625, 100.54096001939064, 65.26057024376603, 81.75092347555476, 90.35208998396203, 50.500707541001624, 94.38528860439382, 122.0822770995572, 83.51995748497983, 80.13784121402989, 32.80881353867349, 44.231884738930546, 145.42212189101613, 245.05059860120892, 485.91088408849805, 66.77421135162955, 58.29538805720854, 46.04186787827591, 44.279664830213555, 40.46353381292238, 34.71632656265819, 34.539655263128864, 33.36642746808831, 32.691946968210154, 26.583044528983656, 23.94911768133233, 22.65341048663723, 22.283367543311527, 21.53729525779825, 21.287160818546933, 21.233402505450243, 21.2253497190437, 17.492938022400224, 17.335201086745535, 16.666239550169223, 15.448537679362179, 153.17143060654044, 14.30325870514017, 28.984745854275694, 176.37809137092026, 27.465645707754707, 23.309160838957954, 49.17712985762206, 48.08036643939496, 62.826058701560406, 180.55963858270678, 131.46525353095592, 191.20759782240333, 642.464311767366, 205.56540232380868, 134.99718442927218, 62.483419671362014, 54.468132074276205, 37.63158070006084, 32.081141055709764, 31.977959660459618, 30.155374544761642, 29.4553355038101, 25.922557523270754, 25.228791756093777, 25.22366748523694, 24.36321164811656, 21.488548993611026, 19.529180809341664, 18.808323340354143, 18.016121098109352, 17.85146098557176, 77.58637325553026, 26.63511854993318, 18.059334704831176, 145.42212189101613, 71.43946844776778, 61.02237166004019, 85.21396046376779, 112.08813810680763, 52.641338704317384, 80.13784121402989, 126.17558105643774, 108.07089600035, 43.90346021890438, 485.91088408849805, 177.35749390050577, 176.37809137092026, 68.00789657158364, 58.18805054895489, 53.940333738075346, 53.37613327018727, 41.20514041008509, 34.70875953397335, 29.675289543476566, 29.524870979489002, 22.57988729888837, 21.057449232394617, 21.044488560766855, 20.377236733480792, 19.347135949354463, 89.6112327074694, 15.540155189151283, 15.017407061649587, 48.13878592908875, 82.53166539982448, 65.27339240752003, 27.05419869515464, 42.203660740370026, 69.68870814536713, 94.38528860439382, 131.4570806169862, 245.05059860120892, 119.86368852909094, 103.77059993566002, 1.0090906873666052, 1.0090906873666052, 1.0090906873666052, 642.464311767366, 150.34843531477162, 145.42212189101613, 59.510722549725195, 57.6227815237875, 39.778941652515115, 37.0954411612952, 33.44102336058206, 30.920093272769773, 28.877618548875006, 27.455704886170086, 25.581930691723027, 23.808998793001635, 21.097160135447854, 20.48155050271843, 20.390167741825206, 19.577735083519382, 18.784504562022736, 26.913959823889012, 76.465320851584, 71.8072312275881, 142.09973615863387, 22.677688864168562, 81.75092347555476, 80.13784121402989, 113.86413359116615, 191.20759782240333, 90.19758976508635, 127.63899986213167, 176.37809137092026, 122.0822770995572, 1.0090906873666052, 1.0090906873666052, 119.86368852909094, 156.80061667142357, 642.464311767366, 485.91088408849805, 123.360907739805, 78.27156443977708, 77.13183566293436, 58.5969972689148, 49.14924616205589, 37.17563553099329, 32.10433511910749, 25.318503403146597, 24.341058547179447, 22.556055804739096, 22.432981030984127, 18.519099066300825, 18.48417959672839, 17.07272422068301, 41.07524187519845, 127.63899986213167, 109.9207089436153, 49.91829478892476, 47.03083607474914, 81.46310108880975, 1.0090906873666052, 1.0090906873666052, 1.0090906873666052, 1.0090906873666052, 1.0090906873666052, 1.0090906873666052, 1.0090906873666052, 1.0090906873666052, 1.0090906873666052, 1.0090906873666052, 112.08813810680763, 485.91088408849805, 177.3154660236955, 112.43152169007487, 119.86368852909094, 156.80061667142357, 244.6055552781295, 180.55963858270678, 642.464311767366, 197.10211148282065, 75.87982443707327, 43.36308382330905, 42.45577654130328, 41.40769554447311, 37.93780974374213, 36.810033038179064, 36.787179145852996, 34.35571870391349, 33.87125087941651, 31.8125040294801, 27.964238143519076, 26.77876728548807, 24.845160312760243, 23.4574780419641, 20.776522770562078, 19.049871453142973, 18.929636272750475, 18.548509672946135, 18.156144046397007, 17.876485259238844, 16.450254933625548, 14.85785469413174, 485.91088408849805, 41.667918524692574, 39.60652965320301, 70.81850435499035, 76.06636556287901, 85.21396046376779, 127.63899986213167, 177.35749390050577, 642.464311767366, 61.62724858235415, 60.02409639445063, 57.66435058312228, 52.09803272651974, 45.44394847121541, 34.55444010343996, 30.14599803853904, 29.690848028320012, 29.57614349263433, 29.412255880360387, 24.618639337685853, 23.61434748680342, 23.37217988081002, 21.862247741613245, 20.54243087147941, 20.268788368604305, 20.25773285379298, 17.68141773647705, 16.63350612816322, 70.81850435499035, 32.212602396858, 80.13784121402989, 145.42212189101613, 70.11936853717701, 103.13226181986676, 97.20394915110936, 83.51995748497983, 205.56540232380868, 127.63899986213167, 180.55963858270678, 642.464311767366, 176.37809137092026, 55.15975486733017, 52.2712305821775, 43.83279329821598, 37.62717539651871, 34.09357210545063, 31.146558228103622, 30.149146068104574, 29.145525831665996, 28.732432427079388, 26.304100249663254, 25.2230199673773, 24.292079584767585, 24.09628764351761, 23.250959936320807, 22.253671240012302, 22.091040035645356, 20.49675474170127, 20.040012896518924, 19.899943339601496, 19.59054064711543, 18.395467144552036, 16.56118051416826, 44.746422738472425, 69.31526651347862, 31.906274076109497, 81.46310108880975, 131.4570806169862, 94.38528860439382, 97.20394915110936, 103.77059993566002, 176.37809137092026, 180.55963858270678, 642.464311767366], \"Category\": [\"Default\", \"Default\", \"Default\", \"Default\", \"Default\", \"Default\", \"Default\", \"Default\", \"Default\", \"Default\", \"Default\", \"Default\", \"Default\", \"Default\", \"Default\", \"Default\", \"Default\", \"Default\", \"Default\", \"Default\", \"Default\", \"Default\", \"Default\", \"Default\", \"Default\", \"Default\", \"Default\", \"Default\", \"Default\", \"Default\", \"Topic1\", \"Topic1\", \"Topic1\", \"Topic1\", \"Topic1\", \"Topic1\", \"Topic1\", \"Topic1\", \"Topic1\", \"Topic1\", \"Topic1\", \"Topic1\", \"Topic1\", \"Topic1\", \"Topic1\", \"Topic1\", \"Topic1\", \"Topic1\", \"Topic1\", \"Topic1\", \"Topic1\", \"Topic1\", \"Topic1\", \"Topic1\", \"Topic1\", \"Topic1\", \"Topic1\", \"Topic1\", \"Topic1\", \"Topic1\", \"Topic1\", \"Topic1\", \"Topic1\", \"Topic2\", \"Topic2\", \"Topic2\", \"Topic2\", \"Topic2\", \"Topic2\", \"Topic2\", \"Topic2\", \"Topic2\", \"Topic2\", \"Topic2\", \"Topic2\", \"Topic2\", \"Topic2\", \"Topic2\", \"Topic2\", \"Topic2\", \"Topic2\", \"Topic2\", \"Topic2\", \"Topic2\", \"Topic2\", \"Topic2\", \"Topic2\", \"Topic2\", \"Topic2\", \"Topic2\", \"Topic2\", \"Topic2\", \"Topic2\", \"Topic2\", \"Topic2\", \"Topic2\", \"Topic2\", \"Topic3\", \"Topic3\", \"Topic3\", \"Topic3\", \"Topic3\", \"Topic3\", \"Topic3\", \"Topic3\", \"Topic3\", \"Topic3\", \"Topic3\", \"Topic3\", \"Topic3\", \"Topic3\", \"Topic3\", \"Topic3\", \"Topic3\", \"Topic3\", \"Topic3\", \"Topic3\", \"Topic3\", \"Topic3\", \"Topic3\", \"Topic3\", \"Topic3\", \"Topic3\", \"Topic3\", \"Topic3\", \"Topic3\", \"Topic3\", \"Topic3\", \"Topic3\", \"Topic3\", \"Topic4\", \"Topic4\", \"Topic4\", \"Topic4\", \"Topic4\", \"Topic4\", \"Topic4\", \"Topic4\", \"Topic4\", \"Topic4\", \"Topic4\", \"Topic4\", \"Topic4\", \"Topic4\", \"Topic4\", \"Topic4\", \"Topic4\", \"Topic4\", \"Topic4\", \"Topic4\", \"Topic4\", \"Topic4\", \"Topic4\", \"Topic4\", \"Topic4\", \"Topic4\", \"Topic4\", \"Topic4\", \"Topic4\", \"Topic4\", \"Topic4\", \"Topic4\", \"Topic4\", \"Topic5\", \"Topic5\", \"Topic5\", \"Topic5\", \"Topic5\", \"Topic5\", \"Topic5\", \"Topic5\", \"Topic5\", \"Topic5\", \"Topic5\", \"Topic5\", \"Topic5\", \"Topic5\", \"Topic5\", \"Topic5\", \"Topic5\", \"Topic5\", \"Topic5\", \"Topic5\", \"Topic5\", \"Topic5\", \"Topic5\", \"Topic5\", \"Topic5\", \"Topic5\", \"Topic5\", \"Topic5\", \"Topic5\", \"Topic5\", \"Topic5\", \"Topic5\", \"Topic5\", \"Topic6\", \"Topic6\", \"Topic6\", \"Topic6\", \"Topic6\", \"Topic6\", \"Topic6\", \"Topic6\", \"Topic6\", \"Topic6\", \"Topic6\", \"Topic6\", \"Topic6\", \"Topic6\", \"Topic6\", \"Topic6\", \"Topic6\", \"Topic6\", \"Topic6\", \"Topic6\", \"Topic6\", \"Topic6\", \"Topic6\", \"Topic6\", \"Topic6\", \"Topic6\", \"Topic6\", \"Topic6\", \"Topic6\", \"Topic6\", \"Topic6\", \"Topic6\", \"Topic6\", \"Topic7\", \"Topic7\", \"Topic7\", \"Topic7\", \"Topic7\", \"Topic7\", \"Topic7\", \"Topic7\", \"Topic7\", \"Topic7\", \"Topic7\", \"Topic7\", \"Topic7\", \"Topic7\", \"Topic7\", \"Topic7\", \"Topic7\", \"Topic7\", \"Topic7\", \"Topic7\", \"Topic7\", \"Topic7\", \"Topic7\", \"Topic7\", \"Topic7\", \"Topic7\", \"Topic7\", \"Topic7\", \"Topic7\", \"Topic7\", \"Topic7\", \"Topic7\", \"Topic7\", \"Topic8\", \"Topic8\", \"Topic8\", \"Topic8\", \"Topic8\", \"Topic8\", \"Topic8\", \"Topic8\", \"Topic8\", \"Topic8\", \"Topic8\", \"Topic8\", \"Topic8\", \"Topic8\", \"Topic8\", \"Topic8\", \"Topic8\", \"Topic8\", \"Topic8\", \"Topic8\", \"Topic8\", \"Topic8\", \"Topic8\", \"Topic8\", \"Topic8\", \"Topic8\", \"Topic8\", \"Topic8\", \"Topic8\", \"Topic8\", \"Topic8\", \"Topic9\", \"Topic9\", \"Topic9\", \"Topic9\", \"Topic9\", \"Topic9\", \"Topic9\", \"Topic9\", \"Topic9\", \"Topic9\", \"Topic9\", \"Topic9\", \"Topic9\", \"Topic9\", \"Topic9\", \"Topic9\", \"Topic9\", \"Topic9\", \"Topic9\", \"Topic9\", \"Topic9\", \"Topic9\", \"Topic9\", \"Topic9\", \"Topic9\", \"Topic9\", \"Topic9\", \"Topic9\", \"Topic9\", \"Topic9\", \"Topic9\", \"Topic9\", \"Topic9\", \"Topic10\", \"Topic10\", \"Topic10\", \"Topic10\", \"Topic10\", \"Topic10\", \"Topic10\", \"Topic10\", \"Topic10\", \"Topic10\", \"Topic10\", \"Topic10\", \"Topic10\", \"Topic10\", \"Topic10\", \"Topic10\", \"Topic10\", \"Topic10\", \"Topic10\", \"Topic10\", \"Topic10\", \"Topic10\", \"Topic10\", \"Topic10\", \"Topic10\", \"Topic10\", \"Topic10\", \"Topic10\", \"Topic10\", \"Topic10\", \"Topic10\", \"Topic11\", \"Topic11\", \"Topic11\", \"Topic11\", \"Topic11\", \"Topic11\", \"Topic11\", \"Topic11\", \"Topic11\", \"Topic11\", \"Topic11\", \"Topic11\", \"Topic11\", \"Topic11\", \"Topic11\", \"Topic11\", \"Topic11\", \"Topic11\", \"Topic11\", \"Topic11\", \"Topic11\", \"Topic11\", \"Topic11\", \"Topic11\", \"Topic11\", \"Topic11\", \"Topic11\", \"Topic11\", \"Topic11\", \"Topic11\", \"Topic11\", \"Topic11\", \"Topic12\", \"Topic12\", \"Topic12\", \"Topic12\", \"Topic12\", \"Topic12\", \"Topic12\", \"Topic12\", \"Topic12\", \"Topic12\", \"Topic12\", \"Topic12\", \"Topic12\", \"Topic12\", \"Topic12\", \"Topic12\", \"Topic12\", \"Topic12\", \"Topic12\", \"Topic12\", \"Topic12\", \"Topic12\", \"Topic12\", \"Topic12\", \"Topic12\", \"Topic12\", \"Topic12\", \"Topic12\", \"Topic12\", \"Topic12\", \"Topic12\", \"Topic12\", \"Topic12\", \"Topic13\", \"Topic13\", \"Topic13\", \"Topic13\", \"Topic13\", \"Topic13\", \"Topic13\", \"Topic13\", \"Topic13\", \"Topic13\", \"Topic13\", \"Topic13\", \"Topic13\", \"Topic13\", \"Topic13\", \"Topic13\", \"Topic13\", \"Topic13\", \"Topic13\", \"Topic13\", \"Topic13\", \"Topic13\", \"Topic13\", \"Topic13\", \"Topic13\", \"Topic13\", \"Topic13\", \"Topic13\", \"Topic13\", \"Topic13\", \"Topic13\", \"Topic13\", \"Topic14\", \"Topic14\", \"Topic14\", \"Topic14\", \"Topic14\", \"Topic14\", \"Topic14\", \"Topic14\", \"Topic14\", \"Topic14\", \"Topic14\", \"Topic14\", \"Topic14\", \"Topic14\", \"Topic14\", \"Topic14\", \"Topic14\", \"Topic14\", \"Topic14\", \"Topic14\", \"Topic14\", \"Topic14\", \"Topic14\", \"Topic14\", \"Topic14\", \"Topic14\", \"Topic14\", \"Topic14\", \"Topic14\", \"Topic14\", \"Topic14\", \"Topic14\", \"Topic15\", \"Topic15\", \"Topic15\", \"Topic15\", \"Topic15\", \"Topic15\", \"Topic15\", \"Topic15\", \"Topic15\", \"Topic15\", \"Topic15\", \"Topic15\", \"Topic15\", \"Topic15\", \"Topic15\", \"Topic15\", \"Topic15\", \"Topic15\", \"Topic15\", \"Topic15\", \"Topic15\", \"Topic15\", \"Topic15\", \"Topic15\", \"Topic15\", \"Topic15\", \"Topic15\", \"Topic15\", \"Topic15\", \"Topic15\", \"Topic15\", \"Topic15\", \"Topic16\", \"Topic16\", \"Topic16\", \"Topic16\", \"Topic16\", \"Topic16\", \"Topic16\", \"Topic16\", \"Topic16\", \"Topic16\", \"Topic16\", \"Topic16\", \"Topic16\", \"Topic16\", \"Topic16\", \"Topic16\", \"Topic16\", \"Topic16\", \"Topic16\", \"Topic16\", \"Topic16\", \"Topic16\", \"Topic16\", \"Topic16\", \"Topic16\", \"Topic16\", \"Topic16\", \"Topic16\", \"Topic16\", \"Topic16\", \"Topic16\", \"Topic16\", \"Topic16\", \"Topic16\", \"Topic17\", \"Topic17\", \"Topic17\", \"Topic17\", \"Topic17\", \"Topic17\", \"Topic17\", \"Topic17\", \"Topic17\", \"Topic17\", \"Topic17\", \"Topic17\", \"Topic17\", \"Topic17\", \"Topic17\", \"Topic17\", \"Topic17\", \"Topic17\", \"Topic17\", \"Topic17\", \"Topic17\", \"Topic17\", \"Topic17\", \"Topic17\", \"Topic17\", \"Topic17\", \"Topic17\", \"Topic17\", \"Topic17\", \"Topic17\", \"Topic17\", \"Topic17\", \"Topic18\", \"Topic18\", \"Topic18\", \"Topic18\", \"Topic18\", \"Topic18\", \"Topic18\", \"Topic18\", \"Topic18\", \"Topic18\", \"Topic18\", \"Topic18\", \"Topic18\", \"Topic18\", \"Topic18\", \"Topic18\", \"Topic18\", \"Topic18\", \"Topic18\", \"Topic18\", \"Topic18\", \"Topic18\", \"Topic18\", \"Topic18\", \"Topic18\", \"Topic18\", \"Topic18\", \"Topic18\", \"Topic18\", \"Topic18\", \"Topic18\", \"Topic18\", \"Topic19\", \"Topic19\", \"Topic19\", \"Topic19\", \"Topic19\", \"Topic19\", \"Topic19\", \"Topic19\", \"Topic19\", \"Topic19\", \"Topic19\", \"Topic19\", \"Topic19\", \"Topic19\", \"Topic19\", \"Topic19\", \"Topic19\", \"Topic19\", \"Topic19\", \"Topic19\", \"Topic19\", \"Topic19\", \"Topic19\", \"Topic19\", \"Topic19\", \"Topic19\", \"Topic19\", \"Topic19\", \"Topic19\", \"Topic19\", \"Topic19\", \"Topic20\", \"Topic20\", \"Topic20\", \"Topic20\", \"Topic20\", \"Topic20\", \"Topic20\", \"Topic20\", \"Topic20\", \"Topic20\", \"Topic20\", \"Topic20\", \"Topic20\", \"Topic20\", \"Topic20\", \"Topic20\", \"Topic20\", \"Topic20\", \"Topic20\", \"Topic20\", \"Topic20\", \"Topic20\", \"Topic20\", \"Topic20\", \"Topic20\", \"Topic20\", \"Topic20\", \"Topic20\", \"Topic20\", \"Topic20\", \"Topic20\", \"Topic21\", \"Topic21\", \"Topic21\", \"Topic21\", \"Topic21\", \"Topic21\", \"Topic21\", \"Topic21\", \"Topic21\", \"Topic21\", \"Topic21\", \"Topic21\", \"Topic21\", \"Topic21\", \"Topic21\", \"Topic21\", \"Topic21\", \"Topic21\", \"Topic21\", \"Topic21\", \"Topic21\", \"Topic21\", \"Topic21\", \"Topic21\", \"Topic21\", \"Topic21\", \"Topic21\", \"Topic21\", \"Topic21\", \"Topic21\", \"Topic21\", \"Topic22\", \"Topic22\", \"Topic22\", \"Topic22\", \"Topic22\", \"Topic22\", \"Topic22\", \"Topic22\", \"Topic22\", \"Topic22\", \"Topic22\", \"Topic22\", \"Topic22\", \"Topic22\", \"Topic22\", \"Topic22\", \"Topic22\", \"Topic22\", \"Topic22\", \"Topic22\", \"Topic22\", \"Topic22\", \"Topic22\", \"Topic22\", \"Topic22\", \"Topic22\", \"Topic22\", \"Topic22\", \"Topic22\", \"Topic22\", \"Topic22\", \"Topic22\", \"Topic22\", \"Topic23\", \"Topic23\", \"Topic23\", \"Topic23\", \"Topic23\", \"Topic23\", \"Topic23\", \"Topic23\", \"Topic23\", \"Topic23\", \"Topic23\", \"Topic23\", \"Topic23\", \"Topic23\", \"Topic23\", \"Topic23\", \"Topic23\", \"Topic23\", \"Topic23\", \"Topic23\", \"Topic23\", \"Topic23\", \"Topic23\", \"Topic23\", \"Topic23\", \"Topic23\", \"Topic23\", \"Topic23\", \"Topic23\", \"Topic23\", \"Topic23\", \"Topic24\", \"Topic24\", \"Topic24\", \"Topic24\", \"Topic24\", \"Topic24\", \"Topic24\", \"Topic24\", \"Topic24\", \"Topic24\", \"Topic24\", \"Topic24\", \"Topic24\", \"Topic24\", \"Topic24\", \"Topic24\", \"Topic24\", \"Topic24\", \"Topic24\", \"Topic24\", \"Topic24\", \"Topic24\", \"Topic24\", \"Topic24\", \"Topic24\", \"Topic24\", \"Topic24\", \"Topic24\", \"Topic24\", \"Topic24\", \"Topic24\", \"Topic25\", \"Topic25\", \"Topic25\", \"Topic25\", \"Topic25\", \"Topic25\", \"Topic25\", \"Topic25\", \"Topic25\", \"Topic25\", \"Topic25\", \"Topic25\", \"Topic25\", \"Topic25\", \"Topic25\", \"Topic25\", \"Topic25\", \"Topic25\", \"Topic25\", \"Topic25\", \"Topic25\", \"Topic25\", \"Topic25\", \"Topic25\", \"Topic25\", \"Topic25\", \"Topic25\", \"Topic25\", \"Topic25\", \"Topic25\", \"Topic25\", \"Topic25\", \"Topic26\", \"Topic26\", \"Topic26\", \"Topic26\", \"Topic26\", \"Topic26\", \"Topic26\", \"Topic26\", \"Topic26\", \"Topic26\", \"Topic26\", \"Topic26\", \"Topic26\", \"Topic26\", \"Topic26\", \"Topic26\", \"Topic26\", \"Topic26\", \"Topic26\", \"Topic26\", \"Topic26\", \"Topic26\", \"Topic26\", \"Topic26\", \"Topic26\", \"Topic26\", \"Topic26\", \"Topic26\", \"Topic26\", \"Topic26\", \"Topic26\", \"Topic26\", \"Topic27\", \"Topic27\", \"Topic27\", \"Topic27\", \"Topic27\", \"Topic27\", \"Topic27\", \"Topic27\", \"Topic27\", \"Topic27\", \"Topic27\", \"Topic27\", \"Topic27\", \"Topic27\", \"Topic27\", \"Topic27\", \"Topic27\", \"Topic27\", \"Topic27\", \"Topic27\", \"Topic27\", \"Topic27\", \"Topic27\", \"Topic27\", \"Topic27\", \"Topic27\", \"Topic27\", \"Topic27\", \"Topic27\", \"Topic27\", \"Topic27\", \"Topic27\", \"Topic27\", \"Topic27\", \"Topic28\", \"Topic28\", \"Topic28\", \"Topic28\", \"Topic28\", \"Topic28\", \"Topic28\", \"Topic28\", \"Topic28\", \"Topic28\", \"Topic28\", \"Topic28\", \"Topic28\", \"Topic28\", \"Topic28\", \"Topic28\", \"Topic28\", \"Topic28\", \"Topic28\", \"Topic28\", \"Topic28\", \"Topic28\", \"Topic28\", \"Topic28\", \"Topic28\", \"Topic28\", \"Topic28\", \"Topic28\", \"Topic28\", \"Topic28\", \"Topic28\", \"Topic28\", \"Topic28\", \"Topic29\", \"Topic29\", \"Topic29\", \"Topic29\", \"Topic29\", \"Topic29\", \"Topic29\", \"Topic29\", \"Topic29\", \"Topic29\", \"Topic29\", \"Topic29\", \"Topic29\", \"Topic29\", \"Topic29\", \"Topic29\", \"Topic29\", \"Topic29\", \"Topic29\", \"Topic29\", \"Topic29\", \"Topic29\", \"Topic29\", \"Topic29\", \"Topic29\", \"Topic29\", \"Topic29\", \"Topic29\", \"Topic29\", \"Topic29\", \"Topic29\", \"Topic29\", \"Topic29\", \"Topic30\", \"Topic30\", \"Topic30\", \"Topic30\", \"Topic30\", \"Topic30\", \"Topic30\", \"Topic30\", \"Topic30\", \"Topic30\", \"Topic30\", \"Topic30\", \"Topic30\", \"Topic30\", \"Topic30\", \"Topic30\", \"Topic30\", \"Topic30\", \"Topic30\", \"Topic30\", \"Topic30\", \"Topic30\", \"Topic30\", \"Topic30\", \"Topic30\", \"Topic30\", \"Topic30\", \"Topic30\", \"Topic30\", \"Topic30\", \"Topic30\", \"Topic30\", \"Topic31\", \"Topic31\", \"Topic31\", \"Topic31\", \"Topic31\", \"Topic31\", \"Topic31\", \"Topic31\", \"Topic31\", \"Topic31\", \"Topic31\", \"Topic31\", \"Topic31\", \"Topic31\", \"Topic31\", \"Topic31\", \"Topic31\", \"Topic31\", \"Topic31\", \"Topic31\", \"Topic31\", \"Topic31\", \"Topic31\", \"Topic31\", \"Topic31\", \"Topic31\", \"Topic31\", \"Topic31\", \"Topic31\", \"Topic31\", \"Topic31\", \"Topic31\", \"Topic31\", \"Topic32\", \"Topic32\", \"Topic32\", \"Topic32\", \"Topic32\", \"Topic32\", \"Topic32\", \"Topic32\", \"Topic32\", \"Topic32\", \"Topic32\", \"Topic32\", \"Topic32\", \"Topic32\", \"Topic32\", \"Topic32\", \"Topic32\", \"Topic32\", \"Topic32\", \"Topic32\", \"Topic32\", \"Topic32\", \"Topic32\", \"Topic32\", \"Topic32\", \"Topic32\", \"Topic32\", \"Topic32\", \"Topic32\", \"Topic32\", \"Topic32\", \"Topic32\", \"Topic33\", \"Topic33\", \"Topic33\", \"Topic33\", \"Topic33\", \"Topic33\", \"Topic33\", \"Topic33\", \"Topic33\", \"Topic33\", \"Topic33\", \"Topic33\", \"Topic33\", \"Topic33\", \"Topic33\", \"Topic33\", \"Topic33\", \"Topic33\", \"Topic33\", \"Topic33\", \"Topic33\", \"Topic33\", \"Topic33\", \"Topic33\", \"Topic33\", \"Topic33\", \"Topic33\", \"Topic33\", \"Topic33\", \"Topic33\", \"Topic33\", \"Topic33\", \"Topic33\", \"Topic33\", \"Topic33\", \"Topic34\", \"Topic34\", \"Topic34\", \"Topic34\", \"Topic34\", \"Topic34\", \"Topic34\", \"Topic34\", \"Topic34\", \"Topic34\", \"Topic34\", \"Topic34\", \"Topic34\", \"Topic34\", \"Topic34\", \"Topic34\", \"Topic34\", \"Topic34\", \"Topic34\", \"Topic34\", \"Topic34\", \"Topic34\", \"Topic34\", \"Topic34\", \"Topic34\", \"Topic34\", \"Topic34\", \"Topic34\", \"Topic34\", \"Topic34\", \"Topic34\", \"Topic34\", \"Topic34\", \"Topic35\", \"Topic35\", \"Topic35\", \"Topic35\", \"Topic35\", \"Topic35\", \"Topic35\", \"Topic35\", \"Topic35\", \"Topic35\", \"Topic35\", \"Topic35\", \"Topic35\", \"Topic35\", \"Topic35\", \"Topic35\", \"Topic35\", \"Topic35\", \"Topic35\", \"Topic35\", \"Topic35\", \"Topic35\", \"Topic35\", \"Topic35\", \"Topic35\", \"Topic35\", \"Topic35\", \"Topic35\", \"Topic35\", \"Topic35\", \"Topic35\", \"Topic35\", \"Topic35\", \"Topic36\", \"Topic36\", \"Topic36\", \"Topic36\", \"Topic36\", \"Topic36\", \"Topic36\", \"Topic36\", \"Topic36\", \"Topic36\", \"Topic36\", \"Topic36\", \"Topic36\", \"Topic36\", \"Topic36\", \"Topic36\", \"Topic36\", \"Topic36\", \"Topic36\", \"Topic36\", \"Topic36\", \"Topic36\", \"Topic36\", \"Topic36\", \"Topic36\", \"Topic36\", \"Topic36\", \"Topic36\", \"Topic36\", \"Topic36\", \"Topic36\", \"Topic36\", \"Topic36\", \"Topic36\", \"Topic37\", \"Topic37\", \"Topic37\", \"Topic37\", \"Topic37\", \"Topic37\", \"Topic37\", \"Topic37\", \"Topic37\", \"Topic37\", \"Topic37\", \"Topic37\", \"Topic37\", \"Topic37\", \"Topic37\", \"Topic37\", \"Topic37\", \"Topic37\", \"Topic37\", \"Topic37\", \"Topic37\", \"Topic37\", \"Topic37\", \"Topic37\", \"Topic37\", \"Topic37\", \"Topic37\", \"Topic37\", \"Topic37\", \"Topic37\", \"Topic37\", \"Topic37\", \"Topic37\", \"Topic37\", \"Topic37\", \"Topic37\", \"Topic37\", \"Topic37\", \"Topic37\", \"Topic37\", \"Topic38\", \"Topic38\", \"Topic38\", \"Topic38\", \"Topic38\", \"Topic38\", \"Topic38\", \"Topic38\", \"Topic38\", \"Topic38\", \"Topic38\", \"Topic38\", \"Topic38\", \"Topic38\", \"Topic38\", \"Topic38\", \"Topic38\", \"Topic38\", \"Topic38\", \"Topic38\", \"Topic38\", \"Topic38\", \"Topic38\", \"Topic38\", \"Topic38\", \"Topic38\", \"Topic38\", \"Topic38\", \"Topic38\", \"Topic38\", \"Topic38\", \"Topic39\", \"Topic39\", \"Topic39\", \"Topic39\", \"Topic39\", \"Topic39\", \"Topic39\", \"Topic39\", \"Topic39\", \"Topic39\", \"Topic39\", \"Topic39\", \"Topic39\", \"Topic39\", \"Topic39\", \"Topic39\", \"Topic39\", \"Topic39\", \"Topic39\", \"Topic39\", \"Topic39\", \"Topic39\", \"Topic39\", \"Topic39\", \"Topic39\", \"Topic39\", \"Topic39\", \"Topic39\", \"Topic39\", \"Topic39\", \"Topic39\", \"Topic39\", \"Topic40\", \"Topic40\", \"Topic40\", \"Topic40\", \"Topic40\", \"Topic40\", \"Topic40\", \"Topic40\", \"Topic40\", \"Topic40\", \"Topic40\", \"Topic40\", \"Topic40\", \"Topic40\", \"Topic40\", \"Topic40\", \"Topic40\", \"Topic40\", \"Topic40\", \"Topic40\", \"Topic40\", \"Topic40\", \"Topic40\", \"Topic40\", \"Topic40\", \"Topic40\", \"Topic40\", \"Topic40\", \"Topic40\", \"Topic40\", \"Topic40\", \"Topic40\", \"Topic40\"], \"logprob\": [30.0, 29.0, 28.0, 27.0, 26.0, 25.0, 24.0, 23.0, 22.0, 21.0, 20.0, 19.0, 18.0, 17.0, 16.0, 15.0, 14.0, 13.0, 12.0, 11.0, 10.0, 9.0, 8.0, 7.0, 6.0, 5.0, 4.0, 3.0, 2.0, 1.0, -2.6356, -2.752, -2.9777, -3.1981, -3.3404, -3.4054, -3.7432, -3.7807, -3.8191, -3.9359, -3.987, -4.0242, -4.0701, -4.183, -4.2011, -4.2281, -4.3222, -4.3481, -4.3756, -4.4028, -4.5305, -4.69, -3.8039, -2.9317, -3.3687, -3.4919, -3.6149, -3.8923, -2.8355, -3.2957, -3.805, -3.8722, -3.9945, -3.0493, -3.1805, -3.2554, -3.3591, -3.4805, -3.7186, -3.7502, -3.7923, -3.8139, -3.8741, -3.8961, -4.0519, -4.0629, -4.0881, -2.1737, -4.138, -4.1589, -4.3301, -4.485, -4.5142, -4.5314, -3.23, -4.1089, -3.5078, -2.9822, -3.5104, -2.2889, -4.2717, -5.151, -4.5482, -3.9452, -3.5056, -4.2839, -4.2662, -2.4558, -3.1995, -3.276, -3.3214, -3.4457, -3.4629, -3.4915, -3.5706, -2.2382, -4.071, -4.0923, -4.1497, -4.152, -4.2043, -4.2721, -4.2883, -4.3156, -3.2422, -3.8296, -3.5012, -3.4296, -3.2047, -3.1768, -3.4724, -5.2467, -2.9799, -4.3531, -5.2626, -4.8082, -4.1349, -3.8347, -4.491, -4.5924, -2.7151, -3.0146, -3.2309, -3.2587, -3.2646, -3.3173, -3.4039, -3.4439, -3.6467, -3.7185, -3.7228, -3.7381, -3.9075, -3.9519, -4.0511, -4.0611, -4.1643, -2.4704, -4.1854, -4.2197, -4.2416, -4.2469, -4.2554, -4.3297, -4.3985, -4.5787, -3.0887, -3.011, -4.0622, -4.6186, -3.4933, -4.0404, -4.2761, -2.3937, -2.9118, -2.9431, -3.1683, -3.1709, -3.2001, -3.3895, -3.5994, -3.6423, -3.7259, -3.7678, -3.7747, -3.7921, -3.809, -3.9657, -3.9702, -3.9776, -4.0038, -4.0139, -4.0246, -4.0639, -4.0685, -4.0908, -4.0909, -4.1738, -4.2361, -4.2562, -4.296, -4.3747, -4.3829, -3.8404, -3.1839, -3.28, -2.402, -2.4992, -2.9148, -3.0979, -3.1026, -3.2841, -3.3257, -3.3625, -3.4279, -3.4438, -3.5223, -3.6055, -3.8034, -3.8474, -3.917, -4.0227, -4.1038, -4.1389, -4.3267, -4.346, -2.8166, -3.9307, -3.4273, -3.0865, -4.5521, -5.5566, -4.5571, -4.265, -4.6669, -5.316, -4.3058, -3.725, -4.6178, -3.027, -3.1719, -3.1944, -3.2161, -3.294, -3.3854, -3.4685, -3.4996, -3.5394, -3.563, -3.6005, -3.6366, -3.7352, -3.8153, -3.8396, -3.9276, -4.0076, -4.0333, -4.0667, -4.1177, -4.1898, -4.2484, -4.2703, -4.3334, -4.3899, -4.0774, -2.8433, -3.2139, -3.6423, -4.0953, -3.193, -3.6896, -4.1391, -2.2732, -2.3915, -2.7482, -2.7745, -3.1081, -3.1645, -3.4172, -3.4638, -3.5077, -3.6325, -3.6677, -3.8179, -3.8688, -3.9994, -4.0209, -4.1374, -4.1925, -4.2651, -3.3635, -2.3677, -2.8888, -4.8178, -4.2029, -5.4254, -4.6424, -4.369, -5.1569, -4.3985, -4.6608, -5.5996, -3.9949, -2.6833, -2.9903, -3.2285, -3.3018, -3.3258, -3.3443, -3.3727, -3.384, -3.4641, -3.6301, -3.6698, -3.6776, -3.6801, -3.6889, -3.723, -3.7843, -3.8702, -3.8761, -3.8793, -3.8929, -3.9099, -4.1232, -4.1495, -4.311, -2.4538, -3.3522, -4.4053, -4.5911, -5.2616, -4.4986, -4.0703, -4.0232, -3.7816, -2.1897, -3.0416, -3.1412, -3.1545, -3.2138, -3.2448, -3.4128, -3.4305, -3.4583, -3.5361, -3.5621, -3.6411, -3.671, -3.6854, -3.7278, -3.7411, -3.7423, -3.7935, -3.8654, -4.078, -4.1018, -4.1783, -3.593, -4.0397, -3.0612, -3.8463, -4.5025, -4.2476, -4.5021, -4.6382, -4.0208, -3.0482, -3.0549, -3.206, -3.3365, -3.4369, -3.4728, -3.4991, -3.5567, -3.5738, -3.588, -3.5886, -3.6442, -3.6662, -3.6837, -3.8693, -3.9312, -3.9949, -4.2127, -4.2612, -4.2893, -3.1932, -3.0331, -3.2919, -3.3062, -2.8528, -3.724, -3.2889, -3.9854, -4.7526, -4.3811, -4.2078, -3.9771, -2.6656, -2.6935, -2.904, -2.927, -2.9936, -3.0285, -3.1207, -3.1826, -3.348, -3.4202, -3.4342, -3.4481, -3.4655, -3.5425, -3.7963, -3.8144, -3.8196, -3.8658, -3.8855, -3.8914, -3.9438, -4.021, -4.1322, -4.1011, -3.4038, -5.009, -5.2525, -4.6681, -4.9226, -4.4014, -3.7849, -4.4085, -4.3136, -2.8813, -3.248, -3.27, -3.3122, -3.321, -3.5828, -3.6426, -3.6515, -3.6751, -3.6854, -3.7024, -3.7517, -3.8496, -3.891, -3.9512, -4.0004, -4.0862, -4.0945, -4.098, -4.1556, -4.172, -4.2323, -2.6283, -2.9685, -3.403, -2.9769, -2.6915, -3.2384, -4.5572, -4.6306, -4.0942, -4.554, -2.5055, -2.5149, -2.8714, -3.3211, -3.4073, -3.538, -3.7603, -3.7727, -3.8253, -3.8268, -3.8878, -3.9331, -3.9826, -4.0682, -4.2784, -4.3298, -2.8732, -2.366, -2.7659, -3.0524, -3.4706, -4.2043, -4.5653, -3.9856, -6.1839, -4.9736, -4.8738, -4.7629, -4.3999, -4.8249, -4.0282, -3.9791, -1.263, -2.6982, -2.887, -3.1194, -3.2524, -3.2917, -3.3382, -3.8312, -3.839, -3.8974, -3.9659, -3.9693, -4.1659, -4.2665, -4.3602, -4.3764, -3.1329, -3.1096, -3.0337, -4.3063, -4.1797, -4.5114, -5.2714, -4.8414, -3.609, -5.0736, -5.1854, -5.617, -5.0822, -5.5872, -4.6777, -5.2364, -2.556, -2.8454, -2.9917, -3.0509, -3.0885, -3.2891, -3.4375, -3.4737, -3.5388, -3.8668, -3.8855, -3.8947, -3.9212, -3.9341, -3.976, -4.0208, -4.0405, -4.0702, -4.0861, -4.1077, -4.1748, -4.1845, -4.2429, -3.8005, -4.0691, -2.6736, -4.6825, -4.3374, -4.949, -4.7348, -4.6609, -3.9786, -4.3454, -4.624, -2.8243, -2.8644, -3.158, -3.1941, -3.2378, -3.3638, -3.3751, -3.4425, -3.4554, -3.5547, -3.5593, -3.5799, -3.6759, -3.7932, -3.9342, -4.0087, -4.1042, -4.2065, -4.2875, -4.5119, -3.4508, -2.2507, -3.0908, -4.2893, -4.6124, -2.9822, -4.7087, -3.5822, -4.667, -4.6322, -4.607, -4.5905, -1.4216, -2.4217, -2.9052, -2.951, -3.0312, -3.6145, -3.7083, -3.9126, -3.9178, -3.9448, -3.954, -3.9677, -4.1353, -4.247, -3.4964, -3.0916, -3.4791, -3.6088, -3.2438, -5.0488, -3.0635, -5.3746, -4.8504, -5.3897, -4.6566, -5.2646, -4.942, -4.9749, -5.4972, -5.8115, -3.9566, -5.4156, -2.7495, -2.7592, -2.7596, -2.837, -2.9453, -3.2071, -3.3503, -3.3984, -3.514, -3.5555, -3.6111, -3.6322, -3.6354, -3.6475, -3.6663, -3.7319, -3.7408, -3.7783, -3.8839, -3.8876, -3.9488, -3.9571, -3.8667, -2.3436, -4.2292, -4.096, -3.4219, -4.8873, -4.6882, -5.0727, -4.9544, -2.6547, -2.8688, -2.922, -2.973, -3.2614, -3.5092, -3.5754, -3.6703, -3.6748, -3.7318, -3.7999, -3.8587, -3.8677, -3.8807, -3.8956, -3.8966, -3.9289, -3.9591, -4.0047, -4.007, -4.023, -4.036, -4.0787, -4.2408, -2.3306, -2.6276, -3.592, -4.6699, -4.3379, -4.4102, -3.4767, -2.1096, -2.8814, -3.0661, -3.1347, -3.1795, -3.4005, -3.4838, -3.4914, -3.5387, -3.5466, -3.6798, -3.7446, -3.7759, -3.9205, -4.0014, -4.0055, -4.0423, -4.2344, -3.3694, -3.7144, -3.0075, -3.2834, -4.0072, -3.7563, -2.47, -4.504, -4.3726, -4.6745, -4.5408, -4.7508, -4.4667, -2.2316, -2.604, -2.8678, -2.9518, -3.0811, -3.1305, -3.1427, -3.3128, -3.4576, -3.5784, -3.6047, -3.6744, -3.6845, -3.7181, -3.7266, -3.7604, -3.8089, -4.01, -4.0778, -4.1988, -2.6687, -4.4026, -4.6357, -5.0546, -5.5491, -4.355, -4.7698, -4.3396, -4.737, -4.6186, -4.5901, -4.2333, -4.4033, -2.1678, -3.0138, -3.0409, -3.0578, -3.1348, -3.1399, -3.146, -3.2493, -3.4471, -3.4613, -3.4733, -3.7065, -3.7134, -3.8057, -3.827, -3.9105, -3.9329, -3.9766, -4.1227, -4.1728, -4.3026, -4.4349, -3.2671, -2.8079, -3.2152, -4.5438, -4.5092, -4.494, -4.0517, -5.0272, -4.1884, -2.636, -2.6662, -2.7663, -2.9876, -2.9912, -3.0229, -3.0534, -3.0848, -3.179, -3.3553, -3.3603, -3.4351, -3.4701, -3.6497, -3.7408, -3.744, -3.9297, -3.9916, -4.0778, -4.0816, -2.5621, -3.2737, -5.0292, -4.9059, -4.3748, -4.9502, -5.0887, -5.208, -5.3952, -3.9986, -4.4393, -2.3579, -2.5928, -3.1446, -3.1881, -3.2534, -3.2895, -3.379, -3.4455, -3.5604, -3.6166, -3.7253, -3.748, -3.9228, -3.9447, -3.9594, -4.0087, -4.0379, -4.0612, -4.2059, -4.2131, -2.5412, -3.2692, -3.3133, -2.5674, -4.4682, -4.2416, -4.683, -5.724, -5.2364, -3.7259, -4.7798, -4.4229, -2.4498, -2.8663, -2.9624, -3.0569, -3.1961, -3.3272, -3.3288, -3.4583, -3.5322, -3.5881, -3.5929, -3.6643, -3.6884, -3.7386, -3.8079, -3.8468, -3.8741, -3.9589, -3.985, -4.0474, -4.0671, -4.1103, -3.1948, -3.2088, -3.3837, -4.4183, -4.9948, -4.5241, -4.8552, -4.2283, -4.2906, -4.6146, -2.4364, -2.6919, -2.7317, -2.8843, -3.3235, -3.3616, -3.3761, -3.3849, -3.4629, -3.5326, -3.5417, -3.6489, -3.7121, -3.7134, -3.7426, -3.8606, -3.8991, -3.9251, -3.9889, -4.0381, -4.2796, -3.5062, -2.87, -3.7938, -3.0693, -5.0709, -4.5568, -4.6919, -5.0737, -5.302, -4.986, -4.5013, -4.8512, -4.9567, -1.5359, -2.5042, -2.9485, -3.2102, -3.461, -3.5584, -3.5651, -3.5717, -3.8671, -3.8969, -4.152, -3.0436, -2.5848, -2.7606, -2.9468, -3.0979, -5.077, -4.9524, -4.9101, -3.256, -5.1668, -4.3712, -4.9738, -4.9889, -6.1401, -4.8708, -5.8881, -5.2839, -10.5538, -10.5538, -5.2113, -5.4503, -4.7104, -2.2979, -2.301, -2.8168, -2.8303, -2.92, -3.1589, -3.2276, -3.3187, -3.3544, -3.3547, -3.6054, -3.6093, -3.6275, -3.6459, -3.699, -3.7165, -3.7426, -3.7669, -3.8076, -4.0553, -4.0727, -3.7196, -3.9095, -5.7453, -4.6212, -5.4429, -4.4877, -4.8926, -4.71, -4.5774, -3.706, -4.6986, -4.3632, -2.7406, -2.8699, -2.9978, -3.0395, -3.0575, -3.0735, -3.1673, -3.1805, -3.2316, -3.3712, -3.5392, -3.5478, -3.6003, -3.6117, -3.6543, -3.662, -3.783, -3.81, -3.9365, -3.9945, -4.0781, -4.0906, -4.1755, -4.5172, -3.775, -3.2108, -4.1717, -4.6687, -4.2078, -4.752, -4.0266, -4.1733, -2.7028, -2.7502, -2.9441, -2.9627, -2.9855, -3.0241, -3.0353, -3.0976, -3.3783, -3.4738, -3.474, -3.4893, -3.5451, -3.6225, -3.6736, -3.9002, -3.9441, -4.2115, -3.0683, -3.2258, -2.6151, -4.089, -4.0981, -4.5184, -4.3686, -4.0389, -4.8945, -5.0617, -10.4048, -10.4048, -5.1879, -4.4551, -4.8008, -2.0886, -2.2758, -2.6179, -2.8653, -2.9409, -2.9879, -3.0701, -3.2249, -3.2674, -3.321, -3.5456, -3.6714, -3.7294, -3.7998, -3.8109, -3.8287, -3.9488, -4.0396, -3.5807, -4.0689, -3.9421, -4.3811, -4.9868, -4.8387, -4.6958, -5.1939, -5.2886, -6.2654, -5.9902, -5.0441, -4.6037, -4.078, -2.5766, -2.7146, -2.9551, -2.995, -3.0873, -3.2446, -3.2499, -3.2855, -3.3065, -3.5205, -3.6291, -3.6871, -3.7044, -3.74, -3.7523, -3.7549, -3.7553, -3.9591, -3.9687, -4.0105, -4.0913, -2.1781, -5.4294, -4.9369, -3.3899, -5.4544, -5.8331, -5.1957, -5.2634, -5.0084, -4.1369, -4.7881, -4.6135, -4.1369, -4.7978, -1.8374, -2.6162, -2.7558, -3.1338, -3.298, -3.3014, -3.362, -3.3863, -3.5187, -3.5469, -3.5471, -3.5833, -3.7145, -3.8149, -3.8545, -3.9, -3.9097, -2.6097, -4.5227, -5.1662, -3.5612, -4.3249, -4.6084, -4.4186, -4.3548, -5.212, -4.8922, -4.5611, -4.7731, -5.7125, -4.0844, -4.7911, -4.9064, -2.5239, -2.6823, -2.7595, -2.7702, -3.0346, -3.2107, -3.3723, -3.3776, -3.6564, -3.7295, -3.7301, -3.764, -3.8185, -2.2967, -4.0508, -4.0874, -2.9242, -2.4616, -2.7262, -5.2362, -4.9036, -4.4207, -4.8622, -4.6661, -4.3149, -5.1018, -5.3254, -10.314, -10.314, -10.314, -4.8481, -6.1886, -6.7162, -2.6202, -2.653, -3.0314, -3.103, -3.2097, -3.2906, -3.3612, -3.4135, -3.487, -3.5618, -3.6882, -3.7193, -3.724, -3.7668, -3.8104, -3.5108, -2.489, -2.643, -2.1409, -5.2832, -4.5339, -5.0657, -4.8491, -4.4401, -5.3004, -4.9826, -4.8334, -5.4306, -10.2978, -10.2978, -5.5336, -5.4148, -4.2891, -4.5222, -1.8507, -2.3102, -2.3251, -2.604, -2.7831, -3.0689, -3.2198, -3.4658, -3.5068, -3.5863, -3.592, -3.7934, -3.7954, -3.8795, -3.2881, -2.4147, -4.1244, -4.9566, -5.0804, -5.0524, -10.2426, -10.2426, -10.2426, -10.2426, -10.2426, -10.2426, -10.2426, -10.2426, -10.2426, -10.2426, -5.5759, -4.1871, -5.2015, -5.6545, -5.6401, -5.7935, -5.6351, -6.2576, -5.4596, -10.2421, -2.3381, -2.9075, -2.9292, -2.9548, -3.0445, -3.0755, -3.0761, -3.1465, -3.1611, -3.2257, -3.3591, -3.404, -3.4819, -3.5418, -3.6688, -3.7601, -3.7668, -3.7882, -3.8108, -3.8272, -3.9154, -4.0241, -2.6634, -5.1816, -5.3436, -4.8116, -4.8641, -4.9752, -4.8518, -4.7838, -4.3606, -2.5341, -2.5609, -2.6017, -2.705, -2.8445, -3.1254, -3.2662, -3.2819, -3.2859, -3.2916, -3.4763, -3.5197, -3.5304, -3.6003, -3.6655, -3.6796, -3.6802, -3.8237, -3.8885, -2.833, -5.2768, -4.819, -4.2551, -5.0106, -4.7099, -5.0131, -5.3013, -4.4967, -5.0386, -4.7074, -4.2128, -5.0344, -2.5876, -2.6424, -2.8221, -2.9786, -3.08, -3.1732, -3.2068, -3.2418, -3.2566, -3.3482, -3.3918, -3.4309, -3.4394, -3.4766, -3.5224, -3.5301, -3.6086, -3.6323, -3.6397, -3.6562, -3.7226, -3.8338, -4.4586, -4.5847, -5.3627, -4.7508, -4.6077, -4.9569, -5.057, -5.0453, -4.8326, -4.8941, -4.592], \"loglift\": [30.0, 29.0, 28.0, 27.0, 26.0, 25.0, 24.0, 23.0, 22.0, 21.0, 20.0, 19.0, 18.0, 17.0, 16.0, 15.0, 14.0, 13.0, 12.0, 11.0, 10.0, 9.0, 8.0, 7.0, 6.0, 5.0, 4.0, 3.0, 2.0, 1.0, 3.3255, 3.3243, 3.3214, 3.318, 3.3153, 3.3139, 3.3053, 3.3042, 3.303, 3.299, 3.2971, 3.2957, 3.2938, 3.289, 3.2881, 3.2869, 3.2822, 3.2808, 3.2793, 3.2778, 3.2702, 3.2593, 3.2521, 3.1909, 3.0859, 3.077, 3.0589, 3.0264, 2.9681, 2.1961, 1.5638, 1.1749, 1.5392, 3.4343, 3.4319, 3.4304, 3.4282, 3.4252, 3.4183, 3.4172, 3.4158, 3.415, 3.4128, 3.412, 3.4054, 3.405, 3.4038, 3.4027, 3.4014, 3.4004, 3.3911, 3.3814, 3.3794, 3.3782, 3.3442, 3.289, 3.257, 3.2329, 3.2216, 2.932, 2.1935, 2.0754, 2.0324, 1.4055, 0.5758, 1.2499, 1.0272, 3.4429, 3.4325, 3.4309, 3.4299, 3.427, 3.4266, 3.4258, 3.4237, 3.4125, 3.4055, 3.4045, 3.4018, 3.4017, 3.399, 3.3954, 3.3945, 3.3929, 3.3411, 3.3378, 3.3158, 3.151, 3.0197, 2.7277, 2.5723, 2.1259, 2.0653, 1.8288, 1.6942, 1.657, 1.6255, 0.2467, 0.8778, 0.7817, 3.5463, 3.5415, 3.5371, 3.5365, 3.5364, 3.5351, 3.5329, 3.5318, 3.5256, 3.5231, 3.5229, 3.5224, 3.5156, 3.5136, 3.5089, 3.5084, 3.503, 3.5018, 3.5018, 3.4998, 3.4985, 3.4982, 3.4977, 3.493, 3.4885, 3.4749, 3.2796, 2.8165, 1.7622, 1.6058, 0.8674, 0.0411, 0.7692, 3.5692, 3.5624, 3.5619, 3.5575, 3.5575, 3.5568, 3.5522, 3.546, 3.5445, 3.5415, 3.5399, 3.5397, 3.539, 3.5383, 3.5315, 3.5313, 3.531, 3.5297, 3.5292, 3.5287, 3.5267, 3.5265, 3.5253, 3.5253, 3.5208, 3.5171, 3.5159, 3.5134, 3.5082, 3.5076, 3.3934, 2.786, 2.567, 3.5832, 3.5822, 3.5763, 3.5729, 3.5728, 3.5687, 3.5677, 3.5667, 3.565, 3.5645, 3.5622, 3.5595, 3.5522, 3.5504, 3.5473, 3.5423, 3.5381, 3.5362, 3.5247, 3.5234, 3.3608, 3.1986, 2.6742, 2.6226, 1.3118, 1.2082, 1.1109, 1.1038, 1.0751, 0.8057, 0.7413, 0.3564, -0.2571, 3.5968, 3.5937, 3.5932, 3.5927, 3.5908, 3.5884, 3.586, 3.5851, 3.5838, 3.5831, 3.5818, 3.5805, 3.5769, 3.5737, 3.5726, 3.5687, 3.5648, 3.5635, 3.5618, 3.559, 3.5548, 3.5512, 3.5498, 3.5456, 3.5416, 3.4165, 3.2916, 3.2399, 3.2254, 2.1826, 2.1577, 1.8623, -0.0576, 3.6183, 3.6171, 3.6126, 3.6122, 3.6061, 3.6049, 3.5985, 3.5971, 3.5957, 3.5915, 3.5903, 3.5843, 3.5821, 3.5759, 3.5748, 3.5685, 3.5652, 3.5607, 3.4852, 2.6794, 2.645, 2.05, 1.9777, 1.8208, 1.4007, 1.3731, 1.0061, 0.9522, 0.8309, 0.1095, 0.0865, 3.6176, 3.6125, 3.6074, 3.6056, 3.6049, 3.6044, 3.6037, 3.6033, 3.601, 3.5956, 3.5941, 3.5938, 3.5937, 3.5934, 3.5921, 3.5896, 3.5859, 3.5857, 3.5855, 3.5849, 3.5841, 3.5731, 3.5716, 3.5614, 3.5006, 3.3045, 3.2477, 2.4721, 2.3209, 2.0704, 1.6388, 1.3456, 0.2998, 3.6281, 3.6165, 3.6144, 3.6141, 3.6128, 3.612, 3.6075, 3.607, 3.6062, 3.6038, 3.6029, 3.6002, 3.5991, 3.5985, 3.5969, 3.5964, 3.5963, 3.5942, 3.5911, 3.5806, 3.5793, 3.5749, 3.491, 3.3857, 3.3451, 3.2168, 1.8055, 1.5799, 1.5426, 1.3317, 0.0606, 3.6175, 3.6174, 3.6141, 3.6108, 3.6079, 3.6069, 3.606, 3.6042, 3.6036, 3.6031, 3.6031, 3.6011, 3.6003, 3.5997, 3.592, 3.5892, 3.586, 3.5738, 3.5707, 3.5688, 3.5641, 3.5468, 3.5117, 3.4832, 3.3692, 3.3636, 3.3063, 2.3012, 1.4861, 1.4829, 1.1608, 0.3836, 3.6258, 3.6254, 3.6221, 3.6217, 3.6204, 3.6197, 3.6178, 3.6164, 3.6122, 3.6102, 3.6098, 3.6094, 3.6089, 3.6064, 3.5969, 3.5962, 3.5959, 3.5939, 3.593, 3.5927, 3.5903, 3.5864, 3.5803, 3.1634, 2.7179, 2.0785, 1.927, 0.9999, 0.9881, 0.9672, 0.2966, 0.6386, 0.0471, 3.6261, 3.6184, 3.6178, 3.6168, 3.6165, 3.6086, 3.6065, 3.6061, 3.6052, 3.6049, 3.6042, 3.6023, 3.5981, 3.5962, 3.5934, 3.5909, 3.5863, 3.5859, 3.5857, 3.5823, 3.5813, 3.5776, 3.444, 3.3342, 3.3259, 3.324, 3.3079, 3.0581, 2.1474, 1.0375, -0.0127, 0.4913, 3.6388, 3.6387, 3.6335, 3.6238, 3.6214, 3.6173, 3.6091, 3.6086, 3.6063, 3.6063, 3.6035, 3.6014, 3.5989, 3.5944, 3.5816, 3.5781, 3.4734, 3.4481, 3.416, 2.6156, 2.0813, 1.6074, 1.5573, 1.383, 1.2097, 1.1613, 1.1255, 0.8273, 0.8211, 0.7422, 0.3325, 0.1023, 3.6614, 3.65, 3.6469, 3.6423, 3.6391, 3.6381, 3.6368, 3.6193, 3.6189, 3.6162, 3.6129, 3.6127, 3.6017, 3.5952, 3.5886, 3.5874, 3.5815, 3.5267, 3.4206, 2.8916, 1.8926, 1.3161, 1.0252, 0.5274, 0.4724, 0.4602, 0.3816, 0.353, 0.2864, 0.2597, -0.317, -0.1911, 3.6553, 3.651, 3.6483, 3.6471, 3.6463, 3.6415, 3.6373, 3.6361, 3.634, 3.621, 3.6201, 3.6197, 3.6184, 3.6178, 3.6157, 3.6133, 3.6123, 3.6106, 3.6097, 3.6085, 3.6045, 3.6039, 3.6001, 3.4457, 3.3035, 3.2625, 2.4468, 2.3193, 1.9357, 1.8899, 1.7455, 0.3822, -0.264, 1.1901, 3.6607, 3.66, 3.654, 3.6531, 3.652, 3.6486, 3.6483, 3.6463, 3.6459, 3.6426, 3.6424, 3.6417, 3.6381, 3.6333, 3.6267, 3.6229, 3.6176, 3.6113, 3.6059, 3.5886, 3.5845, 3.5676, 3.5663, 3.2933, 3.2738, 3.1609, 2.4892, 2.1598, 2.1267, 1.6687, 0.7616, -0.2298, 3.6779, 3.6706, 3.6635, 3.6626, 3.661, 3.6446, 3.641, 3.6319, 3.6317, 3.6303, 3.6298, 3.6291, 3.6198, 3.6126, 3.4603, 3.089, 2.9861, 2.1516, 2.1248, 1.4051, 1.2972, 1.1995, 0.9614, 0.655, 0.6368, 0.4775, 0.4087, 0.3992, 0.3498, 0.29, 0.1249, 0.2351, 3.6823, 3.6821, 3.6821, 3.6808, 3.6788, 3.673, 3.6691, 3.6677, 3.664, 3.6626, 3.6606, 3.6598, 3.6596, 3.6592, 3.6585, 3.6558, 3.6554, 3.6538, 3.649, 3.6488, 3.6457, 3.6453, 3.3597, 3.2083, 1.286, 1.2546, 0.6596, 0.6045, 0.5328, 0.5175, 0.4144, 3.6895, 3.686, 3.685, 3.684, 3.6773, 3.6699, 3.6676, 3.664, 3.6638, 3.6615, 3.6585, 3.6558, 3.6554, 3.6548, 3.654, 3.654, 3.6524, 3.6508, 3.6484, 3.6483, 3.6474, 3.6467, 3.6442, 3.634, 3.5896, 3.5471, 3.2017, 1.54, 1.4865, 1.2579, 0.884, 3.6966, 3.6866, 3.6829, 3.6813, 3.6802, 3.6741, 3.6715, 3.6712, 3.6696, 3.6693, 3.6643, 3.6617, 3.6603, 3.6535, 3.6493, 3.649, 3.647, 3.6351, 3.5648, 3.4651, 3.3005, 2.0854, 1.7965, 1.7589, 1.6114, 1.4068, 1.2176, 1.0346, 0.951, 0.783, 0.5803, 3.6985, 3.6942, 3.6899, 3.6883, 3.6856, 3.6845, 3.6842, 3.6798, 3.6754, 3.6713, 3.6703, 3.6676, 3.6672, 3.6658, 3.6655, 3.664, 3.6619, 3.6518, 3.648, 3.6405, 3.57, 2.3263, 2.283, 1.7355, 1.6998, 1.4054, 1.3932, 1.2275, 1.1991, 0.9716, 0.784, 0.1274, -0.3219, 3.7023, 3.6902, 3.6896, 3.6892, 3.6875, 3.6873, 3.6872, 3.6846, 3.6788, 3.6783, 3.6779, 3.6693, 3.669, 3.665, 3.6641, 3.66, 3.6589, 3.6566, 3.6482, 3.6451, 3.6363, 3.6261, 3.4786, 3.3386, 2.5966, 1.8029, 1.6244, 1.2664, 1.2417, 0.8198, -0.107, 3.7017, 3.7013, 3.6997, 3.6956, 3.6955, 3.6948, 3.6942, 3.6935, 3.6912, 3.6865, 3.6863, 3.684, 3.6829, 3.6764, 3.6727, 3.6725, 3.6638, 3.6605, 3.6556, 3.6554, 3.5903, 3.5305, 1.4246, 0.9987, 0.9185, 0.8102, 0.6533, 0.6195, 0.4166, 0.3621, -0.3578, 3.7095, 3.7066, 3.6962, 3.6952, 3.6935, 3.6925, 3.6899, 3.6878, 3.6838, 3.6818, 3.6774, 3.6764, 3.6682, 3.667, 3.6662, 3.6636, 3.6619, 3.6606, 3.6515, 3.651, 3.6393, 3.3555, 2.8497, 2.726, 1.7065, 1.6054, 1.0145, 0.498, 0.4727, 0.3555, 0.2655, -0.0622, 3.7137, 3.7073, 3.7055, 3.7035, 3.7002, 3.6966, 3.6965, 3.6925, 3.69, 3.688, 3.6878, 3.685, 3.6841, 3.6819, 3.6789, 3.677, 3.6757, 3.6714, 3.67, 3.6665, 3.6653, 3.6627, 3.6511, 3.6276, 3.5011, 2.413, 1.6791, 1.5775, 1.4413, 1.1458, -0.2092, 0.6063, 3.7194, 3.7159, 3.7153, 3.7126, 3.7022, 3.7011, 3.7006, 3.7003, 3.6978, 3.6954, 3.6951, 3.691, 3.6885, 3.6884, 3.6871, 3.6817, 3.6798, 3.6785, 3.675, 3.6723, 3.6566, 3.5682, 3.5655, 3.3411, 3.2086, 2.1269, 1.8113, 1.2127, 1.0279, 0.9945, 0.682, -0.4199, 0.1958, -0.596, 3.7271, 3.719, 3.7117, 3.7057, 3.6983, 3.6949, 3.6946, 3.6944, 3.6817, 3.6802, 3.6657, 3.6077, 3.4582, 3.1501, 2.8776, 2.5702, 1.3769, 1.1907, 1.1346, 1.1047, 1.0138, 0.9974, 0.8732, 0.8228, 0.7057, 0.6963, 0.2134, 0.0668, -0.0161, -0.0161, -0.1661, -0.4032, -0.6289, 3.7336, 3.7336, 3.7263, 3.7261, 3.7244, 3.719, 3.7172, 3.7147, 3.7136, 3.7136, 3.705, 3.7048, 3.7041, 3.7034, 3.7012, 3.7004, 3.6993, 3.6982, 3.6964, 3.6832, 3.6822, 3.4604, 3.3394, 1.7486, 1.5004, 1.4914, 1.4325, 0.9349, 0.8571, 0.7967, 0.6547, 0.3467, -0.2818, 3.7384, 3.7361, 3.7335, 3.7326, 3.7322, 3.7318, 3.7295, 3.7292, 3.7278, 3.7238, 3.7181, 3.7178, 3.7158, 3.7153, 3.7136, 3.7133, 3.708, 3.7068, 3.7004, 3.6972, 3.6923, 3.6915, 3.686, 3.6591, 3.6185, 3.5794, 2.4234, 2.0633, 1.9387, 1.1526, 1.0187, -0.0919, 3.7428, 3.742, 3.7384, 3.738, 3.7375, 3.7367, 3.7364, 3.735, 3.7272, 3.7241, 3.7241, 3.7235, 3.7215, 3.7186, 3.7165, 3.7059, 3.7036, 3.6871, 3.6277, 3.4788, 3.2489, 2.1353, 2.0973, 1.9359, 1.1985, 1.0064, 0.803, 0.6987, 0.1328, 0.1328, -0.1408, -0.3737, -0.4401, 3.7614, 3.7595, 3.7551, 3.7509, 3.7494, 3.7484, 3.7465, 3.7426, 3.7414, 3.7398, 3.7322, 3.7272, 3.7247, 3.7215, 3.7209, 3.7201, 3.7138, 3.7086, 2.3554, 2.2995, 2.201, 1.6619, 1.6379, 1.1606, 1.0463, 0.9278, 0.8743, 0.7906, 0.7671, 0.5229, 0.4416, 0.2827, 3.7688, 3.7666, 3.762, 3.7612, 3.759, 3.7549, 3.7548, 3.7537, 3.7531, 3.746, 3.7417, 3.7393, 3.7385, 3.7369, 3.7364, 3.7363, 3.7362, 3.7258, 3.7253, 3.7229, 3.7179, 3.337, 2.4569, 2.2431, 1.9842, 1.7794, 1.5648, 1.4556, 1.4104, 1.398, 1.2137, 0.8799, 0.6798, -0.0555, 0.4232, 3.8041, 3.7957, 3.7933, 3.7851, 3.7804, 3.7803, 3.7784, 3.7776, 3.7729, 3.7718, 3.7718, 3.7704, 3.7648, 3.7599, 3.7579, 3.7555, 3.755, 3.5857, 2.7418, 2.4869, 2.0059, 1.953, 1.8271, 1.6829, 1.4726, 1.3712, 1.2708, 1.1479, 1.0909, 1.0522, 0.2763, 0.5775, 0.4677, 3.8032, 3.8007, 3.7994, 3.7992, 3.7936, 3.789, 3.7841, 3.7839, 3.7733, 3.77, 3.77, 3.7684, 3.7657, 3.7546, 3.7525, 3.7501, 3.7484, 3.672, 3.6419, 2.0127, 1.9006, 1.882, 1.1371, 1.0019, 0.7304, 0.6586, 0.5791, 0.2237, 0.2237, 0.2237, -0.7667, -0.6548, -1.1491, 3.8404, 3.8399, 3.832, 3.8302, 3.8272, 3.8248, 3.8224, 3.8206, 3.8179, 3.8149, 3.8094, 3.8079, 3.8077, 3.8056, 3.8033, 3.7433, 3.7208, 3.6297, 3.4493, 2.1421, 1.6092, 1.0973, 0.9626, 0.8532, 0.7444, 0.7149, 0.5407, 0.3115, 0.2399, 0.2399, 0.2268, 0.077, -0.2076, -0.1615, 3.881, 3.8763, 3.8761, 3.872, 3.8688, 3.8622, 3.8579, 3.8494, 3.8478, 3.8445, 3.8442, 3.8345, 3.8344, 3.8297, 3.5433, 3.2828, 1.7225, 1.6797, 1.6155, 1.0942, 0.2951, 0.2951, 0.2951, 0.2951, 0.2951, 0.2951, 0.2951, 0.2951, 0.2951, 0.2951, 0.2516, 0.1736, 0.1673, 0.1699, 0.1203, -0.3017, -0.588, -0.9069, -1.3782, -4.979, 3.8795, 3.8696, 3.8691, 3.8685, 3.8663, 3.8655, 3.8654, 3.8635, 3.8631, 3.8611, 3.8568, 3.8551, 3.8522, 3.8497, 3.8441, 3.8396, 3.8392, 3.8381, 3.8369, 3.836, 3.831, 3.8241, 1.6973, 1.6354, 1.5241, 1.475, 1.351, 1.1264, 0.8458, 0.5848, -0.2791, 3.8915, 3.8911, 3.8904, 3.8886, 3.8858, 3.8788, 3.8745, 3.874, 3.8739, 3.8737, 3.8669, 3.8652, 3.8647, 3.8617, 3.8587, 3.858, 3.858, 3.8506, 3.8469, 3.4536, 1.7976, 1.344, 1.312, 1.2859, 1.2008, 0.9568, 0.8203, 0.7243, 0.6589, 0.6432, -0.1314, 0.3397, 3.9489, 3.9479, 3.9442, 3.9404, 3.9377, 3.9348, 3.9338, 3.9326, 3.9321, 3.9289, 3.9272, 3.9256, 3.9253, 3.9238, 3.9218, 3.9214, 3.9178, 3.9167, 3.9163, 3.9155, 3.9121, 3.9058, 2.2871, 1.7234, 1.7213, 1.3958, 1.0604, 1.0425, 0.9129, 0.8592, 0.5415, 0.4566, -0.5106]}, \"token.table\": {\"Topic\": [22, 29, 22, 17, 3, 38, 33, 1, 18, 1, 7, 8, 9, 10, 11, 12, 14, 15, 17, 18, 19, 21, 23, 25, 27, 30, 31, 33, 36, 37, 24, 12, 21, 1, 12, 5, 5, 15, 7, 5, 40, 17, 13, 19, 8, 30, 4, 33, 7, 29, 2, 30, 21, 12, 27, 2, 40, 7, 23, 14, 1, 26, 33, 5, 17, 20, 30, 5, 40, 34, 10, 40, 34, 21, 9, 24, 22, 7, 15, 27, 3, 9, 10, 11, 12, 13, 14, 20, 22, 23, 26, 28, 34, 35, 40, 4, 6, 8, 11, 16, 20, 21, 26, 28, 37, 40, 19, 18, 4, 16, 21, 29, 16, 40, 40, 18, 37, 18, 9, 25, 26, 31, 2, 38, 10, 4, 5, 31, 38, 27, 37, 25, 2, 38, 3, 13, 1, 8, 31, 31, 33, 7, 4, 36, 13, 8, 11, 16, 29, 5, 7, 1, 4, 6, 8, 9, 10, 11, 12, 13, 14, 17, 21, 23, 26, 27, 28, 31, 32, 36, 37, 39, 8, 1, 19, 3, 6, 14, 16, 18, 26, 27, 28, 34, 36, 38, 22, 30, 9, 17, 8, 28, 32, 8, 26, 16, 12, 11, 8, 34, 26, 24, 22, 5, 25, 30, 2, 35, 34, 22, 1, 17, 13, 20, 36, 1, 3, 4, 25, 31, 36, 37, 38, 39, 25, 2, 1, 2, 7, 8, 9, 10, 14, 15, 18, 21, 24, 27, 34, 35, 40, 32, 24, 6, 7, 11, 25, 28, 4, 37, 5, 24, 2, 3, 6, 10, 16, 18, 19, 20, 22, 23, 24, 29, 31, 35, 36, 37, 38, 25, 1, 14, 38, 16, 11, 31, 25, 3, 18, 27, 4, 32, 33, 30, 17, 9, 16, 38, 28, 33, 24, 4, 10, 13, 15, 24, 29, 32, 34, 37, 6, 14, 21, 36, 27, 31, 7, 9, 10, 16, 1, 32, 1, 13, 31, 29, 2, 27, 26, 30, 30, 5, 17, 5, 33, 19, 15, 15, 2, 19, 13, 6, 9, 11, 26, 31, 34, 25, 34, 17, 7, 3, 14, 6, 34, 23, 21, 2, 3, 4, 5, 6, 7, 8, 10, 11, 12, 13, 14, 15, 16, 17, 18, 20, 22, 23, 24, 25, 27, 28, 29, 30, 31, 32, 34, 35, 36, 37, 38, 40, 40, 16, 31, 16, 3, 18, 35, 4, 6, 8, 10, 11, 12, 14, 15, 17, 18, 20, 22, 23, 25, 26, 28, 32, 33, 34, 36, 38, 7, 5, 32, 29, 13, 1, 13, 20, 4, 1, 22, 12, 9, 40, 40, 21, 40, 1, 14, 19, 21, 22, 36, 37, 38, 3, 31, 8, 13, 16, 22, 25, 32, 34, 36, 39, 16, 22, 32, 1, 22, 29, 6, 23, 35, 9, 36, 39, 23, 6, 2, 3, 7, 8, 9, 11, 18, 19, 20, 26, 27, 28, 30, 32, 33, 37, 39, 40, 1, 2, 9, 11, 21, 2, 26, 9, 11, 16, 39, 33, 15, 33, 11, 37, 11, 10, 11, 23, 37, 2, 21, 39, 6, 20, 12, 29, 4, 31, 24, 1, 30, 25, 16, 8, 16, 1, 3, 4, 5, 6, 7, 9, 14, 15, 18, 19, 21, 22, 24, 26, 30, 31, 34, 37, 27, 33, 35, 10, 10, 17, 23, 26, 17, 24, 40, 35, 9, 27, 33, 37, 14, 30, 10, 30, 40, 22, 11, 22, 13, 31, 26, 37, 10, 20, 25, 2, 16, 38, 19, 2, 3, 14, 12, 22, 1, 27, 19, 35, 36, 27, 16, 2, 6, 8, 10, 11, 13, 14, 15, 17, 18, 23, 24, 26, 30, 32, 34, 36, 40, 9, 34, 23, 35, 39, 18, 39, 4, 35, 37, 23, 30, 37, 40, 39, 15, 38, 9, 10, 40, 16, 8, 26, 33, 10, 22, 29, 35, 15, 5, 6, 31, 39, 1, 5, 7, 1, 4, 8, 12, 13, 14, 18, 20, 21, 23, 24, 28, 36, 13, 38, 19, 39, 7, 32, 6, 25, 6, 8, 9, 10, 13, 14, 16, 21, 25, 26, 32, 34, 17, 4, 11, 6, 1, 35, 35, 34, 23, 40, 15, 11, 29, 30, 39, 22, 29, 24, 38, 5, 3, 2, 7, 26, 25, 17, 28, 9, 1, 11, 10, 27, 2, 6, 34, 26, 32, 29, 11, 40, 12, 3, 27, 2, 3, 6, 7, 14, 16, 19, 20, 22, 26, 32, 33, 39, 40, 37, 33, 1, 11, 35, 39, 12, 30, 7, 14, 19, 34, 5, 38, 7, 8, 10, 19, 11, 15, 37, 1, 39, 40, 12, 2, 14, 15, 12, 8, 7, 27, 34, 18, 29, 26, 2, 3, 18, 19, 5, 12, 11, 38, 39, 24, 2, 3, 27, 36, 9, 14, 22, 9, 38, 40, 29, 16, 1, 29, 33, 38, 29, 20, 11, 29, 27, 34, 3, 24, 35, 27, 4, 20, 25, 12, 21, 7, 38, 19, 10, 16, 26, 9, 20, 7, 5, 17, 28, 32, 36, 1, 5, 20, 3, 16, 6, 19, 15, 17, 27, 32, 32, 35, 13, 26, 16, 17, 16, 21, 30, 28, 4, 22, 3, 34, 20, 3, 4, 5, 16, 24, 27, 30, 35, 39, 40, 32, 8, 23, 25, 12, 32, 23, 7, 17, 28, 20, 13, 32, 23, 11, 32, 27, 14, 4, 20, 11, 30, 11, 24, 4, 14, 11, 6, 6, 31, 2, 18, 12, 26, 37, 22, 6, 39, 2, 3, 4, 6, 12, 16, 17, 26, 29, 32, 39, 29, 14, 38, 26, 30, 4, 7, 8, 38, 30, 24, 39, 28, 29, 31, 34, 35, 2, 31, 10, 10, 21, 34, 40, 20, 7, 23, 8, 9, 27, 1, 3, 4, 5, 6, 7, 10, 11, 12, 13, 14, 15, 16, 17, 18, 20, 22, 24, 25, 26, 27, 28, 29, 30, 31, 32, 35, 40, 14, 8, 8, 16, 9, 21, 34, 33, 2, 39, 10, 10, 4, 5, 8, 16, 25, 25, 1, 5, 8, 10, 12, 15, 22, 26, 27, 32, 38, 39, 40, 30, 34, 27, 14, 26, 1, 15, 27, 35, 4, 4, 32, 17, 25, 28, 11, 5, 22, 24, 39, 7, 26, 20, 19, 11, 12, 23, 9, 2, 2, 19, 9, 6, 5, 20, 29, 9, 35, 13, 14, 17, 12, 26, 12, 16, 17, 21, 28, 33, 39, 13, 21, 25, 28, 9, 37, 9, 4, 13, 35, 26, 18, 10, 27, 34, 2, 4, 36, 2, 3, 4, 13, 17, 18, 22, 23, 24, 25, 30, 33, 36, 1, 40, 24, 12, 34, 9, 4, 8, 39, 31, 37, 9, 7, 27, 39, 32, 8, 22, 39, 2, 19, 6, 28, 20, 32, 5, 17, 33, 39, 34, 2, 13, 2, 16, 1, 14, 1, 27, 4, 6, 16, 19, 32, 22, 10, 36, 27, 30, 18, 36, 16, 25, 32, 23, 9, 7, 28, 13, 3, 16, 40, 4, 34, 2, 36, 16, 36, 5, 4, 20, 34, 23, 36, 7, 16, 19, 21, 33, 24, 3, 33, 38, 17, 11, 21, 20, 3, 36, 16, 23, 7, 36, 17, 3, 4, 23, 20, 23, 7, 30, 13, 10, 7, 18, 24, 28, 5, 11, 15, 31, 33, 21, 38, 23, 13, 15, 15, 14, 29, 29, 5, 36, 2, 5, 7, 9, 15, 18, 23, 25, 26, 28, 29, 37, 40, 25, 13, 4, 4, 13, 17, 23, 40, 27, 8, 24, 24, 27, 23, 40, 15, 34, 22, 18, 15, 1, 5, 6, 7, 11, 14, 16, 19, 23, 25, 26, 27, 31, 33, 39, 19, 37, 38, 28, 15, 32, 16, 10, 17, 4, 20, 25, 22, 33, 13, 14, 32, 35, 40, 26, 6, 13, 6, 33, 17, 34, 17, 11, 30, 3, 31, 24, 15, 30, 26, 5, 33, 38, 18, 29, 5, 28, 7, 19, 30, 3, 3, 5, 6, 8, 9, 10, 13, 16, 17, 18, 19, 21, 22, 23, 24, 26, 27, 29, 30, 33, 34, 36, 39, 40, 26, 37, 10, 16, 15, 16, 7, 30, 2, 36, 26, 40, 4, 1, 31, 10, 18, 13, 22, 12, 39, 2, 33, 37, 29, 33, 4, 17, 35, 19, 21, 3, 22, 20, 9, 5, 7, 10, 14, 33, 9, 10, 16, 33, 7, 6, 3, 30, 20, 16, 5, 5, 36, 17, 30, 18, 18, 33, 3, 24, 11, 16, 1, 11, 20, 7, 13, 38, 20, 3, 17, 30, 3, 32, 9, 5, 13, 15, 26, 27, 39, 40, 36, 11, 10, 12, 10, 26, 8, 23, 34, 12, 14, 23, 21, 35, 34, 1, 2, 3, 4, 5, 6, 7, 8, 9, 10, 11, 12, 13, 14, 15, 16, 17, 18, 19, 21, 22, 23, 24, 25, 26, 27, 28, 29, 30, 31, 32, 33, 34, 35, 36, 37, 38, 39, 40, 31, 14, 9, 17, 12, 8, 3, 34, 13, 18, 5, 29, 16, 33, 26, 38, 6, 26, 28, 19, 35, 10, 21, 14, 21, 21, 25, 21, 1, 32, 7, 10, 6, 32, 14, 4, 16, 38, 1, 14, 16, 27, 1, 2, 3, 10, 18, 27, 28, 30, 36, 1, 9, 40, 22, 13, 15, 19, 33, 13, 23, 33, 31, 19, 7, 20, 24, 35, 20, 28, 5, 4, 8, 9, 17, 18, 36, 25, 6, 20, 30, 12, 2, 16, 12, 20, 31, 1, 6, 1, 23, 9, 19, 32, 19, 12, 5, 38, 25, 16, 23, 21, 24, 27, 22, 12, 3, 4, 31, 29, 6, 7, 8, 10, 12, 13, 14, 15, 16, 20, 22, 25, 26, 28, 29, 30, 31, 32, 34, 35, 39], \"Freq\": [0.9725777614789903, 0.9565030106957028, 0.9692083482400398, 0.959502044673812, 0.8639740422518648, 0.09599711580576276, 0.9422695156846204, 0.9476698299902004, 0.9438494649018156, 0.31887629692665836, 0.08928536313946435, 0.06377525938533167, 0.05102020750826534, 0.019132577815599502, 0.038265155631199005, 0.038265155631199005, 0.044642681569732175, 0.006377525938533167, 0.012755051877066334, 0.019132577815599502, 0.044642681569732175, 0.06377525938533167, 0.02551010375413267, 0.031887629692665835, 0.02551010375413267, 0.038265155631199005, 0.012755051877066334, 0.019132577815599502, 0.02551010375413267, 0.012755051877066334, 0.9851985295385854, 0.1724244696042818, 0.7931525601796963, 0.9680991589553323, 0.9394228354265602, 0.9234969003363125, 0.9521880318161182, 0.9253078566702195, 0.9450276888919421, 0.9058883671076159, 0.9461974929316077, 0.9213855239460609, 0.9181971126577052, 0.9677017262896274, 0.941171334179316, 0.9647411894048009, 0.9586691068400168, 0.9062346411403526, 0.8027886709509174, 0.14166858899133838, 0.7936011746131125, 0.17635581658069166, 0.9583031598340099, 0.9917467244222512, 0.9516090643440837, 0.9580356227130215, 0.9504221685104036, 0.9161146547175969, 0.9375147531812689, 0.9590468812293625, 0.7487463733326118, 0.12479106222210198, 0.08319404148140132, 0.1641251647933414, 0.21101806902001038, 0.6096077549466966, 0.9617456979294943, 0.9605941605840872, 0.9515117551760607, 0.9505917865501192, 0.8775703466098411, 0.09402539427962583, 0.9729030718437235, 0.9625681941751583, 0.9719814902966797, 0.9586349768338783, 0.9737032043041514, 0.9574621086418315, 0.906645532861042, 0.9912139222455708, 0.030428182196244064, 0.06846340994154915, 0.030428182196244064, 0.06085636439248813, 0.06846340994154915, 0.07607045549061016, 0.0456422732943661, 0.08367750103967118, 0.030428182196244064, 0.015214091098122032, 0.03803522774530508, 0.3118888675115017, 0.02282113664718305, 0.06085636439248813, 0.05324931884342712, 0.16899175350819132, 0.035577211264882384, 0.02668290844866179, 0.06226011971354417, 0.02668290844866179, 0.10673163379464716, 0.04447151408110298, 0.04447151408110298, 0.42692653517858864, 0.02668290844866179, 0.035577211264882384, 0.9696858823894675, 0.9952041702925872, 0.9539932977587963, 0.9373996521553446, 0.8634802416678805, 0.10793503020848506, 0.9801462620756772, 0.9679243904960079, 0.9545038779526467, 0.9421901749646674, 0.9361216848975661, 0.9485189835779565, 0.9856767297935878, 0.9692072194971576, 0.959169496146639, 0.9362789856722125, 0.9662248067515341, 0.9786018073652235, 0.9611485194938781, 0.9912799772037159, 0.9425660605354031, 0.9862230840389267, 0.9378672319608802, 0.9728396232857025, 0.9889680793961451, 0.9510101744705359, 0.953937844364162, 0.9118399721173246, 0.9888881361573667, 0.978918623462919, 0.9702283242754567, 0.9339873551435401, 0.9830447985828255, 0.9728016509150083, 0.9711561980028277, 0.9759655486046771, 0.9106977713990912, 0.9704696553807759, 0.9644669954197632, 0.9659811676086499, 0.9768401446542373, 0.9556215501473636, 0.9854479487128947, 0.9790441499780131, 0.9667876877890399, 0.11447000853338149, 0.049058575085734926, 0.057235004266690745, 0.3883803860954015, 0.01635285836191164, 0.0408821459047791, 0.03679393131430119, 0.049058575085734926, 0.028617502133345372, 0.01635285836191164, 0.00817642918095582, 0.04497036049525702, 0.012264643771433732, 0.02044107295238955, 0.028617502133345372, 0.01635285836191164, 0.02044107295238955, 0.012264643771433732, 0.012264643771433732, 0.012264643771433732, 0.012264643771433732, 0.9832945030155903, 0.9769783350450434, 0.9453435145307715, 0.035205499001253124, 0.3989956553475354, 0.04694066533500416, 0.0586758316687552, 0.035205499001253124, 0.1173516633375104, 0.07041099800250625, 0.035205499001253124, 0.1173516633375104, 0.02347033266750208, 0.0586758316687552, 0.14017680360197315, 0.841060821611839, 0.2580122598951779, 0.6708318757274625, 0.1106781260043354, 0.7636790694299143, 0.12174593860476894, 0.9801196075095707, 0.9753841929096572, 0.9648961641867339, 0.9699187661454084, 0.9270382533898122, 0.9734111779767352, 0.9440463076951537, 0.9716824162853999, 0.9390240568541592, 0.98565246197951, 0.9180903268221121, 0.9837535637690336, 0.9548870144115957, 0.9803541103616517, 0.9707526682814037, 0.9512940703632002, 0.969084659781657, 0.8935721608050883, 0.985070988445742, 0.9833215433497993, 0.11770041503479238, 0.8762142008145655, 0.07051136415767346, 0.03917298008759637, 0.08618055619271202, 0.07051136415767346, 0.054842172122634925, 0.04700757610511565, 0.5484217212263492, 0.04700757610511565, 0.03917298008759637, 0.9709639249411136, 0.9390295893541019, 0.16628041354510703, 0.11307068121067279, 0.03990729925082569, 0.37246812634103976, 0.026604866167217127, 0.03990729925082569, 0.026604866167217127, 0.03990729925082569, 0.019953649625412843, 0.053209732334434254, 0.026604866167217127, 0.03325608270902141, 0.013302433083608563, 0.013302433083608563, 0.019953649625412843, 0.9478732756484554, 0.96006524379286, 0.03971275689611758, 0.14561344195243112, 0.7677799666582732, 0.03971275689611758, 0.9847582823644506, 0.9180039172419022, 0.9371673666828495, 0.9858657991996791, 0.9615110575486825, 0.0583996712090259, 0.15851339328164174, 0.016685620345435973, 0.033371240690871946, 0.04171405086358993, 0.21691306449066763, 0.025028430518153958, 0.025028430518153958, 0.10011372207261583, 0.08342810172717986, 0.0583996712090259, 0.016685620345435973, 0.050056861036307916, 0.04171405086358993, 0.025028430518153958, 0.025028430518153958, 0.025028430518153958, 0.9366828785210567, 0.9523491832417724, 0.9534846143227621, 0.9685658006044223, 0.9247242145426953, 0.9576622229917008, 0.9509459823886586, 0.9574462486660628, 0.16559302321079866, 0.8003662788521936, 0.9417760892610476, 0.7508362218866865, 0.2298478230265367, 0.9603694092633676, 0.9692936505498936, 0.9711292896913805, 0.715575429867408, 0.26578515966503724, 0.9704283695769821, 0.8743901916296024, 0.1016732780964654, 0.9866594985851019, 0.4728421837955489, 0.12490170892712611, 0.044607753188259325, 0.09813705701417053, 0.044607753188259325, 0.062450854463563056, 0.01784310127530373, 0.09813705701417053, 0.026764651912955597, 0.9589201435791236, 0.9279326483827577, 0.9391008110407923, 0.9469798756868432, 0.9554308096570889, 0.9766522704264429, 0.9101815049443237, 0.8811968887673984, 0.07090089909622746, 0.05064349935444818, 0.9537769686140675, 0.9799631252808242, 0.9768180952151351, 0.21446823808501692, 0.7506388332975592, 0.9650449465119003, 0.9702978839356504, 0.9821420984505469, 0.9414710097044705, 0.9724960119631888, 0.9343628802176708, 0.9471358460762505, 0.964727784808934, 0.8374097679963203, 0.1456364813906644, 0.9767097993432307, 0.976455181166716, 0.9837276847605294, 0.9561352627052593, 0.9362524883047999, 0.9370034055756817, 0.10178503563035486, 0.046265925286524935, 0.12029140574496484, 0.055519110343829926, 0.6014570287248242, 0.06477229540113491, 0.9571048110497699, 0.9772646820519951, 0.9808547002623359, 0.9421773341183471, 0.9504665256693381, 0.9776431725610153, 0.9728664492814842, 0.952303008349852, 0.9345432744593204, 0.9728948478729195, 0.016463924274935513, 0.018521914809302452, 0.067913687634109, 0.030869858015504088, 0.020579905343669394, 0.012347943206201636, 0.006173971603100818, 0.014405933740568574, 0.039101820152971846, 0.02675387694677021, 0.012347943206201636, 0.037043829618604904, 0.018521914809302452, 0.037043829618604904, 0.020579905343669394, 0.09260957404651227, 0.05968172549664124, 0.02881186748113715, 0.010289952671834697, 0.03498583908423797, 0.022637895878036333, 0.012347943206201636, 0.07202966870284287, 0.045275791756072666, 0.008231962137467757, 0.014405933740568574, 0.030869858015504088, 0.02881186748113715, 0.002057990534366939, 0.018521914809302452, 0.02469588641240327, 0.11113148885581473, 0.006173971603100818, 0.9698558269650214, 0.9387272721398144, 0.9859412625149037, 0.9678832227171514, 0.9644648288485566, 0.029905886165846718, 0.9825671501655618, 0.03946830689842104, 0.016914988670751877, 0.016914988670751877, 0.016914988670751877, 0.08457494335375938, 0.0676599546830075, 0.10148993202451126, 0.03382997734150375, 0.05638329556917292, 0.2086181936059398, 0.045106636455338335, 0.03946830689842104, 0.02819164778458646, 0.02819164778458646, 0.03946830689842104, 0.0676599546830075, 0.011276659113834584, 0.011276659113834584, 0.03946830689842104, 0.011276659113834584, 0.03382997734150375, 0.9616883917633439, 0.9788888745239738, 0.9445096659574291, 0.9847344495256504, 0.9536341936354505, 0.9645922637506864, 0.9068869363354238, 0.9571596356666515, 0.9679303386246951, 0.7439076833940647, 0.2391131839480922, 0.9623593110886636, 0.9633022078761285, 0.9241407063171366, 0.9810006792733905, 0.9186401914471461, 0.9506116491625161, 0.07741041818487324, 0.05629848595263508, 0.04222386446447631, 0.08444772892895262, 0.06333579669671446, 0.6685445206875416, 0.9837544522218483, 0.977994232242636, 0.9364834775942555, 0.9782138435093837, 0.07487099613745982, 0.03743549806872991, 0.08734949549370312, 0.09982799484994642, 0.42426897811227227, 0.04991399742497321, 0.07487099613745982, 0.062392496781216514, 0.07487099613745982, 0.6663950691049516, 0.07956956049014348, 0.23870868147043042, 0.989133791290827, 0.9527965205172634, 0.9833253591650046, 0.9516825465358396, 0.04154654010066056, 0.9347971522648626, 0.9851016047687765, 0.9704901981227787, 0.9374018641109492, 0.9805316158353212, 0.9628064384952413, 0.12738173481370071, 0.055383362962478574, 0.23261012444241, 0.06646003555497429, 0.055383362962478574, 0.033230017777487145, 0.038768354073735, 0.08861338073996572, 0.011076672592495715, 0.038768354073735, 0.011076672592495715, 0.027691681481239287, 0.038768354073735, 0.011076672592495715, 0.07753670814747, 0.0055383362962478574, 0.038768354073735, 0.027691681481239287, 0.688226011155504, 0.02613516498058876, 0.060982051621373774, 0.060982051621373774, 0.1480992682233363, 0.07340615535295018, 0.9053425826863856, 0.9473647893485163, 0.8761426097685583, 0.09471811997497928, 0.9519841019299917, 0.9229774676356983, 0.9671101124962306, 0.9419121591495452, 0.9816295755658846, 0.9449054960128328, 0.9604572306323517, 0.9553375434739774, 0.9696133911936053, 0.9651803830565222, 0.9479233277673619, 0.942622267627504, 0.9956239420418921, 0.9619138548853154, 0.9624394624740222, 0.9651905442251879, 0.9522196471670189, 0.9636057169253461, 0.9738777499487051, 0.9626719089448595, 0.9798323564875835, 0.97254350984403, 0.9716930542779031, 0.9867771018362193, 0.9641050753031805, 0.8670204540376608, 0.09908805189001837, 0.16918997915269815, 0.07895532360459247, 0.02255866388702642, 0.03383799583053963, 0.08459498957634908, 0.028198329858783025, 0.10151398749161888, 0.039477661802296234, 0.04511732777405284, 0.005639665971756605, 0.039477661802296234, 0.1973883090114812, 0.02255866388702642, 0.005639665971756605, 0.039477661802296234, 0.04511732777405284, 0.016918997915269816, 0.005639665971756605, 0.02255866388702642, 0.9485801154651895, 0.9773712942960879, 0.9743184148258828, 0.9692403002890795, 0.9768130167532818, 0.9815088748183735, 0.9689862331923111, 0.9539711032014085, 0.9527924768363266, 0.9662146114845007, 0.9436645204968163, 0.9324129786833204, 0.9451395182859972, 0.9743768547724471, 0.9750527978853936, 0.9898118112405139, 0.0854322241707109, 0.854322241707109, 0.9896753640785452, 0.9742272314808418, 0.9468106639343555, 0.9853556367703685, 0.12114189207835059, 0.8749136650103099, 0.9439116616732199, 0.9607814453888184, 0.97510750608954, 0.9766172169097656, 0.9703646234479044, 0.9817078866962345, 0.9744905873332745, 0.8019313075971186, 0.10517131902913031, 0.07887848927184773, 0.9641176904513549, 0.9484465350550257, 0.2034644460104642, 0.7884247282905488, 0.9584020760425296, 0.9485145232852866, 0.29680396085774774, 0.6925425753347447, 0.9400555516236739, 0.985179712615832, 0.9891920954296451, 0.9381750763586145, 0.9678343863074566, 0.04914718288803742, 0.08191197148006236, 0.10648556292408107, 0.06552957718404989, 0.06552957718404989, 0.02457359144401871, 0.04914718288803742, 0.02457359144401871, 0.22116232299616836, 0.04095598574003118, 0.04095598574003118, 0.04914718288803742, 0.032764788592024946, 0.02457359144401871, 0.06552957718404989, 0.032764788592024946, 0.032764788592024946, 0.9606963402107707, 0.6644763052533601, 0.27686512718890005, 0.12116561505883859, 0.8602758669177539, 0.9805199926495551, 0.9530863032531796, 0.9739841430237807, 0.9721901642988778, 0.9742181910551416, 0.9656016822958522, 0.6874277955481919, 0.15958145253797312, 0.06137748174537428, 0.07365297809444914, 0.961461363187451, 0.9313901876682373, 0.9659828996021339, 0.3069665271982474, 0.6446297071163196, 0.9618846230168927, 0.950899939141823, 0.9213899070160139, 0.9488996217189615, 0.9395334666976601, 0.9569672921482539, 0.14785135738344352, 0.6653311082254959, 0.14785135738344352, 0.9495579522877212, 0.9631097377928343, 0.9721410737129255, 0.9827753501058877, 0.9682257259813148, 0.785071088364763, 0.13362912142378944, 0.06681456071189472, 0.07904157100351608, 0.02634719033450536, 0.017564793556336906, 0.06147677744717917, 0.05269438066901072, 0.1317359516725268, 0.06147677744717917, 0.04391198389084227, 0.05269438066901072, 0.32494868079223277, 0.03512958711267381, 0.05269438066901072, 0.05269438066901072, 0.9469243244784319, 0.9508899030411534, 0.9544399294157055, 0.9884790069357562, 0.9723243072306493, 0.9852491942080808, 0.9665817843485618, 0.9697403157254769, 0.380422262359385, 0.03170185519661541, 0.1347328845856155, 0.07132917419238469, 0.03962731899576927, 0.03170185519661541, 0.05547824659407698, 0.07132917419238469, 0.03962731899576927, 0.05547824659407698, 0.015850927598307706, 0.07132917419238469, 0.9566928342633797, 0.11673152596078717, 0.8638132921098252, 0.9874880352504645, 0.05579657648859944, 0.9373824850084705, 0.949782653125534, 0.9514873288766141, 0.9649944231767363, 0.954776587840299, 0.9824786805710276, 0.9599397422877498, 0.9540787559530218, 0.9592490082652548, 0.9619850688945849, 0.949613378211363, 0.9399699827730588, 0.9808276749477353, 0.9752803403760856, 0.9909110382856502, 0.9697363189110552, 0.9893046589091233, 0.9023280383816489, 0.9862562059245058, 0.9596283512039747, 0.9828900786502797, 0.9478974452543009, 0.975943090000889, 0.9728944616636441, 0.9273534117277523, 0.9705904849005024, 0.9882856154999801, 0.8199809267994501, 0.09110899186660557, 0.06833174389995418, 0.9717588881457045, 0.9946039356677185, 0.9619837924614905, 0.9491023364524857, 0.9789746189025023, 0.9909144716571059, 0.9483295847630749, 0.9757753564720877, 0.5934850836806885, 0.0291877910006896, 0.024323159167241332, 0.03891705466758613, 0.0583755820013792, 0.019458527333793066, 0.0437816865010344, 0.019458527333793066, 0.019458527333793066, 0.0437816865010344, 0.009729263666896533, 0.03405242283413787, 0.0437816865010344, 0.019458527333793066, 0.9738057296947014, 0.9788343297851606, 0.9626911447616093, 0.9635860842349512, 0.9652413259342242, 0.9767319536423796, 0.9762292505291352, 0.9663781989024756, 0.17608550094226377, 0.2099480972773145, 0.6095267340309131, 0.9644110145211339, 0.9801012118191906, 0.9744596015224968, 0.9803296468002882, 0.9698010688288424, 0.9836181052962732, 0.9570389902593784, 0.9516835624466293, 0.8614076298443651, 0.10016367788887966, 0.9803724765912765, 0.9898218953988196, 0.9661147033758756, 0.9664708997426732, 0.9595623587203311, 0.9344023796801146, 0.9551360885804621, 0.9867225635384846, 0.9892521879513968, 0.23796369667041087, 0.5879103094210151, 0.15397650961026585, 0.9709306459287154, 0.9196163533219147, 0.9201398195357741, 0.28699257934506656, 0.16881916432062738, 0.5064574929618821, 0.03376383286412547, 0.9128012815231383, 0.9767762930577418, 0.2682914610107991, 0.08472361926656813, 0.635427144499261, 0.9779302051493112, 0.246297223506004, 0.738891670518012, 0.9780158832192861, 0.9582366114883437, 0.9653797790832533, 0.9836583716374683, 0.969474899816547, 0.9604131836489511, 0.9655188838483503, 0.9757642247291661, 0.9433591695103433, 0.9373387157799824, 0.9840332742403644, 0.9414876755297236, 0.9711003948399267, 0.9422625465256058, 0.9818125479554519, 0.9727406087572453, 0.9780992780976279, 0.9894720827770348, 0.8521464929238667, 0.13109946044982562, 0.9805544813746995, 0.8293119455990853, 0.14216776210270035, 0.9474924263416536, 0.9861878312366926, 0.8585532284834227, 0.13888361048996545, 0.9402170966420986, 0.9360847648846843, 0.9467479305778039, 0.9626249888329571, 0.97671165617195, 0.9574573268749202, 0.179776948787714, 0.7961550589170191, 0.9755741581000592, 0.9703766379981569, 0.9510211565939554, 0.9476464289218911, 0.5993816083882163, 0.07339366633325098, 0.20794872127754443, 0.11009049949987647, 0.9571697009837952, 0.9517668246810687, 0.9758097586640199, 0.9549709746983169, 0.9392632065070798, 0.9890003600557482, 0.9329577223619664, 0.45660450119998136, 0.316110808523064, 0.210740539015376, 0.9135418374592366, 0.9740748682071303, 0.9795798079940136, 0.9860810307811768, 0.9378181600788009, 0.9437470477761459, 0.948984120889567, 0.942357943546057, 0.9761228379353121, 0.9823519682710194, 0.9714731847135311, 0.9826621279098018, 0.9730222847965974, 0.9472624627384987, 0.9662997942051894, 0.9641426046681484, 0.48183204135854535, 0.08672976744453817, 0.05781984496302544, 0.02890992248151272, 0.06745648579019635, 0.07709312661736725, 0.07709312661736725, 0.038546563308683626, 0.038546563308683626, 0.048183204135854536, 0.9593982704730529, 0.9745367079132125, 0.9710555522079349, 0.9563675649867791, 0.979540352027177, 0.9707409915212781, 0.9721677956723429, 0.9759592551916295, 0.9520091666964401, 0.9806845734634583, 0.8985595431466371, 0.967341183706786, 0.9763774238737087, 0.9868250707698132, 0.9269331443141962, 0.04521625094215591, 0.9774146229916246, 0.9818422103722774, 0.9696771533606084, 0.9353447324114396, 0.9773896705337769, 0.9756598661106183, 0.9760289640310946, 0.9690840185525386, 0.9167344515332655, 0.9704487614545225, 0.9674924497745407, 0.9452807378186222, 0.9437069601554149, 0.979083523912551, 0.9035958621283111, 0.07529965517735926, 0.973101180759464, 0.98721915959395, 0.9683761820288677, 0.9546475479889471, 0.9701076275536009, 0.9789237199745394, 0.08381230320021266, 0.059865930857294754, 0.03591955851437685, 0.059865930857294754, 0.3951151436581454, 0.047892744685835806, 0.059865930857294754, 0.03591955851437685, 0.10775867554313057, 0.059865930857294754, 0.047892744685835806, 0.9635875181469981, 0.9762301782067838, 0.9448882657436641, 0.9619580801247236, 0.9808259497936946, 0.9186078962161923, 0.681705775194482, 0.20198689635392061, 0.10099344817696031, 0.9339934811896576, 0.9404107847700974, 0.9829385787380998, 0.977693946749974, 0.9692593103188009, 0.19333291879229345, 0.7991093976748129, 0.9322514827311453, 0.9583144779893065, 0.974978694342279, 0.9832255653615177, 0.15869519881108743, 0.6636344677554565, 0.057707345022213606, 0.10098785378887382, 0.969591894962744, 0.9724636436285979, 0.9609463558186271, 0.9945237732645262, 0.9554438264013848, 0.9646223470692044, 0.020403949341649692, 0.24892818196812627, 0.061211848024949084, 0.020403949341649692, 0.008161579736659878, 0.020403949341649692, 0.008161579736659878, 0.024484739209979633, 0.03672710881496945, 0.040807898683299385, 0.012242369604989816, 0.020403949341649692, 0.024484739209979633, 0.020403949341649692, 0.008161579736659878, 0.020403949341649692, 0.02856552907830957, 0.012242369604989816, 0.03264631894663951, 0.03264631894663951, 0.008161579736659878, 0.020403949341649692, 0.03264631894663951, 0.06529263789327902, 0.06529263789327902, 0.03672710881496945, 0.04488868855162933, 0.016323159473319755, 0.9889310516526733, 0.988522453549745, 0.14745577376307226, 0.8110067556968975, 0.9750619674750329, 0.9757937810369252, 0.9832167374234212, 0.9777788929728488, 0.9598421562850036, 0.9412900342284006, 0.9739678905246169, 0.9570003340401978, 0.9665750783690972, 0.9726248148719087, 0.9839822170921712, 0.9726596258550531, 0.9623110285138837, 0.9549130588126331, 0.0411505914618938, 0.45265650608083186, 0.03086294359642035, 0.10287647865473451, 0.051438239327367255, 0.0411505914618938, 0.051438239327367255, 0.051438239327367255, 0.0205752957309469, 0.0205752957309469, 0.03086294359642035, 0.051438239327367255, 0.051438239327367255, 0.9685496599257666, 0.9616859494467017, 0.9254039324207457, 0.9786491309086421, 0.9784375769877462, 0.9492917266857732, 0.9980617232929432, 0.1532017814788483, 0.8426097981336657, 0.9639548084703264, 0.9799083783242568, 0.9504192894039699, 0.9140581579539103, 0.9565884199448236, 0.9944084237630467, 0.9698442584058846, 0.9584387042755412, 0.9422119386609674, 0.9582775711643631, 0.983954591601536, 0.9890978551127757, 0.9431670060820936, 0.9495624475389616, 0.9790405004872472, 0.7549241400376974, 0.22018620751099505, 0.9684873251485252, 0.968002815725662, 0.9156056721342631, 0.9303707253510363, 0.9796183341610292, 0.9841988997460804, 0.9790809164142328, 0.9363909755033667, 0.8906972322239668, 0.09787881672790844, 0.9251277460886057, 0.9503675958790422, 0.9695096387221362, 0.9503572295932932, 0.9790358622660725, 0.9693386924505274, 0.9717387664815141, 0.06787400835081427, 0.07757029525807345, 0.07757029525807345, 0.09696286907259181, 0.5623846406210325, 0.04848143453629591, 0.06787400835081427, 0.9789857019289688, 0.9829485770235205, 0.927066071080264, 0.06349767610138794, 0.9782598623181225, 0.9853259597258844, 0.9879697396373047, 0.11479621610020957, 0.731825877638836, 0.14349527012526198, 0.9739368943866953, 0.979167990211419, 0.9692367543717194, 0.9716849695387152, 0.9694176967247584, 0.9801206598257949, 0.957994344560747, 0.9479948899091691, 0.08890860087991834, 0.06275901238582471, 0.05229917698818726, 0.03660942389173108, 0.02614958849409363, 0.04706925928936853, 0.03660942389173108, 0.08367868318109961, 0.06275901238582471, 0.3713241566161295, 0.03660942389173108, 0.04706925928936853, 0.04706925928936853, 0.9865638686832602, 0.9833318501878104, 0.9739114948485506, 0.6382550904787563, 0.33789975378287096, 0.9882673328857535, 0.9677655407014294, 0.9734865681433336, 0.9379134445660593, 0.8717684698361743, 0.10631322802880173, 0.9633731942695758, 0.9705492573800041, 0.8381812704034606, 0.1241750030227349, 0.9530674613270578, 0.9479334560200687, 0.9339382594637732, 0.9748710995274686, 0.2529965403505167, 0.7228472581443335, 0.9458813693668379, 0.9652138362063687, 0.9872267701341031, 0.9835562731575874, 0.983712903939856, 0.6991413779299325, 0.27965655117197297, 0.9605599684074562, 0.9922632328079255, 0.9784296472778933, 0.9663457928232433, 0.9782213646149004, 0.9822607639848333, 0.8628869157391075, 0.11984540496376492, 0.9430468862101756, 0.9463989226489383, 0.9585659486349505, 0.6887120593544184, 0.29516231115189356, 0.9890188497368273, 0.9319441457950879, 0.9617528934991841, 0.7937316764425915, 0.17638481698724254, 0.9814948942004627, 0.977233903992336, 0.9731622143349051, 0.9804182409044594, 0.17821532485842664, 0.6930595966716592, 0.11881021657228442, 0.9141206838138813, 0.9483588449928755, 0.9683132341692586, 0.9139057822422915, 0.9598056264005371, 0.2509880917545754, 0.7111329266379637, 0.9756801099186109, 0.9095581503233744, 0.9730460359412699, 0.9579059616505925, 0.9772522762751714, 0.0743108785584493, 0.8917305427013916, 0.9786833073175631, 0.9682751179068514, 0.9786668182558865, 0.9926132946143434, 0.9687022122130333, 0.9276641432726594, 0.0652863263103387, 0.058757693679304834, 0.09140085683447419, 0.14362991788274515, 0.6398059978413193, 0.9615900410903155, 0.9524874306658717, 0.9718207415032853, 0.9884050280347855, 0.9467913813609329, 0.9842041035878479, 0.9768054102855074, 0.9724509650959454, 0.977307620187374, 0.9660213014400492, 0.9626976971339267, 0.9716218459772787, 0.19496643667582667, 0.79379192075158, 0.9154047941195267, 0.8857813988701632, 0.06813703068232024, 0.9698757086276973, 0.9486903634011263, 0.9579804915719855, 0.9739006836608001, 0.9487649038183188, 0.9611924850239615, 0.9680924436338961, 0.6843323496659219, 0.10014619751208614, 0.10014619751208614, 0.10014619751208614, 0.9718285313527741, 0.9870093671017858, 0.7848196695211626, 0.16698290840875799, 0.0333965816817516, 0.9865025357299996, 0.9363221594055133, 0.9228551594440019, 0.9382304468281407, 0.9633180349075957, 0.9566840240641226, 0.9287783585046914, 0.9460189138746026, 0.9877612286501399, 0.9404492555595945, 0.9696090400463719, 0.054584800786517375, 0.3638986719101159, 0.027292400393258687, 0.045487333988764485, 0.03638986719101159, 0.03638986719101159, 0.054584800786517375, 0.11826706837078765, 0.018194933595505794, 0.054584800786517375, 0.03638986719101159, 0.11826706837078765, 0.03638986719101159, 0.9483966360739978, 0.9705969685708097, 0.9091862950885506, 0.12892087544324962, 0.7305516275117478, 0.12892087544324962, 0.9158660406569048, 0.9631882848914883, 0.9494676619993222, 0.9587529882712206, 0.9738732195682334, 0.9871669567922076, 0.9818555732837557, 0.7821854319967221, 0.17878524159925074, 0.9096943297752447, 0.06497816641251747, 0.981432254085948, 0.974484195400868, 0.9764916527380283, 0.11409858952934643, 0.030426290541159046, 0.08367229898818737, 0.08367229898818737, 0.04563943581173857, 0.35750891385861877, 0.06085258108231809, 0.030426290541159046, 0.015213145270579523, 0.007606572635289762, 0.015213145270579523, 0.04563943581173857, 0.015213145270579523, 0.05324600844702833, 0.03803286317644881, 0.98936093890524, 0.9719695291632502, 0.9509699336011331, 0.9802291693025375, 0.928306269034068, 0.9725848714388794, 0.923724257429066, 0.9815989655337795, 0.9762946597349029, 0.9548244873513632, 0.9661492994296306, 0.9831353148056239, 0.9383937046469281, 0.9780670521637219, 0.7098563874802944, 0.08475897163943814, 0.07416410018450838, 0.06356922872957861, 0.05297435727464884, 0.9495651813534399, 0.9745634957762581, 0.9631282465826309, 0.984407721822613, 0.9590478342521037, 0.9254554215305147, 0.059706801389065464, 0.9628748832415474, 0.7112838750622823, 0.2691344392127555, 0.9746128645370462, 0.9201775886405003, 0.9696992413536359, 0.8931817538129142, 0.94493737378432, 0.973156347631784, 0.9665041275644589, 0.9638307959040645, 0.9605387762195451, 0.930042047268591, 0.9800729455836954, 0.906406850340249, 0.9800838700256451, 0.9779682665605931, 0.9422830748184031, 0.9866353687669499, 0.9817344606468954, 0.06803566081664982, 0.05102674561248736, 0.05669638401387484, 0.017008915204162454, 0.06803566081664982, 0.011339276802774969, 0.05669638401387484, 0.03401783040832491, 0.005669638401387484, 0.03968746880971239, 0.011339276802774969, 0.011339276802774969, 0.05102674561248736, 0.022678553605549937, 0.022678553605549937, 0.0737052992180373, 0.022678553605549937, 0.05102674561248736, 0.022678553605549937, 0.16441951364023705, 0.03401783040832491, 0.03401783040832491, 0.02834819200693742, 0.03401783040832491, 0.2678012227760462, 0.7060214055004853, 0.9705716776565735, 0.941044962472426, 0.9911360688130874, 0.9753421918682968, 0.9825446207840306, 0.969149482992834, 0.9779534866476358, 0.9702428687826739, 0.9399439126503142, 0.9481031822739205, 0.9843952519060137, 0.9400622764716161, 0.9485359584333306, 0.9465705454376493, 0.939940824796901, 0.7252007797618711, 0.24173359325395705, 0.9803657339570063, 0.9735946113255511, 0.8580317471821138, 0.12870476207731707, 0.9753478263419499, 0.7590199379565946, 0.2070054376245258, 0.9468234022155895, 0.9735660267222892, 0.9303702649900792, 0.9894592999921857, 0.9833589994598239, 0.9867471680780402, 0.9819923833156612, 0.9413703013238294, 0.9549563217549965, 0.09706336341486085, 0.7279752256114564, 0.08493044298800324, 0.08493044298800324, 0.984375777377693, 0.9478697738111791, 0.7480972222571184, 0.14325265958115033, 0.09550177305410022, 0.9671264827334919, 0.9622788606211986, 0.9888448599448307, 0.9417731567109342, 0.9546402687697328, 0.9852419236443748, 0.9335437024842149, 0.9606235537616158, 0.9914179743104539, 0.9712628971193003, 0.9262429349809047, 0.9882564008568607, 0.9197830823310197, 0.9424069301546508, 0.9742569103809974, 0.9798832889592501, 0.9087910999768063, 0.07573259166473385, 0.9795120620320694, 0.9644645099348703, 0.9395280179116016, 0.9788385143335104, 0.9443439287521116, 0.9660040114291992, 0.9577396071803013, 0.09724139837767684, 0.8928528396495783, 0.9208704641814495, 0.9642391517239474, 0.9512168992208037, 0.9446141647303471, 0.08556836898522302, 0.5561943984039496, 0.07130697415435251, 0.09982976381609353, 0.07130697415435251, 0.07130697415435251, 0.028522789661741006, 0.9318216623116036, 0.9565276113797622, 0.9827810213827237, 0.9340154606641891, 0.9180479216180427, 0.9364723156428466, 0.9222555277340764, 0.9845692060161163, 0.9570231048389174, 0.9765967988146257, 0.8396602060340829, 0.14993932250608624, 0.9656544665659255, 0.9822227511221427, 0.9435993412468799, 0.024904107056134103, 0.05603424087630173, 0.040469173966217915, 0.029573627129159247, 0.017121573601092198, 0.03891266727520954, 0.024904107056134103, 0.029573627129159247, 0.03579965389319278, 0.028017120438150866, 0.004669520073025145, 0.03579965389319278, 0.026460613747142484, 0.028017120438150866, 0.040469173966217915, 0.020234586983108958, 0.01089554683705867, 0.028017120438150866, 0.048251707421259823, 0.12296402858966214, 0.017121573601092198, 0.02179109367411734, 0.017121573601092198, 0.034243147202184396, 0.020234586983108958, 0.015565066910083815, 0.012452053528067051, 0.017121573601092198, 0.02179109367411734, 0.015565066910083815, 0.006226026764033526, 0.02179109367411734, 0.00933904014605029, 0.01089554683705867, 0.017121573601092198, 0.004669520073025145, 0.015565066910083815, 0.017121573601092198, 0.01089554683705867, 0.975524116120123, 0.9761305223287061, 0.08180792625381438, 0.8998871887919581, 0.9636848980685926, 0.9499768152797494, 0.8928344369051027, 0.09498238690479816, 0.9746245556323883, 0.9736007133357015, 0.988365335302322, 0.9468743825226592, 0.9508804390645603, 0.9793662914950025, 0.9655066110145664, 0.9742775700100889, 0.9923851053439996, 0.9386900723342915, 0.04940474064917323, 0.9474863539233691, 0.9772440453365344, 0.9517053654297958, 0.9517749280566912, 0.9920669032796569, 0.9427342617576534, 0.9721321901016147, 0.9283578893327723, 0.9626043360921511, 0.9143884451852368, 0.060959229679015785, 0.977950406055743, 0.9536948631177093, 0.9308615864282016, 0.981635268293534, 0.9420838657769767, 0.9486263551848695, 0.05155578017309073, 0.9657107545804274, 0.04401360847308929, 0.8186531175994608, 0.08802721694617859, 0.05281633016770715, 0.16630156126196394, 0.05543385375398798, 0.41021051777951106, 0.12195447825877356, 0.04434708300319039, 0.03326031225239279, 0.07760739525558318, 0.03326031225239279, 0.04434708300319039, 0.7678186813465462, 0.20600013401980508, 0.9745085130213655, 0.9813425283998208, 0.8205423986733003, 0.17094633305693754, 0.9786530923725193, 0.9600246025407418, 0.9771136508370998, 0.9859999890328747, 0.9884055335741431, 0.9885886067983587, 0.9714201980569254, 0.9638403301848879, 0.9434164331854774, 0.9635073004618401, 0.9795825682808301, 0.9500393905128983, 0.9238103523255273, 0.9356290002677125, 0.07619864043957571, 0.19049660109893926, 0.06349886703297974, 0.11429796065936355, 0.5587900298902218, 0.9569085148787452, 0.9490030885835422, 0.9633909217135971, 0.9553813612776783, 0.9576346533980484, 0.9559198052681778, 0.9509322167539063, 0.041646666427178375, 0.9352960601130739, 0.9276864031118052, 0.9483595370730031, 0.18989152144875088, 0.7975443900847538, 0.9675976966842519, 0.9756491561405671, 0.9675191648929565, 0.9677520164560705, 0.9884360574654839, 0.9647841679301876, 0.9789971181844827, 0.9880403929019058, 0.9709184789133256, 0.986673435138392, 0.9591228989364211, 0.9418205440848826, 0.04938973294133175, 0.8766677597086385, 0.061737166176664686, 0.9886698133006108, 0.9606363976371122, 0.6501527939566175, 0.1459526680310774, 0.19902636549692374, 0.956278663718174, 0.04813573003181743, 0.027506131446752815, 0.006876532861688204, 0.04813573003181743, 0.04813573003181743, 0.020629598585064614, 0.05501226289350563, 0.03438266430844102, 0.04125919717012923, 0.061888795755193834, 0.08251839434025846, 0.027506131446752815, 0.006876532861688204, 0.04813573003181743, 0.05501226289350563, 0.020629598585064614, 0.07564186147857024, 0.04125919717012923, 0.1650367886805169, 0.006876532861688204, 0.07564186147857024], \"Term\": [\"1\", \"10\", \"100\", \"15\", \"2\", \"2\", \"20\", \"2016\", \"2018\", \"2020\", \"2020\", \"2020\", \"2020\", \"2020\", \"2020\", \"2020\", \"2020\", \"2020\", \"2020\", \"2020\", \"2020\", \"2020\", \"2020\", \"2020\", \"2020\", \"2020\", \"2020\", \"2020\", \"2020\", \"2020\", \"3\", \"4\", \"4\", \"5\", \"6\", \"7\", \"8\", \"911\", \"abortion\", \"abrams\", \"abuse\", \"access\", \"account\", \"accused\", \"accuses\", \"across\", \"act\", \"acting\", \"activist\", \"activist\", \"ad\", \"ad\", \"address\", \"administration\", \"advice\", \"adviser\", \"ag\", \"age\", \"agency\", \"agent\", \"ahead\", \"ahead\", \"ahead\", \"aid\", \"aid\", \"aid\", \"aide\", \"aim\", \"air\", \"airline\", \"allegation\", \"allegation\", \"alleged\", \"allow\", \"ally\", \"almost\", \"already\", \"amazon\", \"ambassador\", \"america\", \"american\", \"american\", \"american\", \"american\", \"american\", \"american\", \"american\", \"american\", \"american\", \"american\", \"american\", \"american\", \"american\", \"american\", \"american\", \"amid\", \"amid\", \"amid\", \"amid\", \"amid\", \"amid\", \"amid\", \"amid\", \"amid\", \"amid\", \"amid\", \"amy\", \"analysis\", \"andrew\", \"angeles\", \"announces\", \"announces\", \"another\", \"answer\", \"apologizes\", \"appeal\", \"approach\", \"argument\", \"arizona\", \"around\", \"arrest\", \"arrested\", \"ask\", \"asks\", \"assault\", \"attack\", \"attempt\", \"attorney\", \"avoid\", \"away\", \"back\", \"backlash\", \"bad\", \"bader\", \"ballot\", \"ban\", \"bank\", \"bar\", \"barr\", \"barrett\", \"base\", \"battle\", \"battleground\", \"become\", \"becomes\", \"begin\", \"behind\", \"benefit\", \"bernie\", \"better\", \"bid\", \"biden\", \"biden\", \"biden\", \"biden\", \"biden\", \"biden\", \"biden\", \"biden\", \"biden\", \"biden\", \"biden\", \"biden\", \"biden\", \"biden\", \"biden\", \"biden\", \"biden\", \"biden\", \"biden\", \"biden\", \"biden\", \"bidens\", \"big\", \"biggest\", \"bill\", \"bill\", \"bill\", \"bill\", \"bill\", \"bill\", \"bill\", \"bill\", \"bill\", \"bill\", \"bill\", \"billion\", \"billion\", \"billionaire\", \"billionaire\", \"black\", \"black\", \"black\", \"blame\", \"blast\", \"block\", \"bloomberg\", \"blue\", \"board\", \"bolton\", \"book\", \"boost\", \"border\", \"boy\", \"break\", \"breonna\", \"brett\", \"briefing\", \"bring\", \"budget\", \"bush\", \"business\", \"buttigieg\", \"california\", \"california\", \"call\", \"call\", \"call\", \"call\", \"call\", \"call\", \"call\", \"call\", \"call\", \"called\", \"calling\", \"campaign\", \"campaign\", \"campaign\", \"campaign\", \"campaign\", \"campaign\", \"campaign\", \"campaign\", \"campaign\", \"campaign\", \"campaign\", \"campaign\", \"campaign\", \"campaign\", \"campaign\", \"canada\", \"cancel\", \"candidate\", \"candidate\", \"candidate\", \"candidate\", \"cannot\", \"car\", \"card\", \"care\", \"carolina\", \"case\", \"case\", \"case\", \"case\", \"case\", \"case\", \"case\", \"case\", \"case\", \"case\", \"case\", \"case\", \"case\", \"case\", \"case\", \"case\", \"case\", \"cast\", \"caucus\", \"cbs\", \"cdc\", \"census\", \"center\", \"ceo\", \"chair\", \"challenge\", \"challenge\", \"chance\", \"change\", \"change\", \"changed\", \"charge\", \"charged\", \"check\", \"check\", \"chicago\", \"chief\", \"chief\", \"child\", \"china\", \"china\", \"china\", \"china\", \"china\", \"china\", \"china\", \"china\", \"china\", \"chinese\", \"chris\", \"christmas\", \"church\", \"cia\", \"city\", \"civil\", \"claim\", \"claim\", \"claim\", \"clash\", \"climate\", \"clinton\", \"close\", \"close\", \"closed\", \"cohen\", \"college\", \"colorado\", \"come\", \"comey\", \"coming\", \"comment\", \"committee\", \"committee\", \"community\", \"company\", \"concern\", \"condition\", \"coney\", \"confirmation\", \"congress\", \"congress\", \"congress\", \"congress\", \"congress\", \"congress\", \"congressional\", \"congressman\", \"conservative\", \"consider\", \"continue\", \"continues\", \"control\", \"controversial\", \"controversy\", \"convention\", \"coronavirus\", \"coronavirus\", \"coronavirus\", \"coronavirus\", \"coronavirus\", \"coronavirus\", \"coronavirus\", \"coronavirus\", \"coronavirus\", \"coronavirus\", \"coronavirus\", \"coronavirus\", \"coronavirus\", \"coronavirus\", \"coronavirus\", \"coronavirus\", \"coronavirus\", \"coronavirus\", \"coronavirus\", \"coronavirus\", \"coronavirus\", \"coronavirus\", \"coronavirus\", \"coronavirus\", \"coronavirus\", \"coronavirus\", \"coronavirus\", \"coronavirus\", \"coronavirus\", \"coronavirus\", \"coronavirus\", \"coronavirus\", \"coronavirus\", \"cost\", \"count\", \"country\", \"county\", \"court\", \"court\", \"covid\", \"covid19\", \"covid19\", \"covid19\", \"covid19\", \"covid19\", \"covid19\", \"covid19\", \"covid19\", \"covid19\", \"covid19\", \"covid19\", \"covid19\", \"covid19\", \"covid19\", \"covid19\", \"covid19\", \"covid19\", \"covid19\", \"covid19\", \"covid19\", \"covid19\", \"crash\", \"crime\", \"criminal\", \"crisis\", \"critic\", \"criticism\", \"crowd\", \"cruise\", \"cuomo\", \"cut\", \"cut\", \"daily\", \"dangerous\", \"daniel\", \"data\", \"daughter\", \"david\", \"day\", \"day\", \"day\", \"day\", \"day\", \"day\", \"dc\", \"dead\", \"deadline\", \"deadly\", \"deal\", \"deal\", \"deal\", \"deal\", \"deal\", \"deal\", \"deal\", \"deal\", \"deal\", \"death\", \"death\", \"death\", \"debate\", \"debt\", \"decision\", \"defends\", \"defense\", \"defense\", \"delay\", \"deliver\", \"dem\", \"demand\", \"democracy\", \"democrat\", \"democrat\", \"democrat\", \"democrat\", \"democrat\", \"democrat\", \"democrat\", \"democrat\", \"democrat\", \"democrat\", \"democrat\", \"democrat\", \"democrat\", \"democrat\", \"democrat\", \"democrat\", \"democrat\", \"democrat\", \"democratic\", \"democratic\", \"democratic\", \"democratic\", \"democratic\", \"dems\", \"dems\", \"denies\", \"department\", \"department\", \"dept\", \"deputy\", \"despite\", \"detail\", \"died\", \"director\", \"distancing\", \"dnc\", \"doctor\", \"document\", \"dog\", \"doj\", \"donald\", \"done\", \"dozen\", \"dr\", \"draw\", \"drop\", \"drug\", \"due\", \"dy\", \"early\", \"economic\", \"economy\", \"effect\", \"effort\", \"effort\", \"election\", \"election\", \"election\", \"election\", \"election\", \"election\", \"election\", \"election\", \"election\", \"election\", \"election\", \"election\", \"election\", \"election\", \"election\", \"election\", \"election\", \"election\", \"election\", \"electoral\", \"elizabeth\", \"email\", \"emergency\", \"employee\", \"end\", \"endorses\", \"enough\", \"evening\", \"event\", \"ever\", \"every\", \"evidence\", \"executive\", \"expected\", \"expert\", \"eye\", \"eye\", \"face\", \"facebook\", \"facing\", \"fall\", \"family\", \"family\", \"fan\", \"far\", \"fauci\", \"fbi\", \"fda\", \"fear\", \"fed\", \"federal\", \"federal\", \"federal\", \"feel\", \"female\", \"fight\", \"fight\", \"fighting\", \"file\", \"final\", \"final\", \"financial\", \"find\", \"fire\", \"fired\", \"firing\", \"first\", \"first\", \"first\", \"first\", \"first\", \"first\", \"first\", \"first\", \"first\", \"first\", \"first\", \"first\", \"first\", \"first\", \"first\", \"first\", \"first\", \"five\", \"flight\", \"flight\", \"florida\", \"florida\", \"floyd\", \"flynn\", \"focus\", \"food\", \"force\", \"foreign\", \"former\", \"former\", \"former\", \"former\", \"forward\", \"found\", \"four\", \"fraud\", \"fraud\", \"free\", \"freedom\", \"friday\", \"friend\", \"front\", \"full\", \"fund\", \"fund\", \"fund\", \"funding\", \"future\", \"game\", \"general\", \"george\", \"georgia\", \"georgia\", \"georgia\", \"get\", \"get\", \"get\", \"get\", \"get\", \"get\", \"get\", \"get\", \"get\", \"get\", \"get\", \"get\", \"get\", \"gift\", \"ginsburg\", \"giuliani\", \"give\", \"global\", \"go\", \"good\", \"google\", \"gop\", \"gop\", \"gop\", \"gop\", \"gop\", \"gop\", \"gop\", \"gop\", \"gop\", \"gop\", \"gop\", \"gop\", \"got\", \"gov\", \"gov\", \"government\", \"governor\", \"governor\", \"graham\", \"great\", \"group\", \"guard\", \"gun\", \"hall\", \"halt\", \"hampshire\", \"hand\", \"handling\", \"hard\", \"harris\", \"head\", \"health\", \"hear\", \"hearing\", \"heat\", \"help\", \"helped\", \"high\", \"highlight\", \"hill\", \"hillary\", \"historic\", \"history\", \"hit\", \"hold\", \"hold\", \"hold\", \"holiday\", \"home\", \"hong\", \"honor\", \"hope\", \"hospital\", \"hotel\", \"hour\", \"house\", \"house\", \"house\", \"house\", \"house\", \"house\", \"house\", \"house\", \"house\", \"house\", \"house\", \"house\", \"house\", \"house\", \"human\", \"hurricane\", \"husband\", \"ice\", \"illinois\", \"immigrant\", \"immigration\", \"impact\", \"impeachment\", \"impeachment\", \"impeachment\", \"india\", \"industry\", \"infection\", \"inquiry\", \"inside\", \"intelligence\", \"interview\", \"investigate\", \"investigation\", \"investigation\", \"iowa\", \"iran\", \"iranian\", \"issue\", \"jail\", \"james\", \"jeff\", \"job\", \"joe\", \"john\", \"john\", \"john\", \"join\", \"jong\", \"jr\", \"judge\", \"judge\", \"judge\", \"judge\", \"judiciary\", \"july\", \"justice\", \"justice\", \"justice\", \"kamala\", \"kavanaugh\", \"kavanaugh\", \"keep\", \"kelly\", \"kentucky\", \"key\", \"kid\", \"kill\", \"killed\", \"killing\", \"kim\", \"king\", \"know\", \"kong\", \"korea\", \"kushner\", \"last\", \"latest\", \"launch\", \"law\", \"lawmaker\", \"lawmaker\", \"lawsuit\", \"lawyer\", \"lawyer\", \"le\", \"lead\", \"leader\", \"leader\", \"leadership\", \"leaf\", \"learned\", \"least\", \"leave\", \"left\", \"legal\", \"legal\", \"let\", \"letter\", \"lewis\", \"lie\", \"life\", \"life\", \"life\", \"life\", \"likely\", \"limit\", \"line\", \"list\", \"little\", \"live\", \"living\", \"loan\", \"loan\", \"loan\", \"local\", \"lockdown\", \"long\", \"look\", \"looking\", \"los\", \"lose\", \"loses\", \"loss\", \"lost\", \"lot\", \"made\", \"mail\", \"mailin\", \"major\", \"majority\", \"make\", \"make\", \"make\", \"make\", \"make\", \"make\", \"make\", \"make\", \"make\", \"make\", \"making\", \"man\", \"manafort\", \"manager\", \"many\", \"march\", \"mark\", \"market\", \"maryland\", \"mask\", \"mass\", \"massive\", \"matter\", \"may\", \"mayor\", \"mayor\", \"mccain\", \"mcconnell\", \"mean\", \"measure\", \"medical\", \"medium\", \"meet\", \"meeting\", \"meghan\", \"melania\", \"member\", \"memo\", \"message\", \"mexico\", \"michael\", \"michael\", \"michigan\", \"midterm\", \"might\", \"migrant\", \"mike\", \"military\", \"million\", \"million\", \"million\", \"million\", \"million\", \"million\", \"million\", \"million\", \"million\", \"million\", \"million\", \"minute\", \"mitch\", \"mnuchin\", \"mom\", \"moment\", \"monday\", \"month\", \"month\", \"month\", \"mother\", \"mount\", \"move\", \"movement\", \"much\", \"mueller\", \"mueller\", \"murder\", \"must\", \"name\", \"nation\", \"national\", \"national\", \"national\", \"national\", \"navy\", \"near\", \"nearly\", \"need\", \"nevada\", \"never\", \"new\", \"new\", \"new\", \"new\", \"new\", \"new\", \"new\", \"new\", \"new\", \"new\", \"new\", \"new\", \"new\", \"new\", \"new\", \"new\", \"new\", \"new\", \"new\", \"new\", \"new\", \"new\", \"new\", \"new\", \"new\", \"new\", \"new\", \"new\", \"news\", \"next\", \"nfl\", \"nfl\", \"night\", \"nomination\", \"nominee\", \"north\", \"november\", \"nuclear\", \"number\", \"nurse\", \"ny\", \"nyc\", \"obama\", \"offer\", \"office\", \"officer\", \"official\", \"official\", \"official\", \"official\", \"official\", \"official\", \"official\", \"official\", \"official\", \"official\", \"official\", \"official\", \"official\", \"ohio\", \"oil\", \"old\", \"online\", \"open\", \"opening\", \"opinion\", \"order\", \"order\", \"others\", \"outbreak\", \"outside\", \"owner\", \"package\", \"pandemic\", \"panel\", \"pardon\", \"parent\", \"park\", \"part\", \"party\", \"pass\", \"passenger\", \"past\", \"patient\", \"patient\", \"paul\", \"pay\", \"payment\", \"peace\", \"pelosi\", \"pennsylvania\", \"penny\", \"pentagon\", \"people\", \"people\", \"person\", \"personal\", \"pete\", \"phone\", \"photo\", \"pick\", \"place\", \"plan\", \"plan\", \"plan\", \"plan\", \"plan\", \"plan\", \"plan\", \"play\", \"point\", \"police\", \"police\", \"policy\", \"political\", \"politics\", \"poll\", \"poll\", \"poll\", \"pompeo\", \"positive\", \"possible\", \"post\", \"potential\", \"power\", \"praise\", \"presidency\", \"president\", \"president\", \"president\", \"president\", \"president\", \"president\", \"president\", \"president\", \"president\", \"president\", \"president\", \"president\", \"president\", \"presidential\", \"press\", \"pressure\", \"price\", \"price\", \"primary\", \"prince\", \"prison\", \"private\", \"probe\", \"probe\", \"problem\", \"process\", \"program\", \"program\", \"project\", \"promise\", \"prompt\", \"proposal\", \"prosecutor\", \"prosecutor\", \"protect\", \"protection\", \"protest\", \"protester\", \"public\", \"puerto\", \"puerto\", \"pull\", \"push\", \"put\", \"putin\", \"quarantine\", \"question\", \"race\", \"race\", \"racial\", \"racism\", \"racist\", \"raise\", \"raise\", \"rally\", \"rate\", \"reach\", \"read\", \"read\", \"ready\", \"real\", \"reality\", \"really\", \"record\", \"record\", \"record\", \"recount\", \"red\", \"reelection\", \"reform\", \"refuse\", \"reject\", \"reject\", \"release\", \"released\", \"relief\", \"remain\", \"remains\", \"remark\", \"remark\", \"reopen\", \"reopening\", \"rep\", \"report\", \"reported\", \"reporter\", \"republican\", \"republican\", \"republican\", \"republican\", \"republican\", \"request\", \"resident\", \"responds\", \"response\", \"restaurant\", \"restriction\", \"result\", \"resume\", \"return\", \"reveals\", \"review\", \"rick\", \"right\", \"right\", \"rip\", \"rise\", \"rise\", \"risk\", \"rival\", \"rnc\", \"robert\", \"roger\", \"role\", \"roll\", \"rule\", \"rule\", \"rule\", \"rule\", \"run\", \"running\", \"russia\", \"russia\", \"russia\", \"russian\", \"ruth\", \"ryan\", \"safe\", \"safety\", \"sale\", \"san\", \"sanction\", \"sander\", \"saudi\", \"save\", \"say\", \"say\", \"say\", \"say\", \"say\", \"say\", \"say\", \"say\", \"say\", \"say\", \"say\", \"say\", \"say\", \"saying\", \"scandal\", \"schiff\", \"school\", \"school\", \"school\", \"schumer\", \"scientist\", \"scott\", \"season\", \"seat\", \"second\", \"secret\", \"secretary\", \"secretary\", \"security\", \"security\", \"see\", \"seek\", \"sen\", \"senate\", \"senate\", \"senate\", \"senate\", \"senate\", \"senate\", \"senate\", \"senate\", \"senate\", \"senate\", \"senate\", \"senate\", \"senate\", \"senate\", \"senate\", \"senator\", \"send\", \"senior\", \"service\", \"session\", \"set\", \"sex\", \"sexual\", \"share\", \"shift\", \"ship\", \"shooting\", \"short\", \"shot\", \"show\", \"show\", \"show\", \"show\", \"show\", \"shut\", \"shutdown\", \"side\", \"sign\", \"since\", \"slam\", \"slam\", \"small\", \"social\", \"social\", \"son\", \"source\", \"south\", \"southern\", \"space\", \"speaker\", \"special\", \"speech\", \"spending\", \"spike\", \"spread\", \"stacey\", \"staff\", \"stage\", \"stand\", \"star\", \"start\", \"state\", \"state\", \"state\", \"state\", \"state\", \"state\", \"state\", \"state\", \"state\", \"state\", \"state\", \"state\", \"state\", \"state\", \"state\", \"state\", \"state\", \"state\", \"state\", \"state\", \"state\", \"state\", \"state\", \"state\", \"stay\", \"stay\", \"step\", \"steve\", \"still\", \"stimulus\", \"stock\", \"stone\", \"stop\", \"store\", \"storm\", \"stormy\", \"story\", \"strategy\", \"street\", \"strike\", \"struggle\", \"student\", \"student\", \"study\", \"subpoena\", \"sue\", \"sue\", \"suggests\", \"summit\", \"summit\", \"sunday\", \"super\", \"supply\", \"support\", \"supporter\", \"supreme\", \"surge\", \"syria\", \"system\", \"take\", \"take\", \"take\", \"take\", \"takeaway\", \"taking\", \"talk\", \"talk\", \"talk\", \"target\", \"tariff\", \"tax\", \"taylor\", \"teacher\", \"team\", \"tech\", \"teen\", \"tell\", \"tension\", \"term\", \"test\", \"tested\", \"testify\", \"testimony\", \"testing\", \"texas\", \"texas\", \"thing\", \"think\", \"thousand\", \"threat\", \"threatens\", \"three\", \"tie\", \"time\", \"time\", \"tip\", \"today\", \"toll\", \"tom\", \"top\", \"top\", \"top\", \"top\", \"top\", \"top\", \"top\", \"tough\", \"town\", \"trade\", \"trail\", \"transcript\", \"transgender\", \"transition\", \"travel\", \"treasury\", \"treatment\", \"trial\", \"trial\", \"trillion\", \"trip\", \"troop\", \"trump\", \"trump\", \"trump\", \"trump\", \"trump\", \"trump\", \"trump\", \"trump\", \"trump\", \"trump\", \"trump\", \"trump\", \"trump\", \"trump\", \"trump\", \"trump\", \"trump\", \"trump\", \"trump\", \"trump\", \"trump\", \"trump\", \"trump\", \"trump\", \"trump\", \"trump\", \"trump\", \"trump\", \"trump\", \"trump\", \"trump\", \"trump\", \"trump\", \"trump\", \"trump\", \"trump\", \"trump\", \"trump\", \"trump\", \"try\", \"trying\", \"tuesday\", \"tuesday\", \"turn\", \"tv\", \"tweet\", \"tweet\", \"twitter\", \"two\", \"ukraine\", \"un\", \"unemployment\", \"union\", \"united\", \"university\", \"update\", \"urge\", \"urge\", \"us\", \"used\", \"using\", \"v\", \"vaccine\", \"veteran\", \"vice\", \"victim\", \"victory\", \"video\", \"video\", \"view\", \"violence\", \"viral\", \"virginia\", \"virtual\", \"virus\", \"virus\", \"visit\", \"vote\", \"vote\", \"vote\", \"vote\", \"voter\", \"voter\", \"voter\", \"voter\", \"voter\", \"voter\", \"voter\", \"voter\", \"voter\", \"voting\", \"voting\", \"vow\", \"wall\", \"want\", \"want\", \"war\", \"warn\", \"warning\", \"warns\", \"warren\", \"washington\", \"watch\", \"watchdog\", \"water\", \"wave\", \"way\", \"weapon\", \"wear\", \"wedding\", \"week\", \"week\", \"week\", \"week\", \"week\", \"weekend\", \"well\", \"went\", \"west\", \"whether\", \"whistleblower\", \"white\", \"white\", \"wife\", \"wildfire\", \"william\", \"win\", \"win\", \"winner\", \"wisconsin\", \"without\", \"witness\", \"woman\", \"word\", \"work\", \"worker\", \"working\", \"world\", \"worry\", \"worse\", \"would\", \"would\", \"would\", \"year\", \"yet\", \"york\", \"york\", \"york\", \"young\", \"yous\", \"yous\", \"yous\", \"yous\", \"yous\", \"yous\", \"yous\", \"yous\", \"yous\", \"yous\", \"yous\", \"yous\", \"yous\", \"yous\", \"yous\", \"yous\", \"yous\", \"yous\", \"yous\", \"yous\", \"yous\"]}, \"R\": 30, \"lambda.step\": 0.01, \"plot.opts\": {\"xlab\": \"PC1\", \"ylab\": \"PC2\"}, \"topic.order\": [16, 15, 24, 40, 7, 8, 30, 31, 19, 13, 32, 33, 11, 1, 28, 27, 39, 12, 21, 26, 3, 9, 38, 36, 22, 37, 4, 34, 17, 29, 10, 14, 35, 6, 20, 25, 5, 23, 2, 18]};\n",
       "\n",
       "function LDAvis_load_lib(url, callback){\n",
       "  var s = document.createElement('script');\n",
       "  s.src = url;\n",
       "  s.async = true;\n",
       "  s.onreadystatechange = s.onload = callback;\n",
       "  s.onerror = function(){console.warn(\"failed to load library \" + url);};\n",
       "  document.getElementsByTagName(\"head\")[0].appendChild(s);\n",
       "}\n",
       "\n",
       "if(typeof(LDAvis) !== \"undefined\"){\n",
       "   // already loaded: just create the visualization\n",
       "   !function(LDAvis){\n",
       "       new LDAvis(\"#\" + \"ldavis_el28251403971955542564269497564\", ldavis_el28251403971955542564269497564_data);\n",
       "   }(LDAvis);\n",
       "}else if(typeof define === \"function\" && define.amd){\n",
       "   // require.js is available: use it to load d3/LDAvis\n",
       "   require.config({paths: {d3: \"https://d3js.org/d3.v5\"}});\n",
       "   require([\"d3\"], function(d3){\n",
       "      window.d3 = d3;\n",
       "      LDAvis_load_lib(\"https://cdn.jsdelivr.net/gh/bmabey/pyLDAvis@3.3.1/pyLDAvis/js/ldavis.v3.0.0.js\", function(){\n",
       "        new LDAvis(\"#\" + \"ldavis_el28251403971955542564269497564\", ldavis_el28251403971955542564269497564_data);\n",
       "      });\n",
       "    });\n",
       "}else{\n",
       "    // require.js not available: dynamically load d3 & LDAvis\n",
       "    LDAvis_load_lib(\"https://d3js.org/d3.v5.js\", function(){\n",
       "         LDAvis_load_lib(\"https://cdn.jsdelivr.net/gh/bmabey/pyLDAvis@3.3.1/pyLDAvis/js/ldavis.v3.0.0.js\", function(){\n",
       "                 new LDAvis(\"#\" + \"ldavis_el28251403971955542564269497564\", ldavis_el28251403971955542564269497564_data);\n",
       "            })\n",
       "         });\n",
       "}\n",
       "</script>"
      ],
      "text/plain": [
       "PreparedData(topic_coordinates=              x         y  topics  cluster      Freq\n",
       "topic                                               \n",
       "15     0.197662  0.112189       1        1  3.559073\n",
       "14     0.071391 -0.179603       2        1  3.170128\n",
       "23    -0.023066 -0.154315       3        1  3.167095\n",
       "39    -0.127893  0.027875       4        1  2.844125\n",
       "6      0.000156 -0.046455       5        1  2.789392\n",
       "7      0.051492  0.134542       6        1  2.750014\n",
       "29     0.156005 -0.073270       7        1  2.687734\n",
       "30     0.095903  0.123487       8        1  2.657679\n",
       "18     0.149052  0.091529       9        1  2.646882\n",
       "12     0.022077  0.105947      10        1  2.633483\n",
       "31    -0.035683  0.095244      11        1  2.630400\n",
       "32    -0.051901  0.107359      12        1  2.625464\n",
       "10    -0.068858  0.051021      13        1  2.615908\n",
       "0      0.078944  0.036893      14        1  2.596644\n",
       "27    -0.024053  0.053887      15        1  2.560521\n",
       "26    -0.015115  0.011097      16        1  2.551913\n",
       "38    -0.091810  0.028019      17        1  2.527839\n",
       "11    -0.060903 -0.103834      18        1  2.516904\n",
       "20     0.203739 -0.132738      19        1  2.476123\n",
       "25    -0.157146 -0.004994      20        1  2.461629\n",
       "2      0.192630  0.075647      21        1  2.459515\n",
       "8     -0.069806 -0.044260      22        1  2.451885\n",
       "37    -0.020100 -0.091835      23        1  2.444197\n",
       "35    -0.062644 -0.104228      24        1  2.432017\n",
       "21    -0.074444 -0.059712      25        1  2.421617\n",
       "36     0.051198  0.058150      26        1  2.408912\n",
       "3      0.061290  0.032980      27        1  2.395163\n",
       "33    -0.111580  0.063649      28        1  2.394152\n",
       "16    -0.102515 -0.034506      29        1  2.364938\n",
       "28     0.015705 -0.108628      30        1  2.339093\n",
       "9     -0.045496  0.064036      31        1  2.330270\n",
       "13    -0.122672  0.069004      32        1  2.304336\n",
       "34     0.136264 -0.119122      33        1  2.274078\n",
       "5     -0.064718  0.122863      34        1  2.211560\n",
       "19    -0.048772 -0.053894      35        1  2.197788\n",
       "24    -0.005715 -0.038080      36        1  2.113048\n",
       "4     -0.040007 -0.019178      37        1  2.046704\n",
       "22    -0.111111 -0.031440      38        1  2.039435\n",
       "1      0.042559 -0.006893      39        1  2.008978\n",
       "17     0.009941 -0.058434      40        1  1.893359, topic_info=         Term        Freq       Total Category  logprob  loglift\n",
       "321   opinion  276.000000  276.000000  Default  30.0000  30.0000\n",
       "930  analysis  232.000000  232.000000  Default  29.0000  29.0000\n",
       "222  pandemic  197.000000  197.000000  Default  28.0000  28.0000\n",
       "53     report  134.000000  134.000000  Default  27.0000  27.0000\n",
       "58       back  123.000000  123.000000  Default  26.0000  26.0000\n",
       "..        ...         ...         ...      ...      ...      ...\n",
       "358  official    4.585546   97.203949  Topic40  -5.0570   0.9129\n",
       "258      make    4.639425  103.770600  Topic40  -5.0453   0.8592\n",
       "130     state    5.739269  176.378091  Topic40  -4.8326   0.5415\n",
       "72   democrat    5.396943  180.559639  Topic40  -4.8941   0.4566\n",
       "4       trump    7.300328  642.464312  Topic40  -4.5920  -0.5106\n",
       "\n",
       "[1336 rows x 6 columns], token_table=      Topic      Freq  Term\n",
       "term                       \n",
       "671      22  0.972578     1\n",
       "658      29  0.956503    10\n",
       "890      22  0.969208   100\n",
       "279      17  0.959502    15\n",
       "345       3  0.863974     2\n",
       "...     ...       ...   ...\n",
       "48       31  0.075642  yous\n",
       "48       32  0.041259  yous\n",
       "48       34  0.165037  yous\n",
       "48       35  0.006877  yous\n",
       "48       39  0.075642  yous\n",
       "\n",
       "[1576 rows x 3 columns], R=30, lambda_step=0.01, plot_opts={'xlab': 'PC1', 'ylab': 'PC2'}, topic_order=[16, 15, 24, 40, 7, 8, 30, 31, 19, 13, 32, 33, 11, 1, 28, 27, 39, 12, 21, 26, 3, 9, 38, 36, 22, 37, 4, 34, 17, 29, 10, 14, 35, 6, 20, 25, 5, 23, 2, 18])"
      ]
     },
     "execution_count": 120,
     "metadata": {},
     "output_type": "execute_result"
    }
   ],
   "source": [
    "pyLDAvis.enable_notebook()\n",
    "\n",
    "# if display_images:\n",
    "    \n",
    "lda_viz_tfidf = gensimvis.prepare(lda_model, tfidf_corpus, dictionary)\n",
    "lda_viz_tfidf"
   ]
  },
  {
   "cell_type": "code",
   "execution_count": 124,
   "metadata": {},
   "outputs": [],
   "source": [
    "# pyLDAvis.save_html(lda_viz_tfidf, 'index.html')"
   ]
  },
  {
   "cell_type": "markdown",
   "metadata": {},
   "source": [
    "## LSA Topic Modeling\n",
    "\n",
    "https://medium.com/analytics-vidhya/text-mining-101-a-stepwise-introduction-to-topic-modeling-using-latent-semantic-analysis-using-add9c905efd9\n",
    "\n",
    "https://www.kaggle.com/rajmehra03/topic-modelling-using-lda-and-lsa-in-sklearn\n",
    "\n",
    "https://radimrehurek.com/gensim/models/lsimodel.html\n",
    "\n",
    "The LSA/LSI model does not assign a topic to each document. It simply provides a value for each topic in every document. It does not correspond to the majority of a topic, just how the topic plays a role in the said document."
   ]
  },
  {
   "cell_type": "markdown",
   "metadata": {},
   "source": [
    "### Determine Best Number of Topics - LSA"
   ]
  },
  {
   "cell_type": "code",
   "execution_count": null,
   "metadata": {
    "scrolled": true
   },
   "outputs": [],
   "source": [
    "model_list_lsi, coherence_values_lsi = compute_coherence_values(dictionary=dictionary, \n",
    "                                                                            corpus=tfidf_corpus, texts=text_data, \n",
    "                                                                            start=min_topics, limit=max_topics, \n",
    "                                                                            step=step, analysis='LSI')\n",
    "\n",
    "# Plot coherence scores\n",
    "lsi_best_num = plot_coherence_scores(min_topics, max_topics, step, model_list_lsi, \n",
    "                                       coherence_values_lsi, 'LSI/LSA')"
   ]
  },
  {
   "cell_type": "markdown",
   "metadata": {},
   "source": [
    "### Create Model with Appropriate Number of Topics - LSA"
   ]
  },
  {
   "cell_type": "code",
   "execution_count": null,
   "metadata": {},
   "outputs": [],
   "source": [
    "from gensim.models import LsiModel\n",
    "\n",
    "lsi_model = gensim.models.LsiModel(tfidf_corpus, num_topics=lsi_best_num, id2word=dictionary)\n",
    "\n",
    "print(\"The first 3 topics of the LSI model:\")\n",
    "print(\"-----------------------------------------------\\n\")\n",
    "    \n",
    "for idx, topic in lsi_model.print_topics(num_topics=3):\n",
    "    print('Topic: {} \\nWords: {}\\n'.format(idx, topic))"
   ]
  },
  {
   "cell_type": "markdown",
   "metadata": {},
   "source": [
    "## HDP Model - TFIDF\n",
    "\n",
    "The HDP model determines the number of topics on its own.\n",
    "\n",
    "https://www.tutorialspoint.com/gensim/gensim_creating_lsi_and_hdp_topic_model.htm"
   ]
  },
  {
   "cell_type": "code",
   "execution_count": null,
   "metadata": {},
   "outputs": [],
   "source": [
    "model_list_hdp, coherence_values_hdp = compute_coherence_values(dictionary=dictionary, \n",
    "                                                                            corpus=tfidf_corpus, texts=text_data, \n",
    "                                                                            start=min_topics, limit=max_topics, \n",
    "                                                                            step=step, analysis = 'HDP')\n",
    "\n",
    "# Plot coherence scores\n",
    "hdp_best_num = plot_coherence_scores(min_topics, max_topics, step, model_list_hdp, coherence_values_hdp, 'HDP')"
   ]
  },
  {
   "cell_type": "code",
   "execution_count": null,
   "metadata": {},
   "outputs": [],
   "source": [
    "hdp_model = gensim.models.hdpmodel.HdpModel(corpus=tfidf_corpus, T = hdp_best_num, id2word=dictionary)"
   ]
  },
  {
   "cell_type": "code",
   "execution_count": null,
   "metadata": {},
   "outputs": [],
   "source": [
    "coherencemodel = CoherenceModel(model=hdp_model, texts=text_data, dictionary=dictionary, coherence='c_v')\n",
    "print(coherencemodel.get_coherence())"
   ]
  },
  {
   "cell_type": "code",
   "execution_count": null,
   "metadata": {},
   "outputs": [],
   "source": [
    "print(\"The HDP Model created {} distinct topics\\n\\n\".format(len(hdp_model.get_topics())))\n",
    "\n",
    "print(\"The first 3 topics of the HDP model:\")\n",
    "print(\"-----------------------------------------------\\n\")\n",
    "\n",
    "for idx, topic in hdp_model.print_topics(num_topics=3):\n",
    "    print('Topic: {} \\nWords: {}\\n'.format(idx, topic))"
   ]
  },
  {
   "cell_type": "code",
   "execution_count": null,
   "metadata": {},
   "outputs": [],
   "source": [
    "# out of the 15 topics shown there are none thatare about coronavirus or trump. weird.\n",
    "# figure out how to interpret the output of HDP and LSA models.\n",
    "\n",
    "# hdp_model.print_topics()\n",
    "# df_dominant_topics_hdp = determine_dominant_topics(hdp_model, tfidf_corpus, texts=text_data)"
   ]
  },
  {
   "cell_type": "markdown",
   "metadata": {},
   "source": [
    "# https://stackoverflow.com/questions/31543542/hierarchical-dirichlet-process-gensim-topic-number-independent-of-corpus-size"
   ]
  },
  {
   "cell_type": "code",
   "execution_count": null,
   "metadata": {},
   "outputs": [],
   "source": []
  },
  {
   "cell_type": "code",
   "execution_count": null,
   "metadata": {},
   "outputs": [],
   "source": []
  },
  {
   "cell_type": "code",
   "execution_count": null,
   "metadata": {},
   "outputs": [],
   "source": []
  },
  {
   "cell_type": "markdown",
   "metadata": {},
   "source": [
    "## Comparing Coherence Values of Models"
   ]
  },
  {
   "cell_type": "code",
   "execution_count": null,
   "metadata": {},
   "outputs": [],
   "source": [
    "x_vals = list(range(min_topics, max_topics, step))\n",
    "\n",
    "plt.plot(x_vals, coherence_values_hdp, color = 'green', label = 'HDP Model')\n",
    "plt.plot(x_vals, coherence_values_lsi, color = 'blue', label = 'LSI Model')\n",
    "plt.plot(x_vals, coherence_values_lda, color = 'red', label = 'LDA TFIDF Model')\n",
    "plt.plot(x_vals, coherence_values_bow, color = 'gray', label = 'LDA BoW Model')\n",
    "plt.xlabel(\"Number of Topics\", fontsize=14)\n",
    "plt.ylabel(\"Coherence Score\", fontsize=14)\n",
    "plt.ylim([.25, .9])\n",
    "plt.legend(ncol=2, loc='upper center')\n",
    "plt.title(\"Coherence Values Between Models and Topic Numbers\")\n",
    "plt.show()"
   ]
  },
  {
   "cell_type": "markdown",
   "metadata": {},
   "source": [
    "# Sentiment Analysis - Top 5 Topics from LDA TF-IDF"
   ]
  },
  {
   "cell_type": "markdown",
   "metadata": {},
   "source": [
    "## VADER Analysis"
   ]
  },
  {
   "cell_type": "code",
   "execution_count": null,
   "metadata": {},
   "outputs": [],
   "source": [
    "if analyze_headlines:\n",
    "    colname = 'headline_vader'\n",
    "    original_column = 'orig_headline'\n",
    "else:\n",
    "    colname = 'article_vader'\n",
    "    original_column = 'orig_article'"
   ]
  },
  {
   "cell_type": "code",
   "execution_count": null,
   "metadata": {},
   "outputs": [],
   "source": [
    "from vaderSentiment.vaderSentiment import SentimentIntensityAnalyzer\n",
    "\n",
    "# function to print sentiments of the sentence.\n",
    "threshold = 0.05\n",
    "\n",
    "def sentiment_scores(df, text):\n",
    "\n",
    "    sid_obj = SentimentIntensityAnalyzer()\n",
    "    # polarity_scores method of SentimentIntensityAnalyzer. oject gives a \n",
    "    # sentiment dictionary. which contains pos, neg, neu, and compound scores.\n",
    "    sentiment_dict = sid_obj.polarity_scores(text)\n",
    "\n",
    "    # decide sentiment as positive, negative and neutral\n",
    "    if sentiment_dict['compound'] >= threshold:\n",
    "        return 'positive'\n",
    "    elif sentiment_dict['compound'] <= -threshold:\n",
    "        return 'negative'\n",
    "    else:\n",
    "        return 'neutral'\n",
    "\n",
    "perform_vader = True\n",
    "\n",
    "if perform_vader:\n",
    "    \n",
    "    df[colname] = np.empty((len(df), 0)).tolist()\n",
    "\n",
    "    for index, row in df.iterrows():\n",
    "        df[colname].iloc[index] = sentiment_scores(df, row[original_column])"
   ]
  },
  {
   "cell_type": "code",
   "execution_count": null,
   "metadata": {},
   "outputs": [],
   "source": [
    "df.head()"
   ]
  },
  {
   "cell_type": "markdown",
   "metadata": {},
   "source": [
    "### Plot Overall Sentiments Between Sources - VADER"
   ]
  },
  {
   "cell_type": "code",
   "execution_count": null,
   "metadata": {},
   "outputs": [],
   "source": [
    "overall_sentiments_vader = overall_sentiment_counts(df, colname)\n",
    "\n",
    "width = 0.15\n",
    "N = 3\n",
    "ind = np.arange(N)\n",
    "\n",
    "if display_images:\n",
    "    \n",
    "    plt.figure(figsize = (14,7))\n",
    "    plt.bar(ind, overall_sentiments_vader[0], width = 0.15, label = \"CBS\", color = 'darkorange')\n",
    "    plt.bar(ind + width, overall_sentiments_vader[1], width = 0.15, label = \"CNN\", color = 'royalblue')\n",
    "    plt.bar(ind + 2*width, overall_sentiments_vader[2], width = 0.15, label = 'Fox News', color = 'tab:red')\n",
    "    plt.bar(ind + 3*width, overall_sentiments_vader[3], width = 0.15, label = 'NY Times', color = 'seagreen')\n",
    "    plt.bar(ind + 4*width, overall_sentiments_vader[4], width = 0.15, label = 'USA Today', color = 'darkorchid')\n",
    "    plt.bar(ind + 5*width, overall_sentiments_vader[5], width = 0.15, label = 'Wash. Post', color = 'silver')\n",
    "    plt.title(\"Overall Sentiment Scores - VADER\", fontsize = 14)\n",
    "    plt.xticks(ind + 4.5*width / 2, [\"Positive\", \"Neutral\", \"Negative\"], fontsize=14)\n",
    "    plt.ylim([0, 700])\n",
    "    plt.legend(loc='upper center', bbox_to_anchor=(.5, .99), ncol=3, fancybox=True, shadow=True, fontsize = 14)\n",
    "    plt.show()"
   ]
  },
  {
   "cell_type": "markdown",
   "metadata": {},
   "source": [
    "### Determine Top 5 Most Frequent Topics"
   ]
  },
  {
   "cell_type": "code",
   "execution_count": null,
   "metadata": {},
   "outputs": [],
   "source": [
    "# most outler list 5 : each topic\n",
    "# x[2] is all sources and sentiment counts for topic 2\n",
    "\n",
    "# middle list 6: each source\n",
    "# x[1][4] is the 4th source for topic 1\n",
    "\n",
    "# most inner list 3 : each emotion\n",
    "# x[1][5][2] is the neutral emotion count for source 5 and topic 1"
   ]
  },
  {
   "cell_type": "markdown",
   "metadata": {},
   "source": [
    "### Inter-source Number of Article Publications for Top 5 Topics"
   ]
  },
  {
   "cell_type": "code",
   "execution_count": null,
   "metadata": {
    "scrolled": false
   },
   "outputs": [],
   "source": [
    "top_5_topics = list(df_dominant_topics_lda.sort_values(by='Num_Documents', ascending=False).head()['Topic'])\n",
    "article_counts = [[[0] for _ in range(6)] for _ in range(5)]\n",
    "\n",
    "source_topic_sentiments_vader = topic_sentiment_counts(df, colname)\n",
    "\n",
    "width = 0.15\n",
    "N = 3\n",
    "ind = np.arange(N)\n",
    "\n",
    "if display_images:\n",
    "    \n",
    "    fig, ax = plt.subplots(5, 1, figsize=(7, 18), sharey=True, sharex=True)\n",
    "\n",
    "    for i in range(len(top_5_topics)):\n",
    "\n",
    "        keywords = df_dominant_topics_lda.loc[df_dominant_topics_lda['Topic'] == i, \n",
    "                                                'Topic_Keywords'].values[0]\n",
    "        plt.cla()\n",
    "        ax[i].bar(1, article_counts[i][0], label = \"CBS\", color = 'darkorange')\n",
    "        ax[i].bar(2, article_counts[i][1], label = \"CNN\", color = 'royalblue')\n",
    "        ax[i].bar(3, article_counts[i][2], label = 'Fox News', color = 'tab:red')\n",
    "        ax[i].bar(4, article_counts[i][3], label = 'NY Times', color = 'seagreen')\n",
    "        ax[i].bar(5, article_counts[i][4], label = 'USA Today', color = 'darkorchid')\n",
    "        ax[i].bar(6, article_counts[i][5], label = 'Wash. Post', color = 'silver')\n",
    "        ax[i].set_title(\"Articles published concerning Topic {}\\nKeywords: {}\".format(top_5_topics[i], keywords), \n",
    "                        fontsize = 14)\n",
    "        ax[i].tick_params(axis='both', which='both', labelsize=12, labelbottom=True)\n",
    "        ax[i].set_ylim([0, 100])\n",
    "        ax[i].legend(loc='upper center', bbox_to_anchor=(.5, .99), ncol=3, fancybox=True, shadow=True)\n",
    "        plt.xticks(range(1, 7), [])\n",
    "\n",
    "    plt.subplots_adjust(bottom=0.1, top=1.1)\n",
    "    plt.show()"
   ]
  },
  {
   "cell_type": "markdown",
   "metadata": {},
   "source": [
    "## Plot Emotional Sentiments of Top 5 Topics - Separated by Source - VADER\n",
    "\n",
    "Adjusted for number of articles in each topic per source"
   ]
  },
  {
   "cell_type": "code",
   "execution_count": null,
   "metadata": {
    "scrolled": false
   },
   "outputs": [],
   "source": [
    "width = 0.15\n",
    "N = 3\n",
    "ind = np.arange(N)\n",
    "\n",
    "if display_images:\n",
    "    \n",
    "    fig, ax = plt.subplots(5, 1, figsize=(15, 25), sharey=True, sharex=True)\n",
    "\n",
    "    for i in range(len(top_5_topics)):\n",
    "\n",
    "        keywords = df_dominant_topics_lda.loc[df_dominant_topics_lda['Topic'] == i, \n",
    "                                                'Topic_Keywords'].values[0]\n",
    "        \n",
    "        ax[i].bar(ind, source_topic_sentiments_vader[i][0], width = .15, label = \"CBS\", color = 'darkorange')\n",
    "        ax[i].bar(ind + width, source_topic_sentiments_vader[i][1], width = .15, label = \"CNN\", \n",
    "                  color = 'royalblue')\n",
    "        ax[i].bar(ind + 2*width, source_topic_sentiments_vader[i][2], width = .15, label = 'Fox News', \n",
    "                  color = 'tab:red')\n",
    "        ax[i].bar(ind + 3*width, source_topic_sentiments_vader[i][3], width = .15, label = 'NY Times', \n",
    "                  color = 'seagreen')\n",
    "        ax[i].bar(ind + 4*width, source_topic_sentiments_vader[i][4], width = .15, label = 'USA Today', \n",
    "                  color = 'darkorchid')\n",
    "        ax[i].bar(ind + 5*width, source_topic_sentiments_vader[i][5], width = .15, label = 'Wash. Post', \n",
    "                  color = 'silver')\n",
    "        ax[i].set_title(\"Topic {} - Keywords: {}\".format(top_5_topics[i], keywords), fontsize = 14)\n",
    "        ax[i].tick_params(axis='both', which='both', labelsize=7, labelbottom=True)\n",
    "        ax[i].legend(loc='best')\n",
    "        plt.sca(ax[i])\n",
    "        plt.xticks(ind + 4.5*width / 2, [\"Positive\", \"Neutral\", \"Negative\"], fontsize=14)\n",
    "        plt.yticks(fontsize=12)\n"
   ]
  },
  {
   "cell_type": "markdown",
   "metadata": {},
   "source": [
    "## TextBlob"
   ]
  },
  {
   "cell_type": "code",
   "execution_count": null,
   "metadata": {},
   "outputs": [],
   "source": [
    "from textblob import TextBlob\n",
    "from nltk.probability import FreqDist\n",
    "nltk.download('brown')\n",
    "nltk.download('averaged_perceptron_tagger')\n",
    "nltk.download('punkt')"
   ]
  },
  {
   "cell_type": "code",
   "execution_count": null,
   "metadata": {},
   "outputs": [],
   "source": [
    "def text_blob_scores(text):\n",
    "\n",
    "    data = TextBlob(text)\n",
    "    return data.sentiment[0], data.sentiment[1]\n",
    "\n",
    "perform_text_blob = True\n",
    "\n",
    "if perform_text_blob:\n",
    "    \n",
    "    if analyze_headlines:\n",
    "        df['headline_polarity'] = np.empty((len(df), 0)).tolist()\n",
    "        df['headline_subjectivity'] = np.empty((len(df), 0)).tolist()\n",
    "        \n",
    "        for index, row in df.iterrows():\n",
    "        \n",
    "            polarity, subjectivity = text_blob_scores(row['orig_headline'])\n",
    "            df['headline_polarity'].iloc[index] = polarity\n",
    "            df['headline_subjectivity'].iloc[index] = subjectivity\n",
    "            \n",
    "    else:\n",
    "        df['article_polarity'] = np.empty((len(df), 0)).tolist()\n",
    "        df['article_subjectivity'] = np.empty((len(df), 0)).tolist()\n",
    "\n",
    "        for index, row in df.iterrows():\n",
    "\n",
    "            polarity, subjectivity = text_blob_scores(row['orig_article'])\n",
    "            df['article_polarity'].iloc[index] = polarity\n",
    "            df['article_subjectivity'].iloc[index] = subjectivity"
   ]
  },
  {
   "cell_type": "code",
   "execution_count": null,
   "metadata": {},
   "outputs": [],
   "source": [
    "# Classify the continuous scores\n",
    "\n",
    "if perform_text_blob:\n",
    "\n",
    "    if analyze_headlines:\n",
    "        df['headline_polarity_class'] = np.empty((len(df), 0)).tolist()\n",
    "        df.loc[df['headline_polarity'] < 0, 'headline_polarity_class'] = 'negative'\n",
    "        df.loc[df['headline_polarity'] == 0, 'headline_polarity_class'] = 'neutral'\n",
    "        df.loc[df['headline_polarity'] > 0, 'headline_polarity_class'] = 'positive'\n",
    "        \n",
    "    else:\n",
    "        df['article_polarity_class'] = np.empty((len(df), 0)).tolist()\n",
    "        df.loc[df['article_polarity'] < 0, 'article_polarity_class'] = 'negative'\n",
    "        df.loc[df['article_polarity'] == 0, 'article_polarity_class'] = 'neutral'\n",
    "        df.loc[df['article_polarity'] > 0, 'article_polarity_class'] = 'positive'\n",
    "    "
   ]
  },
  {
   "cell_type": "code",
   "execution_count": null,
   "metadata": {},
   "outputs": [],
   "source": [
    "# Plot polarity and subjectivity of textblob algorithm\n",
    "\n",
    "colors = ['darkorange', 'royalblue', 'tab:red', 'seagreen', 'darkorchid', 'gray']\n",
    "\n",
    "if display_images:\n",
    "    \n",
    "    fig, ax = plt.subplots(2,3, figsize=(14,8), sharex=True, sharey=True)\n",
    "\n",
    "    i = 0\n",
    "    j = 0\n",
    "    text_subjectivity = []\n",
    "    text_polarity = []\n",
    "\n",
    "    for k in range(len(sources)):\n",
    "\n",
    "        sub_df = df.loc[df['source'] == sources[k]]\n",
    "\n",
    "        if analyze_headlines:\n",
    "            text_subjectivity.append(sub_df['headline_subjectivity'])\n",
    "            text_polarity.append(sub_df['headline_polarity'])\n",
    "            ax[i][j].scatter(sub_df['headline_polarity'], sub_df['headline_subjectivity'], alpha = 0.2, \n",
    "                 color = colors[k])\n",
    "            ax[i][j].set_title(\"{} Headline Text\".format(sources[k], size = 22))\n",
    "        else:\n",
    "            text_subjectivity.append(sub_df['article_subjectivity'])\n",
    "            text_polarity.append(sub_df['article_polarity'])\n",
    "            ax[i][j].scatter(sub_df['article_polarity'], sub_df['article_subjectivity'], alpha = 0.2, \n",
    "                 color = colors[k])\n",
    "            ax[i][j].set_title(\"{} Article Text\".format(sources[k], size = 22))\n",
    "        \n",
    "        ax[i][j].set_ylabel('Subjectivity', fontsize = 14) # Y label\n",
    "        ax[i][j].set_xlabel('Polarity', fontsize = 14) # X label\n",
    "\n",
    "        j = j + 1\n",
    "        if j == 3:\n",
    "            j = 0               \n",
    "            i = 1           \n",
    "\n",
    "    fig.tight_layout()\n",
    "    plt.show()"
   ]
  },
  {
   "cell_type": "markdown",
   "metadata": {},
   "source": [
    "## Textblob - Polarity / Subjectivity Boxplots"
   ]
  },
  {
   "cell_type": "code",
   "execution_count": null,
   "metadata": {},
   "outputs": [],
   "source": [
    "# https://matplotlib.org/3.1.0/gallery/statistics/boxplot.html\n",
    "\n",
    "medianprops = dict(linestyle='-', linewidth=4, color='firebrick')\n",
    "\n",
    "if display_images:\n",
    "    \n",
    "    fig, ax = plt.subplots(1, 2, figsize = (16,6), tight_layout=True, sharey=False)\n",
    "\n",
    "    if analyze_headlines:\n",
    "        ax[0].set_title('Headline Polarity', fontsize = 16)\n",
    "        ax[1].set_title('Headline Subjectivity', fontsize = 16)\n",
    "    else:\n",
    "        ax[0].set_title('Article Polarity', fontsize = 16)\n",
    "        ax[1].set_title('Article Subjectivity', fontsize = 16)\n",
    "        \n",
    "    ax[0].boxplot(text_polarity, medianprops=medianprops, sym='.', labels = sources)\n",
    "    ax[1].boxplot(text_subjectivity, medianprops=medianprops, sym='.', labels = sources)\n",
    "\n",
    "    plt.show()"
   ]
  },
  {
   "cell_type": "code",
   "execution_count": null,
   "metadata": {},
   "outputs": [],
   "source": [
    "if analyze_headlines:\n",
    "    overall_sentiments_blob = overall_sentiment_counts(df, 'headline_polarity_class')\n",
    "else:\n",
    "    overall_sentiments_blob = overall_sentiment_counts(df, 'article_polarity_class')\n",
    "\n",
    "width = 0.15\n",
    "N = 3\n",
    "ind = np.arange(N)\n",
    "\n",
    "if display_images:\n",
    "\n",
    "    plt.figure(figsize = (14,7))\n",
    "    plt.bar(ind, overall_sentiments_blob[0], width = 0.15, label = \"CBS\", color = 'darkorange')\n",
    "    plt.bar(ind + width, overall_sentiments_blob[1], width = 0.15,label = \"CNN\", color = 'royalblue')\n",
    "    plt.bar(ind + 2*width, overall_sentiments_blob[2], width = 0.15,label = 'Fox News', color = 'tab:red')\n",
    "    plt.bar(ind + 3*width, overall_sentiments_blob[3], width = 0.15,label = 'NY Times', color = 'seagreen')\n",
    "    plt.bar(ind + 4*width, overall_sentiments_blob[4], width = 0.15,label = 'USA Today', color = 'darkorchid')\n",
    "    plt.bar(ind + 5*width, overall_sentiments_blob[5], width = 0.15, label = 'Wash. Post', color = 'silver')\n",
    "    plt.title(\"Overall Sentiment Scores - TextBlob\", fontsize = 14)\n",
    "    plt.xticks(ind + 4.5*width / 2, [\"Positive\", \"Neutral\", \"Negative\"], fontsize=14)\n",
    "    plt.ylim([0, 1100])\n",
    "    plt.legend(loc='upper center', bbox_to_anchor=(.5, .99), ncol=3, fancybox=True, shadow=True, fontsize = 14)\n",
    "    plt.show()"
   ]
  },
  {
   "cell_type": "code",
   "execution_count": null,
   "metadata": {},
   "outputs": [],
   "source": [
    "if analyze_headlines:\n",
    "    source_topic_sentiments_blob = topic_sentiment_counts(df, 'headline_polarity_class')\n",
    "else:\n",
    "    source_topic_sentiments_blob = topic_sentiment_counts(df, 'article_polarity_class')\n",
    "\n",
    "width = 0.15\n",
    "N = 3\n",
    "ind = np.arange(N)\n",
    "\n",
    "if display_images:\n",
    "    \n",
    "    fig, ax = plt.subplots(5, 1, figsize=(15, 25), sharey=True, sharex=True)\n",
    "\n",
    "    for i in range(len(top_5_topics)):\n",
    "\n",
    "        keywords = df_dominant_topics_lda.loc[df_dominant_topics_lda['Topic'] == i, \n",
    "                                                'Topic_Keywords'].values[0]\n",
    "\n",
    "        ax[i].bar(ind, source_topic_sentiments_blob[i][0], width = .15, label = \"CBS\", color = 'darkorange')\n",
    "        ax[i].bar(ind + width, source_topic_sentiments_blob[i][1], width = .15, label = \"CNN\", color = 'royalblue')\n",
    "        ax[i].bar(ind + 2*width, source_topic_sentiments_blob[i][2], width = .15, label = 'Fox News', \n",
    "                  color = 'tab:red')\n",
    "        ax[i].bar(ind + 3*width, source_topic_sentiments_blob[i][3], width = .15, label = 'NY Times', \n",
    "                  color = 'seagreen')\n",
    "        ax[i].bar(ind + 4*width, source_topic_sentiments_blob[i][4], width = .15, label = 'USA Today', \n",
    "                  color = 'darkorchid')\n",
    "        ax[i].bar(ind + 5*width, source_topic_sentiments_blob[i][5], width = .15, label = 'Wash. Post', \n",
    "                  color = 'silver')\n",
    "        ax[i].set_title(\"Topic {} - Keywords: {}\".format(top_5_topics[i], keywords), fontsize = 14)\n",
    "        ax[i].tick_params(axis='both', which='both', labelsize=7, labelbottom=True)\n",
    "        ax[i].legend(loc='best')\n",
    "        plt.sca(ax[i])\n",
    "        plt.xticks(ind + 4.5*width / 2, [\"Positive\", \"Neutral\", \"Negative\"], fontsize=14)\n",
    "        plt.yticks(fontsize=12)"
   ]
  },
  {
   "cell_type": "markdown",
   "metadata": {},
   "source": [
    "# Clustering\n",
    "\n",
    "### https://medium.com/towards-data-science/another-twitter-sentiment-analysis-with-python-part-8-dimensionality-reduction-chi2-pca-c6d06fb3fcf3"
   ]
  },
  {
   "cell_type": "code",
   "execution_count": null,
   "metadata": {},
   "outputs": [],
   "source": [
    "# import contractions\n",
    "\n",
    "# expanded_words = []\n",
    "\n",
    "# for word in list(df['orig_headline']):\n",
    "    \n",
    "#     expanded_words.append(contractions.fix(word)) # using contractions.fix to expand the shotened words\n",
    "\n",
    "# headlines = expanded_words  # remove contractions\n",
    "# headlines"
   ]
  },
  {
   "cell_type": "code",
   "execution_count": null,
   "metadata": {},
   "outputs": [],
   "source": [
    "# # https://towardsdatascience.com/nlp-building-text-cleanup-and-preprocessing-pipeline-eba4095245a0\n",
    "# import re\n",
    "\n",
    "# # function to remove special characters\n",
    "# def remove_special_characters(text):\n",
    "    \n",
    "#     pat = r'[^a-zA-z0-9.,!?/:;\\\"\\'\\s]' # define the pattern to keep\n",
    "    \n",
    "#     return re.sub(pat, '', text)\n",
    " \n",
    "# remove_specials = True\n",
    "    \n",
    "# if remove_specials:\n",
    "#     special_chars = map(remove_special_characters, headlines)\n",
    "#     headlines = list(special_chars)"
   ]
  },
  {
   "cell_type": "markdown",
   "metadata": {},
   "source": [
    "## Creating a TF-IDF Matrix from the Original Text Input (no tokenization, etc.)"
   ]
  },
  {
   "cell_type": "code",
   "execution_count": 132,
   "metadata": {},
   "outputs": [],
   "source": [
    "from sklearn.feature_extraction.text import TfidfVectorizer\n",
    "\n",
    "freq_transformer = TfidfVectorizer()\n",
    "\n",
    "text_tfidf = freq_transformer.fit_transform(original_text)\n",
    "# text_tfidf # 6000 x 10,831 sparse matrix"
   ]
  },
  {
   "cell_type": "markdown",
   "metadata": {},
   "source": [
    "\n",
    "## Principal Component Analysis"
   ]
  },
  {
   "cell_type": "code",
   "execution_count": 133,
   "metadata": {},
   "outputs": [],
   "source": [
    "from sklearn.decomposition import TruncatedSVD\n",
    "\n",
    "n_components = 1000\n",
    "\n",
    "svd = TruncatedSVD(n_components=n_components, n_iter=7, random_state=42)\n",
    "svd.fit(text_tfidf)\n",
    "\n",
    "# print(svd.explained_variance_ratio_.sum())\n",
    "# print(svd.singular_values_)\n",
    "\n",
    "pca_text = svd.transform(text_tfidf)"
   ]
  },
  {
   "cell_type": "code",
   "execution_count": 135,
   "metadata": {},
   "outputs": [
    {
     "name": "stdout",
     "output_type": "stream",
     "text": [
      "The explained variance of 1000 principal components is 0.51\n"
     ]
    },
    {
     "data": {
      "image/png": "[encoded data removed]",
      "text/plain": [
       "<Figure size 432x288 with 1 Axes>"
      ]
     },
     "metadata": {},
     "output_type": "display_data"
    }
   ],
   "source": [
    "num_components = list(range(1, n_components+1))\n",
    "\n",
    "if display_images:\n",
    "    plt.bar(num_components, svd.explained_variance_ratio_)\n",
    "    plt.title(\"Principal Components Explained Variance\", fontsize=14)\n",
    "    plt.xlabel(\"Principal Componenent\")\n",
    "    plt.ylabel(\"Explained Variance by Component\")\n",
    "    print(\"The explained variance of {} principal components is {:.2}\".format(len(num_components), \n",
    "                                                                              svd.explained_variance_ratio_.sum()))\n",
    "\n",
    "    plt.show()"
   ]
  },
  {
   "cell_type": "markdown",
   "metadata": {},
   "source": [
    "## K-Means Clustering"
   ]
  },
  {
   "cell_type": "code",
   "execution_count": null,
   "metadata": {},
   "outputs": [],
   "source": [
    "from sklearn.cluster import KMeans\n",
    "\n",
    "kmeans_dict = {}\n",
    "\n",
    "cluster_number = [2, 3, 4, 5, 10]\n",
    "\n",
    "# Create kMeans clustering algorithms using the subsampling data\n",
    "\n",
    "for i in range(len(cluster_number)):\n",
    "    kmeans = KMeans(n_clusters=cluster_number[i], random_state=0).fit(pca_text)\n",
    "    kmeans_dict['clusters k={}'.format(cluster_number[i])] = kmeans\n",
    "    df['kmeans k={}'.format(cluster_number[i])] = kmeans.predict(pca_text)\n",
    "    \n",
    "# df['kmeans k=5 predictions'] = kmeans_dict['clusters k=5'].predict(pca_text)\n",
    "# df.head()"
   ]
  },
  {
   "cell_type": "code",
   "execution_count": null,
   "metadata": {
    "scrolled": true
   },
   "outputs": [],
   "source": [
    "if display_images:\n",
    "    plot_pca(df['kmeans k=2'], pca_text)"
   ]
  },
  {
   "cell_type": "code",
   "execution_count": null,
   "metadata": {
    "scrolled": true
   },
   "outputs": [],
   "source": [
    "if display_images:\n",
    "    plot_pca(pd.factorize(df['source'])[0], pca_text)"
   ]
  },
  {
   "cell_type": "code",
   "execution_count": null,
   "metadata": {
    "scrolled": true
   },
   "outputs": [],
   "source": [
    "if display_images:\n",
    "    plot_pca(pd.factorize(df['headline_vader'])[0], pca_text)"
   ]
  },
  {
   "cell_type": "markdown",
   "metadata": {},
   "source": [
    "## t-SNE "
   ]
  },
  {
   "cell_type": "code",
   "execution_count": null,
   "metadata": {},
   "outputs": [],
   "source": [
    "# https://towardsdatascience.com/visualising-high-dimensional-datasets-using-pca-and-t-sne-in-python-8ef87e7915b\n",
    "from sklearn.manifold import TSNE\n",
    "\n",
    "perplex = [5, 30, 50]\n",
    "tsne_dict = {}\n",
    "\n",
    "for i in perplex:\n",
    "    tsne = TSNE(n_components=2, verbose=0, perplexity=i, n_iter=300)\n",
    "    tsne_results = tsne.fit_transform(pca_text)\n",
    "    tsne_dict[\"perplexity {}\".format(i)] = tsne_results"
   ]
  },
  {
   "cell_type": "code",
   "execution_count": null,
   "metadata": {
    "scrolled": false
   },
   "outputs": [],
   "source": [
    "# T-SNE with news sources as the labels (colors)\n",
    "\n",
    "if display_images:\n",
    "    plot_tsne(pd.factorize(df['source'])[0])"
   ]
  },
  {
   "cell_type": "code",
   "execution_count": null,
   "metadata": {},
   "outputs": [],
   "source": [
    "# T-SNE with the k-means k=5 cluster labels as the colors\n",
    "\n",
    "if display_images:  \n",
    "    plot_tsne(df['kmeans k=2'])"
   ]
  },
  {
   "cell_type": "code",
   "execution_count": null,
   "metadata": {
    "scrolled": false
   },
   "outputs": [],
   "source": [
    "# T-SNE with the positive-neutral-negative labels as the colors\n",
    "\n",
    "if display_images:\n",
    "    plot_tsne(pd.factorize(df['headline_vader'])[0])"
   ]
  },
  {
   "cell_type": "markdown",
   "metadata": {},
   "source": [
    "## DBSCAN Clustering"
   ]
  },
  {
   "cell_type": "code",
   "execution_count": null,
   "metadata": {},
   "outputs": [],
   "source": [
    "# pca_text_df = pd.DataFrame(pca_text)\n",
    "# pca_text_df.head()"
   ]
  },
  {
   "cell_type": "code",
   "execution_count": 136,
   "metadata": {},
   "outputs": [],
   "source": [
    "from sklearn.preprocessing import StandardScaler\n",
    "\n",
    "scaler = StandardScaler()\n",
    "scaler.fit(pca_text)\n",
    "normalized_pca_text = scaler.transform(pca_text)"
   ]
  },
  {
   "cell_type": "code",
   "execution_count": null,
   "metadata": {},
   "outputs": [],
   "source": [
    "# df_scaled = scaler.fit_transform(pca_text_df.to_numpy())\n",
    "# df_scaled = pd.DataFrame(df_scaled)\n",
    " \n",
    "# print(\"Scaled Dataset Using StandardScaler\")\n",
    "# df_scaled.head()"
   ]
  },
  {
   "cell_type": "code",
   "execution_count": 137,
   "metadata": {},
   "outputs": [],
   "source": [
    "from sklearn.neighbors import NearestNeighbors\n",
    "neigh = NearestNeighbors(n_neighbors=2)\n",
    "# nbrs = neigh.fit(pca_text)\n",
    "nbrs = neigh.fit(normalized_pca_text)\n",
    "distances, indices = nbrs.kneighbors(pca_text)\n",
    "\n",
    "distances = np.sort(distances, axis=0)\n",
    "distances = distances[:,1]"
   ]
  },
  {
   "cell_type": "markdown",
   "metadata": {},
   "source": [
    "### Determine Epsilon and Minpoint parameters for DBscan"
   ]
  },
  {
   "cell_type": "code",
   "execution_count": 142,
   "metadata": {},
   "outputs": [
    {
     "name": "stdout",
     "output_type": "stream",
     "text": [
      "Maximum curve occurs at point 17985\n",
      "Epsilon at point 17985 = 3.57\n"
     ]
    },
    {
     "data": {
      "image/png": "[encoded data removed]",
      "text/plain": [
       "<Figure size 1008x360 with 1 Axes>"
      ]
     },
     "metadata": {},
     "output_type": "display_data"
    }
   ],
   "source": [
    "# https://www.analyticsvidhya.com/blog/2020/09/how-dbscan-clustering-works/\n",
    "# https://stackoverflow.com/questions/51762514/find-the-elbow-point-on-an-optimization-curve-with-python\n",
    "\n",
    "# !pip install kneed\n",
    "from kneed import KneeLocator\n",
    "kn = KneeLocator(np.arange(18000), distances, curve='convex', direction='increasing')\n",
    "\n",
    "if display_images:\n",
    "\n",
    "    plt.figure(figsize=(14,5))\n",
    "    plt.plot(distances)\n",
    "    plt.title('K-distance Graph',fontsize=20)\n",
    "    plt.xlabel('Data Points sorted by distance',fontsize=14)\n",
    "    plt.ylabel('Epsilon',fontsize=14)\n",
    "    \n",
    "    print(\"Maximum curve occurs at point {}\".format(kn.knee))\n",
    "    print(\"Epsilon at point {} = {:.3}\".format(kn.knee, distances[kn.knee]))\n",
    "\n",
    "    plt.show()"
   ]
  },
  {
   "cell_type": "markdown",
   "metadata": {},
   "source": [
    "## Figure out DBScan Parameters\n",
    "\n",
    "## Maybe the standard scalar on an array doesn't scale the data by 'column' but by individual rows? So try in a dataframe format?"
   ]
  },
  {
   "cell_type": "code",
   "execution_count": null,
   "metadata": {},
   "outputs": [],
   "source": [
    "from sklearn.cluster import DBSCAN\n",
    "\n",
    "min_points = [5, 10, 25, 100]\n",
    "epsilons = [0.01, 0.05, 0.1, 0.5, 1.5, 5]\n",
    "\n",
    "\n",
    "db_dict = {}\n",
    "\n",
    "for number in min_points:\n",
    "    \n",
    "    for eps in epsilons:\n",
    "        \n",
    "        db = DBSCAN(eps=eps, min_samples=number).fit(normalized_pca_text)\n",
    "        db_dict['epsilon: {} minpts: {}'.format(eps, number)] = db\n",
    "        "
   ]
  },
  {
   "cell_type": "code",
   "execution_count": null,
   "metadata": {},
   "outputs": [],
   "source": [
    "for keys, vals in db_dict.items():\n",
    "    print(keys, \"\\nEstimated number clusters: {}\\nEstimated noise {}\\n\".format(len(set(vals.labels_)), \n",
    "                                                                               list(vals.labels_).count(-1)))"
   ]
  },
  {
   "cell_type": "code",
   "execution_count": null,
   "metadata": {},
   "outputs": [],
   "source": [
    "from sklearn import metrics\n",
    "\n",
    "# Number of clusters in labels, ignoring noise if present.\n",
    "\n",
    "for model in a.values():\n",
    "\n",
    "    labels = model.labels_\n",
    "\n",
    "    n_clusters_ = len(set(labels)) - (1 if -1 in labels else 0)\n",
    "    n_noise_ = list(labels).count(-1)\n",
    "\n",
    "    print(model)\n",
    "    print(\"Estimated number of clusters: %d\" % n_clusters_)\n",
    "    print(\"Estimated number of noise points: %d\\n\" % n_noise_)\n",
    "    \n",
    "# print(\"Homogeneity: %0.3f\" % metrics.homogeneity_score(labels_true, labels))\n",
    "# print(\"Completeness: %0.3f\" % metrics.completeness_score(labels_true, labels))\n",
    "# print(\"V-measure: %0.3f\" % metrics.v_measure_score(labels_true, labels))\n",
    "# print(\"Adjusted Rand Index: %0.3f\" % metrics.adjusted_rand_score(labels_true, labels))\n",
    "# print(\n",
    "#     \"Adjusted Mutual Information: %0.3f\"\n",
    "#     % metrics.adjusted_mutual_info_score(labels_true, labels)\n",
    "# )\n",
    "# print(\"Silhouette Coefficient: %0.3f\" % metrics.silhouette_score(X, labels))"
   ]
  },
  {
   "cell_type": "code",
   "execution_count": null,
   "metadata": {
    "scrolled": true
   },
   "outputs": [],
   "source": []
  },
  {
   "cell_type": "markdown",
   "metadata": {},
   "source": [
    "## Compute Silhouette Scores and CH Index"
   ]
  },
  {
   "cell_type": "code",
   "execution_count": null,
   "metadata": {
    "scrolled": true
   },
   "outputs": [],
   "source": [
    "from sklearn.metrics import silhouette_score\n",
    "from sklearn.metrics import calinski_harabasz_score\n",
    "\n",
    "silhouette_dict = {}\n",
    "ch_dict = {}\n",
    "\n",
    "for i in range(len(cluster_number)):\n",
    "    silhouette_dict['k means k={}'.format(cluster_number[i])] = silhouette_score(pca_text, \n",
    "                                                             kmeans_dict['clusters k={}'.format(cluster_number[i])].predict(pca_text))\n",
    "    ch_dict['k means k={}'.format(cluster_number[i])] = calinski_harabasz_score(pca_text, \n",
    "                                                             kmeans_dict['clusters k={}'.format(cluster_number[i])].predict(pca_text))"
   ]
  },
  {
   "cell_type": "code",
   "execution_count": null,
   "metadata": {},
   "outputs": [],
   "source": [
    "from pprint import pprint\n",
    "\n",
    "print(\"Silhouette Scores:\")\n",
    "pprint([(k, round(v, 3)) for k, v in sorted(silhouette_dict.items(), key=lambda x: x[1], reverse=True)])\n",
    "print(\"\\n CH Index:\")\n",
    "pprint([(k, round(v, 3)) for k, v in sorted(ch_dict.items(), key=lambda x: x[1], reverse=True)])"
   ]
  },
  {
   "cell_type": "code",
   "execution_count": null,
   "metadata": {
    "scrolled": true
   },
   "outputs": [],
   "source": []
  },
  {
   "cell_type": "code",
   "execution_count": null,
   "metadata": {},
   "outputs": [],
   "source": []
  },
  {
   "cell_type": "code",
   "execution_count": null,
   "metadata": {},
   "outputs": [],
   "source": []
  },
  {
   "cell_type": "code",
   "execution_count": null,
   "metadata": {},
   "outputs": [],
   "source": []
  },
  {
   "cell_type": "code",
   "execution_count": null,
   "metadata": {},
   "outputs": [],
   "source": []
  },
  {
   "cell_type": "code",
   "execution_count": null,
   "metadata": {},
   "outputs": [],
   "source": []
  },
  {
   "cell_type": "code",
   "execution_count": null,
   "metadata": {},
   "outputs": [],
   "source": []
  },
  {
   "cell_type": "code",
   "execution_count": null,
   "metadata": {},
   "outputs": [],
   "source": []
  },
  {
   "cell_type": "code",
   "execution_count": null,
   "metadata": {},
   "outputs": [],
   "source": [
    "# detokenized_doc = [] \n",
    "\n",
    "# for i in range(len(df['tokenized_headline'])): # tokenized headline because it has stop words removed\n",
    "#     t = ' '.join(df['tokenized_headline'].iloc[i]) \n",
    "#     detokenized_doc.append(t) "
   ]
  },
  {
   "cell_type": "code",
   "execution_count": null,
   "metadata": {},
   "outputs": [],
   "source": [
    "# from sklearn.feature_extraction.text import TfidfVectorizer \n",
    "# vectorizer = TfidfVectorizer(stop_words='english', max_df = 0.5, smooth_idf=True) \n",
    "# X = vectorizer.fit_transform(detokenized_doc) \n",
    "# # X.shape"
   ]
  },
  {
   "cell_type": "code",
   "execution_count": null,
   "metadata": {},
   "outputs": [],
   "source": [
    "# from sklearn.decomposition import TruncatedSVD \n",
    "# # SVD represent documents and terms in vectors \n",
    "# svd_model = TruncatedSVD(n_components=20, algorithm='randomized', n_iter=100, random_state=122) \n",
    "# lsa_model = svd_model.fit_transform(X) \n",
    "# # len(svd_model.components_)"
   ]
  },
  {
   "cell_type": "code",
   "execution_count": null,
   "metadata": {
    "scrolled": false
   },
   "outputs": [],
   "source": [
    "# terms = vectorizer.get_feature_names() \n",
    "\n",
    "# for i, comp in enumerate(svd_model.components_): \n",
    "#     terms_comp = zip(terms, comp) \n",
    "#     sorted_terms = sorted(terms_comp, key= lambda x:x[1],        \n",
    "#     reverse=True)[:7] \n",
    "#     print(\"Topic \"+str(i)+\": \") \n",
    "#     for t in sorted_terms: \n",
    "#         print(t[0])\n",
    "#     print()"
   ]
  },
  {
   "cell_type": "code",
   "execution_count": null,
   "metadata": {},
   "outputs": [],
   "source": [
    "# lsa_topic_assignments = []\n",
    "\n",
    "# for i in range(len(df)):\n",
    "#     l = lsa_model[i]\n",
    "#     max_value = l.max()\n",
    "#     assignment = list(l).index(max_value)\n",
    "#     lsa_topic_assignments.append(assignment)\n",
    "\n",
    "# # lsa_topic_assignments\n",
    "# df['LSA_Topic'] = lsa_topic_assignments"
   ]
  },
  {
   "cell_type": "code",
   "execution_count": null,
   "metadata": {},
   "outputs": [],
   "source": [
    "# grouped_by_topic_source_lsa = df.groupby(['source', 'LSA_Topic'])\n",
    "\n",
    "# counts_per_source_lsa = grouped_by_topic_source_lsa['LSA_Topic'].count()  # series with multi index\n",
    "\n",
    "# if display_images:\n",
    "    \n",
    "#     ax = counts_per_source_lsa.unstack(level=0).plot(kind='bar', subplots=True,\n",
    "#                                                  sharey=True, rot=90, figsize=(16, 6), layout=(2, 3), legend=False)\n",
    "#     plt.tight_layout()"
   ]
  },
  {
   "cell_type": "code",
   "execution_count": null,
   "metadata": {},
   "outputs": [],
   "source": [
    "# import pickle\n",
    "\n",
    "# with open('dbscan_dictionary.pickle', 'wb') as handle:\n",
    "#     pickle.dump(db_dict, handle, protocol=pickle.HIGHEST_PROTOCOL)\n",
    "\n",
    "# with open('filename.pickle', 'rb') as handle:\n",
    "#     b = pickle.load(handle)"
   ]
  },
  {
   "cell_type": "code",
   "execution_count": null,
   "metadata": {},
   "outputs": [],
   "source": []
  },
  {
   "cell_type": "code",
   "execution_count": null,
   "metadata": {},
   "outputs": [],
   "source": []
  },
  {
   "cell_type": "code",
   "execution_count": null,
   "metadata": {},
   "outputs": [],
   "source": [
    "# df_dominant_topic.set_index('Document_No', inplace=True)\n",
    "# df_dominant_topic.index\n",
    "# df.index\n",
    "# df_dominant_topic_bow.head()"
   ]
  },
  {
   "cell_type": "code",
   "execution_count": null,
   "metadata": {
    "scrolled": true
   },
   "outputs": [],
   "source": [
    "# subset of the assignment dataframe to join with the main df\n",
    "# topic_assignments_bow = df_dominant_topic_bow[['Document_No', column_name]]\n",
    "\n",
    "# # drop to reassign topics - potentially changed when model re-run\n",
    "# if repull_data and column_name in df.columns:\n",
    "#     df = df.drop(column_name ,axis=1)\n",
    "\n",
    "# df['Document_No'] = range(0, len(df))\n",
    "# df.set_index('Document_No', inplace=True)\n",
    "# df = df.join(topic_assignments_bow.set_index('Document_No'))\n",
    "# df.head()"
   ]
  },
  {
   "cell_type": "code",
   "execution_count": null,
   "metadata": {},
   "outputs": [],
   "source": []
  },
  {
   "cell_type": "code",
   "execution_count": null,
   "metadata": {},
   "outputs": [],
   "source": [
    "# # provide a dominant topic label for each text input\n",
    "\n",
    "# def determine_dominant_topics(model, corpus, texts):\n",
    "#     # Init output\n",
    "#     sentence_topics_df = pd.DataFrame()\n",
    "\n",
    "#     # Get main topic in each document\n",
    "#     for i, row in enumerate(model[corpus]):\n",
    "        \n",
    "#         row = sorted(row, key=lambda x: (x[1]), reverse=True)\n",
    "        \n",
    "#         # j is the index, topic_num and prop_topic are a tuple corresponding to the topic number and percent contribution of the document\n",
    "#         for j, (topic_num, prop_topic) in enumerate(row):\n",
    "#             if j == 0:  # => the first element in the row (index 0) is the dominant topic. the first element of that tuple is the topic num\n",
    "                \n",
    "#                 wp = model.show_topic(topic_num)  # topic information for the dominant topic number\n",
    "#                 topic_keywords = \", \".join([word for word, prop in wp]) # just keywords for the topic number\n",
    "#                 sentence_topics_df = sentence_topics_df.append(pd.Series([int(topic_num), round(prop_topic,4), \n",
    "#                                                                   topic_keywords]), ignore_index=True)\n",
    "#             else:\n",
    "#                 break\n",
    "#     sentence_topics_df.columns = ['Dominant_Topic', 'Perc_Contribution', 'Topic_Keywords']\n",
    "\n",
    "#     # Add original text to the end of the output\n",
    "#     contents = pd.Series(texts)\n",
    "#     sentence_topics_df = pd.concat([sentence_topics_df, contents], axis=1)\n",
    "#     return(sentence_topics_df)"
   ]
  },
  {
   "cell_type": "code",
   "execution_count": null,
   "metadata": {},
   "outputs": [],
   "source": [
    "# limit = 100\n",
    "\n",
    "# k = 0\n",
    "# for i, row in enumerate(lda_model_tfidf[tfidf_corpus]):\n",
    "        \n",
    "#         row = sorted(row, key=lambda x: (x[1]), reverse=True)  # sort the topics so majority topic first\n",
    "        \n",
    "#         # enumerate all 20 elements (topics) of each row. each row has 20 topics. each topic has an associated value with that headline\n",
    "#         for j, (topic_num, prop_topic) in enumerate(row):  \n",
    "#             if j ==0: # index 0: first topic is the dominant\n",
    "#                 print(\"Lemmatized Headline\", text_data[k]) # the text data for the headline\n",
    "#                 print(\"Topic\", topic_num)  # the topic number\n",
    "#                 print(\"Topic Keywords\", lda_model_tfidf.show_topic(topic_num))  # keywords and probabilities for the topic number\n",
    "#                 print(\", \".join([word for word, prop in lda_model_tfidf.show_topic(topic_num)])) # just keywords for topic number\n",
    "            \n",
    "#             if k > limit:\n",
    "#                 break\n",
    "                \n",
    "#         k += 1\n",
    "#         print()\n",
    "        \n",
    "#         if k > limit:\n",
    "#             break\n",
    "            \n",
    "            \n",
    "            \n",
    "#         print(len(row))\n",
    "#         print(row)\n",
    "\n",
    "#         if len(row) == 0:\n",
    "#             print(k-1, text_data[k-1])\n"
   ]
  },
  {
   "cell_type": "code",
   "execution_count": null,
   "metadata": {},
   "outputs": [],
   "source": []
  },
  {
   "cell_type": "markdown",
   "metadata": {},
   "source": [
    "### News sources and the number of articles\n",
    "\n",
    "NY Times ------- 2018: 5,471 ----- 2019: 6,051 ------ 2020: 19,805     \n",
    "CBS News ------ 2018: 5,397 ----- 2019: 6,758 ------ 2020: 26,634    \n",
    "Fox News ------- 2018: 3,106 ----- 2019: 5,599 ------ 2020: 19,748   \n",
    "Wash Post ------ 2018: 1,252 ----- 2019: 1,462 ------ 2020: 19,530   \n",
    "CNN News ------ 2018: 8,202 ----- 2019: 7,766 ------ 2020: 25,511   \n",
    "USA Today ------ 2018: 5,968 ----- 2019: 6,061 ------ 2020: 13,374   "
   ]
  },
  {
   "cell_type": "code",
   "execution_count": null,
   "metadata": {},
   "outputs": [],
   "source": [
    "# # save the model to disk\n",
    "# filename = 'lda_sample_ten_topic_bow.sav'\n",
    "# pickle.dump(model, open(filename, 'wb'))\n",
    " \n",
    "# # some time later...\n",
    " \n",
    "# # load the model from disk\n",
    "# # loaded_model = pickle.load(open(filename, 'rb'))\n",
    "# # result = loaded_model.score(X_test, Y_test)\n",
    "# # print(result)"
   ]
  },
  {
   "cell_type": "code",
   "execution_count": null,
   "metadata": {
    "id": "l0mB3IxDIgrF"
   },
   "outputs": [],
   "source": [
    "# import sqlite3 as sql\n",
    " \n",
    "# cnx_2018 = sql.connect('../Data/2018_articles.db')\n",
    "# cnx_2019 = sql.connect('../Data/2019_articles.db')\n",
    "# cnx_2020 = sql.connect('../Data/2020_articles.db')"
   ]
  },
  {
   "cell_type": "code",
   "execution_count": null,
   "metadata": {},
   "outputs": [],
   "source": [
    "# import ast\n",
    "\n",
    "# df['tokenized_headline'] = df['tokenized_headline'].apply(lambda x: ast.literal_eval(x))\n",
    "# df['tokenized_article'] = df['tokenized_article'].apply(lambda x: x.strip('][').split(', '))\n",
    "# df['tokenized_article'] = df['tokenized_article'].apply(lambda x: ast.literal_eval(x))"
   ]
  },
  {
   "cell_type": "code",
   "execution_count": null,
   "metadata": {},
   "outputs": [],
   "source": [
    "# topic_assignments_tfidf = df_dominant_topics_tfidf[['Document_No', column_name]]\n",
    "\n",
    "# # drop to reassign topics - potentially changed when model re-run\n",
    "\n",
    "# # if 'Dominant_Topic_TFIDF'in df.columns:\n",
    "# #     df = df.drop('Dominant_Topic_TFIDF',axis=1)\n",
    "\n",
    "# df = df.join(topic_assignments_tfidf.set_index('Document_No'))\n",
    "# df['Dominant_Topic_TFIDF'] = df['Dominant_Topic_TFIDF'].astype(int)\n",
    "# # df.head()"
   ]
  },
  {
   "cell_type": "code",
   "execution_count": null,
   "metadata": {},
   "outputs": [],
   "source": [
    "# df[column_name] = df_dominant_topics_tfidf[column_name]\n",
    "# df.head()"
   ]
  },
  {
   "cell_type": "code",
   "execution_count": null,
   "metadata": {},
   "outputs": [],
   "source": [
    "# df2018 = pd.read_excel(\"2018_articles.xlsx\")\n",
    "# df2019 = pd.read_excel(\"2019_articles.xlsx\")\n",
    "# df2020 = pd.read_excel(\"2020_articles.xlsx\")\n",
    "\n",
    "# df = df.append(df2018).append(df2019)"
   ]
  },
  {
   "cell_type": "code",
   "execution_count": null,
   "metadata": {
    "scrolled": true
   },
   "outputs": [],
   "source": [
    "# df = pd.read_sql_query(\"SELECT * FROM newsdata WHERE source LIKE '%newyorktimes%'\", \n",
    "#                   cnx_2020)"
   ]
  },
  {
   "cell_type": "code",
   "execution_count": null,
   "metadata": {
    "scrolled": true
   },
   "outputs": [],
   "source": [
    "# sources = ['newyorktimes', 'cbs', 'foxnews', 'washingtonpost', 'cnn', 'usatoday']\n",
    "\n",
    "# df = pd.DataFrame()\n",
    "\n",
    "# for source in sources:\n",
    "\n",
    "#     temp = pd.read_sql_query(\"SELECT * FROM newsdata WHERE source LIKE '%{}%'\".format(source), \n",
    "#                       cnx_2020)\n",
    "#     df = df.append(temp)"
   ]
  },
  {
   "cell_type": "code",
   "execution_count": null,
   "metadata": {},
   "outputs": [],
   "source": [
    "# df = df.drop(columns=['id', 'author', 'url', 'published', 'published_utc', 'collection_utc'])"
   ]
  },
  {
   "cell_type": "code",
   "execution_count": null,
   "metadata": {},
   "outputs": [],
   "source": [
    "# df = df.rename({'title': 'name'}, axis=1)"
   ]
  },
  {
   "cell_type": "code",
   "execution_count": null,
   "metadata": {},
   "outputs": [],
   "source": [
    "# df = df.replace(\"cnn\", \"CNN\")\n",
    "# df = df.replace(\"washingtonpost\", \"Washington Post\")\n",
    "# df = df.replace(\"cbsnews\", \"CBS News\")\n",
    "# df = df.replace(\"foxnews\", \"Fox News\")\n",
    "# df = df.replace(\"thenewyorktimes\", \"The New York Times\")\n",
    "# df = df.replace(\"usatoday\", \"USA Today\")\n",
    "\n",
    "# df['source'].unique()"
   ]
  },
  {
   "cell_type": "code",
   "execution_count": null,
   "metadata": {},
   "outputs": [],
   "source": [
    "# df = df.drop(df[df['source'].str.contains('cbssports')].index.tolist())"
   ]
  },
  {
   "cell_type": "code",
   "execution_count": null,
   "metadata": {},
   "outputs": [],
   "source": [
    "# df.to_excel(\"all_years_subsample.xlsx\")"
   ]
  },
  {
   "cell_type": "code",
   "execution_count": null,
   "metadata": {},
   "outputs": [],
   "source": [
    "# pd.read_sql_query(\"SELECT DISTINCT(source), COUNT(*) AS 'Number' FROM articles WHERE source LIKE '%new york times%' GROUP BY(source) ORDER BY Number DESC LIMIT(25)\", \n",
    "#                   cnx_2018)\n"
   ]
  },
  {
   "cell_type": "code",
   "execution_count": null,
   "metadata": {},
   "outputs": [],
   "source": [
    "# pd.read_sql_query(\"SELECT name FROM sqlite_master WHERE type='table';\", cnx_2019)\n",
    "# pd.read_sql_query(\"SELECT DISTINCT(source), COUNT(*) AS 'Number' FROM newsdata GROUP BY(source) ORDER BY Number DESC LIMIT(25)\", cnx_2019)\n",
    "# pd.read_sql_query(\"SELECT DISTINCT(source), COUNT(*) FROM newsdata WHERE source LIKE '%usatoday%' GROUP BY(source) ORDER BY COUNT(*) DESC LIMIT 25\", \n",
    "#                   cnx_2019)\n"
   ]
  },
  {
   "cell_type": "code",
   "execution_count": null,
   "metadata": {},
   "outputs": [],
   "source": [
    "# pd.read_sql_query(\"SELECT DISTINCT(source), COUNT(*) AS 'Number' FROM newsdata WHERE source LIKE 'usatoday' GROUP BY(source) ORDER BY Number DESC LIMIT(25)\", \n",
    "#                   cnx_2020)\n"
   ]
  }
 ],
 "metadata": {
  "accelerator": "GPU",
  "colab": {
   "collapsed_sections": [
    "9HrtN7WHD9I9",
    "M1CTx9RAtlD1"
   ],
   "name": "Sentiment Analysis 2.ipynb",
   "provenance": []
  },
  "kernelspec": {
   "display_name": "Python 3",
   "language": "python",
   "name": "python3"
  },
  "language_info": {
   "codemirror_mode": {
    "name": "ipython",
    "version": 3
   },
   "file_extension": ".py",
   "mimetype": "text/x-python",
   "name": "python",
   "nbconvert_exporter": "python",
   "pygments_lexer": "ipython3",
   "version": "3.8.3"
  }
 },
 "nbformat": 4,
 "nbformat_minor": 1
}
